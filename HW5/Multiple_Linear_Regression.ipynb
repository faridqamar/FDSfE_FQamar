{
  "nbformat": 4,
  "nbformat_minor": 0,
  "metadata": {
    "colab": {
      "provenance": [],
      "collapsed_sections": [],
      "mount_file_id": "12e2WYefK7V4pjRNmdvSy2RUqmjFqrWDk",
      "authorship_tag": "ABX9TyNJvf7uQ7A8EA1pkHz9o1vt",
      "include_colab_link": true
    },
    "kernelspec": {
      "name": "python3",
      "display_name": "Python 3"
    },
    "language_info": {
      "name": "python"
    }
  },
  "cells": [
    {
      "cell_type": "markdown",
      "metadata": {
        "id": "view-in-github",
        "colab_type": "text"
      },
      "source": [
        "<a href=\"https://colab.research.google.com/github/fedhere/FDSfE_FBianco/blob/main/HW5/Multiple_Linear_Regression.ipynb\" target=\"_parent\"><img src=\"https://colab.research.google.com/assets/colab-badge.svg\" alt=\"Open In Colab\"/></a>"
      ]
    },
    {
      "cell_type": "markdown",
      "source": [
        "# **Multiple Linear Regression**\n",
        "\n",
        "---\n",
        "\n",
        "###Data\n",
        "\n",
        "The data used in this assignment contains a cleaned and curated version of the market real estate valuations collected from Sindian Dist., New Taipei City, Taiwan, by Prof. I-Cheng Yeh, Department of Civil Engineering, Tamkang University, Taiwan.\n",
        "\n",
        "The features in the data are the following:\n",
        "\n",
        "* ```transaction_date```: the transaction date (for example, 2013.250=2013 March, 2013.500=2013 June, etc.)\n",
        "* ```house_age```: the house age (unit: year)\n",
        "* ```distance_nearest_MRT_station```: the distance to the nearest MRT station (unit: meter)\n",
        "* ```convenience_stores```: the number of convenience stores in the living circle on foot (integer)\n",
        "\n",
        "The target is:\n",
        "* ```house_price_unit_area```house price of unit area (10000 New Taiwan Dollar/Ping, where Ping is a local unit, 1 Ping = 3.3 meter squared)\n",
        "\n",
        "---\n",
        "\n",
        "## HW instructions:\n",
        "\n",
        "Similar to what was done in class, your task is to do the following:\n",
        "1.   create a simple regression model that utilizes only one feature: the log10 of ```distance_nearest_MRT_station``` to predict the house price/unit area, and find the model's metrics ($R^2$ and Adjusted-$R^2$), as well as the the coeffient (slope) of the line.\n",
        "\n",
        "2.   create a multiple regression model that utilizes all features in the dataset to predict the house price/unit area, and find the model's metrics ($R^2$ and Adjusted-$R^2$), as well as the the coeffient for each variable.\n",
        "\n",
        "--"
      ],
      "metadata": {
        "id": "kBKIrBnIlHg8"
      }
    },
    {
      "cell_type": "code",
      "execution_count": null,
      "metadata": {
        "id": "ATylBaqD5ljg"
      },
      "outputs": [],
      "source": [
        "# -- import libraries here\n"
      ]
    },
    {
      "cell_type": "markdown",
      "source": [
        "Read the data file from the class repo which can be found in the folder \"data\" and is called \"Real_estate.csv\""
      ],
      "metadata": {
        "id": "S4YEe0nUgWG1"
      }
    },
    {
      "cell_type": "code",
      "source": [
        "# -- your code here \n"
      ],
      "metadata": {
        "id": "7vu7tgc3CrxL"
      },
      "execution_count": null,
      "outputs": []
    },
    {
      "cell_type": "markdown",
      "source": [
        "## Task 1: simple linear regression\n",
        "\n",
        "create a simple regression model that utilizes only one feature: the log10 of ```distance_nearest_MRT_station``` to predict the house price/unit area, and find the model's metrics ($R^2$ and Adjusted-$R^2$), as well as the the coeffient (slope) of the line.\n",
        "\n",
        "---\n"
      ],
      "metadata": {
        "id": "tP10cnl7UBJg"
      }
    },
    {
      "cell_type": "markdown",
      "source": [
        "Calculate the log10 of the ```distance_nearest_MRT_station``` column and add it as a new column to the data frame"
      ],
      "metadata": {
        "id": "YGx9scRQU8C0"
      }
    },
    {
      "cell_type": "code",
      "source": [
        "# -- your code here \n"
      ],
      "metadata": {
        "id": "p4cNG_YBCr0M"
      },
      "execution_count": null,
      "outputs": []
    },
    {
      "cell_type": "markdown",
      "source": [
        "Standardize your feature and target data (setting their mean to 0 and standard deviation to 1)"
      ],
      "metadata": {
        "id": "RK2zIVwAVSlx"
      }
    },
    {
      "cell_type": "code",
      "source": [
        "# -- your code here\n"
      ],
      "metadata": {
        "id": "rryGybFQFDja"
      },
      "execution_count": null,
      "outputs": []
    },
    {
      "cell_type": "markdown",
      "source": [
        "Using the code library of your choice, fit a linear regression model to the data"
      ],
      "metadata": {
        "id": "RYDBgtWMVlSg"
      }
    },
    {
      "cell_type": "code",
      "source": [
        "# -- your code here\n"
      ],
      "metadata": {
        "id": "p_x1r6JYVksb"
      },
      "execution_count": null,
      "outputs": []
    },
    {
      "cell_type": "markdown",
      "source": [
        "Print both the $R^2$ and Adjusted-$R^2$ of this model \n",
        "\n",
        "(+1 bonus point for using the `.format()` method in `print` to show the two values and round them to 3 decimal places)"
      ],
      "metadata": {
        "id": "k_hktZmTVs6m"
      }
    },
    {
      "cell_type": "code",
      "source": [
        "# -- your code here\n"
      ],
      "metadata": {
        "colab": {
          "base_uri": "https://localhost:8080/"
        },
        "id": "WIWsXaPKVdTr",
        "outputId": "b1cb8913-fe50-44b6-ec17-4cd50b251208"
      },
      "execution_count": null,
      "outputs": [
        {
          "output_type": "stream",
          "name": "stdout",
          "text": [
            "r2 = 0.539\n",
            "adjusted-r2 = 0.538\n"
          ]
        }
      ]
    },
    {
      "cell_type": "markdown",
      "source": [
        "Print the coefficient (slope) of the line"
      ],
      "metadata": {
        "id": "6spcmbZ-XQhs"
      }
    },
    {
      "cell_type": "code",
      "source": [
        "# -- your code here\n"
      ],
      "metadata": {
        "colab": {
          "base_uri": "https://localhost:8080/"
        },
        "id": "aCKHU3o-VdjC",
        "outputId": "1caa2f0b-7ca9-46f7-a100-2dfa4b7f0f4e"
      },
      "execution_count": null,
      "outputs": [
        {
          "output_type": "stream",
          "name": "stdout",
          "text": [
            "coefficient = -0.734\n"
          ]
        }
      ]
    },
    {
      "cell_type": "markdown",
      "source": [
        "From looking at the coefficient, what can you say about the relationship between the feature (the distance to the nearest MRT station) and the target (the house price/unit area)?"
      ],
      "metadata": {
        "id": "EYs3arrqePbn"
      }
    },
    {
      "cell_type": "markdown",
      "source": [
        "*your answer here*"
      ],
      "metadata": {
        "id": "gBsZRNV3ePV5"
      }
    },
    {
      "cell_type": "markdown",
      "source": [
        "Plot the actual vs. model predicted values for the house price/unit area for all log10(distance to MRT station) values in the data"
      ],
      "metadata": {
        "id": "MHqiI52lXvSr"
      }
    },
    {
      "cell_type": "code",
      "source": [
        "# -- your code here\n"
      ],
      "metadata": {
        "colab": {
          "base_uri": "https://localhost:8080/",
          "height": 280
        },
        "id": "9Gblf2UCVdo4",
        "outputId": "51906dbd-852a-40fe-8019-105744e4d3bb"
      },
      "execution_count": null,
      "outputs": [
        {
          "output_type": "display_data",
          "data": {
            "text/plain": [
              "<Figure size 432x288 with 1 Axes>"
            ],
            "image/png": "[encoded data removed]"
          },
          "metadata": {
            "needs_background": "light"
          }
        }
      ]
    },
    {
      "cell_type": "markdown",
      "source": [
        "## Task 2: multiple linear regression (all variables)\n",
        "\n",
        "create a multiple regression model that utilizes all features to predict the house price/unit area, and find the model's metrics ($R^2$ and Adjusted-$R^2$), as well as the the coeffient for each variable.\n",
        "\n",
        "---"
      ],
      "metadata": {
        "id": "iFAO4QfCbgGN"
      }
    },
    {
      "cell_type": "markdown",
      "source": [
        "Make sure all your features and target columns are standardized, and that you are using all the features in the data frame (also make sure to use ```log10(distance_nearest_MRT_station)``` rather than ```distance_nearest_MRT_station``` as a feature)"
      ],
      "metadata": {
        "id": "PT2-ClOFcXjQ"
      }
    },
    {
      "cell_type": "code",
      "source": [
        "# -- your code here\n"
      ],
      "metadata": {
        "id": "qc0keSNZZ4Zu"
      },
      "execution_count": null,
      "outputs": []
    },
    {
      "cell_type": "markdown",
      "source": [
        "Using the code library of your choice, fit a multiple linear regression model to the data"
      ],
      "metadata": {
        "id": "sSYvBMkXcxjx"
      }
    },
    {
      "cell_type": "code",
      "source": [
        "# -- your code here\n"
      ],
      "metadata": {
        "id": "_EPrB-FdZ4cE"
      },
      "execution_count": null,
      "outputs": []
    },
    {
      "cell_type": "markdown",
      "source": [
        "Print the coefficients of each of the features"
      ],
      "metadata": {
        "id": "tlAbv9Gpc5Vz"
      }
    },
    {
      "cell_type": "code",
      "source": [
        "# -- your code here\n"
      ],
      "metadata": {
        "colab": {
          "base_uri": "https://localhost:8080/"
        },
        "id": "IQtGO6lcZ4eF",
        "outputId": "dde0978c-9d22-4e5c-9856-d5903257bac5"
      },
      "execution_count": null,
      "outputs": [
        {
          "output_type": "stream",
          "name": "stdout",
          "text": [
            "coefficient for log_dist_MRT = -0.643\n",
            "coefficient for convenience_stores = 0.137\n",
            "coefficient for transaction_date = 0.152\n",
            "coefficient for house_age = -0.177\n"
          ]
        }
      ]
    },
    {
      "cell_type": "markdown",
      "source": [
        "What can you claim about the relative correlation and influence of each feature on the prediction of the target variable?"
      ],
      "metadata": {
        "id": "d5doqy3rdHLW"
      }
    },
    {
      "cell_type": "markdown",
      "source": [
        "*your answer here*"
      ],
      "metadata": {
        "id": "X63QO1tAdIgF"
      }
    },
    {
      "cell_type": "markdown",
      "source": [
        "Print the $R^2$ of this model"
      ],
      "metadata": {
        "id": "X8K0ZhrMdLcG"
      }
    },
    {
      "cell_type": "code",
      "source": [
        "# -- your code here\n"
      ],
      "metadata": {
        "colab": {
          "base_uri": "https://localhost:8080/"
        },
        "id": "9Qc4BC8BVdy9",
        "outputId": "14cf2ce8-767a-46e7-8045-f39008b7f6ea"
      },
      "execution_count": null,
      "outputs": [
        {
          "output_type": "stream",
          "name": "stdout",
          "text": [
            "r2 = 0.601\n"
          ]
        }
      ]
    },
    {
      "cell_type": "markdown",
      "source": [
        "Looking only at the $R^2$ scores for this model relative to the previous model in Task 1, would you say the model has improved with the addition of the remaining features or not? and Why?"
      ],
      "metadata": {
        "id": "7P5iogz_dSfD"
      }
    },
    {
      "cell_type": "markdown",
      "source": [
        "*your answer here*"
      ],
      "metadata": {
        "id": "sMUCOhQOdXaE"
      }
    },
    {
      "cell_type": "markdown",
      "source": [
        "Print the Adjusted-$R^2$ of this model"
      ],
      "metadata": {
        "id": "zMWT8U7mdY0p"
      }
    },
    {
      "cell_type": "code",
      "source": [
        "# -- your code here\n"
      ],
      "metadata": {
        "colab": {
          "base_uri": "https://localhost:8080/"
        },
        "id": "tvV_wPfKVd1f",
        "outputId": "12c81f0e-27f4-4d34-a4bb-1d4757b6620e"
      },
      "execution_count": null,
      "outputs": [
        {
          "output_type": "stream",
          "name": "stdout",
          "text": [
            "adjusted-r2 = 0.597\n"
          ]
        }
      ]
    },
    {
      "cell_type": "markdown",
      "source": [
        "Looking at both $R^2$ and Ajusted-$R^2$ scores for this model relative to the previous model in Task 1, would you say the model has improved with the addition of the remaining features or not? and Why?"
      ],
      "metadata": {
        "id": "xCpFXai6dkpL"
      }
    },
    {
      "cell_type": "markdown",
      "source": [
        "*your answer here*"
      ],
      "metadata": {
        "id": "4BO8fq6odqrA"
      }
    },
    {
      "cell_type": "markdown",
      "source": [
        "Plot the actual vs. model predicted values for the house price/unit area for all objects in the data. Is there any visible improvement in the quality of the prediction that you can claim from comparing this plot with the one from Task 2? "
      ],
      "metadata": {
        "id": "mgIAi9C9duLy"
      }
    },
    {
      "cell_type": "code",
      "source": [
        "# -- your code here\n"
      ],
      "metadata": {
        "colab": {
          "base_uri": "https://localhost:8080/",
          "height": 280
        },
        "id": "JOwT7fmfVd3x",
        "outputId": "aa3d2685-8d41-449e-cde1-b3b1f321caf6"
      },
      "execution_count": null,
      "outputs": [
        {
          "output_type": "display_data",
          "data": {
            "text/plain": [
              "<Figure size 432x288 with 1 Axes>"
            ],
            "image/png": "[encoded data removed]"
          },
          "metadata": {
            "needs_background": "light"
          }
        }
      ]
    },
    {
      "cell_type": "code",
      "source": [],
      "metadata": {
        "id": "yROgV9i-Vd-W"
      },
      "execution_count": null,
      "outputs": []
    }
  ]
}