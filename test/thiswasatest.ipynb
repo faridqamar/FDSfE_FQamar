{
  "nbformat": 4,
  "nbformat_minor": 0,
  "metadata": {
    "colab": {
      "name": "Untitled175.ipynb",
      "provenance": [],
      "authorship_tag": "ABX9TyOwnO4/C6HgcRb0s8Xqk2i/",
      "include_colab_link": true
    },
    "kernelspec": {
      "name": "python3",
      "display_name": "Python 3"
    },
    "language_info": {
      "name": "python"
    }
  },
  "cells": [
    {
      "cell_type": "markdown",
      "metadata": {
        "id": "view-in-github",
        "colab_type": "text"
      },
      "source": [
        "<a href=\"https://colab.research.google.com/github/fedhere/FDSfE_FBianco/blob/main/test/thiswasatest.ipynb\" target=\"_parent\"><img src=\"https://colab.research.google.com/assets/colab-badge.svg\" alt=\"Open In Colab\"/></a>"
      ]
    },
    {
      "cell_type": "code",
      "execution_count": 1,
      "metadata": {
        "colab": {
          "base_uri": "https://localhost:8080/"
        },
        "id": "7ax_gNSyW5Nl",
        "outputId": "8e3b993a-19c7-470a-882d-aa6d0d0a26e9"
      },
      "outputs": [
        {
          "output_type": "stream",
          "name": "stdout",
          "text": [
            "Hello world\n"
          ]
        }
      ],
      "source": [
        "print(\"Hello world\")"
      ]
    },
    {
      "cell_type": "code",
      "source": [
        "x = list(range(10))\n",
        "y = list(range(5)) + list(range(5, 0, -1))\n",
        "y"
      ],
      "metadata": {
        "colab": {
          "base_uri": "https://localhost:8080/"
        },
        "id": "7WkFmr2jW92W",
        "outputId": "bac0ca7c-8dbb-473a-89a4-e59d53f86418"
      },
      "execution_count": 7,
      "outputs": [
        {
          "output_type": "execute_result",
          "data": {
            "text/plain": [
              "[0, 1, 2, 3, 4, 5, 4, 3, 2, 1]"
            ]
          },
          "metadata": {},
          "execution_count": 7
        }
      ]
    },
    {
      "cell_type": "code",
      "source": [
        "import pylab as pl\n"
      ],
      "metadata": {
        "id": "E1hydyDAXILQ"
      },
      "execution_count": 8,
      "outputs": []
    },
    {
      "cell_type": "code",
      "source": [
        "pl.plot(x,y)\n",
        "pl.xlabel(\"some random x value\")\n",
        "pl.ylabel(\"some random y value\");"
      ],
      "metadata": {
        "colab": {
          "base_uri": "https://localhost:8080/",
          "height": 279
        },
        "id": "rJ23RflLXQ40",
        "outputId": "e970a59d-950c-4054-fb69-f83184437fb8"
      },
      "execution_count": 11,
      "outputs": [
        {
          "output_type": "display_data",
          "data": {
            "text/plain": [
              "<Figure size 432x288 with 1 Axes>"
            ],
            "image/png": "[encoded data removed]"
          },
          "metadata": {
            "needs_background": "light"
          }
        }
      ]
    },
    {
      "cell_type": "markdown",
      "source": [
        "Figure 1: a line plot made with pylab. the break point is at x=5 where the line slope changes from positive to negative"
      ],
      "metadata": {
        "id": "qKCN2Xw4ZQtx"
      }
    },
    {
      "cell_type": "code",
      "source": [],
      "metadata": {
        "id": "sZYp6mrXXczZ"
      },
      "execution_count": null,
      "outputs": []
    }
  ]
}