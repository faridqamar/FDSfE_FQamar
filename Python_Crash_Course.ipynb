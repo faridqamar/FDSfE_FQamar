{
  "nbformat": 4,
  "nbformat_minor": 0,
  "metadata": {
    "kernelspec": {
      "display_name": "Python 3",
      "language": "python",
      "name": "python3"
    },
    "language_info": {
      "codemirror_mode": {
        "name": "ipython",
        "version": 3
      },
      "file_extension": ".py",
      "mimetype": "text/x-python",
      "name": "python",
      "nbconvert_exporter": "python",
      "pygments_lexer": "ipython3",
      "version": "3.6.8"
    },
    "colab": {
      "provenance": [],
      "toc_visible": true,
      "collapsed_sections": [],
      "include_colab_link": true
    }
  },
  "cells": [
    {
      "cell_type": "markdown",
      "metadata": {
        "id": "view-in-github",
        "colab_type": "text"
      },
      "source": [
        "<a href=\"https://colab.research.google.com/github/fedhere/FDSfE_FBianco/blob/main/Python_Crash_Course.ipynb\" target=\"_parent\"><img src=\"https://colab.research.google.com/assets/colab-badge.svg\" alt=\"Open In Colab\"/></a>"
      ]
    },
    {
      "cell_type": "markdown",
      "source": [
        "# **Python Crash Course**"
      ],
      "metadata": {
        "id": "UKxiuUdFv1XT"
      }
    },
    {
      "cell_type": "markdown",
      "source": [
        "Python Crash Course in Google Colab \n",
        "\n",
        "9/2021 written by [Xiaolong Li](https://github.com/xiaolng)\n",
        "\n",
        "revision history: \n",
        "\n",
        "9/2022 - edited by [Federica Bianco](https://github.com/fedhere) and [Greg Dobler](https://github.com/gdobler)\n",
        "\n",
        "---"
      ],
      "metadata": {
        "id": "f6uCVpTox3bA"
      }
    },
    {
      "cell_type": "markdown",
      "metadata": {
        "id": "42uXvvK4wa4a"
      },
      "source": [
        "A very short introduction to python,\n",
        "\n",
        "\n",
        "\n",
        "\n",
        "\n",
        "\n",
        "**[Native python variables and data types\n",
        "](#variables-and-data-types)**\n",
        "- [Simple data types\n",
        "](#simple-data-types) Integers, Floats,Booleans, Strings\n",
        "- [Variable containers](#variable-containers)Lists, Tuples, Dictionaries\n",
        "- [Conditionals and Loops](#conditionals-and-loops) if, for, while\n",
        "- [Functions](#functions)\n",
        "- [Classes](#classes)\n",
        "- [The Standard Library](#the-standard-library) os, glob\n",
        "\n",
        "\n",
        "**[Non-native Python Packages](#packages)**\n",
        "- [numpy](#numpy) scientific computing on multidimensional numerical data \n",
        "- [scipy](#scipy) statistical and scientific computing library\n",
        "- [pandas](#pandas) tabular data analysis and manipulation \n",
        "- [matplotlib](#matplotlib) visualization\n",
        "\n",
        "**[Coming soon](#missing)**\n",
        "-  [statsmodels](https://www.statsmodels.org/) statistical modeling\n",
        "- [sklearn](https://scikit-learn.org/) machine learning\n",
        "- [keras/tensorflow](https://keras.io) [pytorch](https://pytorch.org) deep learning\n",
        "\n",
        "**[Resources](#resources)**"
      ]
    },
    {
      "cell_type": "markdown",
      "source": [
        "*Note: you are working in a jupyter notebook environment. You can fill in cells with blocks of text, like this one, or blocks of code (like the next one). You can run the code and render the text with the \"play\" button on the left, or with the key-combinations ```ctrl+return``` or ```shift+return```*"
      ],
      "metadata": {
        "id": "_hOj9Rghyt4X"
      }
    },
    {
      "cell_type": "code",
      "metadata": {
        "scrolled": true,
        "colab": {
          "base_uri": "https://localhost:8080/"
        },
        "id": "nHhICmknwa4m",
        "outputId": "fbffecaa-05ce-48d1-9b2b-5c4e4d25ffd2"
      },
      "source": [
        "print(\"Hello world!\")"
      ],
      "execution_count": null,
      "outputs": [
        {
          "output_type": "stream",
          "name": "stdout",
          "text": [
            "Hello world!\n"
          ]
        }
      ]
    },
    {
      "cell_type": "markdown",
      "metadata": {
        "id": "B7lHKHGhwa4o"
      },
      "source": [
        "# **Native python variables and data types**"
      ]
    },
    {
      "cell_type": "markdown",
      "source": [
        "## Simple data types"
      ],
      "metadata": {
        "id": "3XoSKSQhZhkN"
      }
    },
    {
      "cell_type": "markdown",
      "metadata": {
        "id": "laseIUJHwa4r"
      },
      "source": [
        "### Integers and Floats\n",
        "\n",
        "\n",
        "In python, data types are implicitly declared: depending on how you write a number it may be stored as an integer or a float\n",
        "\n",
        "*Integers have no decimal digits, so less precision. Floats typically have 16 decimal digits.  This depends on the number of bits used to store the value (typically 64-bits are used for both type `int` and type `float` in python, which in practice means that it is possible to create larger integer values than floats).*"
      ]
    },
    {
      "cell_type": "code",
      "metadata": {
        "id": "z4fwUJr7wa4r",
        "colab": {
          "base_uri": "https://localhost:8080/"
        },
        "outputId": "a0021bec-805c-4640-cf1e-77212e2dfd6a"
      },
      "source": [
        "# numbers\n",
        "\n",
        "x = 1   # integer\n",
        "y = 1.  # float\n",
        "\n",
        "z = x + y\n",
        "\n",
        "type(x), type(y), z"
      ],
      "execution_count": null,
      "outputs": [
        {
          "output_type": "execute_result",
          "data": {
            "text/plain": [
              "(int, float, 2.0)"
            ]
          },
          "metadata": {},
          "execution_count": 4
        }
      ]
    },
    {
      "cell_type": "markdown",
      "metadata": {
        "id": "gTcDm7czwa4t"
      },
      "source": [
        "### Booleans\n",
        "\n",
        "*A lot of what we do in coding is execute statements based on conditions. This is enabled by if, for, while loops*\n",
        "\n",
        "Boolean variables are important because they enable conditional statements: if something is true then do something, otherwise do something else."
      ]
    },
    {
      "cell_type": "code",
      "source": [
        "x > 0 #state,ents that are trye return True"
      ],
      "metadata": {
        "colab": {
          "base_uri": "https://localhost:8080/"
        },
        "id": "V7kMYC5T1V7B",
        "outputId": "fe5edc49-0d4e-4e14-9f6b-70945765dc7a"
      },
      "execution_count": null,
      "outputs": [
        {
          "output_type": "execute_result",
          "data": {
            "text/plain": [
              "True"
            ]
          },
          "metadata": {},
          "execution_count": 5
        }
      ]
    },
    {
      "cell_type": "code",
      "source": [
        "x < 0"
      ],
      "metadata": {
        "colab": {
          "base_uri": "https://localhost:8080/"
        },
        "id": "b92anRFu1gjw",
        "outputId": "28f33f79-61da-488d-cf7c-90f5651c6fcb"
      },
      "execution_count": null,
      "outputs": [
        {
          "output_type": "execute_result",
          "data": {
            "text/plain": [
              "False"
            ]
          },
          "metadata": {},
          "execution_count": 6
        }
      ]
    },
    {
      "cell_type": "code",
      "source": [
        "x == 1 # \"is it equal\" is written as double ="
      ],
      "metadata": {
        "colab": {
          "base_uri": "https://localhost:8080/"
        },
        "id": "hblqLv5u1i4-",
        "outputId": "78a7b51d-eee5-41a0-a74a-9835b866e1a3"
      },
      "execution_count": null,
      "outputs": [
        {
          "output_type": "execute_result",
          "data": {
            "text/plain": [
              "True"
            ]
          },
          "metadata": {},
          "execution_count": 7
        }
      ]
    },
    {
      "cell_type": "code",
      "metadata": {
        "colab": {
          "base_uri": "https://localhost:8080/"
        },
        "id": "UKQzNYyQwa4x",
        "outputId": "5c9e3479-ff75-4ed8-9d1c-5b3d1cece261"
      },
      "source": [
        "True == 1 # True is actually mapped to 1, False to 0. This allows to use math to write statements"
      ],
      "execution_count": null,
      "outputs": [
        {
          "output_type": "execute_result",
          "data": {
            "text/plain": [
              "True"
            ]
          },
          "metadata": {},
          "execution_count": 9
        }
      ]
    },
    {
      "cell_type": "code",
      "metadata": {
        "colab": {
          "base_uri": "https://localhost:8080/"
        },
        "id": "Xxn8q5z3wa4w",
        "outputId": "31e832a9-e292-4dff-9135-1fff2158f4d3"
      },
      "source": [
        "True or False # true if either statemenys on the sides of the 'or' are True"
      ],
      "execution_count": null,
      "outputs": [
        {
          "output_type": "execute_result",
          "data": {
            "text/plain": [
              "True"
            ]
          },
          "metadata": {},
          "execution_count": 10
        }
      ]
    },
    {
      "cell_type": "code",
      "source": [
        "# logical or\n",
        "x > 1 or x < 0 # remember x=1"
      ],
      "metadata": {
        "colab": {
          "base_uri": "https://localhost:8080/"
        },
        "id": "gUoXStWJSr7r",
        "outputId": "c927f6ae-0e65-44d3-8efb-6915a693eb89"
      },
      "execution_count": null,
      "outputs": [
        {
          "output_type": "execute_result",
          "data": {
            "text/plain": [
              "False"
            ]
          },
          "metadata": {},
          "execution_count": 12
        }
      ]
    },
    {
      "cell_type": "code",
      "source": [
        "x >= 1 or x < 0"
      ],
      "metadata": {
        "colab": {
          "base_uri": "https://localhost:8080/"
        },
        "id": "AXe18ig-S18T",
        "outputId": "b953f215-4a04-49ae-d82f-7761388f3eaa"
      },
      "execution_count": null,
      "outputs": [
        {
          "output_type": "execute_result",
          "data": {
            "text/plain": [
              "True"
            ]
          },
          "metadata": {},
          "execution_count": 13
        }
      ]
    },
    {
      "cell_type": "code",
      "metadata": {
        "colab": {
          "base_uri": "https://localhost:8080/"
        },
        "id": "TWZO-pa4x9Xq",
        "outputId": "ab50b5ef-73b2-4e22-fcaf-af9409b6ff3c"
      },
      "source": [
        "# another way to say or (though there are subtle differences between | and or)\n",
        "True | False  # or"
      ],
      "execution_count": null,
      "outputs": [
        {
          "output_type": "execute_result",
          "data": {
            "text/plain": [
              "True"
            ]
          },
          "metadata": {},
          "execution_count": 18
        }
      ]
    },
    {
      "cell_type": "code",
      "source": [
        "# logical and\n",
        "True and False # true if both statements on the sides of the 'and' are True"
      ],
      "metadata": {
        "colab": {
          "base_uri": "https://localhost:8080/"
        },
        "id": "aXKzu-7w10rO",
        "outputId": "5bdc35f4-ccc9-4bc2-e76c-b15d5c03a650"
      },
      "execution_count": null,
      "outputs": [
        {
          "output_type": "execute_result",
          "data": {
            "text/plain": [
              "False"
            ]
          },
          "metadata": {},
          "execution_count": 19
        }
      ]
    },
    {
      "cell_type": "code",
      "source": [
        "x >= 1 and x < 0"
      ],
      "metadata": {
        "colab": {
          "base_uri": "https://localhost:8080/"
        },
        "id": "J9GZKVq4S-wQ",
        "outputId": "3f568206-9b57-40ff-d5a6-b27e53b250a3"
      },
      "execution_count": null,
      "outputs": [
        {
          "output_type": "execute_result",
          "data": {
            "text/plain": [
              "False"
            ]
          },
          "metadata": {},
          "execution_count": 20
        }
      ]
    },
    {
      "cell_type": "code",
      "metadata": {
        "colab": {
          "base_uri": "https://localhost:8080/"
        },
        "id": "uyElzZ-pwa4y",
        "outputId": "2fa76e9d-4976-4ec3-e026-78c562007fc7"
      },
      "source": [
        "True & False  # and"
      ],
      "execution_count": null,
      "outputs": [
        {
          "output_type": "execute_result",
          "data": {
            "text/plain": [
              "False"
            ]
          },
          "metadata": {},
          "execution_count": 21
        }
      ]
    },
    {
      "cell_type": "markdown",
      "metadata": {
        "id": "YOP_8WN2wa4z"
      },
      "source": [
        "### Strings\n",
        "\n",
        "Strings are used to store sequences of characters such as words or sentences."
      ]
    },
    {
      "cell_type": "code",
      "metadata": {
        "colab": {
          "base_uri": "https://localhost:8080/"
        },
        "id": "2zVhf8qUwa4z",
        "outputId": "065666a8-99c9-4db8-8b1c-e4366959d738"
      },
      "source": [
        "x = \"hello world\" # string\n",
        "\n",
        "type(x), len(x), x[0]"
      ],
      "execution_count": null,
      "outputs": [
        {
          "output_type": "execute_result",
          "data": {
            "text/plain": [
              "(str, 11, 'h')"
            ]
          },
          "metadata": {},
          "execution_count": 29
        }
      ]
    },
    {
      "cell_type": "markdown",
      "metadata": {
        "id": "yEp4xiynyQ8n"
      },
      "source": [
        "*Data types are complex objects, they can have \"methods\" associated with them. The methods are invoked by a `.` after the variable. They are functions that are automaticallly applied to the variable that owns them. In Colab, the methods available for a given variable will be displayed if you put a dot after the variable and wait a moment without moving your cursor. (\"Functions\" are described below)*\n",
        "\n",
        "*floats for example have methods to see if any decimal digits are non zero `float.is_integer()`, strings have methods to change capitalization - e.g. `str.upper()`*"
      ]
    },
    {
      "cell_type": "code",
      "metadata": {
        "id": "grhOgN7lyhYU"
      },
      "source": [
        "x."
      ],
      "execution_count": null,
      "outputs": []
    },
    {
      "cell_type": "code",
      "source": [
        "y.is_integer() # recall, y = 1."
      ],
      "metadata": {
        "colab": {
          "base_uri": "https://localhost:8080/"
        },
        "id": "680kmTzm4ZcF",
        "outputId": "8d644eb2-eed1-4788-b0a8-6b4c5a1249b3"
      },
      "execution_count": null,
      "outputs": [
        {
          "output_type": "execute_result",
          "data": {
            "text/plain": [
              "True"
            ]
          },
          "metadata": {},
          "execution_count": 27
        }
      ]
    },
    {
      "cell_type": "markdown",
      "source": [
        "*strings have a lot of methods for manipulation*"
      ],
      "metadata": {
        "id": "SKqaJsLd3SWv"
      }
    },
    {
      "cell_type": "code",
      "source": [
        "x"
      ],
      "metadata": {
        "colab": {
          "base_uri": "https://localhost:8080/",
          "height": 35
        },
        "id": "nHjWStaxK3aA",
        "outputId": "b9ac7e54-25d3-4904-ff2e-230eec47d2f4"
      },
      "execution_count": null,
      "outputs": [
        {
          "output_type": "execute_result",
          "data": {
            "text/plain": [
              "'hello world'"
            ],
            "application/vnd.google.colaboratory.intrinsic+json": {
              "type": "string"
            }
          },
          "metadata": {},
          "execution_count": 28
        }
      ]
    },
    {
      "cell_type": "code",
      "metadata": {
        "scrolled": true,
        "colab": {
          "base_uri": "https://localhost:8080/",
          "height": 36
        },
        "id": "EHJXCQ0Fwa43",
        "outputId": "acc0fb3d-8161-401d-aa92-a4bacd0c64e4"
      },
      "source": [
        "x.upper()"
      ],
      "execution_count": null,
      "outputs": [
        {
          "output_type": "execute_result",
          "data": {
            "text/plain": [
              "'HELLO WORLD'"
            ],
            "application/vnd.google.colaboratory.intrinsic+json": {
              "type": "string"
            }
          },
          "metadata": {},
          "execution_count": 69
        }
      ]
    },
    {
      "cell_type": "code",
      "metadata": {
        "colab": {
          "base_uri": "https://localhost:8080/"
        },
        "id": "djreFhiewa40",
        "outputId": "1a65d716-f2f1-4125-acc5-fbd40187fb82"
      },
      "source": [
        "x.split(\" \")"
      ],
      "execution_count": null,
      "outputs": [
        {
          "output_type": "execute_result",
          "data": {
            "text/plain": [
              "['hello', 'world']"
            ]
          },
          "metadata": {},
          "execution_count": 70
        }
      ]
    },
    {
      "cell_type": "code",
      "metadata": {
        "colab": {
          "base_uri": "https://localhost:8080/"
        },
        "id": "EoelNEFpwa42",
        "outputId": "f0ff53bb-907f-4904-ced3-ca0ca4a9a407"
      },
      "source": [
        "x.replace('l', 'L'), x.strip(\"h\")"
      ],
      "execution_count": null,
      "outputs": [
        {
          "output_type": "execute_result",
          "data": {
            "text/plain": [
              "('heLLo worLd', 'ello world')"
            ]
          },
          "metadata": {},
          "execution_count": 33
        }
      ]
    },
    {
      "cell_type": "markdown",
      "source": [
        "*in some cases, variables can be converted from a type to another*"
      ],
      "metadata": {
        "id": "sE6VO8LkVnHv"
      }
    },
    {
      "cell_type": "code",
      "metadata": {
        "id": "cVMbTpx3wa43",
        "colab": {
          "base_uri": "https://localhost:8080/",
          "height": 35
        },
        "outputId": "0c132c8f-92a6-40f1-de06-a1062a625df5"
      },
      "source": [
        "str(1) # convert number to string"
      ],
      "execution_count": null,
      "outputs": [
        {
          "output_type": "execute_result",
          "data": {
            "text/plain": [
              "'1'"
            ],
            "application/vnd.google.colaboratory.intrinsic+json": {
              "type": "string"
            }
          },
          "metadata": {},
          "execution_count": 34
        }
      ]
    },
    {
      "cell_type": "code",
      "source": [
        "# int() with an integer value\n",
        "print(\"int(123) is:\", int(123))\n",
        "\n",
        "# int() with a floating point value\n",
        "print(\"int(123.23) is:\", int(123.23))\n",
        "\n",
        "# int() with a numeric-string value\n",
        "print(\"int('123') is:\", int(\"123\"))\n",
        "\n",
        "# float() with an integer value\n",
        "print(\"float('123') is:\", float(\"123\"))"
      ],
      "metadata": {
        "colab": {
          "base_uri": "https://localhost:8080/"
        },
        "id": "A6rpqaxlVtPv",
        "outputId": "4db40d62-df06-4f2c-f2dd-3a67f1c38ce4"
      },
      "execution_count": null,
      "outputs": [
        {
          "output_type": "stream",
          "name": "stdout",
          "text": [
            "int(123) is: 123\n",
            "int(123.23) is: 123\n",
            "int('123') is: 123\n",
            "float('123') is: 123.0\n"
          ]
        }
      ]
    },
    {
      "cell_type": "markdown",
      "metadata": {
        "id": "i5Zw96VXwa44"
      },
      "source": [
        "## Variable containers"
      ]
    },
    {
      "cell_type": "markdown",
      "source": [
        "Lists and tuples are python native containers: you can use them to store a set of variables together\n"
      ],
      "metadata": {
        "id": "dhI0ZhMrZRp1"
      }
    },
    {
      "cell_type": "markdown",
      "source": [
        "### Lists\n",
        "\n",
        "A list can contain variable of different types. They are a flat structure, but can be nested (lists of lists).  Lists have many built-in methods."
      ],
      "metadata": {
        "id": "sZ-7j0qbLG5I"
      }
    },
    {
      "cell_type": "code",
      "metadata": {
        "colab": {
          "base_uri": "https://localhost:8080/"
        },
        "id": "YVv_C3uCwa44",
        "outputId": "aa8576a9-e23a-4c9c-8e61-384a1d4917c7"
      },
      "source": [
        "l = [1, 'b', 2, 3]\n",
        "l2 = [x, [1, 2, 3]]\n",
        "l2"
      ],
      "execution_count": null,
      "outputs": [
        {
          "output_type": "execute_result",
          "data": {
            "text/plain": [
              "['hello world', [1, 2, 3]]"
            ]
          },
          "metadata": {},
          "execution_count": 35
        }
      ]
    },
    {
      "cell_type": "code",
      "source": [
        "l.append(4)\n",
        "l"
      ],
      "metadata": {
        "colab": {
          "base_uri": "https://localhost:8080/"
        },
        "id": "V4PJfsP5MuOI",
        "outputId": "7117356b-b368-4525-b9a5-c38a3c50dee3"
      },
      "execution_count": null,
      "outputs": [
        {
          "output_type": "execute_result",
          "data": {
            "text/plain": [
              "[1, 'b', 2, 3, 4]"
            ]
          },
          "metadata": {},
          "execution_count": 36
        }
      ]
    },
    {
      "cell_type": "markdown",
      "source": [
        "You can extract portions of a list by using the indices. Note that indices in python start with 0 so that the first element of a list (or an array) is 0, not 1! Below we exctract elements starting with the second one (1) and up to but excluding the fifth one (4)"
      ],
      "metadata": {
        "id": "nwBGdXgfLTuu"
      }
    },
    {
      "cell_type": "code",
      "metadata": {
        "colab": {
          "base_uri": "https://localhost:8080/"
        },
        "id": "GURmvxQowa45",
        "outputId": "9d19bdf3-97f3-4c7c-8e64-76abf6c03c98"
      },
      "source": [
        "l[1:4]"
      ],
      "execution_count": null,
      "outputs": [
        {
          "output_type": "execute_result",
          "data": {
            "text/plain": [
              "['b', 2, 3]"
            ]
          },
          "metadata": {},
          "execution_count": 37
        }
      ]
    },
    {
      "cell_type": "markdown",
      "source": [
        "We can count indices backwards, starting with -1 for the last element"
      ],
      "metadata": {
        "id": "fkIerndrM2Lb"
      }
    },
    {
      "cell_type": "code",
      "metadata": {
        "colab": {
          "base_uri": "https://localhost:8080/"
        },
        "id": "C9FkL0Vgwa45",
        "outputId": "d3169c81-4824-4a92-a3ea-da8cc619b6a9"
      },
      "source": [
        "l[-2]"
      ],
      "execution_count": null,
      "outputs": [
        {
          "output_type": "execute_result",
          "data": {
            "text/plain": [
              "3"
            ]
          },
          "metadata": {},
          "execution_count": 38
        }
      ]
    },
    {
      "cell_type": "code",
      "metadata": {
        "colab": {
          "base_uri": "https://localhost:8080/"
        },
        "id": "Dex4M2lBwa45",
        "outputId": "106ae4af-55ae-4f48-e1b2-5f8a0dab0b88"
      },
      "source": [
        "l.pop(1) # remove an item by index\n",
        "l"
      ],
      "execution_count": null,
      "outputs": [
        {
          "output_type": "execute_result",
          "data": {
            "text/plain": [
              "[1, 2, 3, 4]"
            ]
          },
          "metadata": {},
          "execution_count": 39
        }
      ]
    },
    {
      "cell_type": "code",
      "source": [
        "l[2] = 0 # change an element of a list\n",
        "l"
      ],
      "metadata": {
        "colab": {
          "base_uri": "https://localhost:8080/"
        },
        "id": "0zPnl5FxNQ_3",
        "outputId": "e54a64ca-3e99-4ec5-a57a-651cb1eccc32"
      },
      "execution_count": null,
      "outputs": [
        {
          "output_type": "execute_result",
          "data": {
            "text/plain": [
              "[1, 2, 0, 4]"
            ]
          },
          "metadata": {},
          "execution_count": 40
        }
      ]
    },
    {
      "cell_type": "code",
      "metadata": {
        "colab": {
          "base_uri": "https://localhost:8080/"
        },
        "id": "SB3ELDSBwa46",
        "outputId": "42a5e6c3-2e32-448a-d44e-723799f4572e"
      },
      "source": [
        "1 in l"
      ],
      "execution_count": null,
      "outputs": [
        {
          "output_type": "execute_result",
          "data": {
            "text/plain": [
              "True"
            ]
          },
          "metadata": {},
          "execution_count": 41
        }
      ]
    },
    {
      "cell_type": "markdown",
      "source": [
        "Mathematical operators modify lists (but do not get applied to their elements like we will see in a moment happens with array)\n",
        "\n",
        "\\+ $\\rightarrow$ concatenate\n",
        "\n",
        "\\* $\\rightarrow$ duplicate"
      ],
      "metadata": {
        "id": "ksrOJP2vVNsH"
      }
    },
    {
      "cell_type": "code",
      "source": [
        "l"
      ],
      "metadata": {
        "colab": {
          "base_uri": "https://localhost:8080/"
        },
        "id": "ql5BDQj2Vhlb",
        "outputId": "260a0bca-ac07-4e95-e854-e7fbb60f8aa4"
      },
      "execution_count": null,
      "outputs": [
        {
          "output_type": "execute_result",
          "data": {
            "text/plain": [
              "[1, 2, 0, 4]"
            ]
          },
          "metadata": {},
          "execution_count": 42
        }
      ]
    },
    {
      "cell_type": "code",
      "source": [
        "l + [0]"
      ],
      "metadata": {
        "colab": {
          "base_uri": "https://localhost:8080/"
        },
        "id": "y0s6E7kkVd_R",
        "outputId": "975ed993-8ecb-4ea9-f972-96e019a8a7cd"
      },
      "execution_count": null,
      "outputs": [
        {
          "output_type": "execute_result",
          "data": {
            "text/plain": [
              "[1, 2, 0, 4, 0]"
            ]
          },
          "metadata": {},
          "execution_count": 43
        }
      ]
    },
    {
      "cell_type": "code",
      "source": [
        "l * 2"
      ],
      "metadata": {
        "colab": {
          "base_uri": "https://localhost:8080/"
        },
        "id": "aDp3nkZkNsND",
        "outputId": "bd264d3b-b130-4c42-edbd-452e880dc7c7"
      },
      "execution_count": null,
      "outputs": [
        {
          "output_type": "execute_result",
          "data": {
            "text/plain": [
              "[1, 2, 0, 4, 1, 2, 0, 4]"
            ]
          },
          "metadata": {},
          "execution_count": 44
        }
      ]
    },
    {
      "cell_type": "markdown",
      "source": [
        "### Tuples\n",
        "\n",
        "\n",
        "Tuples are similar to lists, but do not support item assignment.  If you put data in tuples they are \"safe\" and cannot be changed. They should be used if you want a protected variable container and to avoid the risk that the content is accidentally changed in the code\n",
        "\n"
      ],
      "metadata": {
        "id": "yli-jTl9M9jp"
      }
    },
    {
      "cell_type": "code",
      "metadata": {
        "colab": {
          "base_uri": "https://localhost:8080/"
        },
        "id": "AeCx_sb_wa46",
        "outputId": "28fb84a8-a2e6-401c-86ca-5602a7875789"
      },
      "source": [
        "t = (1, 'b')\n",
        "t"
      ],
      "execution_count": null,
      "outputs": [
        {
          "output_type": "execute_result",
          "data": {
            "text/plain": [
              "(1, 'b')"
            ]
          },
          "metadata": {},
          "execution_count": 45
        }
      ]
    },
    {
      "cell_type": "code",
      "metadata": {
        "colab": {
          "base_uri": "https://localhost:8080/",
          "height": 169
        },
        "id": "u430L1Rtz_vc",
        "outputId": "1ad967c0-2dca-49f7-d7e6-6b5b021b9e16"
      },
      "source": [
        "t[0] = 2 # trying to change an element of a tuple leads to an error"
      ],
      "execution_count": null,
      "outputs": [
        {
          "output_type": "error",
          "ename": "TypeError",
          "evalue": "ignored",
          "traceback": [
            "\u001b[0;31m---------------------------------------------------------------------------\u001b[0m",
            "\u001b[0;31mTypeError\u001b[0m                                 Traceback (most recent call last)",
            "\u001b[0;32m<ipython-input-46-d70c00f721d9>\u001b[0m in \u001b[0;36m<module>\u001b[0;34m\u001b[0m\n\u001b[0;32m----> 1\u001b[0;31m \u001b[0mt\u001b[0m\u001b[0;34m[\u001b[0m\u001b[0;36m0\u001b[0m\u001b[0;34m]\u001b[0m \u001b[0;34m=\u001b[0m \u001b[0;36m2\u001b[0m \u001b[0;31m# trying to change an element of a tuple leads to an error\u001b[0m\u001b[0;34m\u001b[0m\u001b[0;34m\u001b[0m\u001b[0m\n\u001b[0m",
            "\u001b[0;31mTypeError\u001b[0m: 'tuple' object does not support item assignment"
          ]
        }
      ]
    },
    {
      "cell_type": "markdown",
      "metadata": {
        "id": "QofF0EJ7zAo9"
      },
      "source": [
        "strings are essentiallly lists of characters and inherit some behaviors from lists"
      ]
    },
    {
      "cell_type": "code",
      "metadata": {
        "colab": {
          "base_uri": "https://localhost:8080/",
          "height": 35
        },
        "id": "48TKKa62wa43",
        "outputId": "0cd56e9d-2296-405d-fd0a-6696e6e138cc"
      },
      "source": [
        "x * 3"
      ],
      "execution_count": null,
      "outputs": [
        {
          "output_type": "execute_result",
          "data": {
            "text/plain": [
              "'hello worldhello worldhello world'"
            ],
            "application/vnd.google.colaboratory.intrinsic+json": {
              "type": "string"
            }
          },
          "metadata": {},
          "execution_count": 47
        }
      ]
    },
    {
      "cell_type": "markdown",
      "metadata": {
        "id": "I_ueK4MAwa47"
      },
      "source": [
        "### Dictionaries\n",
        "\n",
        "Dictionaries are key-value paired containers: each element has a name by which you can retrieve it"
      ]
    },
    {
      "cell_type": "code",
      "metadata": {
        "id": "Yo6ZtzQkwa47"
      },
      "source": [
        "dct ={'one':1, 'two':2, 'three':3} # dictionary"
      ],
      "execution_count": null,
      "outputs": []
    },
    {
      "cell_type": "code",
      "metadata": {
        "scrolled": true,
        "colab": {
          "base_uri": "https://localhost:8080/"
        },
        "id": "I-CT8DH2wa47",
        "outputId": "6024a20d-79ab-47b5-a97c-5e9ed8431a23"
      },
      "source": [
        "dct.keys()"
      ],
      "execution_count": null,
      "outputs": [
        {
          "output_type": "execute_result",
          "data": {
            "text/plain": [
              "dict_keys(['one', 'two', 'three'])"
            ]
          },
          "metadata": {},
          "execution_count": 49
        }
      ]
    },
    {
      "cell_type": "code",
      "metadata": {
        "colab": {
          "base_uri": "https://localhost:8080/"
        },
        "id": "cs_JDeQYwa48",
        "outputId": "60ba5219-32f5-4238-d84b-a4afb9360baa"
      },
      "source": [
        "dct['one']"
      ],
      "execution_count": null,
      "outputs": [
        {
          "output_type": "execute_result",
          "data": {
            "text/plain": [
              "1"
            ]
          },
          "metadata": {},
          "execution_count": 50
        }
      ]
    },
    {
      "cell_type": "code",
      "metadata": {
        "colab": {
          "base_uri": "https://localhost:8080/"
        },
        "id": "3PJ4VuPnwa48",
        "outputId": "09f4c010-d05a-4b0a-c613-ec130cf0f14e"
      },
      "source": [
        "dct['four'] = 4 # append to dict\n",
        "dct"
      ],
      "execution_count": null,
      "outputs": [
        {
          "output_type": "execute_result",
          "data": {
            "text/plain": [
              "{'one': 1, 'two': 2, 'three': 3, 'four': 4}"
            ]
          },
          "metadata": {},
          "execution_count": 53
        }
      ]
    },
    {
      "cell_type": "markdown",
      "metadata": {
        "id": "D2eVhSAPwa48"
      },
      "source": [
        "## Conditionals and Loops"
      ]
    },
    {
      "cell_type": "markdown",
      "source": [
        "When we code, a lot of the time we want to perform actions on data based on conditions (if this, then that, otherwise do something else) or operate on sets of values one by one (operate on all elements of a list or array), or operate on a variable until it reaches some critical value. Respectively, this can be done with an `if`, a `for`, and a `while` loop"
      ],
      "metadata": {
        "id": "R-kO8qTWV2Ly"
      }
    },
    {
      "cell_type": "markdown",
      "source": [
        "*A note on indentation: Python enforces syntax through indentation. That means that logical blocks in the code share the same indentation (number of spaces from the left before the code line starts). The actions included in each loop or condition share the same indentation. When the indentation changes, that indicates that the logical block ends.*"
      ],
      "metadata": {
        "id": "CZzO4KFqYrq4"
      }
    },
    {
      "cell_type": "markdown",
      "metadata": {
        "id": "65nKtGGtwa49"
      },
      "source": [
        "#### `if` statements"
      ]
    },
    {
      "cell_type": "code",
      "metadata": {
        "id": "7HvMRHgJwa5A",
        "colab": {
          "base_uri": "https://localhost:8080/"
        },
        "outputId": "ab7e9750-5c65-4ce5-88fe-85b29c77639e"
      },
      "source": [
        "x = 2\n",
        "if x == 1: # if the condition is verified \n",
        "    print(\"1\") # do this\n",
        "else: # otherwise\n",
        "    print(' not 1') # do something else"
      ],
      "execution_count": null,
      "outputs": [
        {
          "output_type": "stream",
          "name": "stdout",
          "text": [
            " not 1\n"
          ]
        }
      ]
    },
    {
      "cell_type": "code",
      "metadata": {
        "id": "S-uOWQ3zwa5B",
        "colab": {
          "base_uri": "https://localhost:8080/"
        },
        "outputId": "eb2557a2-6a64-4c57-8cd5-f08c526bcd50"
      },
      "source": [
        "x = 2\n",
        "\n",
        "if x == 1:\n",
        "    print(\"1\")\n",
        "elif x == 2:\n",
        "    print(\"2\")\n",
        "elif x == 3:\n",
        "    print(\"3\")\n",
        "else:\n",
        "    print(\"others\")"
      ],
      "execution_count": null,
      "outputs": [
        {
          "output_type": "stream",
          "name": "stdout",
          "text": [
            "2\n"
          ]
        }
      ]
    },
    {
      "cell_type": "markdown",
      "metadata": {
        "id": "zuYnxDGYwa5B"
      },
      "source": [
        "#### `for` loops\n",
        "loops over the elements of a list or array performing an operation until it runs out of elements"
      ]
    },
    {
      "cell_type": "code",
      "source": [
        "for i in l:\n",
        "  print (i)"
      ],
      "metadata": {
        "colab": {
          "base_uri": "https://localhost:8080/"
        },
        "id": "OVr-U7J2W0uE",
        "outputId": "97d8f2b7-a6da-448d-ed2a-de5c2182b8f2"
      },
      "execution_count": null,
      "outputs": [
        {
          "output_type": "stream",
          "name": "stdout",
          "text": [
            "1\n",
            "2\n",
            "0\n",
            "4\n"
          ]
        }
      ]
    },
    {
      "cell_type": "markdown",
      "source": [
        "*`range()` is a python native function that generates an \"iterator\" of integers. With a single argument it iterates over all integers starting with 0 and ending with the value passed as argument excluded `range(3)` $\\rightarrow$ 0,1,2; with two arguments it starts on the value of the first and ends on the value of the second argument, excluded `range(2,5)` $\\rightarrow$ 2, 3, 4; with three arguments, it starts on the first, ends on the last one excluded, and strides by the last one `range(1,5,2)` $\\rightarrow$ 1,3.*"
      ],
      "metadata": {
        "id": "bU6UyRe4W6Gt"
      }
    },
    {
      "cell_type": "code",
      "metadata": {
        "id": "JcPSnqpWwa5C",
        "colab": {
          "base_uri": "https://localhost:8080/"
        },
        "outputId": "5f5aadf0-03a6-432e-d6c4-e8f95a66f2bd"
      },
      "source": [
        "for i in range(3):\n",
        "    print(i, i*3)"
      ],
      "execution_count": null,
      "outputs": [
        {
          "output_type": "stream",
          "name": "stdout",
          "text": [
            "0 0\n",
            "1 3\n",
            "2 6\n"
          ]
        }
      ]
    },
    {
      "cell_type": "code",
      "source": [
        "for i in range(2, 5):\n",
        "    print(i, i*3)"
      ],
      "metadata": {
        "colab": {
          "base_uri": "https://localhost:8080/"
        },
        "id": "kprMiBwhX3Hz",
        "outputId": "6a3ea3b0-cae3-4eec-94e2-a440587ec802"
      },
      "execution_count": null,
      "outputs": [
        {
          "output_type": "stream",
          "name": "stdout",
          "text": [
            "2 6\n",
            "3 9\n",
            "4 12\n"
          ]
        }
      ]
    },
    {
      "cell_type": "code",
      "source": [
        "for i in range(1, 5, 2):\n",
        "    print(i, i*3)"
      ],
      "metadata": {
        "colab": {
          "base_uri": "https://localhost:8080/"
        },
        "id": "y6PE5hZGYA3f",
        "outputId": "9c6294b0-7025-4dc2-9caa-052966bae98e"
      },
      "execution_count": null,
      "outputs": [
        {
          "output_type": "stream",
          "name": "stdout",
          "text": [
            "1 3\n",
            "3 9\n"
          ]
        }
      ]
    },
    {
      "cell_type": "code",
      "metadata": {
        "id": "34Px_2O-wa5C",
        "colab": {
          "base_uri": "https://localhost:8080/"
        },
        "outputId": "6abd999a-ac71-4d8d-f9d3-977a5b4d4201"
      },
      "source": [
        "# use zip to pair lists in the loop\n",
        "\n",
        "x = ['a', 'b', 'c', ]\n",
        "y = [1, 2, 3]\n",
        "\n",
        "for i, j in zip(x, y):\n",
        "    print(i, j)"
      ],
      "execution_count": null,
      "outputs": [
        {
          "output_type": "stream",
          "name": "stdout",
          "text": [
            "a 1\n",
            "b 2\n",
            "c 3\n"
          ]
        }
      ]
    },
    {
      "cell_type": "code",
      "metadata": {
        "id": "ulI15gwbwa5C",
        "colab": {
          "base_uri": "https://localhost:8080/"
        },
        "outputId": "a8b03789-77b9-4565-d8d8-8418d2f2ef71"
      },
      "source": [
        "# use enumerate get the index of each loop iteration\n",
        "\n",
        "x = ['a', 'b', 'c']\n",
        "\n",
        "for i, xi in enumerate(x):\n",
        "        print(i, xi)\n",
        "    "
      ],
      "execution_count": null,
      "outputs": [
        {
          "output_type": "stream",
          "name": "stdout",
          "text": [
            "0 a\n",
            "1 b\n",
            "2 c\n"
          ]
        }
      ]
    },
    {
      "cell_type": "markdown",
      "metadata": {
        "id": "3tx_xYwEwa5D"
      },
      "source": [
        "#### `while` loops"
      ]
    },
    {
      "cell_type": "code",
      "metadata": {
        "id": "Q6WUVjrWwa5D",
        "colab": {
          "base_uri": "https://localhost:8080/"
        },
        "outputId": "50229e91-383a-478e-894e-1b66fb1f371e"
      },
      "source": [
        "x = 0\n",
        "while x < 3: # will continue so long as the condition is verified\n",
        "    print(x)\n",
        "    x += 1\n",
        "    "
      ],
      "execution_count": null,
      "outputs": [
        {
          "output_type": "stream",
          "name": "stdout",
          "text": [
            "0\n",
            "1\n",
            "2\n"
          ]
        }
      ]
    },
    {
      "cell_type": "markdown",
      "metadata": {
        "id": "G73-SGG0wa5D"
      },
      "source": [
        "## Functions\n",
        "\n",
        "Variables store content. Functions operates on variables. We define functions (assign a name to a function) to create a sequence of commands to be executed in a specific order. In the definition we indicate the arguments that the function takes, which are the things the function needs to know or operate on. The functions can either modify the arguments or produce and return values (via the `return` command). \n",
        "\n",
        "*Like loops, functions are syntactically separated from the rest of the code by indentation. The function definition starts with ```def``` every line of code defining the function (after ```def```) is right indented.* "
      ]
    },
    {
      "cell_type": "code",
      "metadata": {
        "id": "iKZtc0Lfwa5D"
      },
      "source": [
        "def add(a=0, b=0):\n",
        "    \"\"\"\n",
        "    Add two numbers\n",
        "    Args:\n",
        "        a: number, default 0\n",
        "        b: number, default 0\n",
        "    \n",
        "    Returns:\n",
        "        return the sum\n",
        "    \n",
        "    \"\"\"\n",
        "    result = a + b\n",
        "    return result"
      ],
      "execution_count": null,
      "outputs": []
    },
    {
      "cell_type": "code",
      "metadata": {
        "id": "sgU4Kzhzwa5E",
        "colab": {
          "base_uri": "https://localhost:8080/"
        },
        "outputId": "699fad92-5ea0-4287-cbd0-fe9139ed262b"
      },
      "source": [
        "add(1, 2)"
      ],
      "execution_count": null,
      "outputs": [
        {
          "output_type": "execute_result",
          "data": {
            "text/plain": [
              "3"
            ]
          },
          "metadata": {},
          "execution_count": 99
        }
      ]
    },
    {
      "cell_type": "markdown",
      "metadata": {
        "id": "SMntzUlEuc4H"
      },
      "source": [
        "The bit between `\"\"\"` and `\"\"\"` is called a _docstring_ and all functions should have one to describe input, output, and puspose. The three consecutive quotes in python allow us to write strings with return characters. \n",
        "\n",
        "*The docstring serves as a usage help for the function: typing the name of the function followed by ? will return the docstring if you are working in a notebook environment.*"
      ]
    },
    {
      "cell_type": "code",
      "source": [
        "add?"
      ],
      "metadata": {
        "id": "ExFbh60ibASb"
      },
      "execution_count": null,
      "outputs": []
    },
    {
      "cell_type": "markdown",
      "metadata": {
        "id": "KZ0bIH3Kwa5E"
      },
      "source": [
        "## Classes\n",
        "\n",
        "Creating a new class creates a new type of object: a complex variable that has inside of itself attributes (variables) and methods (functions)."
      ]
    },
    {
      "cell_type": "code",
      "metadata": {
        "id": "VsLvUxRfwa5E"
      },
      "source": [
        "class Car:\n",
        "    def __init__(self,brand,**kwargs):\n",
        "        self.brand = brand\n",
        "        self.kwargs = kwargs\n",
        "        \n",
        "    def get_brand(self):\n",
        "        return self.brand\n",
        "    \n",
        "    def get_prams(self):\n",
        "        return self.kwargs\n"
      ],
      "execution_count": null,
      "outputs": []
    },
    {
      "cell_type": "code",
      "metadata": {
        "id": "8z-DJ6XAwa5E"
      },
      "source": [
        "# Instantiate\n",
        "newCar = Car('BMW', price=10000, color='red', model='m')\n"
      ],
      "execution_count": null,
      "outputs": []
    },
    {
      "cell_type": "markdown",
      "metadata": {
        "id": "Z70xRqcmu1x6"
      },
      "source": [
        "after a class is defined, an object of the class is creted by \"instantiating\" it, defining all required values\n"
      ]
    },
    {
      "cell_type": "code",
      "metadata": {
        "id": "Kfo2ABYZwa5F",
        "colab": {
          "base_uri": "https://localhost:8080/",
          "height": 36
        },
        "outputId": "a918b6ba-714f-4137-cafa-fa565412588d"
      },
      "source": [
        "newCar.get_brand()\n"
      ],
      "execution_count": null,
      "outputs": [
        {
          "output_type": "execute_result",
          "data": {
            "text/plain": [
              "'BMW'"
            ],
            "application/vnd.google.colaboratory.intrinsic+json": {
              "type": "string"
            }
          },
          "metadata": {},
          "execution_count": 103
        }
      ]
    },
    {
      "cell_type": "code",
      "metadata": {
        "id": "nPvt88nHwa5F",
        "colab": {
          "base_uri": "https://localhost:8080/"
        },
        "outputId": "39082042-8a30-4f5d-fd68-f1fadd3e7712"
      },
      "source": [
        "newCar.get_prams()"
      ],
      "execution_count": null,
      "outputs": [
        {
          "output_type": "execute_result",
          "data": {
            "text/plain": [
              "{'price': 10000, 'color': 'red', 'model': 'm'}"
            ]
          },
          "metadata": {},
          "execution_count": 104
        }
      ]
    },
    {
      "cell_type": "markdown",
      "metadata": {
        "id": "FAUkwDqPwa5F"
      },
      "source": [
        "Inheritance: a class can contain the initialization of another (parent) class"
      ]
    },
    {
      "cell_type": "code",
      "metadata": {
        "id": "vpAJUdoYwa5G"
      },
      "source": [
        "class Coupe(Car):\n",
        "    def __init__(self, brand,**kwargs):\n",
        "        super().__init__(brand,**kwargs) # works in phthon 3 \n",
        "        #super(Coupe, self).__init__(brand,**kwargs)  # works in python 2/3\n",
        "        \n",
        "    def test(self):\n",
        "        print(' class works')\n",
        "        \n",
        "    def __str__(self):\n",
        "        # for print \n",
        "        return self.brand\n"
      ],
      "execution_count": null,
      "outputs": []
    },
    {
      "cell_type": "code",
      "metadata": {
        "id": "CesDgbkJwa5G",
        "colab": {
          "base_uri": "https://localhost:8080/"
        },
        "outputId": "3c7a0782-c8d0-48c8-b63b-02e68e496bd4"
      },
      "source": [
        "# Instantiate\n",
        "newCoupe = Coupe('BMW', price=10000, color='red', model='m')\n",
        "\n",
        "newCoupe.test()"
      ],
      "execution_count": null,
      "outputs": [
        {
          "output_type": "stream",
          "name": "stdout",
          "text": [
            " class works\n"
          ]
        }
      ]
    },
    {
      "cell_type": "code",
      "metadata": {
        "colab": {
          "base_uri": "https://localhost:8080/",
          "height": 36
        },
        "id": "I4Y6WNvvvL9V",
        "outputId": "13f2e2ba-8488-4e9e-d4aa-7417a7d3b203"
      },
      "source": [
        "newCoupe.__str__()"
      ],
      "execution_count": null,
      "outputs": [
        {
          "output_type": "execute_result",
          "data": {
            "text/plain": [
              "'BMW'"
            ],
            "application/vnd.google.colaboratory.intrinsic+json": {
              "type": "string"
            }
          },
          "metadata": {},
          "execution_count": 107
        }
      ]
    },
    {
      "cell_type": "markdown",
      "metadata": {
        "id": "AIO87e4qwa5H"
      },
      "source": [
        "## The Standard Library\n",
        "\n",
        "Python comes with a [standard library](https://docs.python.org/3/library/) of modules for performing common tasks. These are collections of predefined functions, variables, and classes that are packaged together."
      ]
    },
    {
      "cell_type": "markdown",
      "metadata": {
        "id": "qcELcqndwa5H"
      },
      "source": [
        "#### `os`\n",
        "\n",
        "This is a library to interact with the operating system of the computer you are working on.  For example `os.chdir(newdir)` would change the current working directory to `newdir` if it exists (and return an error if it doesn't!)."
      ]
    },
    {
      "cell_type": "code",
      "metadata": {
        "id": "JA79OT5qwa5H"
      },
      "source": [
        "import os"
      ],
      "execution_count": null,
      "outputs": []
    },
    {
      "cell_type": "code",
      "metadata": {
        "id": "9UanDmfBwa5H",
        "colab": {
          "base_uri": "https://localhost:8080/",
          "height": 35
        },
        "outputId": "1d97b513-b55a-4d4b-d10d-ef81833b31c7"
      },
      "source": [
        "os.getcwd()  # return the current working directory"
      ],
      "execution_count": null,
      "outputs": [
        {
          "output_type": "execute_result",
          "data": {
            "text/plain": [
              "'/content'"
            ],
            "application/vnd.google.colaboratory.intrinsic+json": {
              "type": "string"
            }
          },
          "metadata": {},
          "execution_count": 60
        }
      ]
    },
    {
      "cell_type": "code",
      "metadata": {
        "id": "r42oKMcYwa5I",
        "colab": {
          "base_uri": "https://localhost:8080/"
        },
        "outputId": "219160ed-d939-47a3-b4a8-200d9cf2d4d6"
      },
      "source": [
        "os.system('mkdir something') # run a linux command"
      ],
      "execution_count": null,
      "outputs": [
        {
          "output_type": "execute_result",
          "data": {
            "text/plain": [
              "0"
            ]
          },
          "metadata": {},
          "execution_count": 51
        }
      ]
    },
    {
      "cell_type": "markdown",
      "metadata": {
        "id": "3ncNoqjvv3My"
      },
      "source": [
        "*The return value of a system call is the return code of the command that was run on the system https://man7.org/linux/man-pages/man1/mkdir.1.html*"
      ]
    },
    {
      "cell_type": "markdown",
      "metadata": {
        "id": "CCJ_xsnlwa5I"
      },
      "source": [
        "#### `glob`"
      ]
    },
    {
      "cell_type": "markdown",
      "source": [
        "A library to access the content of directories of files on the filesystems working folder"
      ],
      "metadata": {
        "id": "QQQWu86iiQX1"
      }
    },
    {
      "cell_type": "code",
      "metadata": {
        "id": "gR9UhlN-wa5I"
      },
      "source": [
        "import glob"
      ],
      "execution_count": null,
      "outputs": []
    },
    {
      "cell_type": "markdown",
      "metadata": {
        "id": "VGH6NchXvkvW"
      },
      "source": [
        "useful to list files inside of the directory in which you are working (I have no files ending in \".py\" here)"
      ]
    },
    {
      "cell_type": "code",
      "metadata": {
        "scrolled": true,
        "id": "OL2kwZkMwa5I",
        "colab": {
          "base_uri": "https://localhost:8080/"
        },
        "outputId": "5ace54ca-c657-42fd-8b8b-92e88b759d57"
      },
      "source": [
        "glob.glob(\"*.py\")"
      ],
      "execution_count": null,
      "outputs": [
        {
          "output_type": "execute_result",
          "data": {
            "text/plain": [
              "[]"
            ]
          },
          "metadata": {},
          "execution_count": 62
        }
      ]
    },
    {
      "cell_type": "code",
      "metadata": {
        "colab": {
          "base_uri": "https://localhost:8080/"
        },
        "id": "v6ItV0J1wfHI",
        "outputId": "fd35448a-592e-4bda-ac6a-94c296ea58bd"
      },
      "source": [
        "glob.glob(\"*\")"
      ],
      "execution_count": null,
      "outputs": [
        {
          "output_type": "execute_result",
          "data": {
            "text/plain": [
              "['sample_data']"
            ]
          },
          "metadata": {},
          "execution_count": 63
        }
      ]
    },
    {
      "cell_type": "markdown",
      "metadata": {
        "id": "7xTW9qHjwPBi"
      },
      "source": [
        "Terminal commands can also be accessed by using `!` (\"bang\") at the beginning of the line when working in a notebook. Here `ls` lists all files in this directory"
      ]
    },
    {
      "cell_type": "code",
      "metadata": {
        "colab": {
          "base_uri": "https://localhost:8080/"
        },
        "id": "xalWXmofwKw4",
        "outputId": "2b479b1a-787e-48d0-9ebb-0cfefc81cf60"
      },
      "source": [
        "!ls"
      ],
      "execution_count": null,
      "outputs": [
        {
          "output_type": "stream",
          "name": "stdout",
          "text": [
            "sample_data\n"
          ]
        }
      ]
    },
    {
      "cell_type": "markdown",
      "metadata": {
        "id": "zOXwv_nbwa5L"
      },
      "source": [
        "# Non-native Python Packages\n"
      ]
    },
    {
      "cell_type": "markdown",
      "metadata": {
        "id": "ppNd3Blewa5L"
      },
      "source": [
        "## `numpy`\n",
        "There are many modules contributed to the python ecosystem by the community. NumPy is one of the most popular ones (the only software with a dedicated paper in the journal [Nature](https://www.nature.com/articles/s41586-020-2649-2)).  It is the core module for linear algebra and multidimensional numerical data processing.\n",
        "\n"
      ]
    },
    {
      "cell_type": "code",
      "metadata": {
        "id": "lr4n3MiKwa5M"
      },
      "source": [
        "import numpy as np"
      ],
      "execution_count": null,
      "outputs": []
    },
    {
      "cell_type": "markdown",
      "source": [
        "The core object type in `nunmpy` is an `ndarray` which is a variable container, superficially similar to a list. "
      ],
      "metadata": {
        "id": "Mq9bXXj_IKUB"
      }
    },
    {
      "cell_type": "code",
      "metadata": {
        "id": "c9HcPiXOwa5M",
        "colab": {
          "base_uri": "https://localhost:8080/"
        },
        "outputId": "d383188f-6557-4ae9-bf3e-35abc87a0752"
      },
      "source": [
        "# create an array\n",
        "a = np.array([1, 2, 3]) # a 1D array of integers\n",
        "b = np.array([(1.5, 2, 3), (4, 5, 6)], dtype = np.float32) #1 2D array setting the data type explicitly for the content of the array\n",
        "c = np.array([[1, 2], [0.1, 0.8], [2, 0]]) # the largest data type wins and all are converted to float\n",
        "a, b, c"
      ],
      "execution_count": null,
      "outputs": [
        {
          "output_type": "execute_result",
          "data": {
            "text/plain": [
              "(array([1, 2, 3]), array([[1.5, 2. , 3. ],\n",
              "        [4. , 5. , 6. ]], dtype=float32), array([[1. , 2. ],\n",
              "        [0.1, 0.8],\n",
              "        [2. , 0. ]]))"
            ]
          },
          "metadata": {},
          "execution_count": 66
        }
      ]
    },
    {
      "cell_type": "code",
      "source": [
        "a.size, a.shape, a.ndim, a.dtype"
      ],
      "metadata": {
        "colab": {
          "base_uri": "https://localhost:8080/"
        },
        "id": "FJnpaX_xI7qW",
        "outputId": "b432f653-055b-485f-ed0e-5102499fd194"
      },
      "execution_count": null,
      "outputs": [
        {
          "output_type": "execute_result",
          "data": {
            "text/plain": [
              "(3, (3,), 1, dtype('int64'))"
            ]
          },
          "metadata": {},
          "execution_count": 67
        }
      ]
    },
    {
      "cell_type": "code",
      "source": [
        "b.size, b.shape, b.ndim, b.dtype"
      ],
      "metadata": {
        "colab": {
          "base_uri": "https://localhost:8080/"
        },
        "id": "APN7ZKeDJAPZ",
        "outputId": "45a77aaa-3837-4ebf-fb6c-1a3449277804"
      },
      "execution_count": null,
      "outputs": [
        {
          "output_type": "execute_result",
          "data": {
            "text/plain": [
              "(6, (2, 3), 2, dtype('float32'))"
            ]
          },
          "metadata": {},
          "execution_count": 68
        }
      ]
    },
    {
      "cell_type": "code",
      "metadata": {
        "id": "-ihMV1xbwa5M",
        "colab": {
          "base_uri": "https://localhost:8080/"
        },
        "outputId": "79d90975-7685-4554-87a5-3552b703d255"
      },
      "source": [
        "c.size, c.shape, c.ndim, c.dtype"
      ],
      "execution_count": null,
      "outputs": [
        {
          "output_type": "execute_result",
          "data": {
            "text/plain": [
              "(6, (3, 2), 2, dtype('float64'))"
            ]
          },
          "metadata": {},
          "execution_count": 69
        }
      ]
    },
    {
      "cell_type": "markdown",
      "source": [
        "Subsets of numpy arrays can be returned (as new arrays) without occupying new memory locations on the computer, which makes them efficient.  This is a processed called \"slicing\""
      ],
      "metadata": {
        "id": "QA_frw8-JEuN"
      }
    },
    {
      "cell_type": "code",
      "metadata": {
        "id": "1tBdI0Onwa5M",
        "colab": {
          "base_uri": "https://localhost:8080/"
        },
        "outputId": "8fcb3198-58fe-4315-db3c-fe11a056a7bf"
      },
      "source": [
        "# slicing\n",
        "c[:, 2:]"
      ],
      "execution_count": null,
      "outputs": [
        {
          "output_type": "execute_result",
          "data": {
            "text/plain": [
              "array([[0.99875643],\n",
              "       [0.41288253],\n",
              "       [0.76451357]])"
            ]
          },
          "metadata": {},
          "execution_count": 73
        }
      ]
    },
    {
      "cell_type": "markdown",
      "source": [
        "Subsets of an array can be returned (as arrays) by using conditions as indices.  This is known as broadcasting"
      ],
      "metadata": {
        "id": "qllI_K12JSrs"
      }
    },
    {
      "cell_type": "code",
      "source": [
        "# setting a condition on array values\n",
        "c > 0.5"
      ],
      "metadata": {
        "colab": {
          "base_uri": "https://localhost:8080/"
        },
        "id": "Btn6nLBwJqyH",
        "outputId": "53ab3f3d-ac3b-44ca-a72d-126d4439a519"
      },
      "execution_count": null,
      "outputs": [
        {
          "output_type": "execute_result",
          "data": {
            "text/plain": [
              "array([[ True,  True],\n",
              "       [False,  True],\n",
              "       [ True, False]])"
            ]
          },
          "metadata": {},
          "execution_count": 71
        }
      ]
    },
    {
      "cell_type": "code",
      "source": [
        "# broadcasting\n",
        "c[c > 0.5]"
      ],
      "metadata": {
        "colab": {
          "base_uri": "https://localhost:8080/"
        },
        "id": "i1jhqSA2Jal3",
        "outputId": "689efd50-3c8b-4c7b-e2cc-830ef01bb1e2"
      },
      "execution_count": null,
      "outputs": [
        {
          "output_type": "execute_result",
          "data": {
            "text/plain": [
              "array([1. , 2. , 0.8, 2. ])"
            ]
          },
          "metadata": {},
          "execution_count": 72
        }
      ]
    },
    {
      "cell_type": "markdown",
      "source": [
        "Unlike for lists, mathematical operators such as *, +, etc, applied to numpy arrays operate element-wise on the content of the array"
      ],
      "metadata": {
        "id": "CMt4cKwRJtab"
      }
    },
    {
      "cell_type": "code",
      "metadata": {
        "id": "ft8eu0cTwa5N",
        "colab": {
          "base_uri": "https://localhost:8080/"
        },
        "outputId": "3f88b3ed-b4d7-499d-e053-ea0bdb9bc5b8"
      },
      "source": [
        "c + 1  "
      ],
      "execution_count": null,
      "outputs": [
        {
          "output_type": "execute_result",
          "data": {
            "text/plain": [
              "array([[2. , 3. ],\n",
              "       [1.1, 1.8],\n",
              "       [3. , 1. ]])"
            ]
          },
          "metadata": {},
          "execution_count": 73
        }
      ]
    },
    {
      "cell_type": "markdown",
      "source": [
        "`numpy` also provides mathematical operations, some of which are available natively in python (but not necessarily for numpy arrays) such as `sum()` and `np.sum()` or `**` and `np.pow()`, some of which are not available natively in python, such as `np.log10()` or `np.exp()`."
      ],
      "metadata": {
        "id": "vd8xn5V-J4cd"
      }
    },
    {
      "cell_type": "code",
      "metadata": {
        "id": "ABqOjAbgwa5N",
        "colab": {
          "base_uri": "https://localhost:8080/"
        },
        "outputId": "f4c928ec-2641-4e26-cf52-82f42ee6f007"
      },
      "source": [
        "np.exp(c)"
      ],
      "execution_count": null,
      "outputs": [
        {
          "output_type": "execute_result",
          "data": {
            "text/plain": [
              "array([[2.71828183, 7.3890561 ],\n",
              "       [1.10517092, 2.22554093],\n",
              "       [7.3890561 , 1.        ]])"
            ]
          },
          "metadata": {},
          "execution_count": 17
        }
      ]
    },
    {
      "cell_type": "markdown",
      "metadata": {
        "id": "N--Tv8npwa5J"
      },
      "source": [
        "##### `numpy.random`\n",
        "\n",
        "Sometimes modules have submodules, which are imported with the import of the parent modules but can also be imported separately.\n",
        "\n",
        "NumPy's `random` submodule, which enables generation and handling of random variables, is going to be super important for us!\n",
        "\n",
        "*NOTE: something we will not discuss here is how to enable reproducibility in the presence of stochastic variables by seeding random calls with np.seed()*"
      ]
    },
    {
      "cell_type": "code",
      "metadata": {
        "id": "IYQ-8Vbtwa5K",
        "colab": {
          "base_uri": "https://localhost:8080/"
        },
        "outputId": "60774151-71d6-4642-cdd9-f92bd77d89e9"
      },
      "source": [
        "from numpy import random\n",
        "\n",
        "random.randint(0, 10) # picks a random integer between 0 and 10 (from a uniform distribution)"
      ],
      "execution_count": null,
      "outputs": [
        {
          "output_type": "execute_result",
          "data": {
            "text/plain": [
              "2"
            ]
          },
          "metadata": {},
          "execution_count": 75
        }
      ]
    },
    {
      "cell_type": "code",
      "source": [
        "random.choice(['apple', 'pear', 'banana']) # randomly picks an item from a list"
      ],
      "metadata": {
        "colab": {
          "base_uri": "https://localhost:8080/",
          "height": 35
        },
        "id": "JVfEEvAaKp4-",
        "outputId": "dbc8679f-5727-4fa5-b77c-8f11a6ec001a"
      },
      "execution_count": null,
      "outputs": [
        {
          "output_type": "execute_result",
          "data": {
            "text/plain": [
              "'apple'"
            ],
            "application/vnd.google.colaboratory.intrinsic+json": {
              "type": "string"
            }
          },
          "metadata": {},
          "execution_count": 76
        }
      ]
    },
    {
      "cell_type": "code",
      "source": [
        "# generates 6 numbers drawn from a gaussian distribution with mean 0 and standard deviation 1\n",
        "random.randn(6)"
      ],
      "metadata": {
        "colab": {
          "base_uri": "https://localhost:8080/"
        },
        "id": "ahEeVHSTkYjt",
        "outputId": "ca9bfb05-1539-4c13-b868-e564aba67580"
      },
      "execution_count": null,
      "outputs": [
        {
          "output_type": "execute_result",
          "data": {
            "text/plain": [
              "array([ 0.54490672,  0.8496466 ,  0.31560182,  2.74392838, -0.8098015 ,\n",
              "       -0.64278111])"
            ]
          },
          "metadata": {},
          "execution_count": 78
        }
      ]
    },
    {
      "cell_type": "code",
      "metadata": {
        "colab": {
          "base_uri": "https://localhost:8080/"
        },
        "id": "Qrf3wcmVw1QJ",
        "outputId": "4d5a8202-aed4-4257-9374-c52a6ef4f5d0"
      },
      "source": [
        "# like above, but organized in a 2x3 array\n",
        "random.randn(2, 3)"
      ],
      "execution_count": null,
      "outputs": [
        {
          "output_type": "execute_result",
          "data": {
            "text/plain": [
              "array([[ 1.23431445,  0.84105125,  0.13386513],\n",
              "       [ 0.46472245,  0.71887501, -1.74837823]])"
            ]
          },
          "metadata": {},
          "execution_count": 79
        }
      ]
    },
    {
      "cell_type": "markdown",
      "source": [
        "## `scipy` \n",
        "\n",
        "SciPy provides additional functions for scientific computing"
      ],
      "metadata": {
        "id": "wv_wNpYihdPD"
      }
    },
    {
      "cell_type": "code",
      "source": [
        "import scipy\n"
      ],
      "metadata": {
        "id": "DvTpHFrqK3Zt"
      },
      "execution_count": null,
      "outputs": []
    },
    {
      "cell_type": "code",
      "source": [
        "help(scipy)"
      ],
      "metadata": {
        "colab": {
          "base_uri": "https://localhost:8080/"
        },
        "id": "0ScyEBnSK5vX",
        "outputId": "c785bb16-6cd2-4b1f-d02f-cc81c9c7a2b4"
      },
      "execution_count": null,
      "outputs": [
        {
          "output_type": "stream",
          "name": "stdout",
          "text": [
            "Help on package scipy:\n",
            "\n",
            "NAME\n",
            "    scipy\n",
            "\n",
            "DESCRIPTION\n",
            "    SciPy: A scientific computing package for Python\n",
            "    ================================================\n",
            "    \n",
            "    Documentation is available in the docstrings and\n",
            "    online at https://docs.scipy.org.\n",
            "    \n",
            "    Contents\n",
            "    --------\n",
            "    SciPy imports all the functions from the NumPy namespace, and in\n",
            "    addition provides:\n",
            "    \n",
            "    Subpackages\n",
            "    -----------\n",
            "    Using any of these subpackages requires an explicit import. For example,\n",
            "    ``import scipy.cluster``.\n",
            "    \n",
            "    ::\n",
            "    \n",
            "     cluster                      --- Vector Quantization / Kmeans\n",
            "     fft                          --- Discrete Fourier transforms\n",
            "     fftpack                      --- Legacy discrete Fourier transforms\n",
            "     integrate                    --- Integration routines\n",
            "     interpolate                  --- Interpolation Tools\n",
            "     io                           --- Data input and output\n",
            "     linalg                       --- Linear algebra routines\n",
            "     linalg.blas                  --- Wrappers to BLAS library\n",
            "     linalg.lapack                --- Wrappers to LAPACK library\n",
            "     misc                         --- Various utilities that don't have\n",
            "                                      another home.\n",
            "     ndimage                      --- N-D image package\n",
            "     odr                          --- Orthogonal Distance Regression\n",
            "     optimize                     --- Optimization Tools\n",
            "     signal                       --- Signal Processing Tools\n",
            "     signal.windows               --- Window functions\n",
            "     sparse                       --- Sparse Matrices\n",
            "     sparse.linalg                --- Sparse Linear Algebra\n",
            "     sparse.linalg.dsolve         --- Linear Solvers\n",
            "     sparse.linalg.dsolve.umfpack --- :Interface to the UMFPACK library:\n",
            "                                      Conjugate Gradient Method (LOBPCG)\n",
            "     sparse.linalg.eigen          --- Sparse Eigenvalue Solvers\n",
            "     sparse.linalg.eigen.lobpcg   --- Locally Optimal Block Preconditioned\n",
            "                                      Conjugate Gradient Method (LOBPCG)\n",
            "     spatial                      --- Spatial data structures and algorithms\n",
            "     special                      --- Special functions\n",
            "     stats                        --- Statistical Functions\n",
            "    \n",
            "    Utility tools\n",
            "    -------------\n",
            "    ::\n",
            "    \n",
            "     test              --- Run scipy unittests\n",
            "     show_config       --- Show scipy build configuration\n",
            "     show_numpy_config --- Show numpy build configuration\n",
            "     __version__       --- SciPy version string\n",
            "     __numpy_version__ --- Numpy version string\n",
            "\n",
            "PACKAGE CONTENTS\n",
            "    __config__\n",
            "    _build_utils (package)\n",
            "    _distributor_init\n",
            "    _lib (package)\n",
            "    cluster (package)\n",
            "    conftest\n",
            "    constants (package)\n",
            "    fft (package)\n",
            "    fftpack (package)\n",
            "    integrate (package)\n",
            "    interpolate (package)\n",
            "    io (package)\n",
            "    linalg (package)\n",
            "    misc (package)\n",
            "    ndimage (package)\n",
            "    odr (package)\n",
            "    optimize (package)\n",
            "    setup\n",
            "    signal (package)\n",
            "    sparse (package)\n",
            "    spatial (package)\n",
            "    special (package)\n",
            "    stats (package)\n",
            "    version\n",
            "\n",
            "DATA\n",
            "    test = <scipy._lib._testutils.PytestTester object>\n",
            "\n",
            "VERSION\n",
            "    1.7.3\n",
            "\n",
            "FILE\n",
            "    /usr/local/lib/python3.7/dist-packages/scipy/__init__.py\n",
            "\n",
            "\n"
          ]
        }
      ]
    },
    {
      "cell_type": "markdown",
      "metadata": {
        "id": "ELciK7gewa5N"
      },
      "source": [
        "## `pandas`\n",
        "\n",
        "Pandas is a library for tabular data ingestion, exploration, and manipulation (tabular data such as a CSV file or a spreadsheet)"
      ]
    },
    {
      "cell_type": "code",
      "metadata": {
        "id": "_BtLPraUwa5O"
      },
      "source": [
        "import pandas as pd"
      ],
      "execution_count": null,
      "outputs": []
    },
    {
      "cell_type": "markdown",
      "source": [
        "The core object in the `pandas` package is the DataFrame: the class in which the data is stored"
      ],
      "metadata": {
        "id": "BrXOSZcEMBQU"
      }
    },
    {
      "cell_type": "code",
      "metadata": {
        "id": "Ip1XnMJKwa5O",
        "colab": {
          "base_uri": "https://localhost:8080/",
          "height": 143
        },
        "outputId": "a6eefab5-a541-4d90-d79e-e2447fbae0d3"
      },
      "source": [
        "df = pd.DataFrame(columns=['a', 'b', 'c'])\n",
        "\n",
        "df['a'] = ['a1', 'a2', 'a3'] \n",
        "df['b'] = ['b1', 'b2', 'b3'] \n",
        "df['c'] = ['c1', 'c2', 'c3'] \n",
        "df"
      ],
      "execution_count": null,
      "outputs": [
        {
          "output_type": "execute_result",
          "data": {
            "text/plain": [
              "    a   b   c\n",
              "0  a1  b1  c1\n",
              "1  a2  b2  c2\n",
              "2  a3  b3  c3"
            ],
            "text/html": [
              "\n",
              "  <div id=\"df-7d2aaa8e-e359-48c9-8763-d35fa4ca1e54\">\n",
              "    <div class=\"colab-df-container\">\n",
              "      <div>\n",
              "<style scoped>\n",
              "    .dataframe tbody tr th:only-of-type {\n",
              "        vertical-align: middle;\n",
              "    }\n",
              "\n",
              "    .dataframe tbody tr th {\n",
              "        vertical-align: top;\n",
              "    }\n",
              "\n",
              "    .dataframe thead th {\n",
              "        text-align: right;\n",
              "    }\n",
              "</style>\n",
              "<table border=\"1\" class=\"dataframe\">\n",
              "  <thead>\n",
              "    <tr style=\"text-align: right;\">\n",
              "      <th></th>\n",
              "      <th>a</th>\n",
              "      <th>b</th>\n",
              "      <th>c</th>\n",
              "    </tr>\n",
              "  </thead>\n",
              "  <tbody>\n",
              "    <tr>\n",
              "      <th>0</th>\n",
              "      <td>a1</td>\n",
              "      <td>b1</td>\n",
              "      <td>c1</td>\n",
              "    </tr>\n",
              "    <tr>\n",
              "      <th>1</th>\n",
              "      <td>a2</td>\n",
              "      <td>b2</td>\n",
              "      <td>c2</td>\n",
              "    </tr>\n",
              "    <tr>\n",
              "      <th>2</th>\n",
              "      <td>a3</td>\n",
              "      <td>b3</td>\n",
              "      <td>c3</td>\n",
              "    </tr>\n",
              "  </tbody>\n",
              "</table>\n",
              "</div>\n",
              "      <button class=\"colab-df-convert\" onclick=\"convertToInteractive('df-7d2aaa8e-e359-48c9-8763-d35fa4ca1e54')\"\n",
              "              title=\"Convert this dataframe to an interactive table.\"\n",
              "              style=\"display:none;\">\n",
              "        \n",
              "  <svg xmlns=\"http://www.w3.org/2000/svg\" height=\"24px\"viewBox=\"0 0 24 24\"\n",
              "       width=\"24px\">\n",
              "    <path d=\"M0 0h24v24H0V0z\" fill=\"none\"/>\n",
              "    <path d=\"M18.56 5.44l.94 2.06.94-2.06 2.06-.94-2.06-.94-.94-2.06-.94 2.06-2.06.94zm-11 1L8.5 8.5l.94-2.06 2.06-.94-2.06-.94L8.5 2.5l-.94 2.06-2.06.94zm10 10l.94 2.06.94-2.06 2.06-.94-2.06-.94-.94-2.06-.94 2.06-2.06.94z\"/><path d=\"M17.41 7.96l-1.37-1.37c-.4-.4-.92-.59-1.43-.59-.52 0-1.04.2-1.43.59L10.3 9.45l-7.72 7.72c-.78.78-.78 2.05 0 2.83L4 21.41c.39.39.9.59 1.41.59.51 0 1.02-.2 1.41-.59l7.78-7.78 2.81-2.81c.8-.78.8-2.07 0-2.86zM5.41 20L4 18.59l7.72-7.72 1.47 1.35L5.41 20z\"/>\n",
              "  </svg>\n",
              "      </button>\n",
              "      \n",
              "  <style>\n",
              "    .colab-df-container {\n",
              "      display:flex;\n",
              "      flex-wrap:wrap;\n",
              "      gap: 12px;\n",
              "    }\n",
              "\n",
              "    .colab-df-convert {\n",
              "      background-color: #E8F0FE;\n",
              "      border: none;\n",
              "      border-radius: 50%;\n",
              "      cursor: pointer;\n",
              "      display: none;\n",
              "      fill: #1967D2;\n",
              "      height: 32px;\n",
              "      padding: 0 0 0 0;\n",
              "      width: 32px;\n",
              "    }\n",
              "\n",
              "    .colab-df-convert:hover {\n",
              "      background-color: #E2EBFA;\n",
              "      box-shadow: 0px 1px 2px rgba(60, 64, 67, 0.3), 0px 1px 3px 1px rgba(60, 64, 67, 0.15);\n",
              "      fill: #174EA6;\n",
              "    }\n",
              "\n",
              "    [theme=dark] .colab-df-convert {\n",
              "      background-color: #3B4455;\n",
              "      fill: #D2E3FC;\n",
              "    }\n",
              "\n",
              "    [theme=dark] .colab-df-convert:hover {\n",
              "      background-color: #434B5C;\n",
              "      box-shadow: 0px 1px 3px 1px rgba(0, 0, 0, 0.15);\n",
              "      filter: drop-shadow(0px 1px 2px rgba(0, 0, 0, 0.3));\n",
              "      fill: #FFFFFF;\n",
              "    }\n",
              "  </style>\n",
              "\n",
              "      <script>\n",
              "        const buttonEl =\n",
              "          document.querySelector('#df-7d2aaa8e-e359-48c9-8763-d35fa4ca1e54 button.colab-df-convert');\n",
              "        buttonEl.style.display =\n",
              "          google.colab.kernel.accessAllowed ? 'block' : 'none';\n",
              "\n",
              "        async function convertToInteractive(key) {\n",
              "          const element = document.querySelector('#df-7d2aaa8e-e359-48c9-8763-d35fa4ca1e54');\n",
              "          const dataTable =\n",
              "            await google.colab.kernel.invokeFunction('convertToInteractive',\n",
              "                                                     [key], {});\n",
              "          if (!dataTable) return;\n",
              "\n",
              "          const docLinkHtml = 'Like what you see? Visit the ' +\n",
              "            '<a target=\"_blank\" href=https://colab.research.google.com/notebooks/data_table.ipynb>data table notebook</a>'\n",
              "            + ' to learn more about interactive tables.';\n",
              "          element.innerHTML = '';\n",
              "          dataTable['output_type'] = 'display_data';\n",
              "          await google.colab.output.renderOutput(dataTable, element);\n",
              "          const docLink = document.createElement('div');\n",
              "          docLink.innerHTML = docLinkHtml;\n",
              "          element.appendChild(docLink);\n",
              "        }\n",
              "      </script>\n",
              "    </div>\n",
              "  </div>\n",
              "  "
            ]
          },
          "metadata": {},
          "execution_count": 93
        }
      ]
    },
    {
      "cell_type": "code",
      "source": [
        "df.index = [\"r1\", \"r2\", \"r3\"] # set row names\n",
        "\n",
        "df.head(2)"
      ],
      "metadata": {
        "colab": {
          "base_uri": "https://localhost:8080/",
          "height": 112
        },
        "id": "0q9gAT2AmSQM",
        "outputId": "6ba3e82c-6a54-4d28-d6b1-da3f4d7d3d58"
      },
      "execution_count": null,
      "outputs": [
        {
          "output_type": "execute_result",
          "data": {
            "text/plain": [
              "     a   b   c\n",
              "r1  a1  b1  c1\n",
              "r2  a2  b2  c2"
            ],
            "text/html": [
              "\n",
              "  <div id=\"df-dfdda7d5-b757-41b4-91f0-5f6f7065641c\">\n",
              "    <div class=\"colab-df-container\">\n",
              "      <div>\n",
              "<style scoped>\n",
              "    .dataframe tbody tr th:only-of-type {\n",
              "        vertical-align: middle;\n",
              "    }\n",
              "\n",
              "    .dataframe tbody tr th {\n",
              "        vertical-align: top;\n",
              "    }\n",
              "\n",
              "    .dataframe thead th {\n",
              "        text-align: right;\n",
              "    }\n",
              "</style>\n",
              "<table border=\"1\" class=\"dataframe\">\n",
              "  <thead>\n",
              "    <tr style=\"text-align: right;\">\n",
              "      <th></th>\n",
              "      <th>a</th>\n",
              "      <th>b</th>\n",
              "      <th>c</th>\n",
              "    </tr>\n",
              "  </thead>\n",
              "  <tbody>\n",
              "    <tr>\n",
              "      <th>r1</th>\n",
              "      <td>a1</td>\n",
              "      <td>b1</td>\n",
              "      <td>c1</td>\n",
              "    </tr>\n",
              "    <tr>\n",
              "      <th>r2</th>\n",
              "      <td>a2</td>\n",
              "      <td>b2</td>\n",
              "      <td>c2</td>\n",
              "    </tr>\n",
              "  </tbody>\n",
              "</table>\n",
              "</div>\n",
              "      <button class=\"colab-df-convert\" onclick=\"convertToInteractive('df-dfdda7d5-b757-41b4-91f0-5f6f7065641c')\"\n",
              "              title=\"Convert this dataframe to an interactive table.\"\n",
              "              style=\"display:none;\">\n",
              "        \n",
              "  <svg xmlns=\"http://www.w3.org/2000/svg\" height=\"24px\"viewBox=\"0 0 24 24\"\n",
              "       width=\"24px\">\n",
              "    <path d=\"M0 0h24v24H0V0z\" fill=\"none\"/>\n",
              "    <path d=\"M18.56 5.44l.94 2.06.94-2.06 2.06-.94-2.06-.94-.94-2.06-.94 2.06-2.06.94zm-11 1L8.5 8.5l.94-2.06 2.06-.94-2.06-.94L8.5 2.5l-.94 2.06-2.06.94zm10 10l.94 2.06.94-2.06 2.06-.94-2.06-.94-.94-2.06-.94 2.06-2.06.94z\"/><path d=\"M17.41 7.96l-1.37-1.37c-.4-.4-.92-.59-1.43-.59-.52 0-1.04.2-1.43.59L10.3 9.45l-7.72 7.72c-.78.78-.78 2.05 0 2.83L4 21.41c.39.39.9.59 1.41.59.51 0 1.02-.2 1.41-.59l7.78-7.78 2.81-2.81c.8-.78.8-2.07 0-2.86zM5.41 20L4 18.59l7.72-7.72 1.47 1.35L5.41 20z\"/>\n",
              "  </svg>\n",
              "      </button>\n",
              "      \n",
              "  <style>\n",
              "    .colab-df-container {\n",
              "      display:flex;\n",
              "      flex-wrap:wrap;\n",
              "      gap: 12px;\n",
              "    }\n",
              "\n",
              "    .colab-df-convert {\n",
              "      background-color: #E8F0FE;\n",
              "      border: none;\n",
              "      border-radius: 50%;\n",
              "      cursor: pointer;\n",
              "      display: none;\n",
              "      fill: #1967D2;\n",
              "      height: 32px;\n",
              "      padding: 0 0 0 0;\n",
              "      width: 32px;\n",
              "    }\n",
              "\n",
              "    .colab-df-convert:hover {\n",
              "      background-color: #E2EBFA;\n",
              "      box-shadow: 0px 1px 2px rgba(60, 64, 67, 0.3), 0px 1px 3px 1px rgba(60, 64, 67, 0.15);\n",
              "      fill: #174EA6;\n",
              "    }\n",
              "\n",
              "    [theme=dark] .colab-df-convert {\n",
              "      background-color: #3B4455;\n",
              "      fill: #D2E3FC;\n",
              "    }\n",
              "\n",
              "    [theme=dark] .colab-df-convert:hover {\n",
              "      background-color: #434B5C;\n",
              "      box-shadow: 0px 1px 3px 1px rgba(0, 0, 0, 0.15);\n",
              "      filter: drop-shadow(0px 1px 2px rgba(0, 0, 0, 0.3));\n",
              "      fill: #FFFFFF;\n",
              "    }\n",
              "  </style>\n",
              "\n",
              "      <script>\n",
              "        const buttonEl =\n",
              "          document.querySelector('#df-dfdda7d5-b757-41b4-91f0-5f6f7065641c button.colab-df-convert');\n",
              "        buttonEl.style.display =\n",
              "          google.colab.kernel.accessAllowed ? 'block' : 'none';\n",
              "\n",
              "        async function convertToInteractive(key) {\n",
              "          const element = document.querySelector('#df-dfdda7d5-b757-41b4-91f0-5f6f7065641c');\n",
              "          const dataTable =\n",
              "            await google.colab.kernel.invokeFunction('convertToInteractive',\n",
              "                                                     [key], {});\n",
              "          if (!dataTable) return;\n",
              "\n",
              "          const docLinkHtml = 'Like what you see? Visit the ' +\n",
              "            '<a target=\"_blank\" href=https://colab.research.google.com/notebooks/data_table.ipynb>data table notebook</a>'\n",
              "            + ' to learn more about interactive tables.';\n",
              "          element.innerHTML = '';\n",
              "          dataTable['output_type'] = 'display_data';\n",
              "          await google.colab.output.renderOutput(dataTable, element);\n",
              "          const docLink = document.createElement('div');\n",
              "          docLink.innerHTML = docLinkHtml;\n",
              "          element.appendChild(docLink);\n",
              "        }\n",
              "      </script>\n",
              "    </div>\n",
              "  </div>\n",
              "  "
            ]
          },
          "metadata": {},
          "execution_count": 94
        }
      ]
    },
    {
      "cell_type": "code",
      "source": [
        "df.columns # prints the column names"
      ],
      "metadata": {
        "colab": {
          "base_uri": "https://localhost:8080/"
        },
        "id": "dSbeo7FWMf1t",
        "outputId": "26302fba-e165-429d-8bab-efe871265aaf"
      },
      "execution_count": null,
      "outputs": [
        {
          "output_type": "execute_result",
          "data": {
            "text/plain": [
              "Index(['a', 'b', 'c'], dtype='object')"
            ]
          },
          "metadata": {},
          "execution_count": 95
        }
      ]
    },
    {
      "cell_type": "code",
      "source": [
        "df.index # print the row names (referred to as the \"index\")"
      ],
      "metadata": {
        "colab": {
          "base_uri": "https://localhost:8080/"
        },
        "id": "-dAju5ummB-_",
        "outputId": "77661196-c8be-424f-9a1b-390122b5844a"
      },
      "execution_count": null,
      "outputs": [
        {
          "output_type": "execute_result",
          "data": {
            "text/plain": [
              "Index(['r1', 'r2', 'r3'], dtype='object')"
            ]
          },
          "metadata": {},
          "execution_count": 96
        }
      ]
    },
    {
      "cell_type": "code",
      "source": [
        "df.shape"
      ],
      "metadata": {
        "colab": {
          "base_uri": "https://localhost:8080/"
        },
        "id": "-sjh1-wpMj7Q",
        "outputId": "19c09933-b5a3-4b74-d89f-57e51fdad420"
      },
      "execution_count": null,
      "outputs": [
        {
          "output_type": "execute_result",
          "data": {
            "text/plain": [
              "(3, 3)"
            ]
          },
          "metadata": {},
          "execution_count": 97
        }
      ]
    },
    {
      "cell_type": "code",
      "source": [
        "df.describe()"
      ],
      "metadata": {
        "colab": {
          "base_uri": "https://localhost:8080/",
          "height": 175
        },
        "id": "jmkRiW7VMlDR",
        "outputId": "47659efa-e0ce-4759-c090-fff64468e6f3"
      },
      "execution_count": null,
      "outputs": [
        {
          "output_type": "execute_result",
          "data": {
            "text/plain": [
              "         a   b   c\n",
              "count    3   3   3\n",
              "unique   3   3   3\n",
              "top     a1  b1  c1\n",
              "freq     1   1   1"
            ],
            "text/html": [
              "\n",
              "  <div id=\"df-b1a54bad-6ea2-4409-afc4-5d94c7797512\">\n",
              "    <div class=\"colab-df-container\">\n",
              "      <div>\n",
              "<style scoped>\n",
              "    .dataframe tbody tr th:only-of-type {\n",
              "        vertical-align: middle;\n",
              "    }\n",
              "\n",
              "    .dataframe tbody tr th {\n",
              "        vertical-align: top;\n",
              "    }\n",
              "\n",
              "    .dataframe thead th {\n",
              "        text-align: right;\n",
              "    }\n",
              "</style>\n",
              "<table border=\"1\" class=\"dataframe\">\n",
              "  <thead>\n",
              "    <tr style=\"text-align: right;\">\n",
              "      <th></th>\n",
              "      <th>a</th>\n",
              "      <th>b</th>\n",
              "      <th>c</th>\n",
              "    </tr>\n",
              "  </thead>\n",
              "  <tbody>\n",
              "    <tr>\n",
              "      <th>count</th>\n",
              "      <td>3</td>\n",
              "      <td>3</td>\n",
              "      <td>3</td>\n",
              "    </tr>\n",
              "    <tr>\n",
              "      <th>unique</th>\n",
              "      <td>3</td>\n",
              "      <td>3</td>\n",
              "      <td>3</td>\n",
              "    </tr>\n",
              "    <tr>\n",
              "      <th>top</th>\n",
              "      <td>a1</td>\n",
              "      <td>b1</td>\n",
              "      <td>c1</td>\n",
              "    </tr>\n",
              "    <tr>\n",
              "      <th>freq</th>\n",
              "      <td>1</td>\n",
              "      <td>1</td>\n",
              "      <td>1</td>\n",
              "    </tr>\n",
              "  </tbody>\n",
              "</table>\n",
              "</div>\n",
              "      <button class=\"colab-df-convert\" onclick=\"convertToInteractive('df-b1a54bad-6ea2-4409-afc4-5d94c7797512')\"\n",
              "              title=\"Convert this dataframe to an interactive table.\"\n",
              "              style=\"display:none;\">\n",
              "        \n",
              "  <svg xmlns=\"http://www.w3.org/2000/svg\" height=\"24px\"viewBox=\"0 0 24 24\"\n",
              "       width=\"24px\">\n",
              "    <path d=\"M0 0h24v24H0V0z\" fill=\"none\"/>\n",
              "    <path d=\"M18.56 5.44l.94 2.06.94-2.06 2.06-.94-2.06-.94-.94-2.06-.94 2.06-2.06.94zm-11 1L8.5 8.5l.94-2.06 2.06-.94-2.06-.94L8.5 2.5l-.94 2.06-2.06.94zm10 10l.94 2.06.94-2.06 2.06-.94-2.06-.94-.94-2.06-.94 2.06-2.06.94z\"/><path d=\"M17.41 7.96l-1.37-1.37c-.4-.4-.92-.59-1.43-.59-.52 0-1.04.2-1.43.59L10.3 9.45l-7.72 7.72c-.78.78-.78 2.05 0 2.83L4 21.41c.39.39.9.59 1.41.59.51 0 1.02-.2 1.41-.59l7.78-7.78 2.81-2.81c.8-.78.8-2.07 0-2.86zM5.41 20L4 18.59l7.72-7.72 1.47 1.35L5.41 20z\"/>\n",
              "  </svg>\n",
              "      </button>\n",
              "      \n",
              "  <style>\n",
              "    .colab-df-container {\n",
              "      display:flex;\n",
              "      flex-wrap:wrap;\n",
              "      gap: 12px;\n",
              "    }\n",
              "\n",
              "    .colab-df-convert {\n",
              "      background-color: #E8F0FE;\n",
              "      border: none;\n",
              "      border-radius: 50%;\n",
              "      cursor: pointer;\n",
              "      display: none;\n",
              "      fill: #1967D2;\n",
              "      height: 32px;\n",
              "      padding: 0 0 0 0;\n",
              "      width: 32px;\n",
              "    }\n",
              "\n",
              "    .colab-df-convert:hover {\n",
              "      background-color: #E2EBFA;\n",
              "      box-shadow: 0px 1px 2px rgba(60, 64, 67, 0.3), 0px 1px 3px 1px rgba(60, 64, 67, 0.15);\n",
              "      fill: #174EA6;\n",
              "    }\n",
              "\n",
              "    [theme=dark] .colab-df-convert {\n",
              "      background-color: #3B4455;\n",
              "      fill: #D2E3FC;\n",
              "    }\n",
              "\n",
              "    [theme=dark] .colab-df-convert:hover {\n",
              "      background-color: #434B5C;\n",
              "      box-shadow: 0px 1px 3px 1px rgba(0, 0, 0, 0.15);\n",
              "      filter: drop-shadow(0px 1px 2px rgba(0, 0, 0, 0.3));\n",
              "      fill: #FFFFFF;\n",
              "    }\n",
              "  </style>\n",
              "\n",
              "      <script>\n",
              "        const buttonEl =\n",
              "          document.querySelector('#df-b1a54bad-6ea2-4409-afc4-5d94c7797512 button.colab-df-convert');\n",
              "        buttonEl.style.display =\n",
              "          google.colab.kernel.accessAllowed ? 'block' : 'none';\n",
              "\n",
              "        async function convertToInteractive(key) {\n",
              "          const element = document.querySelector('#df-b1a54bad-6ea2-4409-afc4-5d94c7797512');\n",
              "          const dataTable =\n",
              "            await google.colab.kernel.invokeFunction('convertToInteractive',\n",
              "                                                     [key], {});\n",
              "          if (!dataTable) return;\n",
              "\n",
              "          const docLinkHtml = 'Like what you see? Visit the ' +\n",
              "            '<a target=\"_blank\" href=https://colab.research.google.com/notebooks/data_table.ipynb>data table notebook</a>'\n",
              "            + ' to learn more about interactive tables.';\n",
              "          element.innerHTML = '';\n",
              "          dataTable['output_type'] = 'display_data';\n",
              "          await google.colab.output.renderOutput(dataTable, element);\n",
              "          const docLink = document.createElement('div');\n",
              "          docLink.innerHTML = docLinkHtml;\n",
              "          element.appendChild(docLink);\n",
              "        }\n",
              "      </script>\n",
              "    </div>\n",
              "  </div>\n",
              "  "
            ]
          },
          "metadata": {},
          "execution_count": 98
        }
      ]
    },
    {
      "cell_type": "markdown",
      "source": [
        "To access a column, use its name as an index. A column of a dataframe is a `pd.series`.\n",
        "\n",
        "*Note: when printing a Series, the object type for its contents is printed out. Below, `dtype: object` indicates that at least one element of the Series is of non-numerical type.*"
      ],
      "metadata": {
        "id": "cI1OEAthMe10"
      }
    },
    {
      "cell_type": "code",
      "source": [
        "df[\"a\"]"
      ],
      "metadata": {
        "colab": {
          "base_uri": "https://localhost:8080/"
        },
        "id": "xM6VzWW8Msyb",
        "outputId": "7837f3ed-8911-474c-dcd5-08c83d5b8a5e"
      },
      "execution_count": null,
      "outputs": [
        {
          "output_type": "execute_result",
          "data": {
            "text/plain": [
              "r1    a1\n",
              "r2    a2\n",
              "r3    a3\n",
              "Name: a, dtype: object"
            ]
          },
          "metadata": {},
          "execution_count": 99
        }
      ]
    },
    {
      "cell_type": "markdown",
      "source": [
        "To extract a row of a DataFrame, use the `loc` and `iloc` attributes of the DataFrame which take as an index the row name and row index (starting with 0 for the first row and increasing by 1 going down) respectively."
      ],
      "metadata": {
        "id": "G_d6SkvSMrja"
      }
    },
    {
      "cell_type": "code",
      "metadata": {
        "id": "vwcDkOIcwa5P",
        "colab": {
          "base_uri": "https://localhost:8080/"
        },
        "outputId": "d287cf46-5718-4a4d-c049-5ccd22d4b8d3"
      },
      "source": [
        "df.iloc[2]"
      ],
      "execution_count": null,
      "outputs": [
        {
          "output_type": "execute_result",
          "data": {
            "text/plain": [
              "a    a3\n",
              "b    b3\n",
              "c    c3\n",
              "Name: r3, dtype: object"
            ]
          },
          "metadata": {},
          "execution_count": 100
        }
      ]
    },
    {
      "cell_type": "code",
      "source": [
        "df.loc[\"r3\"]"
      ],
      "metadata": {
        "colab": {
          "base_uri": "https://localhost:8080/"
        },
        "id": "3tC0bSLlNvwQ",
        "outputId": "4a8cff75-656e-4450-91b2-35b0b70ffcb2"
      },
      "execution_count": null,
      "outputs": [
        {
          "output_type": "execute_result",
          "data": {
            "text/plain": [
              "a    a3\n",
              "b    b3\n",
              "c    c3\n",
              "Name: r3, dtype: object"
            ]
          },
          "metadata": {},
          "execution_count": 103
        }
      ]
    },
    {
      "cell_type": "markdown",
      "source": [
        "DataFrames have many methods for manipulation. "
      ],
      "metadata": {
        "id": "cO59HgUZN1Oa"
      }
    },
    {
      "cell_type": "code",
      "metadata": {
        "id": "VO_6XaTHwa5Q",
        "colab": {
          "base_uri": "https://localhost:8080/",
          "height": 175
        },
        "outputId": "843a20e8-4304-414b-a56c-56b4853edfbd"
      },
      "source": [
        "df = df.append({'a':'a4', 'b':'b4', 'c':'c4'}, ignore_index=True)\n",
        "\n",
        "df"
      ],
      "execution_count": null,
      "outputs": [
        {
          "output_type": "execute_result",
          "data": {
            "text/plain": [
              "    a   b   c\n",
              "0  a1  b1  c1\n",
              "1  a2  b2  c2\n",
              "2  a3  b3  c3\n",
              "3  a4  b4  c4"
            ],
            "text/html": [
              "\n",
              "  <div id=\"df-92de0ffb-3079-481f-8ee2-9f75d7f6eb92\">\n",
              "    <div class=\"colab-df-container\">\n",
              "      <div>\n",
              "<style scoped>\n",
              "    .dataframe tbody tr th:only-of-type {\n",
              "        vertical-align: middle;\n",
              "    }\n",
              "\n",
              "    .dataframe tbody tr th {\n",
              "        vertical-align: top;\n",
              "    }\n",
              "\n",
              "    .dataframe thead th {\n",
              "        text-align: right;\n",
              "    }\n",
              "</style>\n",
              "<table border=\"1\" class=\"dataframe\">\n",
              "  <thead>\n",
              "    <tr style=\"text-align: right;\">\n",
              "      <th></th>\n",
              "      <th>a</th>\n",
              "      <th>b</th>\n",
              "      <th>c</th>\n",
              "    </tr>\n",
              "  </thead>\n",
              "  <tbody>\n",
              "    <tr>\n",
              "      <th>0</th>\n",
              "      <td>a1</td>\n",
              "      <td>b1</td>\n",
              "      <td>c1</td>\n",
              "    </tr>\n",
              "    <tr>\n",
              "      <th>1</th>\n",
              "      <td>a2</td>\n",
              "      <td>b2</td>\n",
              "      <td>c2</td>\n",
              "    </tr>\n",
              "    <tr>\n",
              "      <th>2</th>\n",
              "      <td>a3</td>\n",
              "      <td>b3</td>\n",
              "      <td>c3</td>\n",
              "    </tr>\n",
              "    <tr>\n",
              "      <th>3</th>\n",
              "      <td>a4</td>\n",
              "      <td>b4</td>\n",
              "      <td>c4</td>\n",
              "    </tr>\n",
              "  </tbody>\n",
              "</table>\n",
              "</div>\n",
              "      <button class=\"colab-df-convert\" onclick=\"convertToInteractive('df-92de0ffb-3079-481f-8ee2-9f75d7f6eb92')\"\n",
              "              title=\"Convert this dataframe to an interactive table.\"\n",
              "              style=\"display:none;\">\n",
              "        \n",
              "  <svg xmlns=\"http://www.w3.org/2000/svg\" height=\"24px\"viewBox=\"0 0 24 24\"\n",
              "       width=\"24px\">\n",
              "    <path d=\"M0 0h24v24H0V0z\" fill=\"none\"/>\n",
              "    <path d=\"M18.56 5.44l.94 2.06.94-2.06 2.06-.94-2.06-.94-.94-2.06-.94 2.06-2.06.94zm-11 1L8.5 8.5l.94-2.06 2.06-.94-2.06-.94L8.5 2.5l-.94 2.06-2.06.94zm10 10l.94 2.06.94-2.06 2.06-.94-2.06-.94-.94-2.06-.94 2.06-2.06.94z\"/><path d=\"M17.41 7.96l-1.37-1.37c-.4-.4-.92-.59-1.43-.59-.52 0-1.04.2-1.43.59L10.3 9.45l-7.72 7.72c-.78.78-.78 2.05 0 2.83L4 21.41c.39.39.9.59 1.41.59.51 0 1.02-.2 1.41-.59l7.78-7.78 2.81-2.81c.8-.78.8-2.07 0-2.86zM5.41 20L4 18.59l7.72-7.72 1.47 1.35L5.41 20z\"/>\n",
              "  </svg>\n",
              "      </button>\n",
              "      \n",
              "  <style>\n",
              "    .colab-df-container {\n",
              "      display:flex;\n",
              "      flex-wrap:wrap;\n",
              "      gap: 12px;\n",
              "    }\n",
              "\n",
              "    .colab-df-convert {\n",
              "      background-color: #E8F0FE;\n",
              "      border: none;\n",
              "      border-radius: 50%;\n",
              "      cursor: pointer;\n",
              "      display: none;\n",
              "      fill: #1967D2;\n",
              "      height: 32px;\n",
              "      padding: 0 0 0 0;\n",
              "      width: 32px;\n",
              "    }\n",
              "\n",
              "    .colab-df-convert:hover {\n",
              "      background-color: #E2EBFA;\n",
              "      box-shadow: 0px 1px 2px rgba(60, 64, 67, 0.3), 0px 1px 3px 1px rgba(60, 64, 67, 0.15);\n",
              "      fill: #174EA6;\n",
              "    }\n",
              "\n",
              "    [theme=dark] .colab-df-convert {\n",
              "      background-color: #3B4455;\n",
              "      fill: #D2E3FC;\n",
              "    }\n",
              "\n",
              "    [theme=dark] .colab-df-convert:hover {\n",
              "      background-color: #434B5C;\n",
              "      box-shadow: 0px 1px 3px 1px rgba(0, 0, 0, 0.15);\n",
              "      filter: drop-shadow(0px 1px 2px rgba(0, 0, 0, 0.3));\n",
              "      fill: #FFFFFF;\n",
              "    }\n",
              "  </style>\n",
              "\n",
              "      <script>\n",
              "        const buttonEl =\n",
              "          document.querySelector('#df-92de0ffb-3079-481f-8ee2-9f75d7f6eb92 button.colab-df-convert');\n",
              "        buttonEl.style.display =\n",
              "          google.colab.kernel.accessAllowed ? 'block' : 'none';\n",
              "\n",
              "        async function convertToInteractive(key) {\n",
              "          const element = document.querySelector('#df-92de0ffb-3079-481f-8ee2-9f75d7f6eb92');\n",
              "          const dataTable =\n",
              "            await google.colab.kernel.invokeFunction('convertToInteractive',\n",
              "                                                     [key], {});\n",
              "          if (!dataTable) return;\n",
              "\n",
              "          const docLinkHtml = 'Like what you see? Visit the ' +\n",
              "            '<a target=\"_blank\" href=https://colab.research.google.com/notebooks/data_table.ipynb>data table notebook</a>'\n",
              "            + ' to learn more about interactive tables.';\n",
              "          element.innerHTML = '';\n",
              "          dataTable['output_type'] = 'display_data';\n",
              "          await google.colab.output.renderOutput(dataTable, element);\n",
              "          const docLink = document.createElement('div');\n",
              "          docLink.innerHTML = docLinkHtml;\n",
              "          element.appendChild(docLink);\n",
              "        }\n",
              "      </script>\n",
              "    </div>\n",
              "  </div>\n",
              "  "
            ]
          },
          "metadata": {},
          "execution_count": 110
        }
      ]
    },
    {
      "cell_type": "markdown",
      "source": [
        "A critically important functionality is to enable the merging of two dataframes based either on a common column or on the index"
      ],
      "metadata": {
        "id": "_QhscIxbN4yD"
      }
    },
    {
      "cell_type": "code",
      "source": [
        "df2 = pd.DataFrame(data = np.random.randn(4, 2), columns=['A', 'B'])\n",
        "df.merge(df2, left_index=True, right_index=True)"
      ],
      "metadata": {
        "colab": {
          "base_uri": "https://localhost:8080/",
          "height": 175
        },
        "id": "WD8B8rbMN0Go",
        "outputId": "fc24bd73-fa35-4c6b-c224-04be0095bfe4"
      },
      "execution_count": null,
      "outputs": [
        {
          "output_type": "execute_result",
          "data": {
            "text/plain": [
              "    a   b   c         A         B\n",
              "0  a1  b1  c1  1.524559 -0.932789\n",
              "1  a2  b2  c2  0.344612  0.770756\n",
              "2  a3  b3  c3 -1.405488  0.724047\n",
              "3  a4  b4  c4  0.447896  0.254052"
            ],
            "text/html": [
              "\n",
              "  <div id=\"df-e9abae85-f1de-4b90-a398-97db1029998a\">\n",
              "    <div class=\"colab-df-container\">\n",
              "      <div>\n",
              "<style scoped>\n",
              "    .dataframe tbody tr th:only-of-type {\n",
              "        vertical-align: middle;\n",
              "    }\n",
              "\n",
              "    .dataframe tbody tr th {\n",
              "        vertical-align: top;\n",
              "    }\n",
              "\n",
              "    .dataframe thead th {\n",
              "        text-align: right;\n",
              "    }\n",
              "</style>\n",
              "<table border=\"1\" class=\"dataframe\">\n",
              "  <thead>\n",
              "    <tr style=\"text-align: right;\">\n",
              "      <th></th>\n",
              "      <th>a</th>\n",
              "      <th>b</th>\n",
              "      <th>c</th>\n",
              "      <th>A</th>\n",
              "      <th>B</th>\n",
              "    </tr>\n",
              "  </thead>\n",
              "  <tbody>\n",
              "    <tr>\n",
              "      <th>0</th>\n",
              "      <td>a1</td>\n",
              "      <td>b1</td>\n",
              "      <td>c1</td>\n",
              "      <td>1.524559</td>\n",
              "      <td>-0.932789</td>\n",
              "    </tr>\n",
              "    <tr>\n",
              "      <th>1</th>\n",
              "      <td>a2</td>\n",
              "      <td>b2</td>\n",
              "      <td>c2</td>\n",
              "      <td>0.344612</td>\n",
              "      <td>0.770756</td>\n",
              "    </tr>\n",
              "    <tr>\n",
              "      <th>2</th>\n",
              "      <td>a3</td>\n",
              "      <td>b3</td>\n",
              "      <td>c3</td>\n",
              "      <td>-1.405488</td>\n",
              "      <td>0.724047</td>\n",
              "    </tr>\n",
              "    <tr>\n",
              "      <th>3</th>\n",
              "      <td>a4</td>\n",
              "      <td>b4</td>\n",
              "      <td>c4</td>\n",
              "      <td>0.447896</td>\n",
              "      <td>0.254052</td>\n",
              "    </tr>\n",
              "  </tbody>\n",
              "</table>\n",
              "</div>\n",
              "      <button class=\"colab-df-convert\" onclick=\"convertToInteractive('df-e9abae85-f1de-4b90-a398-97db1029998a')\"\n",
              "              title=\"Convert this dataframe to an interactive table.\"\n",
              "              style=\"display:none;\">\n",
              "        \n",
              "  <svg xmlns=\"http://www.w3.org/2000/svg\" height=\"24px\"viewBox=\"0 0 24 24\"\n",
              "       width=\"24px\">\n",
              "    <path d=\"M0 0h24v24H0V0z\" fill=\"none\"/>\n",
              "    <path d=\"M18.56 5.44l.94 2.06.94-2.06 2.06-.94-2.06-.94-.94-2.06-.94 2.06-2.06.94zm-11 1L8.5 8.5l.94-2.06 2.06-.94-2.06-.94L8.5 2.5l-.94 2.06-2.06.94zm10 10l.94 2.06.94-2.06 2.06-.94-2.06-.94-.94-2.06-.94 2.06-2.06.94z\"/><path d=\"M17.41 7.96l-1.37-1.37c-.4-.4-.92-.59-1.43-.59-.52 0-1.04.2-1.43.59L10.3 9.45l-7.72 7.72c-.78.78-.78 2.05 0 2.83L4 21.41c.39.39.9.59 1.41.59.51 0 1.02-.2 1.41-.59l7.78-7.78 2.81-2.81c.8-.78.8-2.07 0-2.86zM5.41 20L4 18.59l7.72-7.72 1.47 1.35L5.41 20z\"/>\n",
              "  </svg>\n",
              "      </button>\n",
              "      \n",
              "  <style>\n",
              "    .colab-df-container {\n",
              "      display:flex;\n",
              "      flex-wrap:wrap;\n",
              "      gap: 12px;\n",
              "    }\n",
              "\n",
              "    .colab-df-convert {\n",
              "      background-color: #E8F0FE;\n",
              "      border: none;\n",
              "      border-radius: 50%;\n",
              "      cursor: pointer;\n",
              "      display: none;\n",
              "      fill: #1967D2;\n",
              "      height: 32px;\n",
              "      padding: 0 0 0 0;\n",
              "      width: 32px;\n",
              "    }\n",
              "\n",
              "    .colab-df-convert:hover {\n",
              "      background-color: #E2EBFA;\n",
              "      box-shadow: 0px 1px 2px rgba(60, 64, 67, 0.3), 0px 1px 3px 1px rgba(60, 64, 67, 0.15);\n",
              "      fill: #174EA6;\n",
              "    }\n",
              "\n",
              "    [theme=dark] .colab-df-convert {\n",
              "      background-color: #3B4455;\n",
              "      fill: #D2E3FC;\n",
              "    }\n",
              "\n",
              "    [theme=dark] .colab-df-convert:hover {\n",
              "      background-color: #434B5C;\n",
              "      box-shadow: 0px 1px 3px 1px rgba(0, 0, 0, 0.15);\n",
              "      filter: drop-shadow(0px 1px 2px rgba(0, 0, 0, 0.3));\n",
              "      fill: #FFFFFF;\n",
              "    }\n",
              "  </style>\n",
              "\n",
              "      <script>\n",
              "        const buttonEl =\n",
              "          document.querySelector('#df-e9abae85-f1de-4b90-a398-97db1029998a button.colab-df-convert');\n",
              "        buttonEl.style.display =\n",
              "          google.colab.kernel.accessAllowed ? 'block' : 'none';\n",
              "\n",
              "        async function convertToInteractive(key) {\n",
              "          const element = document.querySelector('#df-e9abae85-f1de-4b90-a398-97db1029998a');\n",
              "          const dataTable =\n",
              "            await google.colab.kernel.invokeFunction('convertToInteractive',\n",
              "                                                     [key], {});\n",
              "          if (!dataTable) return;\n",
              "\n",
              "          const docLinkHtml = 'Like what you see? Visit the ' +\n",
              "            '<a target=\"_blank\" href=https://colab.research.google.com/notebooks/data_table.ipynb>data table notebook</a>'\n",
              "            + ' to learn more about interactive tables.';\n",
              "          element.innerHTML = '';\n",
              "          dataTable['output_type'] = 'display_data';\n",
              "          await google.colab.output.renderOutput(dataTable, element);\n",
              "          const docLink = document.createElement('div');\n",
              "          docLink.innerHTML = docLinkHtml;\n",
              "          element.appendChild(docLink);\n",
              "        }\n",
              "      </script>\n",
              "    </div>\n",
              "  </div>\n",
              "  "
            ]
          },
          "metadata": {},
          "execution_count": 111
        }
      ]
    },
    {
      "cell_type": "code",
      "source": [
        "df.merge(df2, left_index=True, right_index=True, how=\"outer\") #the default is to only display data for common rows, or \"inner\" join (intersection). The \"union\" can be generated with how=\"outer\""
      ],
      "metadata": {
        "colab": {
          "base_uri": "https://localhost:8080/",
          "height": 175
        },
        "id": "H2bmMbSqOp_2",
        "outputId": "1eb4c196-1b28-4e84-fe61-61ecef0ad03d"
      },
      "execution_count": null,
      "outputs": [
        {
          "output_type": "execute_result",
          "data": {
            "text/plain": [
              "    a   b   c         A         B\n",
              "0  a1  b1  c1  1.524559 -0.932789\n",
              "1  a2  b2  c2  0.344612  0.770756\n",
              "2  a3  b3  c3 -1.405488  0.724047\n",
              "3  a4  b4  c4  0.447896  0.254052"
            ],
            "text/html": [
              "\n",
              "  <div id=\"df-1e184d26-f155-420d-a6eb-c03956be1865\">\n",
              "    <div class=\"colab-df-container\">\n",
              "      <div>\n",
              "<style scoped>\n",
              "    .dataframe tbody tr th:only-of-type {\n",
              "        vertical-align: middle;\n",
              "    }\n",
              "\n",
              "    .dataframe tbody tr th {\n",
              "        vertical-align: top;\n",
              "    }\n",
              "\n",
              "    .dataframe thead th {\n",
              "        text-align: right;\n",
              "    }\n",
              "</style>\n",
              "<table border=\"1\" class=\"dataframe\">\n",
              "  <thead>\n",
              "    <tr style=\"text-align: right;\">\n",
              "      <th></th>\n",
              "      <th>a</th>\n",
              "      <th>b</th>\n",
              "      <th>c</th>\n",
              "      <th>A</th>\n",
              "      <th>B</th>\n",
              "    </tr>\n",
              "  </thead>\n",
              "  <tbody>\n",
              "    <tr>\n",
              "      <th>0</th>\n",
              "      <td>a1</td>\n",
              "      <td>b1</td>\n",
              "      <td>c1</td>\n",
              "      <td>1.524559</td>\n",
              "      <td>-0.932789</td>\n",
              "    </tr>\n",
              "    <tr>\n",
              "      <th>1</th>\n",
              "      <td>a2</td>\n",
              "      <td>b2</td>\n",
              "      <td>c2</td>\n",
              "      <td>0.344612</td>\n",
              "      <td>0.770756</td>\n",
              "    </tr>\n",
              "    <tr>\n",
              "      <th>2</th>\n",
              "      <td>a3</td>\n",
              "      <td>b3</td>\n",
              "      <td>c3</td>\n",
              "      <td>-1.405488</td>\n",
              "      <td>0.724047</td>\n",
              "    </tr>\n",
              "    <tr>\n",
              "      <th>3</th>\n",
              "      <td>a4</td>\n",
              "      <td>b4</td>\n",
              "      <td>c4</td>\n",
              "      <td>0.447896</td>\n",
              "      <td>0.254052</td>\n",
              "    </tr>\n",
              "  </tbody>\n",
              "</table>\n",
              "</div>\n",
              "      <button class=\"colab-df-convert\" onclick=\"convertToInteractive('df-1e184d26-f155-420d-a6eb-c03956be1865')\"\n",
              "              title=\"Convert this dataframe to an interactive table.\"\n",
              "              style=\"display:none;\">\n",
              "        \n",
              "  <svg xmlns=\"http://www.w3.org/2000/svg\" height=\"24px\"viewBox=\"0 0 24 24\"\n",
              "       width=\"24px\">\n",
              "    <path d=\"M0 0h24v24H0V0z\" fill=\"none\"/>\n",
              "    <path d=\"M18.56 5.44l.94 2.06.94-2.06 2.06-.94-2.06-.94-.94-2.06-.94 2.06-2.06.94zm-11 1L8.5 8.5l.94-2.06 2.06-.94-2.06-.94L8.5 2.5l-.94 2.06-2.06.94zm10 10l.94 2.06.94-2.06 2.06-.94-2.06-.94-.94-2.06-.94 2.06-2.06.94z\"/><path d=\"M17.41 7.96l-1.37-1.37c-.4-.4-.92-.59-1.43-.59-.52 0-1.04.2-1.43.59L10.3 9.45l-7.72 7.72c-.78.78-.78 2.05 0 2.83L4 21.41c.39.39.9.59 1.41.59.51 0 1.02-.2 1.41-.59l7.78-7.78 2.81-2.81c.8-.78.8-2.07 0-2.86zM5.41 20L4 18.59l7.72-7.72 1.47 1.35L5.41 20z\"/>\n",
              "  </svg>\n",
              "      </button>\n",
              "      \n",
              "  <style>\n",
              "    .colab-df-container {\n",
              "      display:flex;\n",
              "      flex-wrap:wrap;\n",
              "      gap: 12px;\n",
              "    }\n",
              "\n",
              "    .colab-df-convert {\n",
              "      background-color: #E8F0FE;\n",
              "      border: none;\n",
              "      border-radius: 50%;\n",
              "      cursor: pointer;\n",
              "      display: none;\n",
              "      fill: #1967D2;\n",
              "      height: 32px;\n",
              "      padding: 0 0 0 0;\n",
              "      width: 32px;\n",
              "    }\n",
              "\n",
              "    .colab-df-convert:hover {\n",
              "      background-color: #E2EBFA;\n",
              "      box-shadow: 0px 1px 2px rgba(60, 64, 67, 0.3), 0px 1px 3px 1px rgba(60, 64, 67, 0.15);\n",
              "      fill: #174EA6;\n",
              "    }\n",
              "\n",
              "    [theme=dark] .colab-df-convert {\n",
              "      background-color: #3B4455;\n",
              "      fill: #D2E3FC;\n",
              "    }\n",
              "\n",
              "    [theme=dark] .colab-df-convert:hover {\n",
              "      background-color: #434B5C;\n",
              "      box-shadow: 0px 1px 3px 1px rgba(0, 0, 0, 0.15);\n",
              "      filter: drop-shadow(0px 1px 2px rgba(0, 0, 0, 0.3));\n",
              "      fill: #FFFFFF;\n",
              "    }\n",
              "  </style>\n",
              "\n",
              "      <script>\n",
              "        const buttonEl =\n",
              "          document.querySelector('#df-1e184d26-f155-420d-a6eb-c03956be1865 button.colab-df-convert');\n",
              "        buttonEl.style.display =\n",
              "          google.colab.kernel.accessAllowed ? 'block' : 'none';\n",
              "\n",
              "        async function convertToInteractive(key) {\n",
              "          const element = document.querySelector('#df-1e184d26-f155-420d-a6eb-c03956be1865');\n",
              "          const dataTable =\n",
              "            await google.colab.kernel.invokeFunction('convertToInteractive',\n",
              "                                                     [key], {});\n",
              "          if (!dataTable) return;\n",
              "\n",
              "          const docLinkHtml = 'Like what you see? Visit the ' +\n",
              "            '<a target=\"_blank\" href=https://colab.research.google.com/notebooks/data_table.ipynb>data table notebook</a>'\n",
              "            + ' to learn more about interactive tables.';\n",
              "          element.innerHTML = '';\n",
              "          dataTable['output_type'] = 'display_data';\n",
              "          await google.colab.output.renderOutput(dataTable, element);\n",
              "          const docLink = document.createElement('div');\n",
              "          docLink.innerHTML = docLinkHtml;\n",
              "          element.appendChild(docLink);\n",
              "        }\n",
              "      </script>\n",
              "    </div>\n",
              "  </div>\n",
              "  "
            ]
          },
          "metadata": {},
          "execution_count": 112
        }
      ]
    },
    {
      "cell_type": "code",
      "source": [
        "df2['C'] = ['a1', 'a2', 'a3', 'a4'] \n",
        "df.merge(df2, left_on='a', right_on='C') "
      ],
      "metadata": {
        "colab": {
          "base_uri": "https://localhost:8080/",
          "height": 175
        },
        "id": "yjoNg9DCO4S9",
        "outputId": "5a2f52f9-5f9e-4f08-90c6-c79e4a87e1ed"
      },
      "execution_count": null,
      "outputs": [
        {
          "output_type": "execute_result",
          "data": {
            "text/plain": [
              "    a   b   c         A         B   C\n",
              "0  a1  b1  c1  1.524559 -0.932789  a1\n",
              "1  a2  b2  c2  0.344612  0.770756  a2\n",
              "2  a3  b3  c3 -1.405488  0.724047  a3\n",
              "3  a4  b4  c4  0.447896  0.254052  a4"
            ],
            "text/html": [
              "\n",
              "  <div id=\"df-d5f04fcc-42fd-4585-b86f-6474a5524430\">\n",
              "    <div class=\"colab-df-container\">\n",
              "      <div>\n",
              "<style scoped>\n",
              "    .dataframe tbody tr th:only-of-type {\n",
              "        vertical-align: middle;\n",
              "    }\n",
              "\n",
              "    .dataframe tbody tr th {\n",
              "        vertical-align: top;\n",
              "    }\n",
              "\n",
              "    .dataframe thead th {\n",
              "        text-align: right;\n",
              "    }\n",
              "</style>\n",
              "<table border=\"1\" class=\"dataframe\">\n",
              "  <thead>\n",
              "    <tr style=\"text-align: right;\">\n",
              "      <th></th>\n",
              "      <th>a</th>\n",
              "      <th>b</th>\n",
              "      <th>c</th>\n",
              "      <th>A</th>\n",
              "      <th>B</th>\n",
              "      <th>C</th>\n",
              "    </tr>\n",
              "  </thead>\n",
              "  <tbody>\n",
              "    <tr>\n",
              "      <th>0</th>\n",
              "      <td>a1</td>\n",
              "      <td>b1</td>\n",
              "      <td>c1</td>\n",
              "      <td>1.524559</td>\n",
              "      <td>-0.932789</td>\n",
              "      <td>a1</td>\n",
              "    </tr>\n",
              "    <tr>\n",
              "      <th>1</th>\n",
              "      <td>a2</td>\n",
              "      <td>b2</td>\n",
              "      <td>c2</td>\n",
              "      <td>0.344612</td>\n",
              "      <td>0.770756</td>\n",
              "      <td>a2</td>\n",
              "    </tr>\n",
              "    <tr>\n",
              "      <th>2</th>\n",
              "      <td>a3</td>\n",
              "      <td>b3</td>\n",
              "      <td>c3</td>\n",
              "      <td>-1.405488</td>\n",
              "      <td>0.724047</td>\n",
              "      <td>a3</td>\n",
              "    </tr>\n",
              "    <tr>\n",
              "      <th>3</th>\n",
              "      <td>a4</td>\n",
              "      <td>b4</td>\n",
              "      <td>c4</td>\n",
              "      <td>0.447896</td>\n",
              "      <td>0.254052</td>\n",
              "      <td>a4</td>\n",
              "    </tr>\n",
              "  </tbody>\n",
              "</table>\n",
              "</div>\n",
              "      <button class=\"colab-df-convert\" onclick=\"convertToInteractive('df-d5f04fcc-42fd-4585-b86f-6474a5524430')\"\n",
              "              title=\"Convert this dataframe to an interactive table.\"\n",
              "              style=\"display:none;\">\n",
              "        \n",
              "  <svg xmlns=\"http://www.w3.org/2000/svg\" height=\"24px\"viewBox=\"0 0 24 24\"\n",
              "       width=\"24px\">\n",
              "    <path d=\"M0 0h24v24H0V0z\" fill=\"none\"/>\n",
              "    <path d=\"M18.56 5.44l.94 2.06.94-2.06 2.06-.94-2.06-.94-.94-2.06-.94 2.06-2.06.94zm-11 1L8.5 8.5l.94-2.06 2.06-.94-2.06-.94L8.5 2.5l-.94 2.06-2.06.94zm10 10l.94 2.06.94-2.06 2.06-.94-2.06-.94-.94-2.06-.94 2.06-2.06.94z\"/><path d=\"M17.41 7.96l-1.37-1.37c-.4-.4-.92-.59-1.43-.59-.52 0-1.04.2-1.43.59L10.3 9.45l-7.72 7.72c-.78.78-.78 2.05 0 2.83L4 21.41c.39.39.9.59 1.41.59.51 0 1.02-.2 1.41-.59l7.78-7.78 2.81-2.81c.8-.78.8-2.07 0-2.86zM5.41 20L4 18.59l7.72-7.72 1.47 1.35L5.41 20z\"/>\n",
              "  </svg>\n",
              "      </button>\n",
              "      \n",
              "  <style>\n",
              "    .colab-df-container {\n",
              "      display:flex;\n",
              "      flex-wrap:wrap;\n",
              "      gap: 12px;\n",
              "    }\n",
              "\n",
              "    .colab-df-convert {\n",
              "      background-color: #E8F0FE;\n",
              "      border: none;\n",
              "      border-radius: 50%;\n",
              "      cursor: pointer;\n",
              "      display: none;\n",
              "      fill: #1967D2;\n",
              "      height: 32px;\n",
              "      padding: 0 0 0 0;\n",
              "      width: 32px;\n",
              "    }\n",
              "\n",
              "    .colab-df-convert:hover {\n",
              "      background-color: #E2EBFA;\n",
              "      box-shadow: 0px 1px 2px rgba(60, 64, 67, 0.3), 0px 1px 3px 1px rgba(60, 64, 67, 0.15);\n",
              "      fill: #174EA6;\n",
              "    }\n",
              "\n",
              "    [theme=dark] .colab-df-convert {\n",
              "      background-color: #3B4455;\n",
              "      fill: #D2E3FC;\n",
              "    }\n",
              "\n",
              "    [theme=dark] .colab-df-convert:hover {\n",
              "      background-color: #434B5C;\n",
              "      box-shadow: 0px 1px 3px 1px rgba(0, 0, 0, 0.15);\n",
              "      filter: drop-shadow(0px 1px 2px rgba(0, 0, 0, 0.3));\n",
              "      fill: #FFFFFF;\n",
              "    }\n",
              "  </style>\n",
              "\n",
              "      <script>\n",
              "        const buttonEl =\n",
              "          document.querySelector('#df-d5f04fcc-42fd-4585-b86f-6474a5524430 button.colab-df-convert');\n",
              "        buttonEl.style.display =\n",
              "          google.colab.kernel.accessAllowed ? 'block' : 'none';\n",
              "\n",
              "        async function convertToInteractive(key) {\n",
              "          const element = document.querySelector('#df-d5f04fcc-42fd-4585-b86f-6474a5524430');\n",
              "          const dataTable =\n",
              "            await google.colab.kernel.invokeFunction('convertToInteractive',\n",
              "                                                     [key], {});\n",
              "          if (!dataTable) return;\n",
              "\n",
              "          const docLinkHtml = 'Like what you see? Visit the ' +\n",
              "            '<a target=\"_blank\" href=https://colab.research.google.com/notebooks/data_table.ipynb>data table notebook</a>'\n",
              "            + ' to learn more about interactive tables.';\n",
              "          element.innerHTML = '';\n",
              "          dataTable['output_type'] = 'display_data';\n",
              "          await google.colab.output.renderOutput(dataTable, element);\n",
              "          const docLink = document.createElement('div');\n",
              "          docLink.innerHTML = docLinkHtml;\n",
              "          element.appendChild(docLink);\n",
              "        }\n",
              "      </script>\n",
              "    </div>\n",
              "  </div>\n",
              "  "
            ]
          },
          "metadata": {},
          "execution_count": 113
        }
      ]
    },
    {
      "cell_type": "markdown",
      "metadata": {
        "id": "0zfF7MNcwa5Q"
      },
      "source": [
        "## `matplotlib`\n",
        "\n",
        "Matplotlib is the main package to enable visualizations and plotting"
      ]
    },
    {
      "cell_type": "code",
      "metadata": {
        "id": "5b_flKKNwa5R"
      },
      "source": [
        "import matplotlib.pyplot as plt\n",
        "\n",
        "# show figures inside notebook - you will need this if you are not in colab\n",
        "%matplotlib inline"
      ],
      "execution_count": null,
      "outputs": []
    },
    {
      "cell_type": "code",
      "metadata": {
        "id": "LZ576HBCwa5S",
        "colab": {
          "base_uri": "https://localhost:8080/",
          "height": 297
        },
        "outputId": "a0db8d86-a642-4c3c-a65f-061d18667d75"
      },
      "source": [
        "x = np.linspace(-10, 10, 100)\n",
        "y = np.random.randn(100)\n",
        "plt.plot(x, y, color='r')\n",
        "plt.xlabel('x')\n",
        "plt.ylabel('y')"
      ],
      "execution_count": null,
      "outputs": [
        {
          "output_type": "execute_result",
          "data": {
            "text/plain": [
              "Text(0, 0.5, 'y')"
            ]
          },
          "metadata": {},
          "execution_count": 117
        },
        {
          "output_type": "display_data",
          "data": {
            "text/plain": [
              "<Figure size 432x288 with 1 Axes>"
            ],
            "image/png": "[encoded data removed]"
          },
          "metadata": {
            "needs_background": "light"
          }
        }
      ]
    },
    {
      "cell_type": "markdown",
      "source": [
        "Note that each `pyplot` command has a return value other than the plot itself. The plot gets displayed but so does the return value of the last function called in the cell (which is how we say output coming out in the previous cells). To suppress that annoying text line (in the previous function that is `Text(0, 0.5, 'y')`), use a semicolumn at the end of the last line of code in the cell"
      ],
      "metadata": {
        "id": "gZg6MMPPRN3P"
      }
    },
    {
      "cell_type": "code",
      "source": [
        "type(c) # no semicolumn: the return value of type(c) is displayed"
      ],
      "metadata": {
        "colab": {
          "base_uri": "https://localhost:8080/"
        },
        "id": "FvjaInvURrEX",
        "outputId": "346c2d2b-eac1-4f89-ca0c-1c7d6cda3a04"
      },
      "execution_count": null,
      "outputs": [
        {
          "output_type": "execute_result",
          "data": {
            "text/plain": [
              "numpy.ndarray"
            ]
          },
          "metadata": {},
          "execution_count": 118
        }
      ]
    },
    {
      "cell_type": "code",
      "source": [
        "type(c); # semicolumn: output is suppressed"
      ],
      "metadata": {
        "id": "SEZjVJ3eRzE9"
      },
      "execution_count": null,
      "outputs": []
    },
    {
      "cell_type": "code",
      "source": [
        "x = np.linspace(-10, 10, 100)\n",
        "y = np.random.randn(100)\n",
        "plt.plot(x, y, color='r')\n",
        "plt.xlabel('x')\n",
        "plt.ylabel('y');"
      ],
      "metadata": {
        "colab": {
          "base_uri": "https://localhost:8080/",
          "height": 279
        },
        "id": "I3CSgmrjR3yQ",
        "outputId": "7c75e448-88d7-44eb-c619-d476059d1a1b"
      },
      "execution_count": null,
      "outputs": [
        {
          "output_type": "display_data",
          "data": {
            "text/plain": [
              "<Figure size 432x288 with 1 Axes>"
            ],
            "image/png": "[encoded data removed]"
          },
          "metadata": {
            "needs_background": "light"
          }
        }
      ]
    },
    {
      "cell_type": "markdown",
      "metadata": {
        "id": "E3JI92uAwa5T"
      },
      "source": [
        "# Resources"
      ]
    },
    {
      "cell_type": "markdown",
      "metadata": {
        "id": "tI7ZWFHNwa5U"
      },
      "source": [
        "[Python Cheatsheet ](https://www.pythoncheatsheet.org)\n",
        "\n",
        "\n",
        "[The Python Tutorial](https://docs.python.org/3/tutorial/index.html)\n",
        "\n",
        "\n",
        "[Python Data Science Handbook](https://jakevdp.github.io/PythonDataScienceHandbook/)\n",
        "\n",
        "[Hands-on Machine Learning with Scikit-Learn, Keras and TensorFlow](https://github.com/ageron/handson-ml2)"
      ]
    }
  ]
}