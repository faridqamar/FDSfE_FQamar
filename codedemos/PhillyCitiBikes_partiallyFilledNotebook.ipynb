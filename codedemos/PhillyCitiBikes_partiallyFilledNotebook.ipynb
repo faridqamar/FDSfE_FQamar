{
  "nbformat": 4,
  "nbformat_minor": 0,
  "metadata": {
    "colab": {
      "provenance": [],
      "collapsed_sections": [],
      "authorship_tag": "ABX9TyOcT0XW8tUmZxdMsswIQ7p1",
      "include_colab_link": true
    },
    "kernelspec": {
      "name": "python3",
      "display_name": "Python 3"
    },
    "language_info": {
      "name": "python"
    }
  },
  "cells": [
    {
      "cell_type": "markdown",
      "metadata": {
        "id": "view-in-github",
        "colab_type": "text"
      },
      "source": [
        "<a href=\"https://colab.research.google.com/github/fedhere/FDSfE_FBianco/blob/main/codedemos/PhillyCitiBikes_partiallyFilledNotebook.ipynb\" target=\"_parent\"><img src=\"https://colab.research.google.com/assets/colab-badge.svg\" alt=\"Open In Colab\"/></a>"
      ]
    },
    {
      "cell_type": "markdown",
      "source": [
        "# Getting Bikeshare Data from rideindego.com\n",
        "\n",
        "while the data is open and accessible it is stored in poorly maintained. It is stored in individual files for each quarter from 2016 through 2022 - zipped csv files (but occasionally additional files are indcluded in the compressed zip) and the naming scheme for the files is not systematic, which is very annoying, and also really common.\n",
        "I use the ```urllib3``` library to download the page with all the links to the data files and ```BeautifulSoup`` to read the html page and extract the links. \n",
        "\n",
        "Additionally I use ```os``` and ```glob``` to downlead, and to find and open the data files after I downloaded them.\n",
        "\n",
        "Later I use ```pandas``` to read the csv files in\n",
        "\n",
        "For the geospatial analysis I will use\n",
        "- ```shapely``` to create points and lines\n",
        "- ```geopandas``` to plot\n",
        "- ```folium``` for working with leaflet maps\n",
        "\n",
        "Finally I will import the colormap tools from matplotlib to map colors to variables in my maps"
      ],
      "metadata": {
        "id": "f4EvNp1zFZ0Q"
      }
    },
    {
      "cell_type": "code",
      "source": [
        "!pip install geopandas"
      ],
      "metadata": {
        "colab": {
          "base_uri": "https://localhost:8080/"
        },
        "id": "isWtxdKaoWUI",
        "outputId": "e66ad1c9-6c63-4ba5-dabd-0dabf3de446f"
      },
      "execution_count": 11,
      "outputs": [
        {
          "output_type": "stream",
          "name": "stdout",
          "text": [
            "Looking in indexes: https://pypi.org/simple, https://us-python.pkg.dev/colab-wheels/public/simple/\n",
            "Collecting geopandas\n",
            "  Downloading geopandas-0.10.2-py2.py3-none-any.whl (1.0 MB)\n",
            "\u001b[K     |████████████████████████████████| 1.0 MB 15.3 MB/s \n",
            "\u001b[?25hCollecting pyproj>=2.2.0\n",
            "  Downloading pyproj-3.2.1-cp37-cp37m-manylinux2010_x86_64.whl (6.3 MB)\n",
            "\u001b[K     |████████████████████████████████| 6.3 MB 43.1 MB/s \n",
            "\u001b[?25hRequirement already satisfied: pandas>=0.25.0 in /usr/local/lib/python3.7/dist-packages (from geopandas) (1.3.5)\n",
            "Collecting fiona>=1.8\n",
            "  Downloading Fiona-1.8.21-cp37-cp37m-manylinux2014_x86_64.whl (16.7 MB)\n",
            "\u001b[K     |████████████████████████████████| 16.7 MB 51.8 MB/s \n",
            "\u001b[?25hRequirement already satisfied: shapely>=1.6 in /usr/local/lib/python3.7/dist-packages (from geopandas) (1.8.4)\n",
            "Collecting cligj>=0.5\n",
            "  Downloading cligj-0.7.2-py3-none-any.whl (7.1 kB)\n",
            "Requirement already satisfied: setuptools in /usr/local/lib/python3.7/dist-packages (from fiona>=1.8->geopandas) (57.4.0)\n",
            "Requirement already satisfied: six>=1.7 in /usr/local/lib/python3.7/dist-packages (from fiona>=1.8->geopandas) (1.15.0)\n",
            "Requirement already satisfied: attrs>=17 in /usr/local/lib/python3.7/dist-packages (from fiona>=1.8->geopandas) (22.1.0)\n",
            "Requirement already satisfied: click>=4.0 in /usr/local/lib/python3.7/dist-packages (from fiona>=1.8->geopandas) (7.1.2)\n",
            "Collecting munch\n",
            "  Downloading munch-2.5.0-py2.py3-none-any.whl (10 kB)\n",
            "Collecting click-plugins>=1.0\n",
            "  Downloading click_plugins-1.1.1-py2.py3-none-any.whl (7.5 kB)\n",
            "Requirement already satisfied: certifi in /usr/local/lib/python3.7/dist-packages (from fiona>=1.8->geopandas) (2022.6.15)\n",
            "Requirement already satisfied: python-dateutil>=2.7.3 in /usr/local/lib/python3.7/dist-packages (from pandas>=0.25.0->geopandas) (2.8.2)\n",
            "Requirement already satisfied: pytz>=2017.3 in /usr/local/lib/python3.7/dist-packages (from pandas>=0.25.0->geopandas) (2022.2.1)\n",
            "Requirement already satisfied: numpy>=1.17.3 in /usr/local/lib/python3.7/dist-packages (from pandas>=0.25.0->geopandas) (1.21.6)\n",
            "Installing collected packages: munch, cligj, click-plugins, pyproj, fiona, geopandas\n",
            "Successfully installed click-plugins-1.1.1 cligj-0.7.2 fiona-1.8.21 geopandas-0.10.2 munch-2.5.0 pyproj-3.2.1\n"
          ]
        }
      ]
    },
    {
      "cell_type": "code",
      "execution_count": 12,
      "metadata": {
        "id": "mcUJA5kE-U32"
      },
      "outputs": [],
      "source": [
        "# interacting with hosting site\n",
        "import urllib3\n",
        "from bs4 import BeautifulSoup\n",
        "\n",
        "# getting and reading files\n",
        "import os\n",
        "import glob\n",
        "import pandas as pd\n",
        "\n",
        "# geospatial analysis \n",
        "from shapely.geometry import Point, LineString\n",
        "import geopandas as gpd\n",
        "import folium\n",
        "from folium.plugins import MarkerCluster\n",
        "\n",
        "# I need to set colormaps to be mapped to variables\n",
        "\n",
        "from matplotlib import cm\n",
        "\n",
        "\n",
        "\n",
        "\n"
      ]
    },
    {
      "cell_type": "markdown",
      "source": [
        "# getting the data\n"
      ],
      "metadata": {
        "id": "m0wupWzZI5Xw"
      }
    },
    {
      "cell_type": "markdown",
      "source": [
        "## get the links"
      ],
      "metadata": {
        "id": "IcKlAiGZI9rF"
      }
    },
    {
      "cell_type": "code",
      "source": [
        "http = urllib3.PoolManager()\n",
        "c = http.request('GET', url=\"https://www.rideindego.com/about/data/\")\n",
        "soup = BeautifulSoup(c.data.decode('utf-8'))\n"
      ],
      "metadata": {
        "colab": {
          "base_uri": "https://localhost:8080/"
        },
        "id": "fL1c1Q8JI4Zn",
        "outputId": "ad7865b8-cf34-48e8-b9d0-721f08e0dc31"
      },
      "execution_count": 13,
      "outputs": [
        {
          "output_type": "stream",
          "name": "stderr",
          "text": [
            "/usr/local/lib/python3.7/dist-packages/urllib3/connectionpool.py:847: InsecureRequestWarning: Unverified HTTPS request is being made. Adding certificate verification is strongly advised. See: https://urllib3.readthedocs.io/en/latest/advanced-usage.html#ssl-warnings\n",
            "  InsecureRequestWarning)\n"
          ]
        }
      ]
    },
    {
      "cell_type": "code",
      "source": [
        "#the webpage with the links\n",
        "soup.prettify()"
      ],
      "metadata": {
        "id": "J7xeGmFaB6fc"
      },
      "execution_count": null,
      "outputs": []
    },
    {
      "cell_type": "code",
      "source": [
        "#the list of links\n",
        "linklist = [link.get('href') for link in soup.find_all('a') \n",
        "              if \"upload\" in link.get('href')]\n",
        "linklist              "
      ],
      "metadata": {
        "id": "hLAQH3egFq1T"
      },
      "execution_count": null,
      "outputs": []
    },
    {
      "cell_type": "markdown",
      "source": [
        "## download and read the links"
      ],
      "metadata": {
        "id": "cPu6WM4lJAzt"
      }
    },
    {
      "cell_type": "code",
      "source": [
        "#downloading each link\n",
        "for url in linklist:\n",
        "  os.system(\"wget \" + url)"
      ],
      "metadata": {
        "id": "WBh2M24sGr_c"
      },
      "execution_count": 16,
      "outputs": []
    },
    {
      "cell_type": "code",
      "source": [
        "#the list of files locally\n",
        "glob.glob(\"*rips*\")"
      ],
      "metadata": {
        "id": "0-S6HVvXHING"
      },
      "execution_count": null,
      "outputs": []
    },
    {
      "cell_type": "code",
      "source": [
        "# read in the csv file - each file is read in into a \"dictionary\" - the data can then be retrieved by year and quarder:\n",
        "# e.g. pds[2016][Q1] retrieves the data from 2016 January 1st through 2016 March 31st\n",
        "pds = {} # prepare the container\n",
        "for y in range(2015, 2023): #loop over all years\n",
        "  print(y)\n",
        "  pds[y] = {}\n",
        "  _ = [url for url in glob.glob(\"*rips*\") if (\"%d\"%y in url)]\n",
        "  for q in range(1, 5):\n",
        "    print(\"\\t\", q)\n",
        "    try:\n",
        "      pds[y][q] = pd.read_csv([url for url in _ \n",
        "                             if (\"Q%d\"%q in url) or (\"q%d\"%q in url)][0])\n",
        "    except ValueError:\n",
        "      os.system(\"unzip \" + [url for url in _ \n",
        "                             if (\"Q%d\"%q in url) or (\"q%d\"%q in url)][0])\n",
        "      try:\n",
        "        pds[y][q] = pd.read_csv([url for url in glob.glob(\"*rips*csv\") if ((\"%d\"%y in url) and \n",
        "                                ((\"Q%d\"%q in url) or (\"q%d\"%q in url)))][0])\n",
        "      except IndexError:\n",
        "        print(\"\\t\\tno data for this quarter\")\n",
        "    except IndexError:\n",
        "      print(\"\\t\\tno data for this quarter\")"
      ],
      "metadata": {
        "id": "BrIuImHXIBAi"
      },
      "execution_count": null,
      "outputs": []
    },
    {
      "cell_type": "markdown",
      "source": [
        "# explore the data"
      ],
      "metadata": {
        "id": "MBolezmkJGIJ"
      }
    },
    {
      "cell_type": "code",
      "source": [
        "#get the info for each year and each quarter\n",
        "for y in pds.keys(): #years look\n",
        "  for q in pds[y].keys(): #quarter loop\n",
        "    print(pds[y][q].info())"
      ],
      "metadata": {
        "id": "JdMdk1FvLRxE"
      },
      "execution_count": null,
      "outputs": []
    },
    {
      "cell_type": "code",
      "source": [
        "#get the number of rows and columns for each year and quarter\n",
        "for y in pds.keys(): #year loop\n",
        "  for q in pds[y].keys(): #quarter loop\n",
        "    print(pds[y][q].shape)"
      ],
      "metadata": {
        "id": "lBcV-W8aLySR"
      },
      "execution_count": null,
      "outputs": []
    },
    {
      "cell_type": "code",
      "source": [
        "# an example of a file # 2022-July thorugh 2022-September\n",
        "pds[2021][3].head()"
      ],
      "metadata": {
        "id": "lURh_cFOL9Bx"
      },
      "execution_count": null,
      "outputs": []
    },
    {
      "cell_type": "code",
      "source": [
        "pds[2021][3].describe()\n"
      ],
      "metadata": {
        "id": "80mYRxL_jbyh"
      },
      "execution_count": null,
      "outputs": []
    },
    {
      "cell_type": "markdown",
      "source": [
        "# data preprocessing"
      ],
      "metadata": {
        "id": "6z5bkeROJMvA"
      }
    },
    {
      "cell_type": "code",
      "source": [
        "#convert date column to a datetime object\n",
        "pds[2021][3][\"start_date\"] = pd.to_datetime(pds[2021][3][\"start_time\"]).dt.date"
      ],
      "metadata": {
        "id": "qewkz9BrOZAw"
      },
      "execution_count": 28,
      "outputs": []
    },
    {
      "cell_type": "code",
      "source": [
        "# create a point from the latitude-longitude values of the start of the trip\n",
        "pds[2021][3][\"startlonlat\"] = pds[2021][3][[\"start_lon\", \"start_lat\"]].apply(lambda x: \n",
        "                          Point(x['start_lon'], x['start_lat']), axis=1)\n"
      ],
      "metadata": {
        "id": "bVggfUJvaGIY",
        "colab": {
          "base_uri": "https://localhost:8080/"
        },
        "outputId": "5403c534-acc9-4d3d-b9cd-bd8571a1ecf7"
      },
      "execution_count": 29,
      "outputs": [
        {
          "output_type": "stream",
          "name": "stderr",
          "text": [
            "/usr/local/lib/python3.7/dist-packages/pandas/core/dtypes/cast.py:118: ShapelyDeprecationWarning: The array interface is deprecated and will no longer work in Shapely 2.0. Convert the '.coords' to a numpy array instead.\n",
            "  arr = construct_1d_object_array_from_listlike(values)\n"
          ]
        }
      ]
    },
    {
      "cell_type": "code",
      "source": [
        "# create a point from the latitude-longitude values of the end of the trip\n",
        "pds[2021][3][\"endlonlat\"] = pds[2021][3][[\"end_lon\", \"end_lat\"]].apply(lambda x: \n",
        "                          Point(x['end_lon'], x['end_lat']), axis=1)\n"
      ],
      "metadata": {
        "id": "CCvp-1ZLeIHM"
      },
      "execution_count": 30,
      "outputs": []
    },
    {
      "cell_type": "code",
      "source": [
        "# create a line between the start and end positions... not so easy!\n",
        "pds[2021][3][[\"startlonlat\", \"endlonlat\"]].apply(lambda x:\n",
        "              LineString([x[\"startlonlat\"], x[\"endlonlat\"]]), axis=1)"
      ],
      "metadata": {
        "colab": {
          "base_uri": "https://localhost:8080/",
          "height": 407
        },
        "id": "GrbNaacGfFkP",
        "outputId": "345bc4bf-baeb-4c09-8116-706deed9cfeb"
      },
      "execution_count": 31,
      "outputs": [
        {
          "output_type": "error",
          "ename": "IndexError",
          "evalue": "ignored",
          "traceback": [
            "\u001b[0;31m---------------------------------------------------------------------------\u001b[0m",
            "\u001b[0;31mAttributeError\u001b[0m                            Traceback (most recent call last)",
            "\u001b[0;32m/usr/local/lib/python3.7/dist-packages/shapely/speedups/_speedups.pyx\u001b[0m in \u001b[0;36mshapely.speedups._speedups.geos_linestring_from_py\u001b[0;34m()\u001b[0m\n",
            "\u001b[0;31mAttributeError\u001b[0m: 'list' object has no attribute '__array_interface__'",
            "\nDuring handling of the above exception, another exception occurred:\n",
            "\u001b[0;31mIndexError\u001b[0m                                Traceback (most recent call last)",
            "\u001b[0;32m<ipython-input-31-f61fbbad2d10>\u001b[0m in \u001b[0;36m<module>\u001b[0;34m\u001b[0m\n\u001b[1;32m      1\u001b[0m \u001b[0;31m# create a line between the start and end positions... not so easy!\u001b[0m\u001b[0;34m\u001b[0m\u001b[0;34m\u001b[0m\u001b[0;34m\u001b[0m\u001b[0m\n\u001b[1;32m      2\u001b[0m pds[2021][3][[\"startlonlat\", \"endlonlat\"]].apply(lambda x:\n\u001b[0;32m----> 3\u001b[0;31m               LineString([x[\"startlonlat\"], x[\"endlonlat\"]]), axis=1)\n\u001b[0m",
            "\u001b[0;32m/usr/local/lib/python3.7/dist-packages/pandas/core/frame.py\u001b[0m in \u001b[0;36mapply\u001b[0;34m(self, func, axis, raw, result_type, args, **kwargs)\u001b[0m\n\u001b[1;32m   8738\u001b[0m             \u001b[0mkwargs\u001b[0m\u001b[0;34m=\u001b[0m\u001b[0mkwargs\u001b[0m\u001b[0;34m,\u001b[0m\u001b[0;34m\u001b[0m\u001b[0;34m\u001b[0m\u001b[0m\n\u001b[1;32m   8739\u001b[0m         )\n\u001b[0;32m-> 8740\u001b[0;31m         \u001b[0;32mreturn\u001b[0m \u001b[0mop\u001b[0m\u001b[0;34m.\u001b[0m\u001b[0mapply\u001b[0m\u001b[0;34m(\u001b[0m\u001b[0;34m)\u001b[0m\u001b[0;34m\u001b[0m\u001b[0;34m\u001b[0m\u001b[0m\n\u001b[0m\u001b[1;32m   8741\u001b[0m \u001b[0;34m\u001b[0m\u001b[0m\n\u001b[1;32m   8742\u001b[0m     def applymap(\n",
            "\u001b[0;32m/usr/local/lib/python3.7/dist-packages/pandas/core/apply.py\u001b[0m in \u001b[0;36mapply\u001b[0;34m(self)\u001b[0m\n\u001b[1;32m    686\u001b[0m             \u001b[0;32mreturn\u001b[0m \u001b[0mself\u001b[0m\u001b[0;34m.\u001b[0m\u001b[0mapply_raw\u001b[0m\u001b[0;34m(\u001b[0m\u001b[0;34m)\u001b[0m\u001b[0;34m\u001b[0m\u001b[0;34m\u001b[0m\u001b[0m\n\u001b[1;32m    687\u001b[0m \u001b[0;34m\u001b[0m\u001b[0m\n\u001b[0;32m--> 688\u001b[0;31m         \u001b[0;32mreturn\u001b[0m \u001b[0mself\u001b[0m\u001b[0;34m.\u001b[0m\u001b[0mapply_standard\u001b[0m\u001b[0;34m(\u001b[0m\u001b[0;34m)\u001b[0m\u001b[0;34m\u001b[0m\u001b[0;34m\u001b[0m\u001b[0m\n\u001b[0m\u001b[1;32m    689\u001b[0m \u001b[0;34m\u001b[0m\u001b[0m\n\u001b[1;32m    690\u001b[0m     \u001b[0;32mdef\u001b[0m \u001b[0magg\u001b[0m\u001b[0;34m(\u001b[0m\u001b[0mself\u001b[0m\u001b[0;34m)\u001b[0m\u001b[0;34m:\u001b[0m\u001b[0;34m\u001b[0m\u001b[0;34m\u001b[0m\u001b[0m\n",
            "\u001b[0;32m/usr/local/lib/python3.7/dist-packages/pandas/core/apply.py\u001b[0m in \u001b[0;36mapply_standard\u001b[0;34m(self)\u001b[0m\n\u001b[1;32m    810\u001b[0m \u001b[0;34m\u001b[0m\u001b[0m\n\u001b[1;32m    811\u001b[0m     \u001b[0;32mdef\u001b[0m \u001b[0mapply_standard\u001b[0m\u001b[0;34m(\u001b[0m\u001b[0mself\u001b[0m\u001b[0;34m)\u001b[0m\u001b[0;34m:\u001b[0m\u001b[0;34m\u001b[0m\u001b[0;34m\u001b[0m\u001b[0m\n\u001b[0;32m--> 812\u001b[0;31m         \u001b[0mresults\u001b[0m\u001b[0;34m,\u001b[0m \u001b[0mres_index\u001b[0m \u001b[0;34m=\u001b[0m \u001b[0mself\u001b[0m\u001b[0;34m.\u001b[0m\u001b[0mapply_series_generator\u001b[0m\u001b[0;34m(\u001b[0m\u001b[0;34m)\u001b[0m\u001b[0;34m\u001b[0m\u001b[0;34m\u001b[0m\u001b[0m\n\u001b[0m\u001b[1;32m    813\u001b[0m \u001b[0;34m\u001b[0m\u001b[0m\n\u001b[1;32m    814\u001b[0m         \u001b[0;31m# wrap results\u001b[0m\u001b[0;34m\u001b[0m\u001b[0;34m\u001b[0m\u001b[0;34m\u001b[0m\u001b[0m\n",
            "\u001b[0;32m/usr/local/lib/python3.7/dist-packages/pandas/core/apply.py\u001b[0m in \u001b[0;36mapply_series_generator\u001b[0;34m(self)\u001b[0m\n\u001b[1;32m    826\u001b[0m             \u001b[0;32mfor\u001b[0m \u001b[0mi\u001b[0m\u001b[0;34m,\u001b[0m \u001b[0mv\u001b[0m \u001b[0;32min\u001b[0m \u001b[0menumerate\u001b[0m\u001b[0;34m(\u001b[0m\u001b[0mseries_gen\u001b[0m\u001b[0;34m)\u001b[0m\u001b[0;34m:\u001b[0m\u001b[0;34m\u001b[0m\u001b[0;34m\u001b[0m\u001b[0m\n\u001b[1;32m    827\u001b[0m                 \u001b[0;31m# ignore SettingWithCopy here in case the user mutates\u001b[0m\u001b[0;34m\u001b[0m\u001b[0;34m\u001b[0m\u001b[0;34m\u001b[0m\u001b[0m\n\u001b[0;32m--> 828\u001b[0;31m                 \u001b[0mresults\u001b[0m\u001b[0;34m[\u001b[0m\u001b[0mi\u001b[0m\u001b[0;34m]\u001b[0m \u001b[0;34m=\u001b[0m \u001b[0mself\u001b[0m\u001b[0;34m.\u001b[0m\u001b[0mf\u001b[0m\u001b[0;34m(\u001b[0m\u001b[0mv\u001b[0m\u001b[0;34m)\u001b[0m\u001b[0;34m\u001b[0m\u001b[0;34m\u001b[0m\u001b[0m\n\u001b[0m\u001b[1;32m    829\u001b[0m                 \u001b[0;32mif\u001b[0m \u001b[0misinstance\u001b[0m\u001b[0;34m(\u001b[0m\u001b[0mresults\u001b[0m\u001b[0;34m[\u001b[0m\u001b[0mi\u001b[0m\u001b[0;34m]\u001b[0m\u001b[0;34m,\u001b[0m \u001b[0mABCSeries\u001b[0m\u001b[0;34m)\u001b[0m\u001b[0;34m:\u001b[0m\u001b[0;34m\u001b[0m\u001b[0;34m\u001b[0m\u001b[0m\n\u001b[1;32m    830\u001b[0m                     \u001b[0;31m# If we have a view on v, we need to make a copy because\u001b[0m\u001b[0;34m\u001b[0m\u001b[0;34m\u001b[0m\u001b[0;34m\u001b[0m\u001b[0m\n",
            "\u001b[0;32m<ipython-input-31-f61fbbad2d10>\u001b[0m in \u001b[0;36m<lambda>\u001b[0;34m(x)\u001b[0m\n\u001b[1;32m      1\u001b[0m \u001b[0;31m# create a line between the start and end positions... not so easy!\u001b[0m\u001b[0;34m\u001b[0m\u001b[0;34m\u001b[0m\u001b[0;34m\u001b[0m\u001b[0m\n\u001b[1;32m      2\u001b[0m pds[2021][3][[\"startlonlat\", \"endlonlat\"]].apply(lambda x:\n\u001b[0;32m----> 3\u001b[0;31m               LineString([x[\"startlonlat\"], x[\"endlonlat\"]]), axis=1)\n\u001b[0m",
            "\u001b[0;32m/usr/local/lib/python3.7/dist-packages/shapely/geometry/linestring.py\u001b[0m in \u001b[0;36m__init__\u001b[0;34m(self, coordinates)\u001b[0m\n\u001b[1;32m     44\u001b[0m         \u001b[0mBaseGeometry\u001b[0m\u001b[0;34m.\u001b[0m\u001b[0m__init__\u001b[0m\u001b[0;34m(\u001b[0m\u001b[0mself\u001b[0m\u001b[0;34m)\u001b[0m\u001b[0;34m\u001b[0m\u001b[0;34m\u001b[0m\u001b[0m\n\u001b[1;32m     45\u001b[0m         \u001b[0;32mif\u001b[0m \u001b[0mcoordinates\u001b[0m \u001b[0;32mis\u001b[0m \u001b[0;32mnot\u001b[0m \u001b[0;32mNone\u001b[0m\u001b[0;34m:\u001b[0m\u001b[0;34m\u001b[0m\u001b[0;34m\u001b[0m\u001b[0m\n\u001b[0;32m---> 46\u001b[0;31m             \u001b[0mret\u001b[0m \u001b[0;34m=\u001b[0m \u001b[0mgeos_linestring_from_py\u001b[0m\u001b[0;34m(\u001b[0m\u001b[0mcoordinates\u001b[0m\u001b[0;34m)\u001b[0m\u001b[0;34m\u001b[0m\u001b[0;34m\u001b[0m\u001b[0m\n\u001b[0m\u001b[1;32m     47\u001b[0m             \u001b[0;32mif\u001b[0m \u001b[0mret\u001b[0m \u001b[0;32mis\u001b[0m \u001b[0;32mnot\u001b[0m \u001b[0;32mNone\u001b[0m\u001b[0;34m:\u001b[0m\u001b[0;34m\u001b[0m\u001b[0;34m\u001b[0m\u001b[0m\n\u001b[1;32m     48\u001b[0m                 \u001b[0mgeom\u001b[0m\u001b[0;34m,\u001b[0m \u001b[0mn\u001b[0m \u001b[0;34m=\u001b[0m \u001b[0mret\u001b[0m\u001b[0;34m\u001b[0m\u001b[0;34m\u001b[0m\u001b[0m\n",
            "\u001b[0;32m/usr/local/lib/python3.7/dist-packages/shapely/speedups/_speedups.pyx\u001b[0m in \u001b[0;36mshapely.speedups._speedups.geos_linestring_from_py\u001b[0;34m()\u001b[0m\n",
            "\u001b[0;32m/usr/local/lib/python3.7/dist-packages/shapely/speedups/_speedups.pyx\u001b[0m in \u001b[0;36mshapely.speedups._speedups.geos_linestring_from_py._coords\u001b[0;34m()\u001b[0m\n",
            "\u001b[0;32m/usr/local/lib/python3.7/dist-packages/shapely/coords.py\u001b[0m in \u001b[0;36m__getitem__\u001b[0;34m(self, key)\u001b[0m\n\u001b[1;32m     83\u001b[0m         \u001b[0;32mif\u001b[0m \u001b[0misinstance\u001b[0m\u001b[0;34m(\u001b[0m\u001b[0mkey\u001b[0m\u001b[0;34m,\u001b[0m \u001b[0mint\u001b[0m\u001b[0;34m)\u001b[0m\u001b[0;34m:\u001b[0m\u001b[0;34m\u001b[0m\u001b[0;34m\u001b[0m\u001b[0m\n\u001b[1;32m     84\u001b[0m             \u001b[0;32mif\u001b[0m \u001b[0mself\u001b[0m\u001b[0;34m.\u001b[0m\u001b[0m_cseq\u001b[0m \u001b[0;32mis\u001b[0m \u001b[0;32mNone\u001b[0m \u001b[0;32mor\u001b[0m \u001b[0mkey\u001b[0m \u001b[0;34m+\u001b[0m \u001b[0mm\u001b[0m \u001b[0;34m<\u001b[0m \u001b[0;36m0\u001b[0m \u001b[0;32mor\u001b[0m \u001b[0mkey\u001b[0m \u001b[0;34m>=\u001b[0m \u001b[0mm\u001b[0m\u001b[0;34m:\u001b[0m\u001b[0;34m\u001b[0m\u001b[0;34m\u001b[0m\u001b[0m\n\u001b[0;32m---> 85\u001b[0;31m                 \u001b[0;32mraise\u001b[0m \u001b[0mIndexError\u001b[0m\u001b[0;34m(\u001b[0m\u001b[0;34m\"index out of range\"\u001b[0m\u001b[0;34m)\u001b[0m\u001b[0;34m\u001b[0m\u001b[0;34m\u001b[0m\u001b[0m\n\u001b[0m\u001b[1;32m     86\u001b[0m             \u001b[0;32mif\u001b[0m \u001b[0mkey\u001b[0m \u001b[0;34m<\u001b[0m \u001b[0;36m0\u001b[0m\u001b[0;34m:\u001b[0m\u001b[0;34m\u001b[0m\u001b[0;34m\u001b[0m\u001b[0m\n\u001b[1;32m     87\u001b[0m                 \u001b[0mi\u001b[0m \u001b[0;34m=\u001b[0m \u001b[0mm\u001b[0m \u001b[0;34m+\u001b[0m \u001b[0mkey\u001b[0m\u001b[0;34m\u001b[0m\u001b[0;34m\u001b[0m\u001b[0m\n",
            "\u001b[0;31mIndexError\u001b[0m: index out of range"
          ]
        }
      ]
    },
    {
      "cell_type": "code",
      "source": [
        "def makeline(x, y):\n",
        "  try: \n",
        "    _ = LineString([x, y])\n",
        "  except IndexError:\n",
        "    _ =  LineString([(0,0), (0,0)])\n",
        "  return _\n",
        "\n",
        "pds[2021][3][\"trip\"] = pds[2021][3][[\"startlonlat\", \"endlonlat\"]].apply(lambda x: \n",
        "                          makeline(x[\"startlonlat\"], x[\"endlonlat\"]), axis=1)"
      ],
      "metadata": {
        "id": "68awIjDrmvCZ",
        "colab": {
          "base_uri": "https://localhost:8080/"
        },
        "outputId": "b2ecda37-61e5-4f09-c262-b7159e8d9c4c"
      },
      "execution_count": 33,
      "outputs": [
        {
          "output_type": "stream",
          "name": "stderr",
          "text": [
            "/usr/local/lib/python3.7/dist-packages/pandas/core/dtypes/cast.py:118: ShapelyDeprecationWarning: The array interface is deprecated and will no longer work in Shapely 2.0. Convert the '.coords' to a numpy array instead.\n",
            "  arr = construct_1d_object_array_from_listlike(values)\n"
          ]
        }
      ]
    },
    {
      "cell_type": "code",
      "source": [
        "#get only the 1-way trips\n",
        "tripdf = pds[2021][3]\n",
        "tripdf = tripdf[tripdf[\"trip_route_category\"] == \"One Way\"]"
      ],
      "metadata": {
        "id": "_TOel-BuJiOI"
      },
      "execution_count": 34,
      "outputs": []
    },
    {
      "cell_type": "code",
      "source": [
        "#remove the trips with missing coordinates\n",
        "tripdf = tripdf[~tripdf[\"start_lat\"].isna()]\n",
        "tripdf = tripdf[~tripdf[\"end_lat\"].isna()]\n"
      ],
      "metadata": {
        "id": "JBUr5gD_JsxW"
      },
      "execution_count": 35,
      "outputs": []
    },
    {
      "cell_type": "code",
      "source": [
        "tripdf.shape"
      ],
      "metadata": {
        "colab": {
          "base_uri": "https://localhost:8080/"
        },
        "id": "CSEru9vGynQo",
        "outputId": "812f039f-0bf0-4917-c946-0deb56073d7c"
      },
      "execution_count": 36,
      "outputs": [
        {
          "output_type": "execute_result",
          "data": {
            "text/plain": [
              "(269796, 19)"
            ]
          },
          "metadata": {},
          "execution_count": 36
        }
      ]
    },
    {
      "cell_type": "markdown",
      "source": [
        "# mapping and geospatial analysis"
      ],
      "metadata": {
        "id": "8dXEJdQ1JRZd"
      }
    },
    {
      "cell_type": "markdown",
      "source": [
        "#simple plots with geopandas: I can plot the bike stations \n",
        "trajectories"
      ],
      "metadata": {
        "id": "mlSw3_m4MGcL"
      }
    },
    {
      "cell_type": "code",
      "source": [
        "#convert to geodataframe\n",
        "gpds = pds[2021][3]\n",
        "gpds = gpd.GeoDataFrame(gpds)\n",
        "gpds[\"geometry\"] = gpds[\"startlonlat\"] # associate the trip trajectories to the geometry in the geodataframe"
      ],
      "metadata": {
        "id": "tBk2XXYTj4GS"
      },
      "execution_count": 37,
      "outputs": []
    },
    {
      "cell_type": "code",
      "source": [
        "gpds.plot()"
      ],
      "metadata": {
        "id": "7LGqFtIsp22C"
      },
      "execution_count": null,
      "outputs": []
    },
    {
      "cell_type": "markdown",
      "source": [
        "I can plot the trip trajectories"
      ],
      "metadata": {
        "id": "GVMun6YiMU5t"
      }
    },
    {
      "cell_type": "code",
      "source": [
        "#convert to geodataframe\n",
        "gpds = pds[2021][3]\n",
        "gpds = gpd.GeoDataFrame(gpds)\n",
        "gpds[\"geometry\"] = gpds[\"trip\"] # associate the trip trajectories to the geometry in the geodataframe"
      ],
      "metadata": {
        "id": "uSzEgo_CMT1d"
      },
      "execution_count": 39,
      "outputs": []
    },
    {
      "cell_type": "markdown",
      "source": [
        "## plot the zipcodes of Philly"
      ],
      "metadata": {
        "id": "OPZuv0L5XwLL"
      }
    },
    {
      "cell_type": "code",
      "source": [
        "# get the zipcode dataframe\n",
        "zips = gpd.GeoDataFrame.from_file(\"https://opendata.arcgis.com/api/v3/datasets/b54ec5210cee41c3a884c9086f7af1be_0/downloads/data?format=shp&spatialRefId=4326\")\n",
        "zips.plot(ec = \"k\", fc=\"none\");"
      ],
      "metadata": {
        "id": "j49PGlB0lKIn"
      },
      "execution_count": null,
      "outputs": []
    },
    {
      "cell_type": "code",
      "source": [
        "# what is the coordinate system for the geo data? \n",
        "zips.crs"
      ],
      "metadata": {
        "id": "EtAAtDISqOEK"
      },
      "execution_count": null,
      "outputs": []
    },
    {
      "cell_type": "code",
      "source": [
        "#set the same coordinate system for the bike trajectories\n",
        "gpds.crs = zips.crs"
      ],
      "metadata": {
        "id": "cPILkGToqbxW"
      },
      "execution_count": 42,
      "outputs": []
    },
    {
      "cell_type": "code",
      "source": [
        "#plot stations over the trip trajectories\n",
        "ax = zips.plot(ec = \"k\", fc=\"none\")\n",
        "xlim = ax.get_xlim()\n",
        "ylim = ax.get_ylim()\n",
        "gpds[\"geometry\"] = gpds[\"startlonlat\"] # associate the trip trajectories to the geometry in the geodataframe\n",
        "gpds.plot(ax = ax, alpha=0.1)\n",
        "ax.set_xlim(xlim)\n",
        "ax.set_ylim(ylim)\n",
        "\n",
        "ax.set_xlabel(\"longitude\")\n",
        "ax.set_ylabel(\"latitude\")"
      ],
      "metadata": {
        "id": "Ja_j-aAOY53n"
      },
      "execution_count": null,
      "outputs": []
    },
    {
      "cell_type": "code",
      "source": [
        "#plot trips over the trip trajectories (start with a subset cuase this it time consuming!)\n",
        "ax = zips.plot(ec = \"k\", fc=\"none\")\n",
        "xlim = ax.get_xlim()\n",
        "ylim = ax.get_ylim()\n",
        "gpds[\"geometry\"] = gpds[\"trip\"] # associate the trip trajectories to the geometry in the geodataframegpds[:100].plot(ax = ax, alpha=0.5)\n",
        "gpds.plot(ax = ax, alpha=0.5)\n",
        "ax.set_xlim(xlim)\n",
        "ax.set_ylim(ylim[0], 40.05);\n",
        "ax.set_xlabel(\"longitude\")\n",
        "ax.set_ylabel(\"latitude\")"
      ],
      "metadata": {
        "id": "vBkB6tQkq_hi",
        "colab": {
          "base_uri": "https://localhost:8080/",
          "height": 280
        },
        "outputId": "2433329f-bbcb-4ab2-f025-2e4f78e5accf"
      },
      "execution_count": 73,
      "outputs": [
        {
          "output_type": "execute_result",
          "data": {
            "text/plain": [
              "Text(30.25, 0.5, 'latitude')"
            ]
          },
          "metadata": {},
          "execution_count": 73
        },
        {
          "output_type": "display_data",
          "data": {
            "text/plain": [
              "<Figure size 432x288 with 1 Axes>"
            ],
            "image/png": "[encoded data removed]"
          },
          "metadata": {
            "needs_background": "light"
          }
        }
      ]
    },
    {
      "cell_type": "code",
      "source": [
        "#plot trips over the trip trajectories\n",
        "ax = zips.plot(ec = \"k\", fc=\"none\")\n",
        "xlim = ax.get_xlim()\n",
        "ylim = ax.get_ylim()\n",
        "gpds.plot(ax = ax, alpha=0.1)\n",
        "ax.set_xlim(xlim)\n",
        "ax.set_ylim(ylim)\n",
        "\n",
        "ax.set_xlabel(\"longitude\")\n",
        "ax.set_ylabel(\"latitude\")"
      ],
      "metadata": {
        "id": "QX3ZjWm3qjgZ"
      },
      "execution_count": null,
      "outputs": []
    },
    {
      "cell_type": "code",
      "source": [
        "#measure trip length\n",
        "gpds[\"triplen\"] = gpds.geometry.length\n",
        "gpds.describe()"
      ],
      "metadata": {
        "id": "-G5zqG9TsVxV"
      },
      "execution_count": null,
      "outputs": []
    },
    {
      "cell_type": "code",
      "source": [
        "#normalize trip lenght\n",
        "#max of len is .090212\n",
        "c = cm.viridis(gpds[\"triplen\"] / (0.090212))"
      ],
      "metadata": {
        "id": "M9RS3wWatEyv"
      },
      "execution_count": 45,
      "outputs": []
    },
    {
      "cell_type": "code",
      "source": [
        "#map color of the trip to trip length\n",
        "ax = zips.plot(ec = \"k\", fc=\"none\")\n",
        "xlim = ax.get_xlim()\n",
        "ylim = ax.get_ylim()\n",
        "gpds.plot(ax = ax, alpha=0.005, \n",
        "                color = cm.viridis(gpds[\"triplen\"] / (0.090212)))\n",
        "ax.set_xlim(-75.25, -75.1)\n",
        "ax.set_ylim(39.880, 40.01);\n",
        "\n",
        "ax.set_xlabel(\"longitude\")\n",
        "ax.set_ylabel(\"latitude\")"
      ],
      "metadata": {
        "id": "ctdcg2zzuI65"
      },
      "execution_count": null,
      "outputs": []
    },
    {
      "cell_type": "code",
      "source": [],
      "metadata": {
        "id": "XSaYgsAAubqH"
      },
      "execution_count": null,
      "outputs": []
    },
    {
      "cell_type": "code",
      "source": [
        "#Define coordinates of where we want to center our map\n",
        "phl = [ 39.952583,  -75.165222]\n",
        "\n",
        "#Create the map\n",
        "my_map = folium.Map(location = phl, zoom_start = 12)\n",
        "\n",
        "#Display the map\n",
        "my_map"
      ],
      "metadata": {
        "id": "PIQWdchdvl2q"
      },
      "execution_count": null,
      "outputs": []
    },
    {
      "cell_type": "code",
      "source": [
        "stations = gpds.groupby(\"start_station\").first()\n",
        "stations"
      ],
      "metadata": {
        "id": "3SQSZE7YvrxY"
      },
      "execution_count": null,
      "outputs": []
    },
    {
      "cell_type": "code",
      "source": [
        "stations.loc[3255, \"startlonlat\"].x"
      ],
      "metadata": {
        "id": "rPLDmVjTxxyZ"
      },
      "execution_count": null,
      "outputs": []
    },
    {
      "cell_type": "code",
      "source": [
        "stations = stations.dropna()"
      ],
      "metadata": {
        "id": "s_mqlovyYLRC"
      },
      "execution_count": 53,
      "outputs": []
    },
    {
      "cell_type": "code",
      "source": [
        "#Create the map\n",
        "\n",
        "my_map = folium.Map(location = phl, zoom_start = 12)\n",
        "\n",
        "\n",
        "\n",
        "for i in stations.index:\n",
        "  folium.RegularPolygonMarker((stations.loc[i, \"start_lat\"], \n",
        "                               stations.loc[i, \"start_lon\"]), \n",
        "                              popup = \"%d\"%i, \n",
        "                              color = '#00ff40',\n",
        "                              number_of_sides = 3, \n",
        "                              radius = 3).add_to(my_map)\n",
        "\n",
        "#Display the map\n",
        "my_map\n"
      ],
      "metadata": {
        "id": "2QTz05CVv4XV"
      },
      "execution_count": null,
      "outputs": []
    },
    {
      "cell_type": "code",
      "source": [
        "ax = zips.plot(ec = \"k\", fc=\"none\")\n",
        "xlim = ax.get_xlim()\n",
        "ylim = ax.get_ylim()\n",
        "gpds[:10000].plot(ax = ax, alpha=0.05, \n",
        "                color = cm.viridis(gpds[\"triplen\"] / (0.090212)))\n",
        "ax.set_xlim(-75.25, -75.1)\n",
        "ax.set_ylim(39.880, 40.01);\n",
        "\n",
        "ax.set_xlabel(\"longitude\")\n",
        "ax.set_ylabel(\"latitude\");"
      ],
      "metadata": {
        "id": "n_ABwv7nvnT-"
      },
      "execution_count": null,
      "outputs": []
    },
    {
      "cell_type": "code",
      "source": [
        "ax = zips.plot(ec = \"k\", fc=\"none\")\n",
        "xlim = ax.get_xlim()\n",
        "ylim = ax.get_ylim()\n",
        "gpds[:100000].plot(ax = ax, alpha=0.005, \n",
        "                color = cm.viridis(gpds[\"triplen\"] / (0.090212)))\n",
        "ax.set_xlim(-75.25, -75.1)\n",
        "ax.set_ylim(39.880, 40.01);\n",
        "\n",
        "ax.set_xlabel(\"longitude\")\n",
        "ax.set_ylabel(\"latitude\");"
      ],
      "metadata": {
        "id": "hUhye3rHD8Nb"
      },
      "execution_count": null,
      "outputs": []
    },
    {
      "cell_type": "code",
      "source": [
        "import matplotlib\n",
        "\n",
        "\n",
        "#Create the map\n",
        "my_map = folium.Map(location = phl, zoom_start = 12)\n",
        "\n",
        "\n",
        "\n",
        "for i in stations.index:\n",
        "  folium.RegularPolygonMarker((stations.loc[i, \"start_lat\"], \n",
        "                               stations.loc[i, \"start_lon\"]), \n",
        "                              popup = \"%d\"%i, \n",
        "                              fill_color = \"0000ff\",\n",
        "                              number_of_sides = 4, \n",
        "                              radius = stations.loc[i, \"triplen\"] / (0.090212) * 3).add_to(my_map)\n",
        "\n",
        "#Display the map\n",
        "my_map\n"
      ],
      "metadata": {
        "id": "j-M6qllhv4il"
      },
      "execution_count": null,
      "outputs": []
    },
    {
      "cell_type": "code",
      "source": [
        "\n",
        "\n",
        "#Create the map\n",
        "my_map = folium.Map(location = phl, zoom_start = 12)\n",
        "folium.TileLayer('cartodbpositron').add_to(my_map)\n",
        "\n",
        "\n",
        "\n",
        "for i in stations.index:\n",
        "  folium.RegularPolygonMarker((stations.loc[i, \"start_lat\"], \n",
        "                               stations.loc[i, \"start_lon\"]), \n",
        "                              popup = \"%d\"%i, \n",
        "                              fill_color = \"0000ff\",\n",
        "                              number_of_sides = 4, \n",
        "                              radius = stations.loc[i, \"triplen\"] / (0.090212) * 3).add_to(my_map)\n",
        "\n",
        "#Display the map\n",
        "my_map\n"
      ],
      "metadata": {
        "id": "4stK_xDZERzB"
      },
      "execution_count": null,
      "outputs": []
    },
    {
      "cell_type": "code",
      "source": [
        "origins = gpds.groupby(\"start_station\").count()[[\"trip_id\"]].rename({\n",
        "    \"trip_id\":\"ntrips\"}, axis=1)\n",
        "origins"
      ],
      "metadata": {
        "id": "9xzQm9XQ1DeW"
      },
      "execution_count": null,
      "outputs": []
    },
    {
      "cell_type": "code",
      "source": [
        "stations = stations.merge(origins, left_index=True, right_index=True)"
      ],
      "metadata": {
        "id": "Z3HxwsAg2WiC"
      },
      "execution_count": 62,
      "outputs": []
    },
    {
      "cell_type": "code",
      "source": [
        "stations[\"ntrips\"].max()"
      ],
      "metadata": {
        "id": "I-ttI3DP2vtL"
      },
      "execution_count": null,
      "outputs": []
    },
    {
      "cell_type": "code",
      "source": [
        "#Create the map\n",
        "my_map = folium.Map(location = phl, zoom_start = 12.2)\n",
        "folium.TileLayer('cartodbpositron').add_to(my_map)\n",
        "\n",
        "for i in stations.index:\n",
        "  folium.RegularPolygonMarker((stations.loc[i, \"start_lat\"], \n",
        "                               stations.loc[i, \"start_lon\"]), \n",
        "                              popup = \"%d\"%i, \n",
        "                              color = \n",
        "                              matplotlib.colors.rgb2hex(\n",
        "                                  cm.viridis(stations.loc[i, \"ntrips\"] / 4750 * 3)),\n",
        "                              number_of_sides = 10, \n",
        "                              radius = stations.loc[i, \"triplen\"] / .090212 * 3\n",
        "                              #stations.loc[i, \"ntrips\"] / 4750 * 3\n",
        "                              ).add_to(my_map)\n",
        "\n",
        "#Display the map\n",
        "print(\"Citibike stations by popularity (size) and trip length (color)\")\n",
        "my_map"
      ],
      "metadata": {
        "id": "16VYjdZS2irO"
      },
      "execution_count": null,
      "outputs": []
    },
    {
      "cell_type": "code",
      "source": [
        "bikes = gpds.groupby(\"bike_id\").count()\n",
        "bikes[\"trip_id\"].max()"
      ],
      "metadata": {
        "id": "1skvmVQJ27yr"
      },
      "execution_count": null,
      "outputs": []
    },
    {
      "cell_type": "code",
      "source": [
        "most_pop_bike = bikes[bikes[\"trip_id\"] == 294].index[0]"
      ],
      "metadata": {
        "id": "O4kqB4HN4p7h"
      },
      "execution_count": 67,
      "outputs": []
    },
    {
      "cell_type": "code",
      "source": [
        "ax = zips.plot(ec = \"k\", fc=\"none\")\n",
        "xlim = ax.get_xlim()\n",
        "ylim = ax.get_ylim()\n",
        "gpds[gpds.bike_id == most_pop_bike].plot(ax = ax, alpha=0.5, \n",
        "                color = cm.viridis(gpds[\"triplen\"] / (0.090212)))\n",
        "ax.set_xlim(-75.25, -75.1)\n",
        "ax.set_ylim(39.880, 40.01);"
      ],
      "metadata": {
        "id": "DHJPv9S345N4"
      },
      "execution_count": null,
      "outputs": []
    },
    {
      "cell_type": "code",
      "source": [
        "gpds[gpds.bike_id == most_pop_bike]"
      ],
      "metadata": {
        "id": "kAKEXcaoAgNc"
      },
      "execution_count": null,
      "outputs": []
    },
    {
      "cell_type": "code",
      "source": [
        "#Create the map\n",
        "my_map = folium.Map(location = phl, zoom_start = 12)\n",
        "\n",
        "folium.TileLayer('cartodbpositron').add_to(my_map)\n",
        "\n",
        "\n",
        "for i in stations.index:\n",
        "  folium.PolyLine(((stations.loc[i, \"start_lat\"], \n",
        "                               stations.loc[i, \"start_lon\"]), \n",
        "                   (stations.loc[i, \"end_lat\"], \n",
        "                               stations.loc[i, \"end_lon\"])), \n",
        "                              popup = \"%d\"%i, \n",
        "                              opacity=0.5,\n",
        "                              color = matplotlib.colors.rgb2hex(\n",
        "                                  cm.viridis(stations.loc[i, \"triplen\"] / .090212)),\n",
        "                              weight=1 ,\n",
        "                              radius = stations.loc[i, \"ntrips\"] / 4750 * 3).add_to(my_map)\n",
        "\n",
        "#Display the map\n",
        "my_map\n"
      ],
      "metadata": {
        "id": "VfTSeUDT5XVX"
      },
      "execution_count": null,
      "outputs": []
    },
    {
      "cell_type": "code",
      "source": [],
      "metadata": {
        "id": "PIC6-Q-qEEOq"
      },
      "execution_count": null,
      "outputs": []
    }
  ]
}