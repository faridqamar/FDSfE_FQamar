{
  "cells": [
    {
      "cell_type": "markdown",
      "metadata": {
        "id": "view-in-github",
        "colab_type": "text"
      },
      "source": [
        "<a href=\"https://colab.research.google.com/github/fedhere/FDSfE_FBianco/blob/main/HW2/happiness_instructions.ipynb\" target=\"_parent\"><img src=\"https://colab.research.google.com/assets/colab-badge.svg\" alt=\"Open In Colab\"/></a>"
      ]
    },
    {
      "cell_type": "markdown",
      "metadata": {
        "id": "j5k4PjJ-w0hO"
      },
      "source": [
        "# HW 2 Assignment 2:\n",
        "\n",
        "Following the work we did together on the youtube videos and movies datasets, explore this dataset of \"world happiness\". \n",
        "This is a free form assignment: all the tasks have been performed in the _youtube videos_ or _movies_ data exploration we did in class (see class lectures and associated notebooks, also see Assignment 1 in HW 2). \n",
        "\n",
        "\n",
        "\n",
        "Find the datast happines.csv in \n",
        "https://github.com/fedhere/FDSfE_FBianco\n"
      ]
    },
    {
      "cell_type": "markdown",
      "metadata": {
        "id": "H34AC9ynuRA1"
      },
      "source": [
        "\n",
        "On your own, perform the following tasks and report the results (with neat print statements as done in https://github.com/fedhere/FDSfE_FBianco/blob/main/HW2/movies_exploratory_instructions.ipynb, and remember that _all_ figures need axis labels and figure captions). \n",
        "\n",
        "- find the shape of the dataframe\n",
        "- show the top _10 rows_ and bottom _10 rows_ of the dataframe (_done in the videos and movies exploration_)\n",
        "- find statistical properties of the numerical columns of the dataframe (mean, standard deviation, quantiles etc)  (_done in the videos and movies exploration_) \n",
        "- see if the dataframe has missing values (_done in the movies exploration_). If it does have any, decide how to deal with them: you can remove the rows or columns with missing values (with _drop_ or _dropna_ as we did in the movies assignment, but make sure you do not need them to answer the following questions before you drop them!), or replace them with some value that you think is appropriate, for example with with _fillna_, see instructions on this function [here](https://pandas.pydata.org/docs/reference/api/pandas.DataFrame.fillna.html)). The choice of how to deal with missing values is yours, but you do have to end up with a dataframe with no missing values (make sure you show that the resulting dataframe has no missing values either with a printed output or with a plot).\n",
        "- find the happiest country. \n",
        "- is the happiest country also the top country in any of the following variables: [Economy (GDP per Capita),\tFamily\tHealth, (Life Expectancy),\tFreedom\tTrust (Government Corruption),Generosity\tDystopia Residual]\n",
        "\n",
        "- find the happiness score for a country of your choice, for example your country of origin, or any country you like. We did not do this exact task in either notebook _but_ to do that you can use a condition like `df[\"Happiness Score\"] == \"mycountry\"` - this is similar to what you did to get the maximum value for a country: `df[\"Happiness Score\"] == df[\"Happiness Score\"].max()` and then use this statement as an index for the dataframe). \n",
        "\n",
        "- find the top 10 happiest countries (using the `sort_values` function like we did in class for the videos analysis - _done in the videos and movies exploration_)\n",
        "- measure the correlation among (numerical) variables (_done in the videos and movies exploration_)\n",
        "- show a plot of the correlation of (numerical) variables (we did it in a couple of different ways in the youtube videos notebook) and describe it in a caption - what do you see? any noticeable correlations or anticorrelations? (_done in the videos and movies exploration_)\n",
        "- aggregate the countries by region with `_group_by()` (_done in the videos and movies exploration_) and find the region with the highest \"Generosity\")\n",
        "\n",
        "REMEMBER: \n",
        "- for each plot make a caption that states \"what\" and \"why\" (see HW2 assignment 1) and make sure the plots have appropriate axis labels. \n",
        "- for every \"finding\" make sure the result is clear, for example by clearly extracting it in a print statement or by writing a text cell below the core that shows the result\n",
        "- save your notebook on Github in your FDSfE repository as HW2_happiness.ipynb\n"
      ]
    },
    {
      "cell_type": "code",
      "execution_count": null,
      "metadata": {
        "id": "Ad2kcvGJiJT3"
      },
      "outputs": [],
      "source": [
        "import pandas as pd"
      ]
    },
    {
      "cell_type": "code",
      "execution_count": null,
      "metadata": {
        "id": "daUcevphi3k3"
      },
      "outputs": [],
      "source": [
        "happiness15 = pd.read_csv..."
      ]
    },
    {
      "cell_type": "code",
      "execution_count": null,
      "metadata": {
        "id": "Daif0_T2wjDI"
      },
      "outputs": [],
      "source": []
    }
  ],
  "metadata": {
    "colab": {
      "provenance": [],
      "include_colab_link": true
    },
    "kernelspec": {
      "display_name": "Python 3",
      "language": "python",
      "name": "python3"
    },
    "language_info": {
      "codemirror_mode": {
        "name": "ipython",
        "version": 3
      },
      "file_extension": ".py",
      "mimetype": "text/x-python",
      "name": "python",
      "nbconvert_exporter": "python",
      "pygments_lexer": "ipython3",
      "version": "3.9.2"
    }
  },
  "nbformat": 4,
  "nbformat_minor": 0
}