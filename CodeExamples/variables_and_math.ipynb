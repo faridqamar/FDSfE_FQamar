{
  "nbformat": 4,
  "nbformat_minor": 0,
  "metadata": {
    "colab": {
      "name": "variables_and_math.ipynb",
      "provenance": [],
      "authorship_tag": "ABX9TyOG0ROzcWmyj6/BqZMNGzsr",
      "include_colab_link": true
    },
    "kernelspec": {
      "name": "python3",
      "display_name": "Python 3"
    },
    "language_info": {
      "name": "python"
    }
  },
  "cells": [
    {
      "cell_type": "markdown",
      "metadata": {
        "id": "view-in-github",
        "colab_type": "text"
      },
      "source": [
        "<a href=\"https://colab.research.google.com/github/fedhere/FDSfE/blob/main/CodeExamples/variables_and_math.ipynb\" target=\"_parent\"><img src=\"https://colab.research.google.com/assets/colab-badge.svg\" alt=\"Open In Colab\"/></a>"
      ]
    },
    {
      "cell_type": "markdown",
      "source": [
        "Intro: this is a text cell"
      ],
      "metadata": {
        "id": "EVlx1y2efH-8"
      }
    },
    {
      "cell_type": "code",
      "source": [
        "# this is a code cell\n",
        "x = 1"
      ],
      "metadata": {
        "id": "A7FILqWzfQGj"
      },
      "execution_count": 1,
      "outputs": []
    },
    {
      "cell_type": "markdown",
      "source": [
        "simple math: 2 + 2 ... \n"
      ],
      "metadata": {
        "id": "z2u1wNBFfSzm"
      }
    },
    {
      "cell_type": "code",
      "source": [
        "2 + 2 "
      ],
      "metadata": {
        "colab": {
          "base_uri": "https://localhost:8080/"
        },
        "id": "Jo1TC4eCfdNA",
        "outputId": "1ba48980-31d9-4a79-df95-6f598216ecbb"
      },
      "execution_count": 2,
      "outputs": [
        {
          "output_type": "execute_result",
          "data": {
            "text/plain": [
              "4"
            ]
          },
          "metadata": {},
          "execution_count": 2
        }
      ]
    },
    {
      "cell_type": "code",
      "source": [
        "x1 = 2\n",
        "x2 = 2\n",
        "x3 = x1 + x2\n"
      ],
      "metadata": {
        "id": "GLazDb8wfejU"
      },
      "execution_count": 4,
      "outputs": []
    },
    {
      "cell_type": "code",
      "source": [
        "print(\"what is the value of x3? x3={}\".format(x3))"
      ],
      "metadata": {
        "colab": {
          "base_uri": "https://localhost:8080/"
        },
        "id": "GCxUVJW2flMD",
        "outputId": "451517cb-18f6-451a-884f-48fc2d789241"
      },
      "execution_count": 6,
      "outputs": [
        {
          "output_type": "stream",
          "name": "stdout",
          "text": [
            "what is the value of x3? x3=4\n"
          ]
        }
      ]
    },
    {
      "cell_type": "code",
      "source": [
        "type(x3)"
      ],
      "metadata": {
        "colab": {
          "base_uri": "https://localhost:8080/"
        },
        "id": "aW5eZFh7f_VV",
        "outputId": "2485b87c-c842-4570-f23b-a1b4db4f391b"
      },
      "execution_count": 9,
      "outputs": [
        {
          "output_type": "execute_result",
          "data": {
            "text/plain": [
              "int"
            ]
          },
          "metadata": {},
          "execution_count": 9
        }
      ]
    },
    {
      "cell_type": "code",
      "source": [
        "type(\"x3\")"
      ],
      "metadata": {
        "colab": {
          "base_uri": "https://localhost:8080/"
        },
        "id": "WItHuq3kgMDT",
        "outputId": "f95e14d2-c149-4d71-efdf-dc59f1a98f66"
      },
      "execution_count": 10,
      "outputs": [
        {
          "output_type": "execute_result",
          "data": {
            "text/plain": [
              "str"
            ]
          },
          "metadata": {},
          "execution_count": 10
        }
      ]
    },
    {
      "cell_type": "code",
      "source": [
        "print(\"what data type is x3? x3 is a {}\".format(type(x3)))"
      ],
      "metadata": {
        "colab": {
          "base_uri": "https://localhost:8080/"
        },
        "id": "g4XpLzArfvBg",
        "outputId": "b025a05c-dd9e-4a07-fd43-fb2290e33c9a"
      },
      "execution_count": 7,
      "outputs": [
        {
          "output_type": "stream",
          "name": "stdout",
          "text": [
            "what data type is x3? x3 is <class 'int'>\n"
          ]
        }
      ]
    },
    {
      "cell_type": "markdown",
      "source": [
        "# floating point numbers"
      ],
      "metadata": {
        "id": "CLty8tQ_gE5p"
      }
    },
    {
      "cell_type": "code",
      "source": [
        "x4 = 3."
      ],
      "metadata": {
        "id": "lHMCmYreg_bb"
      },
      "execution_count": 14,
      "outputs": []
    },
    {
      "cell_type": "code",
      "source": [
        "x4 * 2"
      ],
      "metadata": {
        "colab": {
          "base_uri": "https://localhost:8080/"
        },
        "id": "hcBuLdZvpORQ",
        "outputId": "1385db34-c002-4c14-8e8f-4479d289ff52"
      },
      "execution_count": 15,
      "outputs": [
        {
          "output_type": "execute_result",
          "data": {
            "text/plain": [
              "6.0"
            ]
          },
          "metadata": {},
          "execution_count": 15
        }
      ]
    },
    {
      "cell_type": "code",
      "source": [
        "x4 ** 2"
      ],
      "metadata": {
        "colab": {
          "base_uri": "https://localhost:8080/"
        },
        "id": "jfTup7j3p8dW",
        "outputId": "1659e6a3-4516-4ba6-875d-dcdeb8322c4a"
      },
      "execution_count": 16,
      "outputs": [
        {
          "output_type": "execute_result",
          "data": {
            "text/plain": [
              "9.0"
            ]
          },
          "metadata": {},
          "execution_count": 16
        }
      ]
    },
    {
      "cell_type": "markdown",
      "source": [
        "# variable containers "
      ],
      "metadata": {
        "id": "EPC41u6jqAhF"
      }
    },
    {
      "cell_type": "markdown",
      "source": [
        "## lists"
      ],
      "metadata": {
        "id": "arXpM9x6qHVV"
      }
    },
    {
      "cell_type": "code",
      "source": [
        "alist = [0, 1, 2, 2, 3, 4.0, \"hello\"]"
      ],
      "metadata": {
        "id": "VpTadRHYqJc8"
      },
      "execution_count": 26,
      "outputs": []
    },
    {
      "cell_type": "markdown",
      "source": [
        "- can contain variables of different types\n",
        "- can be expanded by appending or prepending objects\n",
        "- are complex objects with properties and methods"
      ],
      "metadata": {
        "id": "INTFE-WFqN6r"
      }
    },
    {
      "cell_type": "code",
      "source": [
        "alist.append(\"final entry\")\n",
        "alist"
      ],
      "metadata": {
        "colab": {
          "base_uri": "https://localhost:8080/"
        },
        "id": "NtdTSLkkql0k",
        "outputId": "5993c719-42c4-43a3-f693-b2a8a0981596"
      },
      "execution_count": 27,
      "outputs": [
        {
          "output_type": "execute_result",
          "data": {
            "text/plain": [
              "[0, 1, 2, 2, 3, 4.0, 'hello', 'final entry']"
            ]
          },
          "metadata": {},
          "execution_count": 27
        }
      ]
    },
    {
      "cell_type": "code",
      "source": [
        "alist = [\"first entry\"] + alist\n",
        "alist"
      ],
      "metadata": {
        "colab": {
          "base_uri": "https://localhost:8080/"
        },
        "id": "FDyImNxYqna9",
        "outputId": "53e9797c-262b-4732-bad0-db515a9cb797"
      },
      "execution_count": 28,
      "outputs": [
        {
          "output_type": "execute_result",
          "data": {
            "text/plain": [
              "['first entry', 0, 1, 2, 2, 3, 4.0, 'hello', 'final entry']"
            ]
          },
          "metadata": {},
          "execution_count": 28
        }
      ]
    },
    {
      "cell_type": "code",
      "source": [
        "#count number of entries\n",
        "alist.count(0)"
      ],
      "metadata": {
        "colab": {
          "base_uri": "https://localhost:8080/"
        },
        "id": "gbhDjo8RqvjH",
        "outputId": "e134b606-6236-4523-acf8-b3344dcf2f8a"
      },
      "execution_count": 31,
      "outputs": [
        {
          "output_type": "execute_result",
          "data": {
            "text/plain": [
              "1"
            ]
          },
          "metadata": {},
          "execution_count": 31
        }
      ]
    },
    {
      "cell_type": "code",
      "source": [
        "#count number of entries\n",
        "alist.count(2) "
      ],
      "metadata": {
        "colab": {
          "base_uri": "https://localhost:8080/"
        },
        "id": "bMkfjCAnq1EX",
        "outputId": "82c7456b-9a2b-4cf8-a1e6-ee3c12a1d551"
      },
      "execution_count": 32,
      "outputs": [
        {
          "output_type": "execute_result",
          "data": {
            "text/plain": [
              "2"
            ]
          },
          "metadata": {},
          "execution_count": 32
        }
      ]
    },
    {
      "cell_type": "code",
      "source": [
        "#get the index of an entry by value\n",
        "alist.index(0)"
      ],
      "metadata": {
        "colab": {
          "base_uri": "https://localhost:8080/"
        },
        "id": "3Qd-neqFrJ1E",
        "outputId": "b381c69a-8d93-495d-a470-c84318728009"
      },
      "execution_count": 42,
      "outputs": [
        {
          "output_type": "execute_result",
          "data": {
            "text/plain": [
              "3"
            ]
          },
          "metadata": {},
          "execution_count": 42
        }
      ]
    },
    {
      "cell_type": "code",
      "source": [
        "alist[1]"
      ],
      "metadata": {
        "colab": {
          "base_uri": "https://localhost:8080/"
        },
        "id": "p9aNQ1nrrOEu",
        "outputId": "b920efb6-9432-470b-b180-a97347d79965"
      },
      "execution_count": 43,
      "outputs": [
        {
          "output_type": "execute_result",
          "data": {
            "text/plain": [
              "0"
            ]
          },
          "metadata": {},
          "execution_count": 43
        }
      ]
    },
    {
      "cell_type": "code",
      "source": [
        "#returns only the _first_ entry\n",
        "alist.index?"
      ],
      "metadata": {
        "id": "boTmaH8arh0N"
      },
      "execution_count": 45,
      "outputs": []
    },
    {
      "cell_type": "code",
      "source": [
        "alist.index(2)"
      ],
      "metadata": {
        "colab": {
          "base_uri": "https://localhost:8080/"
        },
        "id": "O6wXa-ZMrm35",
        "outputId": "45909057-6557-4470-9daf-362ed0a1cf09"
      },
      "execution_count": 46,
      "outputs": [
        {
          "output_type": "execute_result",
          "data": {
            "text/plain": [
              "3"
            ]
          },
          "metadata": {},
          "execution_count": 46
        }
      ]
    },
    {
      "cell_type": "markdown",
      "source": [
        "## dictionaries\n",
        "\n",
        "pairs of key-value entries"
      ],
      "metadata": {
        "id": "xVeDEa8ArzFa"
      }
    },
    {
      "cell_type": "code",
      "source": [
        "fds_students = {\"UD\": 4,\n",
        "                \"LU\": 6,\n",
        "                \"students\": {\n",
        "                    \"UD\": [],\n",
        "                    \"LU\": []}\n",
        "                }"
      ],
      "metadata": {
        "id": "S5pxATTSr28o"
      },
      "execution_count": 52,
      "outputs": []
    },
    {
      "cell_type": "code",
      "source": [
        "fds_students[\"UD\"]"
      ],
      "metadata": {
        "colab": {
          "base_uri": "https://localhost:8080/"
        },
        "id": "xv_3ZeuHsX6Q",
        "outputId": "d954a253-447f-497a-b2da-feb7784a1a62"
      },
      "execution_count": 53,
      "outputs": [
        {
          "output_type": "execute_result",
          "data": {
            "text/plain": [
              "4"
            ]
          },
          "metadata": {},
          "execution_count": 53
        }
      ]
    },
    {
      "cell_type": "code",
      "source": [
        "fds_students[\"LU\"]"
      ],
      "metadata": {
        "colab": {
          "base_uri": "https://localhost:8080/"
        },
        "id": "YoyPHoPGsdfZ",
        "outputId": "a153fe40-6b00-402e-c5fd-15685a84791a"
      },
      "execution_count": 54,
      "outputs": [
        {
          "output_type": "execute_result",
          "data": {
            "text/plain": [
              "6"
            ]
          },
          "metadata": {},
          "execution_count": 54
        }
      ]
    },
    {
      "cell_type": "code",
      "source": [
        "fds_students[\"students\"]"
      ],
      "metadata": {
        "colab": {
          "base_uri": "https://localhost:8080/"
        },
        "id": "Ln6AbFIYsfpq",
        "outputId": "b6b9bc3d-298b-4bc6-c516-9ca60634dbcf"
      },
      "execution_count": 55,
      "outputs": [
        {
          "output_type": "execute_result",
          "data": {
            "text/plain": [
              "{'UD': [], 'LU': []}"
            ]
          },
          "metadata": {},
          "execution_count": 55
        }
      ]
    },
    {
      "cell_type": "code",
      "source": [
        "fds_students[\"students\"][\"LU\"]"
      ],
      "metadata": {
        "colab": {
          "base_uri": "https://localhost:8080/"
        },
        "id": "5ghPYkQzsiYs",
        "outputId": "3ad53336-8596-4f81-bb99-e7bdfd882957"
      },
      "execution_count": 56,
      "outputs": [
        {
          "output_type": "execute_result",
          "data": {
            "text/plain": [
              "[]"
            ]
          },
          "metadata": {},
          "execution_count": 56
        }
      ]
    },
    {
      "cell_type": "code",
      "source": [
        "fds_students_total = fds_students[\"LU\"] + fds_students[\"UD\"] \n",
        "fds_students_total"
      ],
      "metadata": {
        "colab": {
          "base_uri": "https://localhost:8080/"
        },
        "id": "8rCq09YYskiq",
        "outputId": "f80aebe9-e4d7-4015-8477-4451ba6b7d00"
      },
      "execution_count": 58,
      "outputs": [
        {
          "output_type": "execute_result",
          "data": {
            "text/plain": [
              "10"
            ]
          },
          "metadata": {},
          "execution_count": 58
        }
      ]
    },
    {
      "cell_type": "code",
      "source": [
        "fds_students[\"total\"] = fds_students[\"LU\"] + fds_students[\"UD\"] \n",
        "fds_students"
      ],
      "metadata": {
        "colab": {
          "base_uri": "https://localhost:8080/"
        },
        "id": "8px93KCJsr3W",
        "outputId": "face4111-74ac-4087-8f7c-2196d907d988"
      },
      "execution_count": 59,
      "outputs": [
        {
          "output_type": "execute_result",
          "data": {
            "text/plain": [
              "{'UD': 4, 'LU': 6, 'students': {'UD': [], 'LU': []}, 'total': 10}"
            ]
          },
          "metadata": {},
          "execution_count": 59
        }
      ]
    },
    {
      "cell_type": "code",
      "source": [],
      "metadata": {
        "id": "bkT-yZWhsypb"
      },
      "execution_count": null,
      "outputs": []
    }
  ]
}