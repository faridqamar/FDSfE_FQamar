{
  "nbformat": 4,
  "nbformat_minor": 0,
  "metadata": {
    "colab": {
      "provenance": [],
      "mount_file_id": "1QRI2EGkYDju9CXX6hFwYYF1TqQUQd-Hi",
      "authorship_tag": "ABX9TyPasfsc5zCz1s2WhIG0Ubeo",
      "include_colab_link": true
    },
    "kernelspec": {
      "name": "python3",
      "display_name": "Python 3"
    },
    "language_info": {
      "name": "python"
    }
  },
  "cells": [
    {
      "cell_type": "markdown",
      "metadata": {
        "id": "view-in-github",
        "colab_type": "text"
      },
      "source": [
        "<a href=\"https://colab.research.google.com/github/faridqamar/FDSfE_FQamar/blob/main/classdemo/FDSfE_DBSCAN_demo.ipynb\" target=\"_parent\"><img src=\"https://colab.research.google.com/assets/colab-badge.svg\" alt=\"Open In Colab\"/></a>"
      ]
    },
    {
      "cell_type": "code",
      "source": [
        "!pip install kaggle"
      ],
      "metadata": {
        "id": "j_bdV89qyZTT"
      },
      "execution_count": null,
      "outputs": []
    },
    {
      "cell_type": "code",
      "execution_count": null,
      "metadata": {
        "id": "ZQGtlPOrKOnY"
      },
      "outputs": [],
      "source": [
        "import os\n",
        "import json\n",
        "\n",
        "import pandas as pd\n",
        "import numpy as np\n",
        "import pylab as plt"
      ]
    },
    {
      "cell_type": "code",
      "source": [
        "from google.colab import drive\n",
        "drive.mount(\"/content/drive\")"
      ],
      "metadata": {
        "id": "_c-BEefVysuE"
      },
      "execution_count": null,
      "outputs": []
    },
    {
      "cell_type": "code",
      "source": [
        "cd /content/drive/MyDrive/"
      ],
      "metadata": {
        "id": "o16kIsAcyu6V"
      },
      "execution_count": null,
      "outputs": []
    },
    {
      "cell_type": "code",
      "source": [
        "env = json.load(open(\"kaggle.json\", \"r\"))\n",
        "os.environ[\"KAGGLE_USERNAME\"] = env[\"username\"]\n",
        "os.environ[\"KAGGLE_KEY\"] = env[\"key\"]"
      ],
      "metadata": {
        "id": "zH6JDCXtypev"
      },
      "execution_count": null,
      "outputs": []
    },
    {
      "cell_type": "code",
      "source": [
        "!mkdir chocolate"
      ],
      "metadata": {
        "id": "BXzLnjXzy1mP"
      },
      "execution_count": null,
      "outputs": []
    },
    {
      "cell_type": "code",
      "source": [
        "cd chocolate"
      ],
      "metadata": {
        "id": "88QFvbAm0Cbq"
      },
      "execution_count": null,
      "outputs": []
    },
    {
      "cell_type": "code",
      "source": [
        "!kaggle datasets list -s chocolate"
      ],
      "metadata": {
        "id": "DOYTDWRi0CNC"
      },
      "execution_count": null,
      "outputs": []
    },
    {
      "cell_type": "code",
      "source": [
        "!kaggle datasets download -d andrewmvd/chocolate-ratings"
      ],
      "metadata": {
        "id": "VVez1m0-0CX7"
      },
      "execution_count": null,
      "outputs": []
    },
    {
      "cell_type": "code",
      "source": [
        "ls"
      ],
      "metadata": {
        "id": "de9ommLM1D4U"
      },
      "execution_count": null,
      "outputs": []
    },
    {
      "cell_type": "code",
      "source": [
        "!unzip chocolate-ratings.zip"
      ],
      "metadata": {
        "id": "a0UFtKvR-1vg"
      },
      "execution_count": null,
      "outputs": []
    },
    {
      "cell_type": "code",
      "source": [
        "df = "
      ],
      "metadata": {
        "id": "7G3FSYFm-6qy"
      },
      "execution_count": null,
      "outputs": []
    },
    {
      "cell_type": "code",
      "source": [],
      "metadata": {
        "colab": {
          "base_uri": "https://localhost:8080/",
          "height": 676
        },
        "id": "mXXf2t1s1aZI",
        "outputId": "1bce60f4-bc6c-44b2-95c4-ca779d4735ee"
      },
      "execution_count": null,
      "outputs": [
        {
          "output_type": "execute_result",
          "data": {
            "text/plain": [
              "       REF Company (Manufacturer) Company Location  Review Date  \\\n",
              "0     2454                   5150           U.S.A.         2019   \n",
              "1     2458                   5150           U.S.A.         2019   \n",
              "2     2454                   5150           U.S.A.         2019   \n",
              "3     2542                   5150           U.S.A.         2021   \n",
              "4     2546                   5150           U.S.A.         2021   \n",
              "...    ...                    ...              ...          ...   \n",
              "2525  1205                 Zotter          Austria         2014   \n",
              "2526  1996                 Zotter          Austria         2017   \n",
              "2527  2036                 Zotter          Austria         2018   \n",
              "2528  2170                 Zotter          Austria         2018   \n",
              "2529  2170                 Zotter          Austria         2018   \n",
              "\n",
              "     Country of Bean Origin Specific Bean Origin or Bar Name Cocoa Percent  \\\n",
              "0                  Tanzania            Kokoa Kamili, batch 1           76%   \n",
              "1        Dominican Republic                  Zorzal, batch 1           76%   \n",
              "2                Madagascar           Bejofo Estate, batch 1           76%   \n",
              "3                      Fiji            Matasawalevu, batch 1           68%   \n",
              "4                 Venezuela            Sur del Lago, batch 1           72%   \n",
              "...                     ...                              ...           ...   \n",
              "2525                  Blend                              Raw           80%   \n",
              "2526               Colombia                 APROCAFA, Acandi           75%   \n",
              "2527                  Blend  Dry Aged, 30 yr Anniversary bar           75%   \n",
              "2528                  Congo            Mountains of the Moon           70%   \n",
              "2529                 Belize                         Maya Mtn           72%   \n",
              "\n",
              "       Ingredients     Most Memorable Characteristics  Rating  \n",
              "0         3- B,S,C          rich cocoa, fatty, bready    3.25  \n",
              "1         3- B,S,C             cocoa, vegetal, savory    3.50  \n",
              "2         3- B,S,C       cocoa, blackberry, full body    3.75  \n",
              "3         3- B,S,C                chewy, off, rubbery    3.00  \n",
              "4         3- B,S,C  fatty, earthy, moss, nutty,chalky    3.00  \n",
              "...            ...                                ...     ...  \n",
              "2525  4- B,S*,C,Sa             waxy, cloying, vegetal    2.75  \n",
              "2526      3- B,S,C          strong nutty, marshmallow    3.75  \n",
              "2527      3- B,S,C               fatty, earthy, cocoa    3.00  \n",
              "2528      3- B,S,C       fatty, mild nuts, mild fruit    3.25  \n",
              "2529      3- B,S,C          muted, roasty, accessible    3.50  \n",
              "\n",
              "[2530 rows x 10 columns]"
            ],
            "text/html": [
              "\n",
              "  <div id=\"df-00f1fd42-e079-4f64-9275-47e42a7fa3e4\">\n",
              "    <div class=\"colab-df-container\">\n",
              "      <div>\n",
              "<style scoped>\n",
              "    .dataframe tbody tr th:only-of-type {\n",
              "        vertical-align: middle;\n",
              "    }\n",
              "\n",
              "    .dataframe tbody tr th {\n",
              "        vertical-align: top;\n",
              "    }\n",
              "\n",
              "    .dataframe thead th {\n",
              "        text-align: right;\n",
              "    }\n",
              "</style>\n",
              "<table border=\"1\" class=\"dataframe\">\n",
              "  <thead>\n",
              "    <tr style=\"text-align: right;\">\n",
              "      <th></th>\n",
              "      <th>REF</th>\n",
              "      <th>Company (Manufacturer)</th>\n",
              "      <th>Company Location</th>\n",
              "      <th>Review Date</th>\n",
              "      <th>Country of Bean Origin</th>\n",
              "      <th>Specific Bean Origin or Bar Name</th>\n",
              "      <th>Cocoa Percent</th>\n",
              "      <th>Ingredients</th>\n",
              "      <th>Most Memorable Characteristics</th>\n",
              "      <th>Rating</th>\n",
              "    </tr>\n",
              "  </thead>\n",
              "  <tbody>\n",
              "    <tr>\n",
              "      <th>0</th>\n",
              "      <td>2454</td>\n",
              "      <td>5150</td>\n",
              "      <td>U.S.A.</td>\n",
              "      <td>2019</td>\n",
              "      <td>Tanzania</td>\n",
              "      <td>Kokoa Kamili, batch 1</td>\n",
              "      <td>76%</td>\n",
              "      <td>3- B,S,C</td>\n",
              "      <td>rich cocoa, fatty, bready</td>\n",
              "      <td>3.25</td>\n",
              "    </tr>\n",
              "    <tr>\n",
              "      <th>1</th>\n",
              "      <td>2458</td>\n",
              "      <td>5150</td>\n",
              "      <td>U.S.A.</td>\n",
              "      <td>2019</td>\n",
              "      <td>Dominican Republic</td>\n",
              "      <td>Zorzal, batch 1</td>\n",
              "      <td>76%</td>\n",
              "      <td>3- B,S,C</td>\n",
              "      <td>cocoa, vegetal, savory</td>\n",
              "      <td>3.50</td>\n",
              "    </tr>\n",
              "    <tr>\n",
              "      <th>2</th>\n",
              "      <td>2454</td>\n",
              "      <td>5150</td>\n",
              "      <td>U.S.A.</td>\n",
              "      <td>2019</td>\n",
              "      <td>Madagascar</td>\n",
              "      <td>Bejofo Estate, batch 1</td>\n",
              "      <td>76%</td>\n",
              "      <td>3- B,S,C</td>\n",
              "      <td>cocoa, blackberry, full body</td>\n",
              "      <td>3.75</td>\n",
              "    </tr>\n",
              "    <tr>\n",
              "      <th>3</th>\n",
              "      <td>2542</td>\n",
              "      <td>5150</td>\n",
              "      <td>U.S.A.</td>\n",
              "      <td>2021</td>\n",
              "      <td>Fiji</td>\n",
              "      <td>Matasawalevu, batch 1</td>\n",
              "      <td>68%</td>\n",
              "      <td>3- B,S,C</td>\n",
              "      <td>chewy, off, rubbery</td>\n",
              "      <td>3.00</td>\n",
              "    </tr>\n",
              "    <tr>\n",
              "      <th>4</th>\n",
              "      <td>2546</td>\n",
              "      <td>5150</td>\n",
              "      <td>U.S.A.</td>\n",
              "      <td>2021</td>\n",
              "      <td>Venezuela</td>\n",
              "      <td>Sur del Lago, batch 1</td>\n",
              "      <td>72%</td>\n",
              "      <td>3- B,S,C</td>\n",
              "      <td>fatty, earthy, moss, nutty,chalky</td>\n",
              "      <td>3.00</td>\n",
              "    </tr>\n",
              "    <tr>\n",
              "      <th>...</th>\n",
              "      <td>...</td>\n",
              "      <td>...</td>\n",
              "      <td>...</td>\n",
              "      <td>...</td>\n",
              "      <td>...</td>\n",
              "      <td>...</td>\n",
              "      <td>...</td>\n",
              "      <td>...</td>\n",
              "      <td>...</td>\n",
              "      <td>...</td>\n",
              "    </tr>\n",
              "    <tr>\n",
              "      <th>2525</th>\n",
              "      <td>1205</td>\n",
              "      <td>Zotter</td>\n",
              "      <td>Austria</td>\n",
              "      <td>2014</td>\n",
              "      <td>Blend</td>\n",
              "      <td>Raw</td>\n",
              "      <td>80%</td>\n",
              "      <td>4- B,S*,C,Sa</td>\n",
              "      <td>waxy, cloying, vegetal</td>\n",
              "      <td>2.75</td>\n",
              "    </tr>\n",
              "    <tr>\n",
              "      <th>2526</th>\n",
              "      <td>1996</td>\n",
              "      <td>Zotter</td>\n",
              "      <td>Austria</td>\n",
              "      <td>2017</td>\n",
              "      <td>Colombia</td>\n",
              "      <td>APROCAFA, Acandi</td>\n",
              "      <td>75%</td>\n",
              "      <td>3- B,S,C</td>\n",
              "      <td>strong nutty, marshmallow</td>\n",
              "      <td>3.75</td>\n",
              "    </tr>\n",
              "    <tr>\n",
              "      <th>2527</th>\n",
              "      <td>2036</td>\n",
              "      <td>Zotter</td>\n",
              "      <td>Austria</td>\n",
              "      <td>2018</td>\n",
              "      <td>Blend</td>\n",
              "      <td>Dry Aged, 30 yr Anniversary bar</td>\n",
              "      <td>75%</td>\n",
              "      <td>3- B,S,C</td>\n",
              "      <td>fatty, earthy, cocoa</td>\n",
              "      <td>3.00</td>\n",
              "    </tr>\n",
              "    <tr>\n",
              "      <th>2528</th>\n",
              "      <td>2170</td>\n",
              "      <td>Zotter</td>\n",
              "      <td>Austria</td>\n",
              "      <td>2018</td>\n",
              "      <td>Congo</td>\n",
              "      <td>Mountains of the Moon</td>\n",
              "      <td>70%</td>\n",
              "      <td>3- B,S,C</td>\n",
              "      <td>fatty, mild nuts, mild fruit</td>\n",
              "      <td>3.25</td>\n",
              "    </tr>\n",
              "    <tr>\n",
              "      <th>2529</th>\n",
              "      <td>2170</td>\n",
              "      <td>Zotter</td>\n",
              "      <td>Austria</td>\n",
              "      <td>2018</td>\n",
              "      <td>Belize</td>\n",
              "      <td>Maya Mtn</td>\n",
              "      <td>72%</td>\n",
              "      <td>3- B,S,C</td>\n",
              "      <td>muted, roasty, accessible</td>\n",
              "      <td>3.50</td>\n",
              "    </tr>\n",
              "  </tbody>\n",
              "</table>\n",
              "<p>2530 rows × 10 columns</p>\n",
              "</div>\n",
              "      <button class=\"colab-df-convert\" onclick=\"convertToInteractive('df-00f1fd42-e079-4f64-9275-47e42a7fa3e4')\"\n",
              "              title=\"Convert this dataframe to an interactive table.\"\n",
              "              style=\"display:none;\">\n",
              "        \n",
              "  <svg xmlns=\"http://www.w3.org/2000/svg\" height=\"24px\"viewBox=\"0 0 24 24\"\n",
              "       width=\"24px\">\n",
              "    <path d=\"M0 0h24v24H0V0z\" fill=\"none\"/>\n",
              "    <path d=\"M18.56 5.44l.94 2.06.94-2.06 2.06-.94-2.06-.94-.94-2.06-.94 2.06-2.06.94zm-11 1L8.5 8.5l.94-2.06 2.06-.94-2.06-.94L8.5 2.5l-.94 2.06-2.06.94zm10 10l.94 2.06.94-2.06 2.06-.94-2.06-.94-.94-2.06-.94 2.06-2.06.94z\"/><path d=\"M17.41 7.96l-1.37-1.37c-.4-.4-.92-.59-1.43-.59-.52 0-1.04.2-1.43.59L10.3 9.45l-7.72 7.72c-.78.78-.78 2.05 0 2.83L4 21.41c.39.39.9.59 1.41.59.51 0 1.02-.2 1.41-.59l7.78-7.78 2.81-2.81c.8-.78.8-2.07 0-2.86zM5.41 20L4 18.59l7.72-7.72 1.47 1.35L5.41 20z\"/>\n",
              "  </svg>\n",
              "      </button>\n",
              "      \n",
              "  <style>\n",
              "    .colab-df-container {\n",
              "      display:flex;\n",
              "      flex-wrap:wrap;\n",
              "      gap: 12px;\n",
              "    }\n",
              "\n",
              "    .colab-df-convert {\n",
              "      background-color: #E8F0FE;\n",
              "      border: none;\n",
              "      border-radius: 50%;\n",
              "      cursor: pointer;\n",
              "      display: none;\n",
              "      fill: #1967D2;\n",
              "      height: 32px;\n",
              "      padding: 0 0 0 0;\n",
              "      width: 32px;\n",
              "    }\n",
              "\n",
              "    .colab-df-convert:hover {\n",
              "      background-color: #E2EBFA;\n",
              "      box-shadow: 0px 1px 2px rgba(60, 64, 67, 0.3), 0px 1px 3px 1px rgba(60, 64, 67, 0.15);\n",
              "      fill: #174EA6;\n",
              "    }\n",
              "\n",
              "    [theme=dark] .colab-df-convert {\n",
              "      background-color: #3B4455;\n",
              "      fill: #D2E3FC;\n",
              "    }\n",
              "\n",
              "    [theme=dark] .colab-df-convert:hover {\n",
              "      background-color: #434B5C;\n",
              "      box-shadow: 0px 1px 3px 1px rgba(0, 0, 0, 0.15);\n",
              "      filter: drop-shadow(0px 1px 2px rgba(0, 0, 0, 0.3));\n",
              "      fill: #FFFFFF;\n",
              "    }\n",
              "  </style>\n",
              "\n",
              "      <script>\n",
              "        const buttonEl =\n",
              "          document.querySelector('#df-00f1fd42-e079-4f64-9275-47e42a7fa3e4 button.colab-df-convert');\n",
              "        buttonEl.style.display =\n",
              "          google.colab.kernel.accessAllowed ? 'block' : 'none';\n",
              "\n",
              "        async function convertToInteractive(key) {\n",
              "          const element = document.querySelector('#df-00f1fd42-e079-4f64-9275-47e42a7fa3e4');\n",
              "          const dataTable =\n",
              "            await google.colab.kernel.invokeFunction('convertToInteractive',\n",
              "                                                     [key], {});\n",
              "          if (!dataTable) return;\n",
              "\n",
              "          const docLinkHtml = 'Like what you see? Visit the ' +\n",
              "            '<a target=\"_blank\" href=https://colab.research.google.com/notebooks/data_table.ipynb>data table notebook</a>'\n",
              "            + ' to learn more about interactive tables.';\n",
              "          element.innerHTML = '';\n",
              "          dataTable['output_type'] = 'display_data';\n",
              "          await google.colab.output.renderOutput(dataTable, element);\n",
              "          const docLink = document.createElement('div');\n",
              "          docLink.innerHTML = docLinkHtml;\n",
              "          element.appendChild(docLink);\n",
              "        }\n",
              "      </script>\n",
              "    </div>\n",
              "  </div>\n",
              "  "
            ]
          },
          "metadata": {},
          "execution_count": 9
        }
      ]
    },
    {
      "cell_type": "code",
      "source": [
        "df['%Cocoa'] = df['Cocoa Percent'].apply(lambda x: x.split('%')[0])\n",
        "df['%Cocoa'] = df['%Cocoa'].astype(float)"
      ],
      "metadata": {
        "id": "8KO1wHrPMBnH"
      },
      "execution_count": null,
      "outputs": []
    },
    {
      "cell_type": "code",
      "source": [
        "df.plot(\"%Cocoa\", \"Rating\", kind=\"scatter\");"
      ],
      "metadata": {
        "id": "2aKAc12oLFLA"
      },
      "execution_count": null,
      "outputs": []
    },
    {
      "cell_type": "code",
      "source": [
        "features = df[['%Cocoa','Rating']]"
      ],
      "metadata": {
        "id": "eGRd7X7uL8CB"
      },
      "execution_count": null,
      "outputs": []
    },
    {
      "cell_type": "code",
      "source": [
        "features.hist(figsize=(10,4));"
      ],
      "metadata": {
        "id": "fLP6cTGGLarN"
      },
      "execution_count": null,
      "outputs": []
    },
    {
      "cell_type": "code",
      "source": [
        "features = (features - features.mean()) / features.std()"
      ],
      "metadata": {
        "id": "ihkUh9fWNIPj"
      },
      "execution_count": null,
      "outputs": []
    },
    {
      "cell_type": "code",
      "source": [
        "features.hist(figsize=(10,4));"
      ],
      "metadata": {
        "id": "5qtUG7pxTD6P"
      },
      "execution_count": null,
      "outputs": []
    },
    {
      "cell_type": "markdown",
      "source": [
        "# DBSCAN"
      ],
      "metadata": {
        "id": "ZEklQKp78aYu"
      }
    },
    {
      "cell_type": "code",
      "source": [
        "from sklearn.cluster import DBSCAN"
      ],
      "metadata": {
        "id": "RbwH02YHNsyi"
      },
      "execution_count": null,
      "outputs": []
    },
    {
      "cell_type": "code",
      "source": [
        "dbscan = DBSCAN(...)\n",
        "dbscan.fit(features)"
      ],
      "metadata": {
        "id": "Pu75g8mMNz9U"
      },
      "execution_count": null,
      "outputs": []
    },
    {
      "cell_type": "code",
      "source": [
        "df[\"labels\"] = dbscan.labels_"
      ],
      "metadata": {
        "id": "P7kYCIbpOV6B"
      },
      "execution_count": null,
      "outputs": []
    },
    {
      "cell_type": "code",
      "source": [
        "for label in df[\"labels\"].unique():\n",
        "  print(label, (df[\"labels\"]==label).sum())"
      ],
      "metadata": {
        "id": "L2F3HUKmOeIA"
      },
      "execution_count": null,
      "outputs": []
    },
    {
      "cell_type": "code",
      "source": [
        "clrs=np.array([\"b\", \"r\", \"k\"])\n",
        "\n",
        "plt.scatter(df['%Cocoa'], df['Rating'], color=clrs[df[\"labels\"]])\n",
        "plt.xlabel(\"%Cocoa\")\n",
        "plt.ylabel(\"Rating\");"
      ],
      "metadata": {
        "id": "APWxxPznOsqz"
      },
      "execution_count": null,
      "outputs": []
    },
    {
      "cell_type": "code",
      "source": [
        "import plotly.express as px\n",
        "\n",
        "df[\"labels\"] = df[\"labels\"].astype(str)\n",
        "fig = px.scatter(df, x='%Cocoa', y='Rating', hover_name=\"Company (Manufacturer)\",\n",
        "                 color='labels', color_discrete_sequence=px.colors.qualitative.Safe)\n",
        "fig.update_traces(marker={'size': 10})\n",
        "fig.show()"
      ],
      "metadata": {
        "id": "aiJUXlQVPRf_"
      },
      "execution_count": null,
      "outputs": []
    },
    {
      "cell_type": "markdown",
      "source": [
        "# More Features"
      ],
      "metadata": {
        "id": "CaiLJRKg9GV6"
      }
    },
    {
      "cell_type": "code",
      "source": [
        "import plotly.express as px\n",
        "\n",
        "df[\"labels\"] = df[\"labels\"].astype(str)\n",
        "fig = px.scatter_3d(df, x='%Cocoa', y='Rating', z='Review Date',\n",
        "                    hover_name=\"Company (Manufacturer)\")\n",
        "fig.update_traces(marker={'size': 3})\n",
        "fig.show()"
      ],
      "metadata": {
        "id": "zZwEX7u8YEZJ"
      },
      "execution_count": null,
      "outputs": []
    },
    {
      "cell_type": "code",
      "source": [
        "features = df[['%Cocoa','Rating', 'Review Date']]"
      ],
      "metadata": {
        "id": "M4YBOGXSU1FR"
      },
      "execution_count": null,
      "outputs": []
    },
    {
      "cell_type": "code",
      "source": [
        "features = (features - features.mean()) / features.std()"
      ],
      "metadata": {
        "id": "SQAUIuDG9S7N"
      },
      "execution_count": null,
      "outputs": []
    },
    {
      "cell_type": "code",
      "source": [
        "dbscan = DBSCAN(eps=1.1, min_samples=5)\n",
        "dbscan.fit(features)"
      ],
      "metadata": {
        "id": "1wfiM6ljYPtz"
      },
      "execution_count": null,
      "outputs": []
    },
    {
      "cell_type": "code",
      "source": [
        "df[\"labels\"] = dbscan.labels_"
      ],
      "metadata": {
        "id": "TovNbpp9YoqH"
      },
      "execution_count": null,
      "outputs": []
    },
    {
      "cell_type": "code",
      "source": [
        "for label in df[\"labels\"].unique():\n",
        "  print(label, (df[\"labels\"]==label).sum())"
      ],
      "metadata": {
        "id": "J2JYT70vYl5f"
      },
      "execution_count": null,
      "outputs": []
    },
    {
      "cell_type": "code",
      "source": [
        "import plotly.express as px\n",
        "\n",
        "df[\"labels\"] = df[\"labels\"].astype(str)\n",
        "fig = px.scatter_3d(df, x='%Cocoa', y='Rating', z='Review Date',\n",
        "                    hover_name=\"Company (Manufacturer)\",\n",
        "                    color='labels', color_discrete_sequence=px.colors.qualitative.Safe)\n",
        "fig.update_traces(marker={'size': 3})\n",
        "fig.show()"
      ],
      "metadata": {
        "id": "SQOjbUbCYqv4"
      },
      "execution_count": null,
      "outputs": []
    },
    {
      "cell_type": "code",
      "source": [],
      "metadata": {
        "id": "fG7SpkDfYxdJ"
      },
      "execution_count": null,
      "outputs": []
    }
  ]
}