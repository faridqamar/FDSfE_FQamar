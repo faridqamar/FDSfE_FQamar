{
  "nbformat": 4,
  "nbformat_minor": 0,
  "metadata": {
    "colab": {
      "provenance": [],
      "collapsed_sections": [],
      "include_colab_link": true
    },
    "kernelspec": {
      "name": "python3",
      "display_name": "Python 3"
    },
    "language_info": {
      "name": "python"
    }
  },
  "cells": [
    {
      "cell_type": "markdown",
      "metadata": {
        "id": "view-in-github",
        "colab_type": "text"
      },
      "source": [
        "<a href=\"https://colab.research.google.com/github/fedhere/FDSfE_FBianco/blob/main/midterm/FDSfE2022_midterm_solution.ipynb\" target=\"_parent\"><img src=\"https://colab.research.google.com/assets/colab-badge.svg\" alt=\"Open In Colab\"/></a>"
      ]
    },
    {
      "cell_type": "markdown",
      "source": [
        "# READ THESE INSTRUCTIONS CAREFULLY AND IN FULL BEFORE YOU PROCEED TO WORK! THERE ARE HINTS AND LINKS TO PARTIAL SOLUTIONS\n",
        "\n",
        "# CONTEXT : Investigation of sea level rise \n",
        "\n",
        "Sea level rise, associated with global warming, is a threat to people living in costal areas and to world sustainability. Sea level rise is caused primarily by two factors related to global warming: the added water from melting ice sheets and glaciers, and the expansion of seawater as it warms. The [data you are given access to is from NASA](https://climate.nasa.gov/vital-signs/sea-level/), which tracks the change in global sea level since 1993, as observed by satellites.\n",
        "\n",
        "\n",
        "**Objective**: modeling sea level rise to enable predictions and predict future sea levels and critical rise points.\n",
        "\n",
        "## RULES\n",
        "\n",
        "Work on your own! you will have a short \"interview\" with Dr. Bianco after the midterm. In that interview you will have to show that you can redo any piece of the midterm you did on the day of. If you copy you will not be able to redo the work and you will get 0 points for the midterm. Code that is similar is easily spotted and you will be asked about it. Whether you are the person that copied or the person that allows a classmate to copy you will get 0 points for the midterm.\n",
        "\n",
        "You can consult your old notebooks, my notebooks, stackoverflow, books, tarot cards... pretty much anything you want! This is an open-everything exam and anything that does not involve live interaction with a classmate (or another person that is not Dr. Bianco, Mr. Qamar, or Ms. Fortino) is allowed\n",
        "\n",
        "Use the #midterm slack channel to ask questions. Do not hesitate to ask for clarifications and do not stay stuck on any task too long! Give it an honest try and if you have questions ask in #midterm.\n",
        "\n",
        "You will receive points for each of the marked tasks and for the discussion of your findings.\n",
        "\n",
        "##Tasks:\n",
        "**Task 1: Data Acquisition(15 points)** The first task is to read in the data. The format of the dataset makes it tricky. This task may be time consuming. DO NOT STAY STUCK HERE! If you _cannot_ figure out how to do this, after an honest try,  you can [use this link for a better formatted dataset here . If you use this secondary link](https://raw.githubusercontent.com/fedhere/FDSfE_FBianco/main/test/searise.csv) instead. This is a properly formatted csv file. You will not receive full points for task 1, but if you have partial solutions in your notebook you may receive partial credits.\n",
        "\n",
        "\n",
        "**Complete each pre-started ell of code and as many additional cells as you need with your code replacing \"...\" wherever you see it and answer all questions in the tasks**\n",
        "\n",
        "\n",
        "\n",
        "**Task 2-6: Data Exploration (35 points)** are the exploratory data tasks: we did these kind of things in many notebooks together in class and in homeworks. Each thing I ask you to do has been done in a class or another. This is likely the most time consuming aspect of the midterm\n",
        "\n",
        "**Task 7: Data Visualization (20 points)** Data visualization tasks\n",
        "\n",
        "**Task 8-10: Model the data and make predictions (20 points)** Modeling tasks: you can choose whichever method you want to fit a line model to the data. The notebook we worked on in the past 4 classes contains the way to use each method. The \"solution\" to that homework is in https://github.com/fedhere/FDSfE_FBianco/blob/main/classdemo/linear_regression_in_detail.ipynb\n",
        "\n",
        "**Presentation (10 points)**\n",
        "The total number of points you can get is 90, 10 additional points will be awarded for your notebook being cleanly and neatly presented. **A cleanly presented notebook (among other things):\n",
        "- has limited number of decimal digits for floating point outpus, \n",
        "- embed code outputs into print statements and does not leave them hanging\n",
        "- make good thoughtful considerations about the results throughout\n",
        "- removes the instructions and provides the solution in their place - is named sensibly \n",
        "- uses good coding practices (encouraged but not grading on this last item)\n",
        "\n",
        "**Broken notebook (-15%)** If your notebook does not work when we receive it by \"Run all\" you will lose 15% of the points. Make sure you \"restart and run all\" before you submit\n",
        "\n",
        "**Do not stay stuck on the first task (acquiring the data) for too long! If you cannot read in the data you can skip that task and lose points for it but be able to proceed to the other tasks! and you can go back to it later!!**"
      ],
      "metadata": {
        "id": "o1E29JkVOKfY"
      }
    },
    {
      "cell_type": "code",
      "source": [
        "import pandas as pd\n",
        "#other imports here\n",
        "# NOTE: all imports should be in the top cell\n",
        "import pylab as plt\n",
        "import numpy as np\n",
        "# NOTE: onyl one of the following imports is needed\n",
        "from sklearn import linear_model as skl\n",
        "import statsmodels.api as sma\n",
        "import statsmodels.formula.api as smaf\n"
      ],
      "metadata": {
        "id": "SVOOEp9W8_bt"
      },
      "execution_count": 76,
      "outputs": []
    },
    {
      "cell_type": "markdown",
      "source": [
        "# Data acquisition (15 points)"
      ],
      "metadata": {
        "id": "-srn67-HLJYs"
      }
    },
    {
      "cell_type": "markdown",
      "source": [
        "## Task 1 (15 points)\n",
        "\n",
        "read in the data from the github repository for class\n",
        "https://github.com/fedhere/FDSfE_FBianco\n",
        "\n",
        "the data is in the folder \"data\" and it is called \"GMSL_TPJAOS_5.1_199209_202208.txt\"\n",
        "\n",
        "Use the pandas method ```read_csv()```. You will have to figure out how to:\n",
        "\n",
        "- skip the first 49 rows of the data\n",
        "- make sure the first row of numerical data is not read in as a header\n",
        "- pass the names to the variables. I provided the names in the cell above this one as a list called `column_names`\n",
        "- read in data separated by spaces - look for the delimiter keyword options on the help page of the method. \n",
        "\n",
        "**IF YOU CANNOT DO THIS TASK**: you can get a properly formatted dataset and use that. You will not get full points for this task but you may get points for partial solution if you made any way toward reading in the original link. This is a much better solution then getting stuck here and not being able to do any of the following tasks! so if its taking you a long time to do this task 1 go ahead and use [this link](https://raw.githubusercontent.com/fedhere/FDSfE_FBianco/main/test/searise.csv) (but remember you need to get the **raw** link from this webpage!!) you can go back to this and try to improve your answer later after you are all done with the rest of the tasks."
      ],
      "metadata": {
        "id": "Y1_uhaoLLMYb"
      }
    },
    {
      "cell_type": "code",
      "source": [
        "column_names = [\"altimeter type\", \"merged file cycle \", \"year\", \"number of observations\",\n",
        "       \"number of weighted observations\", \"GMSL variation no GIA (mm)\",\n",
        "       \"standard no GIA deviation of GMSL (mm)\", \"smoothed GMSL (mm)\", \n",
        "       \"GMSL variation (mm)\", \"standard deviation of GMSL (mm)\", \n",
        "       \"smoothed 60-day variation (mm)\",\n",
        "       \"smoothed (mm) annual and semi-annual signal removed\"]"
      ],
      "metadata": {
        "id": "Cx6XnGo02PDW"
      },
      "execution_count": 26,
      "outputs": []
    },
    {
      "cell_type": "code",
      "source": [
        "searise = pd.read_csv(\"https://raw.githubusercontent.com/fedhere/FDSfE_FBianco/main/data/GMSL_TPJAOS_5.1_199209_202208.txt\",\n",
        "            skiprows=49, header=None, delim_whitespace=True, names=column_names)\n",
        "                                             "
      ],
      "metadata": {
        "id": "BDcVH0Fh2LPj"
      },
      "execution_count": 27,
      "outputs": []
    },
    {
      "cell_type": "markdown",
      "source": [
        "# Data Exploration : 35 points\n",
        "\n",
        "\n"
      ],
      "metadata": {
        "id": "CGdKsDqPD8cy"
      }
    },
    {
      "cell_type": "markdown",
      "source": [
        "## Task 2 (5 points)\n",
        "Show the first 5 rows and last 5 rows of the dataframe (5 points)\n"
      ],
      "metadata": {
        "id": "bDUzMj2QE9Te"
      }
    },
    {
      "cell_type": "code",
      "source": [
        "searise.head()"
      ],
      "metadata": {
        "colab": {
          "base_uri": "https://localhost:8080/",
          "height": 392
        },
        "id": "K4oka4HjEiIz",
        "outputId": "af97fa98-f27e-4eda-997a-2595635a09a6"
      },
      "execution_count": 29,
      "outputs": [
        {
          "output_type": "execute_result",
          "data": {
            "text/plain": [
              "   altimeter type  merged file cycle          year  number of observations  \\\n",
              "0               0                  11  1993.011526                  452600   \n",
              "1               0                  12  1993.038692                  447591   \n",
              "2               0                  13  1993.065858                  459462   \n",
              "3               0                  14  1993.093025                  410064   \n",
              "4               0                  15  1993.120191                  446813   \n",
              "\n",
              "   number of weighted observations  GMSL variation no GIA (mm)  \\\n",
              "0                        327401.31                      -38.61   \n",
              "1                        324498.41                      -42.01   \n",
              "2                        333018.19                      -41.97   \n",
              "3                        297483.19                      -42.71   \n",
              "4                        321635.81                      -37.88   \n",
              "\n",
              "   standard no GIA deviation of GMSL (mm)  smoothed GMSL (mm)  \\\n",
              "0                                   89.88              -38.78   \n",
              "1                                   90.93              -39.80   \n",
              "2                                   87.31              -39.65   \n",
              "3                                   90.79              -39.69   \n",
              "4                                   90.29              -38.78   \n",
              "\n",
              "   GMSL variation (mm)  standard deviation of GMSL (mm)  \\\n",
              "0               -38.61                            89.88   \n",
              "1               -42.00                            90.93   \n",
              "2               -41.96                            87.31   \n",
              "3               -42.69                            90.79   \n",
              "4               -37.85                            90.29   \n",
              "\n",
              "   smoothed 60-day variation (mm)  \\\n",
              "0                          -38.78   \n",
              "1                          -39.80   \n",
              "2                          -39.64   \n",
              "3                          -39.67   \n",
              "4                          -38.75   \n",
              "\n",
              "   smoothed (mm) annual and semi-annual signal removed  \n",
              "0                                             -38.56    \n",
              "1                                             -39.09    \n",
              "2                                             -38.56    \n",
              "3                                             -38.32    \n",
              "4                                             -37.20    "
            ],
            "text/html": [
              "\n",
              "  <div id=\"df-334ad3ea-1719-41a4-924e-a1c44ad5765f\">\n",
              "    <div class=\"colab-df-container\">\n",
              "      <div>\n",
              "<style scoped>\n",
              "    .dataframe tbody tr th:only-of-type {\n",
              "        vertical-align: middle;\n",
              "    }\n",
              "\n",
              "    .dataframe tbody tr th {\n",
              "        vertical-align: top;\n",
              "    }\n",
              "\n",
              "    .dataframe thead th {\n",
              "        text-align: right;\n",
              "    }\n",
              "</style>\n",
              "<table border=\"1\" class=\"dataframe\">\n",
              "  <thead>\n",
              "    <tr style=\"text-align: right;\">\n",
              "      <th></th>\n",
              "      <th>altimeter type</th>\n",
              "      <th>merged file cycle</th>\n",
              "      <th>year</th>\n",
              "      <th>number of observations</th>\n",
              "      <th>number of weighted observations</th>\n",
              "      <th>GMSL variation no GIA (mm)</th>\n",
              "      <th>standard no GIA deviation of GMSL (mm)</th>\n",
              "      <th>smoothed GMSL (mm)</th>\n",
              "      <th>GMSL variation (mm)</th>\n",
              "      <th>standard deviation of GMSL (mm)</th>\n",
              "      <th>smoothed 60-day variation (mm)</th>\n",
              "      <th>smoothed (mm) annual and semi-annual signal removed</th>\n",
              "    </tr>\n",
              "  </thead>\n",
              "  <tbody>\n",
              "    <tr>\n",
              "      <th>0</th>\n",
              "      <td>0</td>\n",
              "      <td>11</td>\n",
              "      <td>1993.011526</td>\n",
              "      <td>452600</td>\n",
              "      <td>327401.31</td>\n",
              "      <td>-38.61</td>\n",
              "      <td>89.88</td>\n",
              "      <td>-38.78</td>\n",
              "      <td>-38.61</td>\n",
              "      <td>89.88</td>\n",
              "      <td>-38.78</td>\n",
              "      <td>-38.56</td>\n",
              "    </tr>\n",
              "    <tr>\n",
              "      <th>1</th>\n",
              "      <td>0</td>\n",
              "      <td>12</td>\n",
              "      <td>1993.038692</td>\n",
              "      <td>447591</td>\n",
              "      <td>324498.41</td>\n",
              "      <td>-42.01</td>\n",
              "      <td>90.93</td>\n",
              "      <td>-39.80</td>\n",
              "      <td>-42.00</td>\n",
              "      <td>90.93</td>\n",
              "      <td>-39.80</td>\n",
              "      <td>-39.09</td>\n",
              "    </tr>\n",
              "    <tr>\n",
              "      <th>2</th>\n",
              "      <td>0</td>\n",
              "      <td>13</td>\n",
              "      <td>1993.065858</td>\n",
              "      <td>459462</td>\n",
              "      <td>333018.19</td>\n",
              "      <td>-41.97</td>\n",
              "      <td>87.31</td>\n",
              "      <td>-39.65</td>\n",
              "      <td>-41.96</td>\n",
              "      <td>87.31</td>\n",
              "      <td>-39.64</td>\n",
              "      <td>-38.56</td>\n",
              "    </tr>\n",
              "    <tr>\n",
              "      <th>3</th>\n",
              "      <td>0</td>\n",
              "      <td>14</td>\n",
              "      <td>1993.093025</td>\n",
              "      <td>410064</td>\n",
              "      <td>297483.19</td>\n",
              "      <td>-42.71</td>\n",
              "      <td>90.79</td>\n",
              "      <td>-39.69</td>\n",
              "      <td>-42.69</td>\n",
              "      <td>90.79</td>\n",
              "      <td>-39.67</td>\n",
              "      <td>-38.32</td>\n",
              "    </tr>\n",
              "    <tr>\n",
              "      <th>4</th>\n",
              "      <td>0</td>\n",
              "      <td>15</td>\n",
              "      <td>1993.120191</td>\n",
              "      <td>446813</td>\n",
              "      <td>321635.81</td>\n",
              "      <td>-37.88</td>\n",
              "      <td>90.29</td>\n",
              "      <td>-38.78</td>\n",
              "      <td>-37.85</td>\n",
              "      <td>90.29</td>\n",
              "      <td>-38.75</td>\n",
              "      <td>-37.20</td>\n",
              "    </tr>\n",
              "  </tbody>\n",
              "</table>\n",
              "</div>\n",
              "      <button class=\"colab-df-convert\" onclick=\"convertToInteractive('df-334ad3ea-1719-41a4-924e-a1c44ad5765f')\"\n",
              "              title=\"Convert this dataframe to an interactive table.\"\n",
              "              style=\"display:none;\">\n",
              "        \n",
              "  <svg xmlns=\"http://www.w3.org/2000/svg\" height=\"24px\"viewBox=\"0 0 24 24\"\n",
              "       width=\"24px\">\n",
              "    <path d=\"M0 0h24v24H0V0z\" fill=\"none\"/>\n",
              "    <path d=\"M18.56 5.44l.94 2.06.94-2.06 2.06-.94-2.06-.94-.94-2.06-.94 2.06-2.06.94zm-11 1L8.5 8.5l.94-2.06 2.06-.94-2.06-.94L8.5 2.5l-.94 2.06-2.06.94zm10 10l.94 2.06.94-2.06 2.06-.94-2.06-.94-.94-2.06-.94 2.06-2.06.94z\"/><path d=\"M17.41 7.96l-1.37-1.37c-.4-.4-.92-.59-1.43-.59-.52 0-1.04.2-1.43.59L10.3 9.45l-7.72 7.72c-.78.78-.78 2.05 0 2.83L4 21.41c.39.39.9.59 1.41.59.51 0 1.02-.2 1.41-.59l7.78-7.78 2.81-2.81c.8-.78.8-2.07 0-2.86zM5.41 20L4 18.59l7.72-7.72 1.47 1.35L5.41 20z\"/>\n",
              "  </svg>\n",
              "      </button>\n",
              "      \n",
              "  <style>\n",
              "    .colab-df-container {\n",
              "      display:flex;\n",
              "      flex-wrap:wrap;\n",
              "      gap: 12px;\n",
              "    }\n",
              "\n",
              "    .colab-df-convert {\n",
              "      background-color: #E8F0FE;\n",
              "      border: none;\n",
              "      border-radius: 50%;\n",
              "      cursor: pointer;\n",
              "      display: none;\n",
              "      fill: #1967D2;\n",
              "      height: 32px;\n",
              "      padding: 0 0 0 0;\n",
              "      width: 32px;\n",
              "    }\n",
              "\n",
              "    .colab-df-convert:hover {\n",
              "      background-color: #E2EBFA;\n",
              "      box-shadow: 0px 1px 2px rgba(60, 64, 67, 0.3), 0px 1px 3px 1px rgba(60, 64, 67, 0.15);\n",
              "      fill: #174EA6;\n",
              "    }\n",
              "\n",
              "    [theme=dark] .colab-df-convert {\n",
              "      background-color: #3B4455;\n",
              "      fill: #D2E3FC;\n",
              "    }\n",
              "\n",
              "    [theme=dark] .colab-df-convert:hover {\n",
              "      background-color: #434B5C;\n",
              "      box-shadow: 0px 1px 3px 1px rgba(0, 0, 0, 0.15);\n",
              "      filter: drop-shadow(0px 1px 2px rgba(0, 0, 0, 0.3));\n",
              "      fill: #FFFFFF;\n",
              "    }\n",
              "  </style>\n",
              "\n",
              "      <script>\n",
              "        const buttonEl =\n",
              "          document.querySelector('#df-334ad3ea-1719-41a4-924e-a1c44ad5765f button.colab-df-convert');\n",
              "        buttonEl.style.display =\n",
              "          google.colab.kernel.accessAllowed ? 'block' : 'none';\n",
              "\n",
              "        async function convertToInteractive(key) {\n",
              "          const element = document.querySelector('#df-334ad3ea-1719-41a4-924e-a1c44ad5765f');\n",
              "          const dataTable =\n",
              "            await google.colab.kernel.invokeFunction('convertToInteractive',\n",
              "                                                     [key], {});\n",
              "          if (!dataTable) return;\n",
              "\n",
              "          const docLinkHtml = 'Like what you see? Visit the ' +\n",
              "            '<a target=\"_blank\" href=https://colab.research.google.com/notebooks/data_table.ipynb>data table notebook</a>'\n",
              "            + ' to learn more about interactive tables.';\n",
              "          element.innerHTML = '';\n",
              "          dataTable['output_type'] = 'display_data';\n",
              "          await google.colab.output.renderOutput(dataTable, element);\n",
              "          const docLink = document.createElement('div');\n",
              "          docLink.innerHTML = docLinkHtml;\n",
              "          element.appendChild(docLink);\n",
              "        }\n",
              "      </script>\n",
              "    </div>\n",
              "  </div>\n",
              "  "
            ]
          },
          "metadata": {},
          "execution_count": 29
        }
      ]
    },
    {
      "cell_type": "code",
      "source": [
        "searise.tail()"
      ],
      "metadata": {
        "colab": {
          "base_uri": "https://localhost:8080/",
          "height": 392
        },
        "id": "zbSqa2vKEkWB",
        "outputId": "468a107a-e478-4ac4-be25-5330da1330ba"
      },
      "execution_count": 30,
      "outputs": [
        {
          "output_type": "execute_result",
          "data": {
            "text/plain": [
              "      altimeter type  merged file cycle          year  number of observations  \\\n",
              "1084               0                1096  2022.467623                  462288   \n",
              "1085               0                1097  2022.494789                  460618   \n",
              "1086               0                1098  2022.521956                  458096   \n",
              "1087               0                1099  2022.549122                  457505   \n",
              "1088               0                1100  2022.576288                  457679   \n",
              "\n",
              "      number of weighted observations  GMSL variation no GIA (mm)  \\\n",
              "1084                        334304.59                       48.93   \n",
              "1085                        335014.81                       54.04   \n",
              "1086                        334752.69                       57.35   \n",
              "1087                        334376.81                       57.75   \n",
              "1088                        336350.31                       54.41   \n",
              "\n",
              "      standard no GIA deviation of GMSL (mm)  smoothed GMSL (mm)  \\\n",
              "1084                                   86.03               52.06   \n",
              "1085                                   87.20               52.78   \n",
              "1086                                   86.67               53.26   \n",
              "1087                                   86.06               53.57   \n",
              "1088                                   85.62               53.76   \n",
              "\n",
              "      GMSL variation (mm)  standard deviation of GMSL (mm)  \\\n",
              "1084                56.12                            86.07   \n",
              "1085                61.21                            87.43   \n",
              "1086                64.58                            86.81   \n",
              "1087                64.93                            86.41   \n",
              "1088                61.67                            85.93   \n",
              "\n",
              "      smoothed 60-day variation (mm)  \\\n",
              "1084                           59.25   \n",
              "1085                           59.98   \n",
              "1086                           60.46   \n",
              "1087                           60.77   \n",
              "1088                           60.96   \n",
              "\n",
              "      smoothed (mm) annual and semi-annual signal removed  \n",
              "1084                                              62.70    \n",
              "1085                                              62.84    \n",
              "1086                                              62.53    \n",
              "1087                                              61.88    \n",
              "1088                                              61.00    "
            ],
            "text/html": [
              "\n",
              "  <div id=\"df-812f0991-8a38-4627-947a-60782886b4b6\">\n",
              "    <div class=\"colab-df-container\">\n",
              "      <div>\n",
              "<style scoped>\n",
              "    .dataframe tbody tr th:only-of-type {\n",
              "        vertical-align: middle;\n",
              "    }\n",
              "\n",
              "    .dataframe tbody tr th {\n",
              "        vertical-align: top;\n",
              "    }\n",
              "\n",
              "    .dataframe thead th {\n",
              "        text-align: right;\n",
              "    }\n",
              "</style>\n",
              "<table border=\"1\" class=\"dataframe\">\n",
              "  <thead>\n",
              "    <tr style=\"text-align: right;\">\n",
              "      <th></th>\n",
              "      <th>altimeter type</th>\n",
              "      <th>merged file cycle</th>\n",
              "      <th>year</th>\n",
              "      <th>number of observations</th>\n",
              "      <th>number of weighted observations</th>\n",
              "      <th>GMSL variation no GIA (mm)</th>\n",
              "      <th>standard no GIA deviation of GMSL (mm)</th>\n",
              "      <th>smoothed GMSL (mm)</th>\n",
              "      <th>GMSL variation (mm)</th>\n",
              "      <th>standard deviation of GMSL (mm)</th>\n",
              "      <th>smoothed 60-day variation (mm)</th>\n",
              "      <th>smoothed (mm) annual and semi-annual signal removed</th>\n",
              "    </tr>\n",
              "  </thead>\n",
              "  <tbody>\n",
              "    <tr>\n",
              "      <th>1084</th>\n",
              "      <td>0</td>\n",
              "      <td>1096</td>\n",
              "      <td>2022.467623</td>\n",
              "      <td>462288</td>\n",
              "      <td>334304.59</td>\n",
              "      <td>48.93</td>\n",
              "      <td>86.03</td>\n",
              "      <td>52.06</td>\n",
              "      <td>56.12</td>\n",
              "      <td>86.07</td>\n",
              "      <td>59.25</td>\n",
              "      <td>62.70</td>\n",
              "    </tr>\n",
              "    <tr>\n",
              "      <th>1085</th>\n",
              "      <td>0</td>\n",
              "      <td>1097</td>\n",
              "      <td>2022.494789</td>\n",
              "      <td>460618</td>\n",
              "      <td>335014.81</td>\n",
              "      <td>54.04</td>\n",
              "      <td>87.20</td>\n",
              "      <td>52.78</td>\n",
              "      <td>61.21</td>\n",
              "      <td>87.43</td>\n",
              "      <td>59.98</td>\n",
              "      <td>62.84</td>\n",
              "    </tr>\n",
              "    <tr>\n",
              "      <th>1086</th>\n",
              "      <td>0</td>\n",
              "      <td>1098</td>\n",
              "      <td>2022.521956</td>\n",
              "      <td>458096</td>\n",
              "      <td>334752.69</td>\n",
              "      <td>57.35</td>\n",
              "      <td>86.67</td>\n",
              "      <td>53.26</td>\n",
              "      <td>64.58</td>\n",
              "      <td>86.81</td>\n",
              "      <td>60.46</td>\n",
              "      <td>62.53</td>\n",
              "    </tr>\n",
              "    <tr>\n",
              "      <th>1087</th>\n",
              "      <td>0</td>\n",
              "      <td>1099</td>\n",
              "      <td>2022.549122</td>\n",
              "      <td>457505</td>\n",
              "      <td>334376.81</td>\n",
              "      <td>57.75</td>\n",
              "      <td>86.06</td>\n",
              "      <td>53.57</td>\n",
              "      <td>64.93</td>\n",
              "      <td>86.41</td>\n",
              "      <td>60.77</td>\n",
              "      <td>61.88</td>\n",
              "    </tr>\n",
              "    <tr>\n",
              "      <th>1088</th>\n",
              "      <td>0</td>\n",
              "      <td>1100</td>\n",
              "      <td>2022.576288</td>\n",
              "      <td>457679</td>\n",
              "      <td>336350.31</td>\n",
              "      <td>54.41</td>\n",
              "      <td>85.62</td>\n",
              "      <td>53.76</td>\n",
              "      <td>61.67</td>\n",
              "      <td>85.93</td>\n",
              "      <td>60.96</td>\n",
              "      <td>61.00</td>\n",
              "    </tr>\n",
              "  </tbody>\n",
              "</table>\n",
              "</div>\n",
              "      <button class=\"colab-df-convert\" onclick=\"convertToInteractive('df-812f0991-8a38-4627-947a-60782886b4b6')\"\n",
              "              title=\"Convert this dataframe to an interactive table.\"\n",
              "              style=\"display:none;\">\n",
              "        \n",
              "  <svg xmlns=\"http://www.w3.org/2000/svg\" height=\"24px\"viewBox=\"0 0 24 24\"\n",
              "       width=\"24px\">\n",
              "    <path d=\"M0 0h24v24H0V0z\" fill=\"none\"/>\n",
              "    <path d=\"M18.56 5.44l.94 2.06.94-2.06 2.06-.94-2.06-.94-.94-2.06-.94 2.06-2.06.94zm-11 1L8.5 8.5l.94-2.06 2.06-.94-2.06-.94L8.5 2.5l-.94 2.06-2.06.94zm10 10l.94 2.06.94-2.06 2.06-.94-2.06-.94-.94-2.06-.94 2.06-2.06.94z\"/><path d=\"M17.41 7.96l-1.37-1.37c-.4-.4-.92-.59-1.43-.59-.52 0-1.04.2-1.43.59L10.3 9.45l-7.72 7.72c-.78.78-.78 2.05 0 2.83L4 21.41c.39.39.9.59 1.41.59.51 0 1.02-.2 1.41-.59l7.78-7.78 2.81-2.81c.8-.78.8-2.07 0-2.86zM5.41 20L4 18.59l7.72-7.72 1.47 1.35L5.41 20z\"/>\n",
              "  </svg>\n",
              "      </button>\n",
              "      \n",
              "  <style>\n",
              "    .colab-df-container {\n",
              "      display:flex;\n",
              "      flex-wrap:wrap;\n",
              "      gap: 12px;\n",
              "    }\n",
              "\n",
              "    .colab-df-convert {\n",
              "      background-color: #E8F0FE;\n",
              "      border: none;\n",
              "      border-radius: 50%;\n",
              "      cursor: pointer;\n",
              "      display: none;\n",
              "      fill: #1967D2;\n",
              "      height: 32px;\n",
              "      padding: 0 0 0 0;\n",
              "      width: 32px;\n",
              "    }\n",
              "\n",
              "    .colab-df-convert:hover {\n",
              "      background-color: #E2EBFA;\n",
              "      box-shadow: 0px 1px 2px rgba(60, 64, 67, 0.3), 0px 1px 3px 1px rgba(60, 64, 67, 0.15);\n",
              "      fill: #174EA6;\n",
              "    }\n",
              "\n",
              "    [theme=dark] .colab-df-convert {\n",
              "      background-color: #3B4455;\n",
              "      fill: #D2E3FC;\n",
              "    }\n",
              "\n",
              "    [theme=dark] .colab-df-convert:hover {\n",
              "      background-color: #434B5C;\n",
              "      box-shadow: 0px 1px 3px 1px rgba(0, 0, 0, 0.15);\n",
              "      filter: drop-shadow(0px 1px 2px rgba(0, 0, 0, 0.3));\n",
              "      fill: #FFFFFF;\n",
              "    }\n",
              "  </style>\n",
              "\n",
              "      <script>\n",
              "        const buttonEl =\n",
              "          document.querySelector('#df-812f0991-8a38-4627-947a-60782886b4b6 button.colab-df-convert');\n",
              "        buttonEl.style.display =\n",
              "          google.colab.kernel.accessAllowed ? 'block' : 'none';\n",
              "\n",
              "        async function convertToInteractive(key) {\n",
              "          const element = document.querySelector('#df-812f0991-8a38-4627-947a-60782886b4b6');\n",
              "          const dataTable =\n",
              "            await google.colab.kernel.invokeFunction('convertToInteractive',\n",
              "                                                     [key], {});\n",
              "          if (!dataTable) return;\n",
              "\n",
              "          const docLinkHtml = 'Like what you see? Visit the ' +\n",
              "            '<a target=\"_blank\" href=https://colab.research.google.com/notebooks/data_table.ipynb>data table notebook</a>'\n",
              "            + ' to learn more about interactive tables.';\n",
              "          element.innerHTML = '';\n",
              "          dataTable['output_type'] = 'display_data';\n",
              "          await google.colab.output.renderOutput(dataTable, element);\n",
              "          const docLink = document.createElement('div');\n",
              "          docLink.innerHTML = docLinkHtml;\n",
              "          element.appendChild(docLink);\n",
              "        }\n",
              "      </script>\n",
              "    </div>\n",
              "  </div>\n",
              "  "
            ]
          },
          "metadata": {},
          "execution_count": 30
        }
      ]
    },
    {
      "cell_type": "markdown",
      "source": [
        "COMMENT: There are no inconcistencies between the top 5 and bottom 5 rows"
      ],
      "metadata": {
        "id": "d1kLCjVfDEhW"
      }
    },
    {
      "cell_type": "code",
      "source": [
        "searise.describe()"
      ],
      "metadata": {
        "colab": {
          "base_uri": "https://localhost:8080/",
          "height": 468
        },
        "id": "3Gli5lav8mv1",
        "outputId": "3c6b0c89-3bfa-4ea8-b4a9-4308f2f6914d"
      },
      "execution_count": 31,
      "outputs": [
        {
          "output_type": "execute_result",
          "data": {
            "text/plain": [
              "       altimeter type  merged file cycle          year  \\\n",
              "count     1089.000000         1089.000000  1089.000000   \n",
              "mean        27.520661          555.531680  2007.795224   \n",
              "std        163.585840          314.943099     8.549933   \n",
              "min          0.000000           11.000000  1993.011526   \n",
              "25%          0.000000          283.000000  2000.396892   \n",
              "50%          0.000000          556.000000  2007.808860   \n",
              "75%          0.000000          828.000000  2015.192574   \n",
              "max        999.000000         1100.000000  2022.576288   \n",
              "\n",
              "       number of observations  number of weighted observations  \\\n",
              "count             1089.000000                      1089.000000   \n",
              "mean            448955.147842                    326923.708154   \n",
              "std              38552.890945                     27597.369465   \n",
              "min               1287.000000                       906.100000   \n",
              "25%             447428.000000                    327572.590000   \n",
              "50%             455195.000000                    332346.590000   \n",
              "75%             464021.000000                    335490.910000   \n",
              "max             472090.000000                    341334.090000   \n",
              "\n",
              "       GMSL variation no GIA (mm)  standard no GIA deviation of GMSL (mm)  \\\n",
              "count                 1089.000000                             1089.000000   \n",
              "mean                     6.535482                               87.037346   \n",
              "std                     27.589867                                5.442261   \n",
              "min                    -44.450000                               77.190000   \n",
              "25%                    -17.080000                               83.630000   \n",
              "50%                      2.900000                               86.000000   \n",
              "75%                     30.080000                               88.590000   \n",
              "max                     62.780000                              118.750000   \n",
              "\n",
              "       smoothed GMSL (mm)  GMSL variation (mm)  \\\n",
              "count         1089.000000          1089.000000   \n",
              "mean             6.584839            10.138154   \n",
              "std             27.408554            29.629657   \n",
              "min            -39.800000           -43.200000   \n",
              "25%            -16.870000           -15.360000   \n",
              "50%              3.030000             6.640000   \n",
              "75%             29.990000            35.740000   \n",
              "max             61.070000            69.820000   \n",
              "\n",
              "       standard deviation of GMSL (mm)  smoothed 60-day variation (mm)  \\\n",
              "count                      1089.000000                     1089.000000   \n",
              "mean                         87.093021                       10.186814   \n",
              "std                           5.475678                       29.455828   \n",
              "min                          77.190000                      -39.800000   \n",
              "25%                          83.740000                      -15.050000   \n",
              "50%                          86.070000                        6.800000   \n",
              "75%                          88.730000                       35.300000   \n",
              "max                         118.790000                       68.080000   \n",
              "\n",
              "       smoothed (mm) annual and semi-annual signal removed  \n",
              "count                                        1089.000000    \n",
              "mean                                           10.236189    \n",
              "std                                            29.307389    \n",
              "min                                           -39.090000    \n",
              "25%                                           -17.020000    \n",
              "50%                                             5.910000    \n",
              "75%                                            37.700000    \n",
              "max                                            63.670000    "
            ],
            "text/html": [
              "\n",
              "  <div id=\"df-9705378a-3515-46a8-87b0-ba489ab4d447\">\n",
              "    <div class=\"colab-df-container\">\n",
              "      <div>\n",
              "<style scoped>\n",
              "    .dataframe tbody tr th:only-of-type {\n",
              "        vertical-align: middle;\n",
              "    }\n",
              "\n",
              "    .dataframe tbody tr th {\n",
              "        vertical-align: top;\n",
              "    }\n",
              "\n",
              "    .dataframe thead th {\n",
              "        text-align: right;\n",
              "    }\n",
              "</style>\n",
              "<table border=\"1\" class=\"dataframe\">\n",
              "  <thead>\n",
              "    <tr style=\"text-align: right;\">\n",
              "      <th></th>\n",
              "      <th>altimeter type</th>\n",
              "      <th>merged file cycle</th>\n",
              "      <th>year</th>\n",
              "      <th>number of observations</th>\n",
              "      <th>number of weighted observations</th>\n",
              "      <th>GMSL variation no GIA (mm)</th>\n",
              "      <th>standard no GIA deviation of GMSL (mm)</th>\n",
              "      <th>smoothed GMSL (mm)</th>\n",
              "      <th>GMSL variation (mm)</th>\n",
              "      <th>standard deviation of GMSL (mm)</th>\n",
              "      <th>smoothed 60-day variation (mm)</th>\n",
              "      <th>smoothed (mm) annual and semi-annual signal removed</th>\n",
              "    </tr>\n",
              "  </thead>\n",
              "  <tbody>\n",
              "    <tr>\n",
              "      <th>count</th>\n",
              "      <td>1089.000000</td>\n",
              "      <td>1089.000000</td>\n",
              "      <td>1089.000000</td>\n",
              "      <td>1089.000000</td>\n",
              "      <td>1089.000000</td>\n",
              "      <td>1089.000000</td>\n",
              "      <td>1089.000000</td>\n",
              "      <td>1089.000000</td>\n",
              "      <td>1089.000000</td>\n",
              "      <td>1089.000000</td>\n",
              "      <td>1089.000000</td>\n",
              "      <td>1089.000000</td>\n",
              "    </tr>\n",
              "    <tr>\n",
              "      <th>mean</th>\n",
              "      <td>27.520661</td>\n",
              "      <td>555.531680</td>\n",
              "      <td>2007.795224</td>\n",
              "      <td>448955.147842</td>\n",
              "      <td>326923.708154</td>\n",
              "      <td>6.535482</td>\n",
              "      <td>87.037346</td>\n",
              "      <td>6.584839</td>\n",
              "      <td>10.138154</td>\n",
              "      <td>87.093021</td>\n",
              "      <td>10.186814</td>\n",
              "      <td>10.236189</td>\n",
              "    </tr>\n",
              "    <tr>\n",
              "      <th>std</th>\n",
              "      <td>163.585840</td>\n",
              "      <td>314.943099</td>\n",
              "      <td>8.549933</td>\n",
              "      <td>38552.890945</td>\n",
              "      <td>27597.369465</td>\n",
              "      <td>27.589867</td>\n",
              "      <td>5.442261</td>\n",
              "      <td>27.408554</td>\n",
              "      <td>29.629657</td>\n",
              "      <td>5.475678</td>\n",
              "      <td>29.455828</td>\n",
              "      <td>29.307389</td>\n",
              "    </tr>\n",
              "    <tr>\n",
              "      <th>min</th>\n",
              "      <td>0.000000</td>\n",
              "      <td>11.000000</td>\n",
              "      <td>1993.011526</td>\n",
              "      <td>1287.000000</td>\n",
              "      <td>906.100000</td>\n",
              "      <td>-44.450000</td>\n",
              "      <td>77.190000</td>\n",
              "      <td>-39.800000</td>\n",
              "      <td>-43.200000</td>\n",
              "      <td>77.190000</td>\n",
              "      <td>-39.800000</td>\n",
              "      <td>-39.090000</td>\n",
              "    </tr>\n",
              "    <tr>\n",
              "      <th>25%</th>\n",
              "      <td>0.000000</td>\n",
              "      <td>283.000000</td>\n",
              "      <td>2000.396892</td>\n",
              "      <td>447428.000000</td>\n",
              "      <td>327572.590000</td>\n",
              "      <td>-17.080000</td>\n",
              "      <td>83.630000</td>\n",
              "      <td>-16.870000</td>\n",
              "      <td>-15.360000</td>\n",
              "      <td>83.740000</td>\n",
              "      <td>-15.050000</td>\n",
              "      <td>-17.020000</td>\n",
              "    </tr>\n",
              "    <tr>\n",
              "      <th>50%</th>\n",
              "      <td>0.000000</td>\n",
              "      <td>556.000000</td>\n",
              "      <td>2007.808860</td>\n",
              "      <td>455195.000000</td>\n",
              "      <td>332346.590000</td>\n",
              "      <td>2.900000</td>\n",
              "      <td>86.000000</td>\n",
              "      <td>3.030000</td>\n",
              "      <td>6.640000</td>\n",
              "      <td>86.070000</td>\n",
              "      <td>6.800000</td>\n",
              "      <td>5.910000</td>\n",
              "    </tr>\n",
              "    <tr>\n",
              "      <th>75%</th>\n",
              "      <td>0.000000</td>\n",
              "      <td>828.000000</td>\n",
              "      <td>2015.192574</td>\n",
              "      <td>464021.000000</td>\n",
              "      <td>335490.910000</td>\n",
              "      <td>30.080000</td>\n",
              "      <td>88.590000</td>\n",
              "      <td>29.990000</td>\n",
              "      <td>35.740000</td>\n",
              "      <td>88.730000</td>\n",
              "      <td>35.300000</td>\n",
              "      <td>37.700000</td>\n",
              "    </tr>\n",
              "    <tr>\n",
              "      <th>max</th>\n",
              "      <td>999.000000</td>\n",
              "      <td>1100.000000</td>\n",
              "      <td>2022.576288</td>\n",
              "      <td>472090.000000</td>\n",
              "      <td>341334.090000</td>\n",
              "      <td>62.780000</td>\n",
              "      <td>118.750000</td>\n",
              "      <td>61.070000</td>\n",
              "      <td>69.820000</td>\n",
              "      <td>118.790000</td>\n",
              "      <td>68.080000</td>\n",
              "      <td>63.670000</td>\n",
              "    </tr>\n",
              "  </tbody>\n",
              "</table>\n",
              "</div>\n",
              "      <button class=\"colab-df-convert\" onclick=\"convertToInteractive('df-9705378a-3515-46a8-87b0-ba489ab4d447')\"\n",
              "              title=\"Convert this dataframe to an interactive table.\"\n",
              "              style=\"display:none;\">\n",
              "        \n",
              "  <svg xmlns=\"http://www.w3.org/2000/svg\" height=\"24px\"viewBox=\"0 0 24 24\"\n",
              "       width=\"24px\">\n",
              "    <path d=\"M0 0h24v24H0V0z\" fill=\"none\"/>\n",
              "    <path d=\"M18.56 5.44l.94 2.06.94-2.06 2.06-.94-2.06-.94-.94-2.06-.94 2.06-2.06.94zm-11 1L8.5 8.5l.94-2.06 2.06-.94-2.06-.94L8.5 2.5l-.94 2.06-2.06.94zm10 10l.94 2.06.94-2.06 2.06-.94-2.06-.94-.94-2.06-.94 2.06-2.06.94z\"/><path d=\"M17.41 7.96l-1.37-1.37c-.4-.4-.92-.59-1.43-.59-.52 0-1.04.2-1.43.59L10.3 9.45l-7.72 7.72c-.78.78-.78 2.05 0 2.83L4 21.41c.39.39.9.59 1.41.59.51 0 1.02-.2 1.41-.59l7.78-7.78 2.81-2.81c.8-.78.8-2.07 0-2.86zM5.41 20L4 18.59l7.72-7.72 1.47 1.35L5.41 20z\"/>\n",
              "  </svg>\n",
              "      </button>\n",
              "      \n",
              "  <style>\n",
              "    .colab-df-container {\n",
              "      display:flex;\n",
              "      flex-wrap:wrap;\n",
              "      gap: 12px;\n",
              "    }\n",
              "\n",
              "    .colab-df-convert {\n",
              "      background-color: #E8F0FE;\n",
              "      border: none;\n",
              "      border-radius: 50%;\n",
              "      cursor: pointer;\n",
              "      display: none;\n",
              "      fill: #1967D2;\n",
              "      height: 32px;\n",
              "      padding: 0 0 0 0;\n",
              "      width: 32px;\n",
              "    }\n",
              "\n",
              "    .colab-df-convert:hover {\n",
              "      background-color: #E2EBFA;\n",
              "      box-shadow: 0px 1px 2px rgba(60, 64, 67, 0.3), 0px 1px 3px 1px rgba(60, 64, 67, 0.15);\n",
              "      fill: #174EA6;\n",
              "    }\n",
              "\n",
              "    [theme=dark] .colab-df-convert {\n",
              "      background-color: #3B4455;\n",
              "      fill: #D2E3FC;\n",
              "    }\n",
              "\n",
              "    [theme=dark] .colab-df-convert:hover {\n",
              "      background-color: #434B5C;\n",
              "      box-shadow: 0px 1px 3px 1px rgba(0, 0, 0, 0.15);\n",
              "      filter: drop-shadow(0px 1px 2px rgba(0, 0, 0, 0.3));\n",
              "      fill: #FFFFFF;\n",
              "    }\n",
              "  </style>\n",
              "\n",
              "      <script>\n",
              "        const buttonEl =\n",
              "          document.querySelector('#df-9705378a-3515-46a8-87b0-ba489ab4d447 button.colab-df-convert');\n",
              "        buttonEl.style.display =\n",
              "          google.colab.kernel.accessAllowed ? 'block' : 'none';\n",
              "\n",
              "        async function convertToInteractive(key) {\n",
              "          const element = document.querySelector('#df-9705378a-3515-46a8-87b0-ba489ab4d447');\n",
              "          const dataTable =\n",
              "            await google.colab.kernel.invokeFunction('convertToInteractive',\n",
              "                                                     [key], {});\n",
              "          if (!dataTable) return;\n",
              "\n",
              "          const docLinkHtml = 'Like what you see? Visit the ' +\n",
              "            '<a target=\"_blank\" href=https://colab.research.google.com/notebooks/data_table.ipynb>data table notebook</a>'\n",
              "            + ' to learn more about interactive tables.';\n",
              "          element.innerHTML = '';\n",
              "          dataTable['output_type'] = 'display_data';\n",
              "          await google.colab.output.renderOutput(dataTable, element);\n",
              "          const docLink = document.createElement('div');\n",
              "          docLink.innerHTML = docLinkHtml;\n",
              "          element.appendChild(docLink);\n",
              "        }\n",
              "      </script>\n",
              "    </div>\n",
              "  </div>\n",
              "  "
            ]
          },
          "metadata": {},
          "execution_count": 31
        }
      ]
    },
    {
      "cell_type": "markdown",
      "source": [
        "COMMENT: The file contains 1089 valid rows for each of 12 columns, column values are diverse, with minima, media, and maxima ranging from negative values thorugh 1e6. Curiously, the altimeter type, which is a numerical column, has 25thand 75th quartiles equal to 0 in spite of a large range (max = 999) and large standard deviation"
      ],
      "metadata": {
        "id": "pIvsccioDKgW"
      }
    },
    {
      "cell_type": "markdown",
      "source": [
        "## Task 3 (6 points)\n",
        "How many columns and rows are in the dataframe (2 points), what are the data types (2 points), are there missing value (2 points)? \n",
        "\n",
        "*HINT: remember to wrap your answers in print statements, not just throw around outputs of code*"
      ],
      "metadata": {
        "id": "1IkvqVCREpOU"
      }
    },
    {
      "cell_type": "code",
      "source": [
        "searise.info()"
      ],
      "metadata": {
        "colab": {
          "base_uri": "https://localhost:8080/"
        },
        "id": "zam4c2v58iqT",
        "outputId": "953ecd1e-4e4a-4e41-85d4-ce01705dc61c"
      },
      "execution_count": 32,
      "outputs": [
        {
          "output_type": "stream",
          "name": "stdout",
          "text": [
            "<class 'pandas.core.frame.DataFrame'>\n",
            "RangeIndex: 1089 entries, 0 to 1088\n",
            "Data columns (total 12 columns):\n",
            " #   Column                                               Non-Null Count  Dtype  \n",
            "---  ------                                               --------------  -----  \n",
            " 0   altimeter type                                       1089 non-null   int64  \n",
            " 1   merged file cycle                                    1089 non-null   int64  \n",
            " 2   year                                                 1089 non-null   float64\n",
            " 3   number of observations                               1089 non-null   int64  \n",
            " 4   number of weighted observations                      1089 non-null   float64\n",
            " 5   GMSL variation no GIA (mm)                           1089 non-null   float64\n",
            " 6   standard no GIA deviation of GMSL (mm)               1089 non-null   float64\n",
            " 7   smoothed GMSL (mm)                                   1089 non-null   float64\n",
            " 8   GMSL variation (mm)                                  1089 non-null   float64\n",
            " 9   standard deviation of GMSL (mm)                      1089 non-null   float64\n",
            " 10  smoothed 60-day variation (mm)                       1089 non-null   float64\n",
            " 11  smoothed (mm) annual and semi-annual signal removed  1089 non-null   float64\n",
            "dtypes: float64(9), int64(3)\n",
            "memory usage: 102.2 KB\n"
          ]
        }
      ]
    },
    {
      "cell_type": "markdown",
      "source": [
        "COMMENT: all columns are numerical, either integer or floating point values. There are no missing values"
      ],
      "metadata": {
        "id": "57YMAA4tD2KZ"
      }
    },
    {
      "cell_type": "markdown",
      "source": [
        "## Task 4 (9 points)\n",
        "What is the year range over which data is available? print the first year and final year, ignoring the fraction of year (4 points)\n",
        "\n",
        "What is the total water rise _in inches_ over the time span of the data? Use the \"smoothed GMSL (mm)\"   column (5 points)\n",
        "\n",
        "*Hint: `smoothed GMSL (mm)` is measured in mm, and you can google up how many mm are in 1 inch*"
      ],
      "metadata": {
        "id": "e02CpB-sAfmt"
      }
    },
    {
      "cell_type": "code",
      "source": [
        "#conversion between mm and inches\n",
        "mm2inch = 0.0393701"
      ],
      "metadata": {
        "id": "hN_NrTenhxQ1"
      },
      "execution_count": 52,
      "outputs": []
    },
    {
      "cell_type": "code",
      "source": [
        "print(\"the time spanned by the data goes from  {:d} to {:d}\".format(\n",
        "      (int(searise[\"year\"].min())), int(searise[\"year\"].max())))"
      ],
      "metadata": {
        "colab": {
          "base_uri": "https://localhost:8080/"
        },
        "id": "9x1EaKgmAkSB",
        "outputId": "bab1baac-dc68-4610-834e-fcb1b8808917"
      },
      "execution_count": 53,
      "outputs": [
        {
          "output_type": "stream",
          "name": "stdout",
          "text": [
            "the time spanned by the data goes from  1993 to 2022\n"
          ]
        }
      ]
    },
    {
      "cell_type": "code",
      "source": [
        "print(\"earliest and latest sea rise\") #min and max are also a good option\n",
        "searise[\"smoothed GMSL (mm)\"].values[0], searise[\"smoothed GMSL (mm)\"].values[-1]"
      ],
      "metadata": {
        "colab": {
          "base_uri": "https://localhost:8080/"
        },
        "id": "cYVBp5cZ9LzD",
        "outputId": "7eb19777-f561-4f02-8681-cb09f2e67ed8"
      },
      "execution_count": 54,
      "outputs": [
        {
          "output_type": "stream",
          "name": "stdout",
          "text": [
            "earliest and latest sea rise\n"
          ]
        },
        {
          "output_type": "execute_result",
          "data": {
            "text/plain": [
              "(-38.78, 53.76)"
            ]
          },
          "metadata": {},
          "execution_count": 54
        }
      ]
    },
    {
      "cell_type": "code",
      "source": [
        "print(\"the total sea rise since 1993 is {:.1f} inches\".format(\n",
        "      (searise[\"smoothed GMSL (mm)\"].values[-1] - searise[\"smoothed GMSL (mm)\"].values[0]) * mm2inch))"
      ],
      "metadata": {
        "colab": {
          "base_uri": "https://localhost:8080/"
        },
        "id": "QT-ImVB8GmGs",
        "outputId": "7c7f9025-0364-4c6f-ba06-f2c13d5e5056"
      },
      "execution_count": 55,
      "outputs": [
        {
          "output_type": "stream",
          "name": "stdout",
          "text": [
            "the total sea rise since 1993 is 3.6 inches\n"
          ]
        }
      ]
    },
    {
      "cell_type": "markdown",
      "source": [
        "##Task 5 (5 points)\n",
        "\n",
        "The column \"number of observations\" records the number of observations that went into every measurement (every row). What is the total number of observations used? (5 points)"
      ],
      "metadata": {
        "id": "rXr4FY3yA6xI"
      }
    },
    {
      "cell_type": "code",
      "source": [
        "print(\"the total number of observations is:\", searise[\"number of observations\"].sum())"
      ],
      "metadata": {
        "colab": {
          "base_uri": "https://localhost:8080/"
        },
        "id": "OXMCjXGgAzEQ",
        "outputId": "c3a1fadf-8365-43a0-f98f-dcfbf837e1af"
      },
      "execution_count": 57,
      "outputs": [
        {
          "output_type": "stream",
          "name": "stdout",
          "text": [
            "the total number of observations is: 488912156\n"
          ]
        }
      ]
    },
    {
      "cell_type": "markdown",
      "source": [
        "##Task 6 (15 points)\n",
        "What columns are correlated above 75% (have a higher Pearson's correlation coefficient than 0.75) with `smoothed GMSL (mm)`\n",
        "\n",
        "1.   measure the correlation of all columns with each other (we did it with the movies dataset, videos, etc....) (5 points)\n",
        "2.   plot the correlation matrix (we did it in the same notebooks) (5 points)\n",
        "3.   list the column names for each column that has a higher correlation than 0.75 with `smoothed GMSL (mm)`  (5 points)\n",
        "\n",
        "*HINTS:*\n",
        "1. your plot should \n",
        "- have tick labels corrsponding to the name columns (you may want to look at the rotation=90 or rot=90 arguments in the xticks or xtick_labels and yticks or ytick_labels calls)\n",
        "- show a colorbar displaying the meaning of each color\n",
        "- use a divergent color map, e.g. \"Spectral\"\n",
        "- the limits of the colors should be the min and max mossible values of Pearson's correlation: (-1, 1) (look at the `clim()` argument)\n",
        "- Figures without captions do not get points. Make sure you write a caption (as a text cell) for each plot describing what the plot shows and anything that you think is noticeable about it\n",
        "\n",
        "2. you can do this by selecting the row corresponding to the `smoothed GMSL` for example using the `.loc[]` method of the dataframe. If you call that dataframe row (for example) `smoothedGMSL`, then you can select the column by a condition `df.smoothedGMSL > 0.75` \n",
        "\n",
        "\n"
      ],
      "metadata": {
        "id": "qBJNJIwDCfMf"
      }
    },
    {
      "cell_type": "code",
      "source": [
        "# the correlation of the dataframe\n",
        "searise.corr()"
      ],
      "metadata": {
        "colab": {
          "base_uri": "https://localhost:8080/",
          "height": 1000
        },
        "id": "OGE-mErs87S0",
        "outputId": "0abd665e-47ee-466d-bc8c-45e75fb7f90e"
      },
      "execution_count": 58,
      "outputs": [
        {
          "output_type": "execute_result",
          "data": {
            "text/plain": [
              "                                                    altimeter type  \\\n",
              "altimeter type                                            1.000000   \n",
              "merged file cycle                                        -0.208838   \n",
              "year                                                     -0.208838   \n",
              "number of observations                                   -0.255563   \n",
              "number of weighted observations                          -0.241595   \n",
              "GMSL variation no GIA (mm)                               -0.205996   \n",
              "standard no GIA deviation of GMSL (mm)                    0.209119   \n",
              "smoothed GMSL (mm)                                       -0.196032   \n",
              "GMSL variation (mm)                                      -0.206371   \n",
              "standard deviation of GMSL (mm)                           0.206120   \n",
              "smoothed 60-day variation (mm)                           -0.197177   \n",
              "smoothed (mm) annual and semi-annual signal rem...       -0.198688   \n",
              "\n",
              "                                                    merged file cycle   \\\n",
              "altimeter type                                               -0.208838   \n",
              "merged file cycle                                             1.000000   \n",
              "year                                                          1.000000   \n",
              "number of observations                                        0.115811   \n",
              "number of weighted observations                               0.124768   \n",
              "GMSL variation no GIA (mm)                                    0.979012   \n",
              "standard no GIA deviation of GMSL (mm)                       -0.059567   \n",
              "smoothed GMSL (mm)                                            0.982479   \n",
              "GMSL variation (mm)                                           0.981844   \n",
              "standard deviation of GMSL (mm)                              -0.049164   \n",
              "smoothed 60-day variation (mm)                                0.984856   \n",
              "smoothed (mm) annual and semi-annual signal rem...            0.990111   \n",
              "\n",
              "                                                        year  \\\n",
              "altimeter type                                     -0.208838   \n",
              "merged file cycle                                   1.000000   \n",
              "year                                                1.000000   \n",
              "number of observations                              0.115808   \n",
              "number of weighted observations                     0.124765   \n",
              "GMSL variation no GIA (mm)                          0.979011   \n",
              "standard no GIA deviation of GMSL (mm)             -0.059559   \n",
              "smoothed GMSL (mm)                                  0.982479   \n",
              "GMSL variation (mm)                                 0.981843   \n",
              "standard deviation of GMSL (mm)                    -0.049156   \n",
              "smoothed 60-day variation (mm)                      0.984855   \n",
              "smoothed (mm) annual and semi-annual signal rem...  0.990110   \n",
              "\n",
              "                                                    number of observations  \\\n",
              "altimeter type                                                   -0.255563   \n",
              "merged file cycle                                                 0.115811   \n",
              "year                                                              0.115808   \n",
              "number of observations                                            1.000000   \n",
              "number of weighted observations                                   0.990815   \n",
              "GMSL variation no GIA (mm)                                        0.101228   \n",
              "standard no GIA deviation of GMSL (mm)                           -0.079837   \n",
              "smoothed GMSL (mm)                                                0.092191   \n",
              "GMSL variation (mm)                                               0.102055   \n",
              "standard deviation of GMSL (mm)                                  -0.081481   \n",
              "smoothed 60-day variation (mm)                                    0.093925   \n",
              "smoothed (mm) annual and semi-annual signal rem...                0.110930   \n",
              "\n",
              "                                                    number of weighted observations  \\\n",
              "altimeter type                                                            -0.241595   \n",
              "merged file cycle                                                          0.124768   \n",
              "year                                                                       0.124765   \n",
              "number of observations                                                     0.990815   \n",
              "number of weighted observations                                            1.000000   \n",
              "GMSL variation no GIA (mm)                                                 0.120233   \n",
              "standard no GIA deviation of GMSL (mm)                                    -0.067049   \n",
              "smoothed GMSL (mm)                                                         0.110352   \n",
              "GMSL variation (mm)                                                        0.120398   \n",
              "standard deviation of GMSL (mm)                                           -0.065422   \n",
              "smoothed 60-day variation (mm)                                             0.111476   \n",
              "smoothed (mm) annual and semi-annual signal rem...                         0.118179   \n",
              "\n",
              "                                                    GMSL variation no GIA (mm)  \\\n",
              "altimeter type                                                       -0.205996   \n",
              "merged file cycle                                                     0.979012   \n",
              "year                                                                  0.979011   \n",
              "number of observations                                                0.101228   \n",
              "number of weighted observations                                       0.120233   \n",
              "GMSL variation no GIA (mm)                                            1.000000   \n",
              "standard no GIA deviation of GMSL (mm)                                0.014801   \n",
              "smoothed GMSL (mm)                                                    0.997839   \n",
              "GMSL variation (mm)                                                   0.999896   \n",
              "standard deviation of GMSL (mm)                                       0.028592   \n",
              "smoothed 60-day variation (mm)                                        0.997658   \n",
              "smoothed (mm) annual and semi-annual signal rem...                    0.990525   \n",
              "\n",
              "                                                    standard no GIA deviation of GMSL (mm)  \\\n",
              "altimeter type                                                                    0.209119   \n",
              "merged file cycle                                                                -0.059567   \n",
              "year                                                                             -0.059559   \n",
              "number of observations                                                           -0.079837   \n",
              "number of weighted observations                                                  -0.067049   \n",
              "GMSL variation no GIA (mm)                                                        0.014801   \n",
              "standard no GIA deviation of GMSL (mm)                                            1.000000   \n",
              "smoothed GMSL (mm)                                                                0.010004   \n",
              "GMSL variation (mm)                                                               0.009547   \n",
              "standard deviation of GMSL (mm)                                                   0.999264   \n",
              "smoothed 60-day variation (mm)                                                    0.005065   \n",
              "smoothed (mm) annual and semi-annual signal rem...                               -0.020512   \n",
              "\n",
              "                                                    smoothed GMSL (mm)  \\\n",
              "altimeter type                                               -0.196032   \n",
              "merged file cycle                                             0.982479   \n",
              "year                                                          0.982479   \n",
              "number of observations                                        0.092191   \n",
              "number of weighted observations                               0.110352   \n",
              "GMSL variation no GIA (mm)                                    0.997839   \n",
              "standard no GIA deviation of GMSL (mm)                        0.010004   \n",
              "smoothed GMSL (mm)                                            1.000000   \n",
              "GMSL variation (mm)                                           0.998140   \n",
              "standard deviation of GMSL (mm)                               0.023752   \n",
              "smoothed 60-day variation (mm)                                0.999913   \n",
              "smoothed (mm) annual and semi-annual signal rem...            0.993694   \n",
              "\n",
              "                                                    GMSL variation (mm)  \\\n",
              "altimeter type                                                -0.206371   \n",
              "merged file cycle                                              0.981844   \n",
              "year                                                           0.981843   \n",
              "number of observations                                         0.102055   \n",
              "number of weighted observations                                0.120398   \n",
              "GMSL variation no GIA (mm)                                     0.999896   \n",
              "standard no GIA deviation of GMSL (mm)                         0.009547   \n",
              "smoothed GMSL (mm)                                             0.998140   \n",
              "GMSL variation (mm)                                            1.000000   \n",
              "standard deviation of GMSL (mm)                                0.023121   \n",
              "smoothed 60-day variation (mm)                                 0.998139   \n",
              "smoothed (mm) annual and semi-annual signal rem...             0.991863   \n",
              "\n",
              "                                                    standard deviation of GMSL (mm)  \\\n",
              "altimeter type                                                             0.206120   \n",
              "merged file cycle                                                         -0.049164   \n",
              "year                                                                      -0.049156   \n",
              "number of observations                                                    -0.081481   \n",
              "number of weighted observations                                           -0.065422   \n",
              "GMSL variation no GIA (mm)                                                 0.028592   \n",
              "standard no GIA deviation of GMSL (mm)                                     0.999264   \n",
              "smoothed GMSL (mm)                                                         0.023752   \n",
              "GMSL variation (mm)                                                        0.023121   \n",
              "standard deviation of GMSL (mm)                                            1.000000   \n",
              "smoothed 60-day variation (mm)                                             0.018595   \n",
              "smoothed (mm) annual and semi-annual signal rem...                        -0.009340   \n",
              "\n",
              "                                                    smoothed 60-day variation (mm)  \\\n",
              "altimeter type                                                           -0.197177   \n",
              "merged file cycle                                                         0.984856   \n",
              "year                                                                      0.984855   \n",
              "number of observations                                                    0.093925   \n",
              "number of weighted observations                                           0.111476   \n",
              "GMSL variation no GIA (mm)                                                0.997658   \n",
              "standard no GIA deviation of GMSL (mm)                                    0.005065   \n",
              "smoothed GMSL (mm)                                                        0.999913   \n",
              "GMSL variation (mm)                                                       0.998139   \n",
              "standard deviation of GMSL (mm)                                           0.018595   \n",
              "smoothed 60-day variation (mm)                                            1.000000   \n",
              "smoothed (mm) annual and semi-annual signal rem...                        0.994584   \n",
              "\n",
              "                                                    smoothed (mm) annual and semi-annual signal removed  \n",
              "altimeter type                                                                              -0.198688    \n",
              "merged file cycle                                                                            0.990111    \n",
              "year                                                                                         0.990110    \n",
              "number of observations                                                                       0.110930    \n",
              "number of weighted observations                                                              0.118179    \n",
              "GMSL variation no GIA (mm)                                                                   0.990525    \n",
              "standard no GIA deviation of GMSL (mm)                                                      -0.020512    \n",
              "smoothed GMSL (mm)                                                                           0.993694    \n",
              "GMSL variation (mm)                                                                          0.991863    \n",
              "standard deviation of GMSL (mm)                                                             -0.009340    \n",
              "smoothed 60-day variation (mm)                                                               0.994584    \n",
              "smoothed (mm) annual and semi-annual signal rem...                                           1.000000    "
            ],
            "text/html": [
              "\n",
              "  <div id=\"df-3bd917f4-b649-4adc-b741-0ee42c6fccbd\">\n",
              "    <div class=\"colab-df-container\">\n",
              "      <div>\n",
              "<style scoped>\n",
              "    .dataframe tbody tr th:only-of-type {\n",
              "        vertical-align: middle;\n",
              "    }\n",
              "\n",
              "    .dataframe tbody tr th {\n",
              "        vertical-align: top;\n",
              "    }\n",
              "\n",
              "    .dataframe thead th {\n",
              "        text-align: right;\n",
              "    }\n",
              "</style>\n",
              "<table border=\"1\" class=\"dataframe\">\n",
              "  <thead>\n",
              "    <tr style=\"text-align: right;\">\n",
              "      <th></th>\n",
              "      <th>altimeter type</th>\n",
              "      <th>merged file cycle</th>\n",
              "      <th>year</th>\n",
              "      <th>number of observations</th>\n",
              "      <th>number of weighted observations</th>\n",
              "      <th>GMSL variation no GIA (mm)</th>\n",
              "      <th>standard no GIA deviation of GMSL (mm)</th>\n",
              "      <th>smoothed GMSL (mm)</th>\n",
              "      <th>GMSL variation (mm)</th>\n",
              "      <th>standard deviation of GMSL (mm)</th>\n",
              "      <th>smoothed 60-day variation (mm)</th>\n",
              "      <th>smoothed (mm) annual and semi-annual signal removed</th>\n",
              "    </tr>\n",
              "  </thead>\n",
              "  <tbody>\n",
              "    <tr>\n",
              "      <th>altimeter type</th>\n",
              "      <td>1.000000</td>\n",
              "      <td>-0.208838</td>\n",
              "      <td>-0.208838</td>\n",
              "      <td>-0.255563</td>\n",
              "      <td>-0.241595</td>\n",
              "      <td>-0.205996</td>\n",
              "      <td>0.209119</td>\n",
              "      <td>-0.196032</td>\n",
              "      <td>-0.206371</td>\n",
              "      <td>0.206120</td>\n",
              "      <td>-0.197177</td>\n",
              "      <td>-0.198688</td>\n",
              "    </tr>\n",
              "    <tr>\n",
              "      <th>merged file cycle</th>\n",
              "      <td>-0.208838</td>\n",
              "      <td>1.000000</td>\n",
              "      <td>1.000000</td>\n",
              "      <td>0.115811</td>\n",
              "      <td>0.124768</td>\n",
              "      <td>0.979012</td>\n",
              "      <td>-0.059567</td>\n",
              "      <td>0.982479</td>\n",
              "      <td>0.981844</td>\n",
              "      <td>-0.049164</td>\n",
              "      <td>0.984856</td>\n",
              "      <td>0.990111</td>\n",
              "    </tr>\n",
              "    <tr>\n",
              "      <th>year</th>\n",
              "      <td>-0.208838</td>\n",
              "      <td>1.000000</td>\n",
              "      <td>1.000000</td>\n",
              "      <td>0.115808</td>\n",
              "      <td>0.124765</td>\n",
              "      <td>0.979011</td>\n",
              "      <td>-0.059559</td>\n",
              "      <td>0.982479</td>\n",
              "      <td>0.981843</td>\n",
              "      <td>-0.049156</td>\n",
              "      <td>0.984855</td>\n",
              "      <td>0.990110</td>\n",
              "    </tr>\n",
              "    <tr>\n",
              "      <th>number of observations</th>\n",
              "      <td>-0.255563</td>\n",
              "      <td>0.115811</td>\n",
              "      <td>0.115808</td>\n",
              "      <td>1.000000</td>\n",
              "      <td>0.990815</td>\n",
              "      <td>0.101228</td>\n",
              "      <td>-0.079837</td>\n",
              "      <td>0.092191</td>\n",
              "      <td>0.102055</td>\n",
              "      <td>-0.081481</td>\n",
              "      <td>0.093925</td>\n",
              "      <td>0.110930</td>\n",
              "    </tr>\n",
              "    <tr>\n",
              "      <th>number of weighted observations</th>\n",
              "      <td>-0.241595</td>\n",
              "      <td>0.124768</td>\n",
              "      <td>0.124765</td>\n",
              "      <td>0.990815</td>\n",
              "      <td>1.000000</td>\n",
              "      <td>0.120233</td>\n",
              "      <td>-0.067049</td>\n",
              "      <td>0.110352</td>\n",
              "      <td>0.120398</td>\n",
              "      <td>-0.065422</td>\n",
              "      <td>0.111476</td>\n",
              "      <td>0.118179</td>\n",
              "    </tr>\n",
              "    <tr>\n",
              "      <th>GMSL variation no GIA (mm)</th>\n",
              "      <td>-0.205996</td>\n",
              "      <td>0.979012</td>\n",
              "      <td>0.979011</td>\n",
              "      <td>0.101228</td>\n",
              "      <td>0.120233</td>\n",
              "      <td>1.000000</td>\n",
              "      <td>0.014801</td>\n",
              "      <td>0.997839</td>\n",
              "      <td>0.999896</td>\n",
              "      <td>0.028592</td>\n",
              "      <td>0.997658</td>\n",
              "      <td>0.990525</td>\n",
              "    </tr>\n",
              "    <tr>\n",
              "      <th>standard no GIA deviation of GMSL (mm)</th>\n",
              "      <td>0.209119</td>\n",
              "      <td>-0.059567</td>\n",
              "      <td>-0.059559</td>\n",
              "      <td>-0.079837</td>\n",
              "      <td>-0.067049</td>\n",
              "      <td>0.014801</td>\n",
              "      <td>1.000000</td>\n",
              "      <td>0.010004</td>\n",
              "      <td>0.009547</td>\n",
              "      <td>0.999264</td>\n",
              "      <td>0.005065</td>\n",
              "      <td>-0.020512</td>\n",
              "    </tr>\n",
              "    <tr>\n",
              "      <th>smoothed GMSL (mm)</th>\n",
              "      <td>-0.196032</td>\n",
              "      <td>0.982479</td>\n",
              "      <td>0.982479</td>\n",
              "      <td>0.092191</td>\n",
              "      <td>0.110352</td>\n",
              "      <td>0.997839</td>\n",
              "      <td>0.010004</td>\n",
              "      <td>1.000000</td>\n",
              "      <td>0.998140</td>\n",
              "      <td>0.023752</td>\n",
              "      <td>0.999913</td>\n",
              "      <td>0.993694</td>\n",
              "    </tr>\n",
              "    <tr>\n",
              "      <th>GMSL variation (mm)</th>\n",
              "      <td>-0.206371</td>\n",
              "      <td>0.981844</td>\n",
              "      <td>0.981843</td>\n",
              "      <td>0.102055</td>\n",
              "      <td>0.120398</td>\n",
              "      <td>0.999896</td>\n",
              "      <td>0.009547</td>\n",
              "      <td>0.998140</td>\n",
              "      <td>1.000000</td>\n",
              "      <td>0.023121</td>\n",
              "      <td>0.998139</td>\n",
              "      <td>0.991863</td>\n",
              "    </tr>\n",
              "    <tr>\n",
              "      <th>standard deviation of GMSL (mm)</th>\n",
              "      <td>0.206120</td>\n",
              "      <td>-0.049164</td>\n",
              "      <td>-0.049156</td>\n",
              "      <td>-0.081481</td>\n",
              "      <td>-0.065422</td>\n",
              "      <td>0.028592</td>\n",
              "      <td>0.999264</td>\n",
              "      <td>0.023752</td>\n",
              "      <td>0.023121</td>\n",
              "      <td>1.000000</td>\n",
              "      <td>0.018595</td>\n",
              "      <td>-0.009340</td>\n",
              "    </tr>\n",
              "    <tr>\n",
              "      <th>smoothed 60-day variation (mm)</th>\n",
              "      <td>-0.197177</td>\n",
              "      <td>0.984856</td>\n",
              "      <td>0.984855</td>\n",
              "      <td>0.093925</td>\n",
              "      <td>0.111476</td>\n",
              "      <td>0.997658</td>\n",
              "      <td>0.005065</td>\n",
              "      <td>0.999913</td>\n",
              "      <td>0.998139</td>\n",
              "      <td>0.018595</td>\n",
              "      <td>1.000000</td>\n",
              "      <td>0.994584</td>\n",
              "    </tr>\n",
              "    <tr>\n",
              "      <th>smoothed (mm) annual and semi-annual signal removed</th>\n",
              "      <td>-0.198688</td>\n",
              "      <td>0.990111</td>\n",
              "      <td>0.990110</td>\n",
              "      <td>0.110930</td>\n",
              "      <td>0.118179</td>\n",
              "      <td>0.990525</td>\n",
              "      <td>-0.020512</td>\n",
              "      <td>0.993694</td>\n",
              "      <td>0.991863</td>\n",
              "      <td>-0.009340</td>\n",
              "      <td>0.994584</td>\n",
              "      <td>1.000000</td>\n",
              "    </tr>\n",
              "  </tbody>\n",
              "</table>\n",
              "</div>\n",
              "      <button class=\"colab-df-convert\" onclick=\"convertToInteractive('df-3bd917f4-b649-4adc-b741-0ee42c6fccbd')\"\n",
              "              title=\"Convert this dataframe to an interactive table.\"\n",
              "              style=\"display:none;\">\n",
              "        \n",
              "  <svg xmlns=\"http://www.w3.org/2000/svg\" height=\"24px\"viewBox=\"0 0 24 24\"\n",
              "       width=\"24px\">\n",
              "    <path d=\"M0 0h24v24H0V0z\" fill=\"none\"/>\n",
              "    <path d=\"M18.56 5.44l.94 2.06.94-2.06 2.06-.94-2.06-.94-.94-2.06-.94 2.06-2.06.94zm-11 1L8.5 8.5l.94-2.06 2.06-.94-2.06-.94L8.5 2.5l-.94 2.06-2.06.94zm10 10l.94 2.06.94-2.06 2.06-.94-2.06-.94-.94-2.06-.94 2.06-2.06.94z\"/><path d=\"M17.41 7.96l-1.37-1.37c-.4-.4-.92-.59-1.43-.59-.52 0-1.04.2-1.43.59L10.3 9.45l-7.72 7.72c-.78.78-.78 2.05 0 2.83L4 21.41c.39.39.9.59 1.41.59.51 0 1.02-.2 1.41-.59l7.78-7.78 2.81-2.81c.8-.78.8-2.07 0-2.86zM5.41 20L4 18.59l7.72-7.72 1.47 1.35L5.41 20z\"/>\n",
              "  </svg>\n",
              "      </button>\n",
              "      \n",
              "  <style>\n",
              "    .colab-df-container {\n",
              "      display:flex;\n",
              "      flex-wrap:wrap;\n",
              "      gap: 12px;\n",
              "    }\n",
              "\n",
              "    .colab-df-convert {\n",
              "      background-color: #E8F0FE;\n",
              "      border: none;\n",
              "      border-radius: 50%;\n",
              "      cursor: pointer;\n",
              "      display: none;\n",
              "      fill: #1967D2;\n",
              "      height: 32px;\n",
              "      padding: 0 0 0 0;\n",
              "      width: 32px;\n",
              "    }\n",
              "\n",
              "    .colab-df-convert:hover {\n",
              "      background-color: #E2EBFA;\n",
              "      box-shadow: 0px 1px 2px rgba(60, 64, 67, 0.3), 0px 1px 3px 1px rgba(60, 64, 67, 0.15);\n",
              "      fill: #174EA6;\n",
              "    }\n",
              "\n",
              "    [theme=dark] .colab-df-convert {\n",
              "      background-color: #3B4455;\n",
              "      fill: #D2E3FC;\n",
              "    }\n",
              "\n",
              "    [theme=dark] .colab-df-convert:hover {\n",
              "      background-color: #434B5C;\n",
              "      box-shadow: 0px 1px 3px 1px rgba(0, 0, 0, 0.15);\n",
              "      filter: drop-shadow(0px 1px 2px rgba(0, 0, 0, 0.3));\n",
              "      fill: #FFFFFF;\n",
              "    }\n",
              "  </style>\n",
              "\n",
              "      <script>\n",
              "        const buttonEl =\n",
              "          document.querySelector('#df-3bd917f4-b649-4adc-b741-0ee42c6fccbd button.colab-df-convert');\n",
              "        buttonEl.style.display =\n",
              "          google.colab.kernel.accessAllowed ? 'block' : 'none';\n",
              "\n",
              "        async function convertToInteractive(key) {\n",
              "          const element = document.querySelector('#df-3bd917f4-b649-4adc-b741-0ee42c6fccbd');\n",
              "          const dataTable =\n",
              "            await google.colab.kernel.invokeFunction('convertToInteractive',\n",
              "                                                     [key], {});\n",
              "          if (!dataTable) return;\n",
              "\n",
              "          const docLinkHtml = 'Like what you see? Visit the ' +\n",
              "            '<a target=\"_blank\" href=https://colab.research.google.com/notebooks/data_table.ipynb>data table notebook</a>'\n",
              "            + ' to learn more about interactive tables.';\n",
              "          element.innerHTML = '';\n",
              "          dataTable['output_type'] = 'display_data';\n",
              "          await google.colab.output.renderOutput(dataTable, element);\n",
              "          const docLink = document.createElement('div');\n",
              "          docLink.innerHTML = docLinkHtml;\n",
              "          element.appendChild(docLink);\n",
              "        }\n",
              "      </script>\n",
              "    </div>\n",
              "  </div>\n",
              "  "
            ]
          },
          "metadata": {},
          "execution_count": 58
        }
      ]
    },
    {
      "cell_type": "code",
      "source": [
        "plt.imshow(searise.corr(), cmap=\"Spectral_r\", clim=(-1,1));\n",
        "plt.colorbar();\n",
        "plt.xticks(range(len(column_names)), column_names, rotation=45, ha=\"right\")\n",
        "plt.yticks(range(len(column_names)), column_names);"
      ],
      "metadata": {
        "colab": {
          "base_uri": "https://localhost:8080/",
          "height": 467
        },
        "id": "00CKJlhi9CZ3",
        "outputId": "7a08a3ee-ae47-407f-c20e-c61ac54a5aaf"
      },
      "execution_count": 61,
      "outputs": [
        {
          "output_type": "display_data",
          "data": {
            "text/plain": [
              "<Figure size 432x288 with 2 Axes>"
            ],
            "image/png": "[encoded data removed]"
          },
          "metadata": {
            "needs_background": "light"
          }
        }
      ]
    },
    {
      "cell_type": "markdown",
      "source": [
        "Figure 1: all the columns range from no correlation to strong positive correlation with each other. `Merged file cycle` and `year` are strongly correlated: that is a trivial correlation as both mark passing time. The number of observation and weighted observations are not correlated with anything.\n",
        "\n",
        "More interesting is the correlation between time variables (`year` and `merged file cycle`) are correlated with all masures sea level `GMSL variation no GIA (mm)`,`smoothed GMSL (mm)` (but not with the measures of their variation, e.g. `standard deviation of GMSL (mm)`). This justify our linear modeling of the sea rise as endonous variable and time as exogenous variable."
      ],
      "metadata": {
        "id": "jSnE2F0NEZGE"
      }
    },
    {
      "cell_type": "code",
      "source": [
        "smoothedGMSL = searise.corr().loc[\"smoothed GMSL (mm)\"]\n",
        "print(\"the variables correlated strongly (Pearson's>0.75) with `smooth GMSL` are:\")\n",
        "print(\"Variable name\\t\\t\\t\\t\\t      correlation\")\n",
        "smoothedGMSL[smoothedGMSL > 0.75]"
      ],
      "metadata": {
        "colab": {
          "base_uri": "https://localhost:8080/"
        },
        "id": "M9lmZTLBDNJX",
        "outputId": "279da06e-8623-41d9-de3e-17d9ea4e7745"
      },
      "execution_count": 71,
      "outputs": [
        {
          "output_type": "stream",
          "name": "stdout",
          "text": [
            "the variables correlated strongly (Pearson's>0.75) with `smooth GMSL` are:\n",
            "Variable name\t\t\t\t\t      correlation\n"
          ]
        },
        {
          "output_type": "execute_result",
          "data": {
            "text/plain": [
              "merged file cycle                                      0.982479\n",
              "year                                                   0.982479\n",
              "GMSL variation no GIA (mm)                             0.997839\n",
              "smoothed GMSL (mm)                                     1.000000\n",
              "GMSL variation (mm)                                    0.998140\n",
              "smoothed 60-day variation (mm)                         0.999913\n",
              "smoothed (mm) annual and semi-annual signal removed    0.993694\n",
              "Name: smoothed GMSL (mm), dtype: float64"
            ]
          },
          "metadata": {},
          "execution_count": 71
        }
      ]
    },
    {
      "cell_type": "markdown",
      "source": [
        "# Visualize the data : 20 points"
      ],
      "metadata": {
        "id": "rUs3vg3HFXN6"
      }
    },
    {
      "cell_type": "markdown",
      "source": [
        "## Task 7 (20 points)\n",
        "Plot time series: make separate plots of the \"GMSL variation no GIA (mm)\", \"smoothed GMSL (mm)\", and \"GMSL variation (mm)\" against the year\n",
        "\n",
        "*HINT: make sure your plots have axes labels.*\n",
        "\n",
        "*HINT:  Figures without captions do not get points. Make sure you write a caption (as a text cell) for each plot describing what the plot shows and anything that you think is noticeable about it.*\n"
      ],
      "metadata": {
        "id": "Fg5QL5bhDB9q"
      }
    },
    {
      "cell_type": "code",
      "source": [
        "ax = searise.plot(x=\"year\", y=\"GMSL variation no GIA (mm)\")\n",
        "ax.set_ylabel(\"sea; level\");"
      ],
      "metadata": {
        "colab": {
          "base_uri": "https://localhost:8080/",
          "height": 279
        },
        "id": "MgQk-02292xM",
        "outputId": "9e7d5915-40d1-4eed-84b3-1a100807c31c"
      },
      "execution_count": 50,
      "outputs": [
        {
          "output_type": "display_data",
          "data": {
            "text/plain": [
              "<Figure size 432x288 with 1 Axes>"
            ],
            "image/png": "[encoded data removed]"
          },
          "metadata": {
            "needs_background": "light"
          }
        }
      ]
    },
    {
      "cell_type": "markdown",
      "source": [
        "Figure 2: time series of sea rise measured as GMSL variation with no GIA correction in mm against time from 1993 through 2022. Seasonal patterns are obvious as is a general increasing trend with time."
      ],
      "metadata": {
        "id": "ULxbtURxGoaX"
      }
    },
    {
      "cell_type": "code",
      "source": [
        "ax = searise.plot(x=\"year\", y=\"smoothed GMSL (mm)\")\n",
        "ax.set_ylabel(\"sea level\");"
      ],
      "metadata": {
        "colab": {
          "base_uri": "https://localhost:8080/",
          "height": 279
        },
        "id": "gqrdf78s-Hah",
        "outputId": "89d2e332-8e8d-4b4e-bae6-89eddc02da32"
      },
      "execution_count": 42,
      "outputs": [
        {
          "output_type": "display_data",
          "data": {
            "text/plain": [
              "<Figure size 432x288 with 1 Axes>"
            ],
            "image/png": "[encoded data removed]"
          },
          "metadata": {
            "needs_background": "light"
          }
        }
      ]
    },
    {
      "cell_type": "markdown",
      "source": [
        "Figure 3: as Figure 2 but for Smoothed GMSL instead of raw GMSL. The smoothed time series shows the seasonal patterns more obviously and makes a few unusual patterns visible around year 2000, 2012, and 2017"
      ],
      "metadata": {
        "id": "sPewawCXG2sS"
      }
    },
    {
      "cell_type": "code",
      "source": [
        "ax = searise.plot(x=\"year\", y=\"GMSL variation (mm)\")\n",
        "ax.set_ylabel(\"sea level\");"
      ],
      "metadata": {
        "colab": {
          "base_uri": "https://localhost:8080/",
          "height": 279
        },
        "id": "p-znYaeZ-STJ",
        "outputId": "e5091b08-336a-40e1-e089-283eec1d4e56"
      },
      "execution_count": 43,
      "outputs": [
        {
          "output_type": "display_data",
          "data": {
            "text/plain": [
              "<Figure size 432x288 with 1 Axes>"
            ],
            "image/png": "[encoded data removed]"
          },
          "metadata": {
            "needs_background": "light"
          }
        }
      ]
    },
    {
      "cell_type": "markdown",
      "source": [
        "Figure 4: as Figure 2 and 3 for  sea rise measured as GMSL variation with GIA correction. Differences between GMSL variation and GSML variation with GIA correction are not obvious by eye."
      ],
      "metadata": {
        "id": "EfHFDcv5HLO4"
      }
    },
    {
      "cell_type": "markdown",
      "source": [
        "# Model the data and make predictions: 20 points"
      ],
      "metadata": {
        "id": "vzmAN9O-FftB"
      }
    },
    {
      "cell_type": "markdown",
      "source": [
        "## Task 8 (15 points)\n",
        "Make a model:\n",
        "choosing whichever method or function you prefer, fit each of the three variables you plotted in Task 7 with a **line fit** to time (years) (2 points for each variable).\n",
        "\n",
        "For each model show a measure of goodness of fit your choice: it could be the R2 for statsmodels, the score for SKlearn, or a function that you write  (2 points for each variable for which you do this).\n",
        "\n",
        "Answer the question and justify your answer: which is the best model? (3 points)\n",
        "\n"
      ],
      "metadata": {
        "id": "_Xe2qKbNDuKo"
      }
    },
    {
      "cell_type": "markdown",
      "source": [
        "### Using sklearn"
      ],
      "metadata": {
        "id": "YaevEubGIH4q"
      }
    },
    {
      "cell_type": "code",
      "source": [
        "model1skl = skl.LinearRegression().fit(searise[\"year\"].values.reshape(-1,1), \n",
        "                           searise[\"smoothed GMSL (mm)\"])\n",
        "print (\"Linear model score for fit to smoothed GMSL {:.2f}\".format(\n",
        "model1skl.score(searise[\"year\"].values.reshape(-1,1), \n",
        "                           searise[\"smoothed GMSL (mm)\"])))"
      ],
      "metadata": {
        "colab": {
          "base_uri": "https://localhost:8080/"
        },
        "id": "3aUSrdrG7mFn",
        "outputId": "910f85c5-d03e-4544-bcb8-96a6aa0aaf55"
      },
      "execution_count": 192,
      "outputs": [
        {
          "output_type": "stream",
          "name": "stdout",
          "text": [
            "Linear model score for fit to smoothed GMSL 0.97\n"
          ]
        }
      ]
    },
    {
      "cell_type": "code",
      "source": [
        "model2skl = skl.LinearRegression().fit(searise[\"year\"].values.reshape(-1,1), \n",
        "                           searise[\"GMSL variation no GIA (mm)\"])\n",
        "print (\"Linear model score for fit to GMSL variation no GIA (mm) {:.2f}\".format(\n",
        "model2skl.score(searise[\"year\"].values.reshape(-1,1), \n",
        "                           searise[\"GMSL variation no GIA (mm)\"])))"
      ],
      "metadata": {
        "colab": {
          "base_uri": "https://localhost:8080/"
        },
        "id": "4rvA82i--eLb",
        "outputId": "6a1b49df-5f35-48b9-89ef-ec1167e09967"
      },
      "execution_count": 193,
      "outputs": [
        {
          "output_type": "stream",
          "name": "stdout",
          "text": [
            "Linear model score for fit to GMSL variation no GIA (mm) 0.96\n"
          ]
        }
      ]
    },
    {
      "cell_type": "code",
      "source": [
        "model3skl = skl.LinearRegression().fit(searise[\"year\"].values.reshape(-1,1), \n",
        "                           searise[\"GMSL variation (mm)\"])\n",
        "\n",
        "print (\"Linear model score for fit to GMSL variation (mm) {:.2f}\".format(\n",
        "model3skl.score(searise[\"year\"].values.reshape(-1,1), \n",
        "                           searise[\"GMSL variation (mm)\"])))"
      ],
      "metadata": {
        "colab": {
          "base_uri": "https://localhost:8080/"
        },
        "id": "vOcg4fH3-lZA",
        "outputId": "260ed63b-6a3b-493a-a276-410f5f721dc9"
      },
      "execution_count": 194,
      "outputs": [
        {
          "output_type": "stream",
          "name": "stdout",
          "text": [
            "Linear model score for fit to GMSL variation (mm) 0.96\n"
          ]
        }
      ]
    },
    {
      "cell_type": "code",
      "source": [
        "r2s = np.array([model1skl.score(searise[\"year\"].values.reshape(-1,1), \n",
        "                           searise[\"smoothed GMSL (mm)\"]),\n",
        "       model2skl.score(searise[\"year\"].values.reshape(-1,1), \n",
        "                           searise[\"GMSL variation no GIA (mm)\"]),\n",
        "       model3skl.score(searise[\"year\"].values.reshape(-1,1), \n",
        "                           searise[\"GMSL variation (mm)\"])])\n",
        "\n",
        "print(\"The best model is the one that uses \", [\"smoothed GMSL (mm)\", \"GMSL variation no GIA (mm)\", \n",
        "       \"MSL variation (mm)\"][np.where(r2s == r2s.max())[0][0]], \"as exogenous variable\")"
      ],
      "metadata": {
        "colab": {
          "base_uri": "https://localhost:8080/"
        },
        "id": "wOQrLJPYJNL_",
        "outputId": "5af5fc15-62cc-4301-a3bb-2267bbc9c6b9"
      },
      "execution_count": 190,
      "outputs": [
        {
          "output_type": "stream",
          "name": "stdout",
          "text": [
            "The best model is the one that uses  smoothed GMSL (mm) as exogenous variable\n"
          ]
        }
      ]
    },
    {
      "cell_type": "markdown",
      "source": [
        "COMMENT: According to the R2 value, the best model is smoothed GMSL. This makes sense as this model is smoothed to remove noise."
      ],
      "metadata": {
        "id": "4uzU_69HNijj"
      }
    },
    {
      "cell_type": "markdown",
      "source": [
        "### This is the solution if we used statsmodels api OSL instead"
      ],
      "metadata": {
        "id": "OuTcfnZmHst_"
      }
    },
    {
      "cell_type": "code",
      "source": [
        "X = sma.add_constant(searise[\"year\"])\n",
        "y = searise[\"smoothed GMSL (mm)\"]\n",
        "\n",
        "model1sma = sma.OLS(exog=X, endog=y).fit()\n",
        "print (\"Linear model score for fit to smoothed GMSL {:.2f}\\n\\n\".format(\n",
        "model1sma.rsquared))\n",
        "\n",
        "model1sma.summary()"
      ],
      "metadata": {
        "colab": {
          "base_uri": "https://localhost:8080/",
          "height": 587
        },
        "id": "q51zlKQDHzLK",
        "outputId": "99266448-18ab-4e2c-d933-56e068fe3b51"
      },
      "execution_count": 164,
      "outputs": [
        {
          "output_type": "stream",
          "name": "stdout",
          "text": [
            "Linear model score for fit to smoothed GMSL 0.97\n",
            "\n",
            "\n"
          ]
        },
        {
          "output_type": "stream",
          "name": "stderr",
          "text": [
            "/usr/local/lib/python3.7/dist-packages/statsmodels/tsa/tsatools.py:142: FutureWarning: In a future version of pandas all arguments of concat except for the argument 'objs' will be keyword-only\n",
            "  x = pd.concat(x[::order], 1)\n"
          ]
        },
        {
          "output_type": "execute_result",
          "data": {
            "text/plain": [
              "<class 'statsmodels.iolib.summary.Summary'>\n",
              "\"\"\"\n",
              "                            OLS Regression Results                            \n",
              "==============================================================================\n",
              "Dep. Variable:     smoothed GMSL (mm)   R-squared:                       0.965\n",
              "Model:                            OLS   Adj. R-squared:                  0.965\n",
              "Method:                 Least Squares   F-statistic:                 3.021e+04\n",
              "Date:                Sun, 16 Oct 2022   Prob (F-statistic):               0.00\n",
              "Time:                        23:59:20   Log-Likelihood:                -3320.7\n",
              "No. Observations:                1089   AIC:                             6645.\n",
              "Df Residuals:                    1087   BIC:                             6655.\n",
              "Df Model:                           1                                         \n",
              "Covariance Type:            nonrobust                                         \n",
              "==============================================================================\n",
              "                 coef    std err          t      P>|t|      [0.025      0.975]\n",
              "------------------------------------------------------------------------------\n",
              "const      -6317.0388     36.385   -173.618      0.000   -6388.431   -6245.647\n",
              "year           3.1495      0.018    173.800      0.000       3.114       3.185\n",
              "==============================================================================\n",
              "Omnibus:                        1.471   Durbin-Watson:                   0.020\n",
              "Prob(Omnibus):                  0.479   Jarque-Bera (JB):                1.367\n",
              "Skew:                          -0.081   Prob(JB):                        0.505\n",
              "Kurtosis:                       3.060   Cond. No.                     4.72e+05\n",
              "==============================================================================\n",
              "\n",
              "Notes:\n",
              "[1] Standard Errors assume that the covariance matrix of the errors is correctly specified.\n",
              "[2] The condition number is large, 4.72e+05. This might indicate that there are\n",
              "strong multicollinearity or other numerical problems.\n",
              "\"\"\""
            ],
            "text/html": [
              "<table class=\"simpletable\">\n",
              "<caption>OLS Regression Results</caption>\n",
              "<tr>\n",
              "  <th>Dep. Variable:</th>    <td>smoothed GMSL (mm)</td> <th>  R-squared:         </th> <td>   0.965</td> \n",
              "</tr>\n",
              "<tr>\n",
              "  <th>Model:</th>                    <td>OLS</td>        <th>  Adj. R-squared:    </th> <td>   0.965</td> \n",
              "</tr>\n",
              "<tr>\n",
              "  <th>Method:</th>              <td>Least Squares</td>   <th>  F-statistic:       </th> <td>3.021e+04</td>\n",
              "</tr>\n",
              "<tr>\n",
              "  <th>Date:</th>              <td>Sun, 16 Oct 2022</td>  <th>  Prob (F-statistic):</th>  <td>  0.00</td>  \n",
              "</tr>\n",
              "<tr>\n",
              "  <th>Time:</th>                  <td>23:59:20</td>      <th>  Log-Likelihood:    </th> <td> -3320.7</td> \n",
              "</tr>\n",
              "<tr>\n",
              "  <th>No. Observations:</th>       <td>  1089</td>       <th>  AIC:               </th> <td>   6645.</td> \n",
              "</tr>\n",
              "<tr>\n",
              "  <th>Df Residuals:</th>           <td>  1087</td>       <th>  BIC:               </th> <td>   6655.</td> \n",
              "</tr>\n",
              "<tr>\n",
              "  <th>Df Model:</th>               <td>     1</td>       <th>                     </th>     <td> </td>    \n",
              "</tr>\n",
              "<tr>\n",
              "  <th>Covariance Type:</th>       <td>nonrobust</td>     <th>                     </th>     <td> </td>    \n",
              "</tr>\n",
              "</table>\n",
              "<table class=\"simpletable\">\n",
              "<tr>\n",
              "    <td></td>       <th>coef</th>     <th>std err</th>      <th>t</th>      <th>P>|t|</th>  <th>[0.025</th>    <th>0.975]</th>  \n",
              "</tr>\n",
              "<tr>\n",
              "  <th>const</th> <td>-6317.0388</td> <td>   36.385</td> <td> -173.618</td> <td> 0.000</td> <td>-6388.431</td> <td>-6245.647</td>\n",
              "</tr>\n",
              "<tr>\n",
              "  <th>year</th>  <td>    3.1495</td> <td>    0.018</td> <td>  173.800</td> <td> 0.000</td> <td>    3.114</td> <td>    3.185</td>\n",
              "</tr>\n",
              "</table>\n",
              "<table class=\"simpletable\">\n",
              "<tr>\n",
              "  <th>Omnibus:</th>       <td> 1.471</td> <th>  Durbin-Watson:     </th> <td>   0.020</td>\n",
              "</tr>\n",
              "<tr>\n",
              "  <th>Prob(Omnibus):</th> <td> 0.479</td> <th>  Jarque-Bera (JB):  </th> <td>   1.367</td>\n",
              "</tr>\n",
              "<tr>\n",
              "  <th>Skew:</th>          <td>-0.081</td> <th>  Prob(JB):          </th> <td>   0.505</td>\n",
              "</tr>\n",
              "<tr>\n",
              "  <th>Kurtosis:</th>      <td> 3.060</td> <th>  Cond. No.          </th> <td>4.72e+05</td>\n",
              "</tr>\n",
              "</table><br/><br/>Notes:<br/>[1] Standard Errors assume that the covariance matrix of the errors is correctly specified.<br/>[2] The condition number is large, 4.72e+05. This might indicate that there are<br/>strong multicollinearity or other numerical problems."
            ]
          },
          "metadata": {},
          "execution_count": 164
        }
      ]
    },
    {
      "cell_type": "code",
      "source": [
        "X = sma.add_constant(searise[\"year\"])\n",
        "y = searise[\"GMSL variation no GIA (mm)\"]\n",
        "\n",
        "model2sma = sma.OLS(exog=X, endog=y).fit()\n",
        "print (\"Linear model score for fit to GMSL variation no GIA {:.2f}\\n\\n\".format(\n",
        "model2sma.rsquared))\n",
        "\n",
        "model2sma.summary()"
      ],
      "metadata": {
        "colab": {
          "base_uri": "https://localhost:8080/",
          "height": 587
        },
        "id": "APyMoJSfIgV5",
        "outputId": "8feed7ad-9ad3-4754-b4ce-7855c3ae54c0"
      },
      "execution_count": 165,
      "outputs": [
        {
          "output_type": "stream",
          "name": "stdout",
          "text": [
            "Linear model score for fit to GMSL variation no GIA 0.96\n",
            "\n",
            "\n"
          ]
        },
        {
          "output_type": "stream",
          "name": "stderr",
          "text": [
            "/usr/local/lib/python3.7/dist-packages/statsmodels/tsa/tsatools.py:142: FutureWarning: In a future version of pandas all arguments of concat except for the argument 'objs' will be keyword-only\n",
            "  x = pd.concat(x[::order], 1)\n"
          ]
        },
        {
          "output_type": "execute_result",
          "data": {
            "text/plain": [
              "<class 'statsmodels.iolib.summary.Summary'>\n",
              "\"\"\"\n",
              "                                OLS Regression Results                                \n",
              "======================================================================================\n",
              "Dep. Variable:     GMSL variation no GIA (mm)   R-squared:                       0.958\n",
              "Model:                                    OLS   Adj. R-squared:                  0.958\n",
              "Method:                         Least Squares   F-statistic:                 2.508e+04\n",
              "Date:                        Sun, 16 Oct 2022   Prob (F-statistic):               0.00\n",
              "Time:                                23:59:20   Log-Likelihood:                -3425.3\n",
              "No. Observations:                        1089   AIC:                             6855.\n",
              "Df Residuals:                            1087   BIC:                             6865.\n",
              "Df Model:                                   1                                         \n",
              "Covariance Type:                    nonrobust                                         \n",
              "==============================================================================\n",
              "                 coef    std err          t      P>|t|      [0.025      0.975]\n",
              "------------------------------------------------------------------------------\n",
              "const      -6336.4524     40.051   -158.209      0.000   -6415.039   -6257.866\n",
              "year           3.1592      0.020    158.373      0.000       3.120       3.198\n",
              "==============================================================================\n",
              "Omnibus:                        0.273   Durbin-Watson:                   0.234\n",
              "Prob(Omnibus):                  0.872   Jarque-Bera (JB):                0.219\n",
              "Skew:                           0.032   Prob(JB):                        0.897\n",
              "Kurtosis:                       3.028   Cond. No.                     4.72e+05\n",
              "==============================================================================\n",
              "\n",
              "Notes:\n",
              "[1] Standard Errors assume that the covariance matrix of the errors is correctly specified.\n",
              "[2] The condition number is large, 4.72e+05. This might indicate that there are\n",
              "strong multicollinearity or other numerical problems.\n",
              "\"\"\""
            ],
            "text/html": [
              "<table class=\"simpletable\">\n",
              "<caption>OLS Regression Results</caption>\n",
              "<tr>\n",
              "  <th>Dep. Variable:</th>    <td>GMSL variation no GIA (mm)</td> <th>  R-squared:         </th> <td>   0.958</td> \n",
              "</tr>\n",
              "<tr>\n",
              "  <th>Model:</th>                        <td>OLS</td>            <th>  Adj. R-squared:    </th> <td>   0.958</td> \n",
              "</tr>\n",
              "<tr>\n",
              "  <th>Method:</th>                  <td>Least Squares</td>       <th>  F-statistic:       </th> <td>2.508e+04</td>\n",
              "</tr>\n",
              "<tr>\n",
              "  <th>Date:</th>                  <td>Sun, 16 Oct 2022</td>      <th>  Prob (F-statistic):</th>  <td>  0.00</td>  \n",
              "</tr>\n",
              "<tr>\n",
              "  <th>Time:</th>                      <td>23:59:20</td>          <th>  Log-Likelihood:    </th> <td> -3425.3</td> \n",
              "</tr>\n",
              "<tr>\n",
              "  <th>No. Observations:</th>           <td>  1089</td>           <th>  AIC:               </th> <td>   6855.</td> \n",
              "</tr>\n",
              "<tr>\n",
              "  <th>Df Residuals:</th>               <td>  1087</td>           <th>  BIC:               </th> <td>   6865.</td> \n",
              "</tr>\n",
              "<tr>\n",
              "  <th>Df Model:</th>                   <td>     1</td>           <th>                     </th>     <td> </td>    \n",
              "</tr>\n",
              "<tr>\n",
              "  <th>Covariance Type:</th>           <td>nonrobust</td>         <th>                     </th>     <td> </td>    \n",
              "</tr>\n",
              "</table>\n",
              "<table class=\"simpletable\">\n",
              "<tr>\n",
              "    <td></td>       <th>coef</th>     <th>std err</th>      <th>t</th>      <th>P>|t|</th>  <th>[0.025</th>    <th>0.975]</th>  \n",
              "</tr>\n",
              "<tr>\n",
              "  <th>const</th> <td>-6336.4524</td> <td>   40.051</td> <td> -158.209</td> <td> 0.000</td> <td>-6415.039</td> <td>-6257.866</td>\n",
              "</tr>\n",
              "<tr>\n",
              "  <th>year</th>  <td>    3.1592</td> <td>    0.020</td> <td>  158.373</td> <td> 0.000</td> <td>    3.120</td> <td>    3.198</td>\n",
              "</tr>\n",
              "</table>\n",
              "<table class=\"simpletable\">\n",
              "<tr>\n",
              "  <th>Omnibus:</th>       <td> 0.273</td> <th>  Durbin-Watson:     </th> <td>   0.234</td>\n",
              "</tr>\n",
              "<tr>\n",
              "  <th>Prob(Omnibus):</th> <td> 0.872</td> <th>  Jarque-Bera (JB):  </th> <td>   0.219</td>\n",
              "</tr>\n",
              "<tr>\n",
              "  <th>Skew:</th>          <td> 0.032</td> <th>  Prob(JB):          </th> <td>   0.897</td>\n",
              "</tr>\n",
              "<tr>\n",
              "  <th>Kurtosis:</th>      <td> 3.028</td> <th>  Cond. No.          </th> <td>4.72e+05</td>\n",
              "</tr>\n",
              "</table><br/><br/>Notes:<br/>[1] Standard Errors assume that the covariance matrix of the errors is correctly specified.<br/>[2] The condition number is large, 4.72e+05. This might indicate that there are<br/>strong multicollinearity or other numerical problems."
            ]
          },
          "metadata": {},
          "execution_count": 165
        }
      ]
    },
    {
      "cell_type": "code",
      "source": [
        "X = sma.add_constant(searise[\"year\"])\n",
        "y = searise[\"GMSL variation (mm)\"]\n",
        "\n",
        "model3sma = sma.OLS(exog=X, endog=y).fit()\n",
        "print (\"Linear model score for fit to GMSL variation {:.2f}\\n\\n\".format(\n",
        "model3sma.rsquared))\n",
        "\n",
        "model3sma.summary()"
      ],
      "metadata": {
        "colab": {
          "base_uri": "https://localhost:8080/",
          "height": 587
        },
        "id": "JAJ1n-DdJEdx",
        "outputId": "6a53cac7-e643-4050-8dc6-7cd9a29b5c64"
      },
      "execution_count": 166,
      "outputs": [
        {
          "output_type": "stream",
          "name": "stdout",
          "text": [
            "Linear model score for fit to GMSL variation 0.96\n",
            "\n",
            "\n"
          ]
        },
        {
          "output_type": "stream",
          "name": "stderr",
          "text": [
            "/usr/local/lib/python3.7/dist-packages/statsmodels/tsa/tsatools.py:142: FutureWarning: In a future version of pandas all arguments of concat except for the argument 'objs' will be keyword-only\n",
            "  x = pd.concat(x[::order], 1)\n"
          ]
        },
        {
          "output_type": "execute_result",
          "data": {
            "text/plain": [
              "<class 'statsmodels.iolib.summary.Summary'>\n",
              "\"\"\"\n",
              "                             OLS Regression Results                            \n",
              "===============================================================================\n",
              "Dep. Variable:     GMSL variation (mm)   R-squared:                       0.964\n",
              "Model:                             OLS   Adj. R-squared:                  0.964\n",
              "Method:                  Least Squares   F-statistic:                 2.912e+04\n",
              "Date:                 Sun, 16 Oct 2022   Prob (F-statistic):               0.00\n",
              "Time:                         23:59:20   Log-Likelihood:                -3424.8\n",
              "No. Observations:                 1089   AIC:                             6854.\n",
              "Df Residuals:                     1087   BIC:                             6864.\n",
              "Df Model:                            1                                         \n",
              "Covariance Type:             nonrobust                                         \n",
              "==============================================================================\n",
              "                 coef    std err          t      P>|t|      [0.025      0.975]\n",
              "------------------------------------------------------------------------------\n",
              "const      -6821.5109     40.034   -170.394      0.000   -6900.063   -6742.959\n",
              "year           3.4026      0.020    170.649      0.000       3.363       3.442\n",
              "==============================================================================\n",
              "Omnibus:                        0.294   Durbin-Watson:                   0.232\n",
              "Prob(Omnibus):                  0.864   Jarque-Bera (JB):                0.240\n",
              "Skew:                           0.034   Prob(JB):                        0.887\n",
              "Kurtosis:                       3.027   Cond. No.                     4.72e+05\n",
              "==============================================================================\n",
              "\n",
              "Notes:\n",
              "[1] Standard Errors assume that the covariance matrix of the errors is correctly specified.\n",
              "[2] The condition number is large, 4.72e+05. This might indicate that there are\n",
              "strong multicollinearity or other numerical problems.\n",
              "\"\"\""
            ],
            "text/html": [
              "<table class=\"simpletable\">\n",
              "<caption>OLS Regression Results</caption>\n",
              "<tr>\n",
              "  <th>Dep. Variable:</th>    <td>GMSL variation (mm)</td> <th>  R-squared:         </th> <td>   0.964</td> \n",
              "</tr>\n",
              "<tr>\n",
              "  <th>Model:</th>                    <td>OLS</td>         <th>  Adj. R-squared:    </th> <td>   0.964</td> \n",
              "</tr>\n",
              "<tr>\n",
              "  <th>Method:</th>              <td>Least Squares</td>    <th>  F-statistic:       </th> <td>2.912e+04</td>\n",
              "</tr>\n",
              "<tr>\n",
              "  <th>Date:</th>              <td>Sun, 16 Oct 2022</td>   <th>  Prob (F-statistic):</th>  <td>  0.00</td>  \n",
              "</tr>\n",
              "<tr>\n",
              "  <th>Time:</th>                  <td>23:59:20</td>       <th>  Log-Likelihood:    </th> <td> -3424.8</td> \n",
              "</tr>\n",
              "<tr>\n",
              "  <th>No. Observations:</th>       <td>  1089</td>        <th>  AIC:               </th> <td>   6854.</td> \n",
              "</tr>\n",
              "<tr>\n",
              "  <th>Df Residuals:</th>           <td>  1087</td>        <th>  BIC:               </th> <td>   6864.</td> \n",
              "</tr>\n",
              "<tr>\n",
              "  <th>Df Model:</th>               <td>     1</td>        <th>                     </th>     <td> </td>    \n",
              "</tr>\n",
              "<tr>\n",
              "  <th>Covariance Type:</th>       <td>nonrobust</td>      <th>                     </th>     <td> </td>    \n",
              "</tr>\n",
              "</table>\n",
              "<table class=\"simpletable\">\n",
              "<tr>\n",
              "    <td></td>       <th>coef</th>     <th>std err</th>      <th>t</th>      <th>P>|t|</th>  <th>[0.025</th>    <th>0.975]</th>  \n",
              "</tr>\n",
              "<tr>\n",
              "  <th>const</th> <td>-6821.5109</td> <td>   40.034</td> <td> -170.394</td> <td> 0.000</td> <td>-6900.063</td> <td>-6742.959</td>\n",
              "</tr>\n",
              "<tr>\n",
              "  <th>year</th>  <td>    3.4026</td> <td>    0.020</td> <td>  170.649</td> <td> 0.000</td> <td>    3.363</td> <td>    3.442</td>\n",
              "</tr>\n",
              "</table>\n",
              "<table class=\"simpletable\">\n",
              "<tr>\n",
              "  <th>Omnibus:</th>       <td> 0.294</td> <th>  Durbin-Watson:     </th> <td>   0.232</td>\n",
              "</tr>\n",
              "<tr>\n",
              "  <th>Prob(Omnibus):</th> <td> 0.864</td> <th>  Jarque-Bera (JB):  </th> <td>   0.240</td>\n",
              "</tr>\n",
              "<tr>\n",
              "  <th>Skew:</th>          <td> 0.034</td> <th>  Prob(JB):          </th> <td>   0.887</td>\n",
              "</tr>\n",
              "<tr>\n",
              "  <th>Kurtosis:</th>      <td> 3.027</td> <th>  Cond. No.          </th> <td>4.72e+05</td>\n",
              "</tr>\n",
              "</table><br/><br/>Notes:<br/>[1] Standard Errors assume that the covariance matrix of the errors is correctly specified.<br/>[2] The condition number is large, 4.72e+05. This might indicate that there are<br/>strong multicollinearity or other numerical problems."
            ]
          },
          "metadata": {},
          "execution_count": 166
        }
      ]
    },
    {
      "cell_type": "code",
      "source": [
        "r2s = np.array([model1sma.rsquared,\n",
        "       model2sma.rsquared,\n",
        "       model3sma.rsquared])\n",
        "\n",
        "print(\"The best model is the one that uses \", [\"smoothed GMSL (mm)\", \"GMSL variation no GIA (mm)\", \n",
        "       \"MSL variation (mm)\"][np.where(r2s == r2s.max())[0][0]], \"as exogenous variable\")"
      ],
      "metadata": {
        "colab": {
          "base_uri": "https://localhost:8080/"
        },
        "id": "F6ZTlM2lKqUs",
        "outputId": "f2a9f94c-cf39-4a0d-ffa4-74a4e6ad87d1"
      },
      "execution_count": 167,
      "outputs": [
        {
          "output_type": "stream",
          "name": "stdout",
          "text": [
            "The best model is the one that uses  smoothed GMSL (mm) as exogenous variable\n"
          ]
        }
      ]
    },
    {
      "cell_type": "markdown",
      "source": [
        "COMMENT: unsurprisingly the result is the same when I use statsmodels.api.OLS"
      ],
      "metadata": {
        "id": "B4B-E_ZMHwNZ"
      }
    },
    {
      "cell_type": "markdown",
      "source": [
        "### Finally with statsmodels.formula.api: its a little complicated cause formula needs column names without special characters, such as \" \" or \"(\""
      ],
      "metadata": {
        "id": "NqJNkbzZLFJX"
      }
    },
    {
      "cell_type": "code",
      "source": [
        "searise_renamed = searise.rename(columns={c:\n",
        "                    c.replace(\" \",\"\").replace(\"(\",\"\").replace(\")\",\"\") for c in column_names})\n",
        "searise_renamed.head(1)"
      ],
      "metadata": {
        "colab": {
          "base_uri": "https://localhost:8080/",
          "height": 162
        },
        "id": "SMbdV5K9Lgam",
        "outputId": "f6e2f1fa-41e3-4c25-9d2f-c3453481c04e"
      },
      "execution_count": 121,
      "outputs": [
        {
          "output_type": "execute_result",
          "data": {
            "text/plain": [
              "   altimetertype  mergedfilecycle         year  numberofobservations  \\\n",
              "0              0               11  1993.011526                452600   \n",
              "\n",
              "   numberofweightedobservations  GMSLvariationnoGIAmm  \\\n",
              "0                     327401.31                -38.61   \n",
              "\n",
              "   standardnoGIAdeviationofGMSLmm  smoothedGMSLmm  GMSLvariationmm  \\\n",
              "0                           89.88          -38.78           -38.61   \n",
              "\n",
              "   standarddeviationofGMSLmm  smoothed60-dayvariationmm  \\\n",
              "0                      89.88                     -38.78   \n",
              "\n",
              "   smoothedmmannualandsemi-annualsignalremoved  \n",
              "0                                       -38.56  "
            ],
            "text/html": [
              "\n",
              "  <div id=\"df-81a18f49-537c-4657-a068-c4a57ea90d08\">\n",
              "    <div class=\"colab-df-container\">\n",
              "      <div>\n",
              "<style scoped>\n",
              "    .dataframe tbody tr th:only-of-type {\n",
              "        vertical-align: middle;\n",
              "    }\n",
              "\n",
              "    .dataframe tbody tr th {\n",
              "        vertical-align: top;\n",
              "    }\n",
              "\n",
              "    .dataframe thead th {\n",
              "        text-align: right;\n",
              "    }\n",
              "</style>\n",
              "<table border=\"1\" class=\"dataframe\">\n",
              "  <thead>\n",
              "    <tr style=\"text-align: right;\">\n",
              "      <th></th>\n",
              "      <th>altimetertype</th>\n",
              "      <th>mergedfilecycle</th>\n",
              "      <th>year</th>\n",
              "      <th>numberofobservations</th>\n",
              "      <th>numberofweightedobservations</th>\n",
              "      <th>GMSLvariationnoGIAmm</th>\n",
              "      <th>standardnoGIAdeviationofGMSLmm</th>\n",
              "      <th>smoothedGMSLmm</th>\n",
              "      <th>GMSLvariationmm</th>\n",
              "      <th>standarddeviationofGMSLmm</th>\n",
              "      <th>smoothed60-dayvariationmm</th>\n",
              "      <th>smoothedmmannualandsemi-annualsignalremoved</th>\n",
              "    </tr>\n",
              "  </thead>\n",
              "  <tbody>\n",
              "    <tr>\n",
              "      <th>0</th>\n",
              "      <td>0</td>\n",
              "      <td>11</td>\n",
              "      <td>1993.011526</td>\n",
              "      <td>452600</td>\n",
              "      <td>327401.31</td>\n",
              "      <td>-38.61</td>\n",
              "      <td>89.88</td>\n",
              "      <td>-38.78</td>\n",
              "      <td>-38.61</td>\n",
              "      <td>89.88</td>\n",
              "      <td>-38.78</td>\n",
              "      <td>-38.56</td>\n",
              "    </tr>\n",
              "  </tbody>\n",
              "</table>\n",
              "</div>\n",
              "      <button class=\"colab-df-convert\" onclick=\"convertToInteractive('df-81a18f49-537c-4657-a068-c4a57ea90d08')\"\n",
              "              title=\"Convert this dataframe to an interactive table.\"\n",
              "              style=\"display:none;\">\n",
              "        \n",
              "  <svg xmlns=\"http://www.w3.org/2000/svg\" height=\"24px\"viewBox=\"0 0 24 24\"\n",
              "       width=\"24px\">\n",
              "    <path d=\"M0 0h24v24H0V0z\" fill=\"none\"/>\n",
              "    <path d=\"M18.56 5.44l.94 2.06.94-2.06 2.06-.94-2.06-.94-.94-2.06-.94 2.06-2.06.94zm-11 1L8.5 8.5l.94-2.06 2.06-.94-2.06-.94L8.5 2.5l-.94 2.06-2.06.94zm10 10l.94 2.06.94-2.06 2.06-.94-2.06-.94-.94-2.06-.94 2.06-2.06.94z\"/><path d=\"M17.41 7.96l-1.37-1.37c-.4-.4-.92-.59-1.43-.59-.52 0-1.04.2-1.43.59L10.3 9.45l-7.72 7.72c-.78.78-.78 2.05 0 2.83L4 21.41c.39.39.9.59 1.41.59.51 0 1.02-.2 1.41-.59l7.78-7.78 2.81-2.81c.8-.78.8-2.07 0-2.86zM5.41 20L4 18.59l7.72-7.72 1.47 1.35L5.41 20z\"/>\n",
              "  </svg>\n",
              "      </button>\n",
              "      \n",
              "  <style>\n",
              "    .colab-df-container {\n",
              "      display:flex;\n",
              "      flex-wrap:wrap;\n",
              "      gap: 12px;\n",
              "    }\n",
              "\n",
              "    .colab-df-convert {\n",
              "      background-color: #E8F0FE;\n",
              "      border: none;\n",
              "      border-radius: 50%;\n",
              "      cursor: pointer;\n",
              "      display: none;\n",
              "      fill: #1967D2;\n",
              "      height: 32px;\n",
              "      padding: 0 0 0 0;\n",
              "      width: 32px;\n",
              "    }\n",
              "\n",
              "    .colab-df-convert:hover {\n",
              "      background-color: #E2EBFA;\n",
              "      box-shadow: 0px 1px 2px rgba(60, 64, 67, 0.3), 0px 1px 3px 1px rgba(60, 64, 67, 0.15);\n",
              "      fill: #174EA6;\n",
              "    }\n",
              "\n",
              "    [theme=dark] .colab-df-convert {\n",
              "      background-color: #3B4455;\n",
              "      fill: #D2E3FC;\n",
              "    }\n",
              "\n",
              "    [theme=dark] .colab-df-convert:hover {\n",
              "      background-color: #434B5C;\n",
              "      box-shadow: 0px 1px 3px 1px rgba(0, 0, 0, 0.15);\n",
              "      filter: drop-shadow(0px 1px 2px rgba(0, 0, 0, 0.3));\n",
              "      fill: #FFFFFF;\n",
              "    }\n",
              "  </style>\n",
              "\n",
              "      <script>\n",
              "        const buttonEl =\n",
              "          document.querySelector('#df-81a18f49-537c-4657-a068-c4a57ea90d08 button.colab-df-convert');\n",
              "        buttonEl.style.display =\n",
              "          google.colab.kernel.accessAllowed ? 'block' : 'none';\n",
              "\n",
              "        async function convertToInteractive(key) {\n",
              "          const element = document.querySelector('#df-81a18f49-537c-4657-a068-c4a57ea90d08');\n",
              "          const dataTable =\n",
              "            await google.colab.kernel.invokeFunction('convertToInteractive',\n",
              "                                                     [key], {});\n",
              "          if (!dataTable) return;\n",
              "\n",
              "          const docLinkHtml = 'Like what you see? Visit the ' +\n",
              "            '<a target=\"_blank\" href=https://colab.research.google.com/notebooks/data_table.ipynb>data table notebook</a>'\n",
              "            + ' to learn more about interactive tables.';\n",
              "          element.innerHTML = '';\n",
              "          dataTable['output_type'] = 'display_data';\n",
              "          await google.colab.output.renderOutput(dataTable, element);\n",
              "          const docLink = document.createElement('div');\n",
              "          docLink.innerHTML = docLinkHtml;\n",
              "          element.appendChild(docLink);\n",
              "        }\n",
              "      </script>\n",
              "    </div>\n",
              "  </div>\n",
              "  "
            ]
          },
          "metadata": {},
          "execution_count": 121
        }
      ]
    },
    {
      "cell_type": "code",
      "source": [
        "\n",
        "model1smaf = smaf.ols(formula=\"smoothedGMSLmm ~ year\", data=searise_renamed).fit()\n",
        "print (\"Linear model score for fit to smoothed GMSL {:.2f}\\n\\n\".format(\n",
        "model1smaf.rsquared))\n",
        "\n",
        "model2smaf = smaf.ols(formula=\"GMSLvariationnoGIAmm ~ year\", data=searise_renamed).fit()\n",
        "print (\"Linear model score for fit to smoothed GMSL {:.2f}\\n\\n\".format(\n",
        "model2smaf.rsquared))\n",
        "\n",
        "model3smaf = smaf.ols(formula=\"GMSLvariationmm ~ year\", data=searise_renamed).fit()\n",
        "print (\"Linear model score for fit to smoothed GMSL {:.2f}\\n\\n\".format(\n",
        "model3smaf.rsquared))\n"
      ],
      "metadata": {
        "colab": {
          "base_uri": "https://localhost:8080/"
        },
        "id": "7YFRKWzpLypq",
        "outputId": "1ab3326d-c621-49a5-81d6-a1d5e618361d"
      },
      "execution_count": 124,
      "outputs": [
        {
          "output_type": "stream",
          "name": "stdout",
          "text": [
            "Linear model score for fit to smoothed GMSL 0.97\n",
            "\n",
            "\n",
            "Linear model score for fit to smoothed GMSL 0.96\n",
            "\n",
            "\n",
            "Linear model score for fit to smoothed GMSL 0.96\n",
            "\n",
            "\n"
          ]
        }
      ]
    },
    {
      "cell_type": "code",
      "source": [
        "r2s = np.array([model1smaf.rsquared,\n",
        "       model2smaf.rsquared,\n",
        "       model3smaf.rsquared])\n",
        "\n",
        "print(\"The best model is the one that uses \", [\"smoothed GMSL (mm)\", \"GMSL variation no GIA (mm)\", \n",
        "       \"MSL variation (mm)\"][np.where(r2s == r2s.max())[0][0]], \"as exogenous variable\")"
      ],
      "metadata": {
        "colab": {
          "base_uri": "https://localhost:8080/"
        },
        "id": "YR1dJ_5QMhiW",
        "outputId": "c90d6f8c-ad55-4425-a4bd-a206f316896f"
      },
      "execution_count": 125,
      "outputs": [
        {
          "output_type": "stream",
          "name": "stdout",
          "text": [
            "The best model is the one that uses  smoothed GMSL (mm) as exogenous variable\n"
          ]
        }
      ]
    },
    {
      "cell_type": "markdown",
      "source": [
        "COMMENT: same result (and same rsquared) for statsmodels formula, which uses the same algorithm ad statsmodels, so no surprises there!"
      ],
      "metadata": {
        "id": "7a3_BBgNLOuO"
      }
    },
    {
      "cell_type": "markdown",
      "source": [
        "## Task 9 (5 points)\n",
        "\n",
        "Pick the best model of the three models above and predict the amount of sea rise by 2060 in inches"
      ],
      "metadata": {
        "id": "Il-K_130GAhp"
      }
    },
    {
      "cell_type": "markdown",
      "source": [
        "### using the sklearn result"
      ],
      "metadata": {
        "id": "wxnY3BGPMwO2"
      }
    },
    {
      "cell_type": "code",
      "source": [
        "print(\"the expected see level in 2060 is {:.2f} inches\".format((\n",
        "    model1.predict(np.array([2060]).reshape(-1,1)) * mm2inch)[0]))"
      ],
      "metadata": {
        "colab": {
          "base_uri": "https://localhost:8080/"
        },
        "id": "R2CRSLtx_eqZ",
        "outputId": "eed34f1d-3b1f-46a6-9fd8-2effba6a2b12"
      },
      "execution_count": 47,
      "outputs": [
        {
          "output_type": "stream",
          "name": "stdout",
          "text": [
            "the expected see level in 2060 is 6.73 inches\n"
          ]
        }
      ]
    },
    {
      "cell_type": "markdown",
      "source": [
        "### using the statsmodells result"
      ],
      "metadata": {
        "id": "0KjBYyaUMzWx"
      }
    },
    {
      "cell_type": "code",
      "source": [
        "X"
      ],
      "metadata": {
        "colab": {
          "base_uri": "https://localhost:8080/",
          "height": 424
        },
        "id": "XB5WsSQ6PVSB",
        "outputId": "86b2e426-c133-4d52-e89a-d30d054910aa"
      },
      "execution_count": 168,
      "outputs": [
        {
          "output_type": "execute_result",
          "data": {
            "text/plain": [
              "      const         year\n",
              "0       1.0  1993.011526\n",
              "1       1.0  1993.038692\n",
              "2       1.0  1993.065858\n",
              "3       1.0  1993.093025\n",
              "4       1.0  1993.120191\n",
              "...     ...          ...\n",
              "1084    1.0  2022.467623\n",
              "1085    1.0  2022.494789\n",
              "1086    1.0  2022.521956\n",
              "1087    1.0  2022.549122\n",
              "1088    1.0  2022.576288\n",
              "\n",
              "[1089 rows x 2 columns]"
            ],
            "text/html": [
              "\n",
              "  <div id=\"df-41081ea8-be84-4bd5-96ab-419148c35da3\">\n",
              "    <div class=\"colab-df-container\">\n",
              "      <div>\n",
              "<style scoped>\n",
              "    .dataframe tbody tr th:only-of-type {\n",
              "        vertical-align: middle;\n",
              "    }\n",
              "\n",
              "    .dataframe tbody tr th {\n",
              "        vertical-align: top;\n",
              "    }\n",
              "\n",
              "    .dataframe thead th {\n",
              "        text-align: right;\n",
              "    }\n",
              "</style>\n",
              "<table border=\"1\" class=\"dataframe\">\n",
              "  <thead>\n",
              "    <tr style=\"text-align: right;\">\n",
              "      <th></th>\n",
              "      <th>const</th>\n",
              "      <th>year</th>\n",
              "    </tr>\n",
              "  </thead>\n",
              "  <tbody>\n",
              "    <tr>\n",
              "      <th>0</th>\n",
              "      <td>1.0</td>\n",
              "      <td>1993.011526</td>\n",
              "    </tr>\n",
              "    <tr>\n",
              "      <th>1</th>\n",
              "      <td>1.0</td>\n",
              "      <td>1993.038692</td>\n",
              "    </tr>\n",
              "    <tr>\n",
              "      <th>2</th>\n",
              "      <td>1.0</td>\n",
              "      <td>1993.065858</td>\n",
              "    </tr>\n",
              "    <tr>\n",
              "      <th>3</th>\n",
              "      <td>1.0</td>\n",
              "      <td>1993.093025</td>\n",
              "    </tr>\n",
              "    <tr>\n",
              "      <th>4</th>\n",
              "      <td>1.0</td>\n",
              "      <td>1993.120191</td>\n",
              "    </tr>\n",
              "    <tr>\n",
              "      <th>...</th>\n",
              "      <td>...</td>\n",
              "      <td>...</td>\n",
              "    </tr>\n",
              "    <tr>\n",
              "      <th>1084</th>\n",
              "      <td>1.0</td>\n",
              "      <td>2022.467623</td>\n",
              "    </tr>\n",
              "    <tr>\n",
              "      <th>1085</th>\n",
              "      <td>1.0</td>\n",
              "      <td>2022.494789</td>\n",
              "    </tr>\n",
              "    <tr>\n",
              "      <th>1086</th>\n",
              "      <td>1.0</td>\n",
              "      <td>2022.521956</td>\n",
              "    </tr>\n",
              "    <tr>\n",
              "      <th>1087</th>\n",
              "      <td>1.0</td>\n",
              "      <td>2022.549122</td>\n",
              "    </tr>\n",
              "    <tr>\n",
              "      <th>1088</th>\n",
              "      <td>1.0</td>\n",
              "      <td>2022.576288</td>\n",
              "    </tr>\n",
              "  </tbody>\n",
              "</table>\n",
              "<p>1089 rows × 2 columns</p>\n",
              "</div>\n",
              "      <button class=\"colab-df-convert\" onclick=\"convertToInteractive('df-41081ea8-be84-4bd5-96ab-419148c35da3')\"\n",
              "              title=\"Convert this dataframe to an interactive table.\"\n",
              "              style=\"display:none;\">\n",
              "        \n",
              "  <svg xmlns=\"http://www.w3.org/2000/svg\" height=\"24px\"viewBox=\"0 0 24 24\"\n",
              "       width=\"24px\">\n",
              "    <path d=\"M0 0h24v24H0V0z\" fill=\"none\"/>\n",
              "    <path d=\"M18.56 5.44l.94 2.06.94-2.06 2.06-.94-2.06-.94-.94-2.06-.94 2.06-2.06.94zm-11 1L8.5 8.5l.94-2.06 2.06-.94-2.06-.94L8.5 2.5l-.94 2.06-2.06.94zm10 10l.94 2.06.94-2.06 2.06-.94-2.06-.94-.94-2.06-.94 2.06-2.06.94z\"/><path d=\"M17.41 7.96l-1.37-1.37c-.4-.4-.92-.59-1.43-.59-.52 0-1.04.2-1.43.59L10.3 9.45l-7.72 7.72c-.78.78-.78 2.05 0 2.83L4 21.41c.39.39.9.59 1.41.59.51 0 1.02-.2 1.41-.59l7.78-7.78 2.81-2.81c.8-.78.8-2.07 0-2.86zM5.41 20L4 18.59l7.72-7.72 1.47 1.35L5.41 20z\"/>\n",
              "  </svg>\n",
              "      </button>\n",
              "      \n",
              "  <style>\n",
              "    .colab-df-container {\n",
              "      display:flex;\n",
              "      flex-wrap:wrap;\n",
              "      gap: 12px;\n",
              "    }\n",
              "\n",
              "    .colab-df-convert {\n",
              "      background-color: #E8F0FE;\n",
              "      border: none;\n",
              "      border-radius: 50%;\n",
              "      cursor: pointer;\n",
              "      display: none;\n",
              "      fill: #1967D2;\n",
              "      height: 32px;\n",
              "      padding: 0 0 0 0;\n",
              "      width: 32px;\n",
              "    }\n",
              "\n",
              "    .colab-df-convert:hover {\n",
              "      background-color: #E2EBFA;\n",
              "      box-shadow: 0px 1px 2px rgba(60, 64, 67, 0.3), 0px 1px 3px 1px rgba(60, 64, 67, 0.15);\n",
              "      fill: #174EA6;\n",
              "    }\n",
              "\n",
              "    [theme=dark] .colab-df-convert {\n",
              "      background-color: #3B4455;\n",
              "      fill: #D2E3FC;\n",
              "    }\n",
              "\n",
              "    [theme=dark] .colab-df-convert:hover {\n",
              "      background-color: #434B5C;\n",
              "      box-shadow: 0px 1px 3px 1px rgba(0, 0, 0, 0.15);\n",
              "      filter: drop-shadow(0px 1px 2px rgba(0, 0, 0, 0.3));\n",
              "      fill: #FFFFFF;\n",
              "    }\n",
              "  </style>\n",
              "\n",
              "      <script>\n",
              "        const buttonEl =\n",
              "          document.querySelector('#df-41081ea8-be84-4bd5-96ab-419148c35da3 button.colab-df-convert');\n",
              "        buttonEl.style.display =\n",
              "          google.colab.kernel.accessAllowed ? 'block' : 'none';\n",
              "\n",
              "        async function convertToInteractive(key) {\n",
              "          const element = document.querySelector('#df-41081ea8-be84-4bd5-96ab-419148c35da3');\n",
              "          const dataTable =\n",
              "            await google.colab.kernel.invokeFunction('convertToInteractive',\n",
              "                                                     [key], {});\n",
              "          if (!dataTable) return;\n",
              "\n",
              "          const docLinkHtml = 'Like what you see? Visit the ' +\n",
              "            '<a target=\"_blank\" href=https://colab.research.google.com/notebooks/data_table.ipynb>data table notebook</a>'\n",
              "            + ' to learn more about interactive tables.';\n",
              "          element.innerHTML = '';\n",
              "          dataTable['output_type'] = 'display_data';\n",
              "          await google.colab.output.renderOutput(dataTable, element);\n",
              "          const docLink = document.createElement('div');\n",
              "          docLink.innerHTML = docLinkHtml;\n",
              "          element.appendChild(docLink);\n",
              "        }\n",
              "      </script>\n",
              "    </div>\n",
              "  </div>\n",
              "  "
            ]
          },
          "metadata": {},
          "execution_count": 168
        }
      ]
    },
    {
      "cell_type": "code",
      "source": [
        "X = pd.DataFrame([1, 2060]).T\n",
        "X.rename(columns={0:\"const\", 1:\"year\"}, inplace=True)\n",
        "X"
      ],
      "metadata": {
        "colab": {
          "base_uri": "https://localhost:8080/",
          "height": 81
        },
        "id": "2EN0tL-wNnRs",
        "outputId": "1571db2b-e778-4b49-cc56-0f066bc7dc28"
      },
      "execution_count": 180,
      "outputs": [
        {
          "output_type": "execute_result",
          "data": {
            "text/plain": [
              "   const  year\n",
              "0      1  2060"
            ],
            "text/html": [
              "\n",
              "  <div id=\"df-8f33d345-8a58-442a-83f3-5240c2a5d13b\">\n",
              "    <div class=\"colab-df-container\">\n",
              "      <div>\n",
              "<style scoped>\n",
              "    .dataframe tbody tr th:only-of-type {\n",
              "        vertical-align: middle;\n",
              "    }\n",
              "\n",
              "    .dataframe tbody tr th {\n",
              "        vertical-align: top;\n",
              "    }\n",
              "\n",
              "    .dataframe thead th {\n",
              "        text-align: right;\n",
              "    }\n",
              "</style>\n",
              "<table border=\"1\" class=\"dataframe\">\n",
              "  <thead>\n",
              "    <tr style=\"text-align: right;\">\n",
              "      <th></th>\n",
              "      <th>const</th>\n",
              "      <th>year</th>\n",
              "    </tr>\n",
              "  </thead>\n",
              "  <tbody>\n",
              "    <tr>\n",
              "      <th>0</th>\n",
              "      <td>1</td>\n",
              "      <td>2060</td>\n",
              "    </tr>\n",
              "  </tbody>\n",
              "</table>\n",
              "</div>\n",
              "      <button class=\"colab-df-convert\" onclick=\"convertToInteractive('df-8f33d345-8a58-442a-83f3-5240c2a5d13b')\"\n",
              "              title=\"Convert this dataframe to an interactive table.\"\n",
              "              style=\"display:none;\">\n",
              "        \n",
              "  <svg xmlns=\"http://www.w3.org/2000/svg\" height=\"24px\"viewBox=\"0 0 24 24\"\n",
              "       width=\"24px\">\n",
              "    <path d=\"M0 0h24v24H0V0z\" fill=\"none\"/>\n",
              "    <path d=\"M18.56 5.44l.94 2.06.94-2.06 2.06-.94-2.06-.94-.94-2.06-.94 2.06-2.06.94zm-11 1L8.5 8.5l.94-2.06 2.06-.94-2.06-.94L8.5 2.5l-.94 2.06-2.06.94zm10 10l.94 2.06.94-2.06 2.06-.94-2.06-.94-.94-2.06-.94 2.06-2.06.94z\"/><path d=\"M17.41 7.96l-1.37-1.37c-.4-.4-.92-.59-1.43-.59-.52 0-1.04.2-1.43.59L10.3 9.45l-7.72 7.72c-.78.78-.78 2.05 0 2.83L4 21.41c.39.39.9.59 1.41.59.51 0 1.02-.2 1.41-.59l7.78-7.78 2.81-2.81c.8-.78.8-2.07 0-2.86zM5.41 20L4 18.59l7.72-7.72 1.47 1.35L5.41 20z\"/>\n",
              "  </svg>\n",
              "      </button>\n",
              "      \n",
              "  <style>\n",
              "    .colab-df-container {\n",
              "      display:flex;\n",
              "      flex-wrap:wrap;\n",
              "      gap: 12px;\n",
              "    }\n",
              "\n",
              "    .colab-df-convert {\n",
              "      background-color: #E8F0FE;\n",
              "      border: none;\n",
              "      border-radius: 50%;\n",
              "      cursor: pointer;\n",
              "      display: none;\n",
              "      fill: #1967D2;\n",
              "      height: 32px;\n",
              "      padding: 0 0 0 0;\n",
              "      width: 32px;\n",
              "    }\n",
              "\n",
              "    .colab-df-convert:hover {\n",
              "      background-color: #E2EBFA;\n",
              "      box-shadow: 0px 1px 2px rgba(60, 64, 67, 0.3), 0px 1px 3px 1px rgba(60, 64, 67, 0.15);\n",
              "      fill: #174EA6;\n",
              "    }\n",
              "\n",
              "    [theme=dark] .colab-df-convert {\n",
              "      background-color: #3B4455;\n",
              "      fill: #D2E3FC;\n",
              "    }\n",
              "\n",
              "    [theme=dark] .colab-df-convert:hover {\n",
              "      background-color: #434B5C;\n",
              "      box-shadow: 0px 1px 3px 1px rgba(0, 0, 0, 0.15);\n",
              "      filter: drop-shadow(0px 1px 2px rgba(0, 0, 0, 0.3));\n",
              "      fill: #FFFFFF;\n",
              "    }\n",
              "  </style>\n",
              "\n",
              "      <script>\n",
              "        const buttonEl =\n",
              "          document.querySelector('#df-8f33d345-8a58-442a-83f3-5240c2a5d13b button.colab-df-convert');\n",
              "        buttonEl.style.display =\n",
              "          google.colab.kernel.accessAllowed ? 'block' : 'none';\n",
              "\n",
              "        async function convertToInteractive(key) {\n",
              "          const element = document.querySelector('#df-8f33d345-8a58-442a-83f3-5240c2a5d13b');\n",
              "          const dataTable =\n",
              "            await google.colab.kernel.invokeFunction('convertToInteractive',\n",
              "                                                     [key], {});\n",
              "          if (!dataTable) return;\n",
              "\n",
              "          const docLinkHtml = 'Like what you see? Visit the ' +\n",
              "            '<a target=\"_blank\" href=https://colab.research.google.com/notebooks/data_table.ipynb>data table notebook</a>'\n",
              "            + ' to learn more about interactive tables.';\n",
              "          element.innerHTML = '';\n",
              "          dataTable['output_type'] = 'display_data';\n",
              "          await google.colab.output.renderOutput(dataTable, element);\n",
              "          const docLink = document.createElement('div');\n",
              "          docLink.innerHTML = docLinkHtml;\n",
              "          element.appendChild(docLink);\n",
              "        }\n",
              "      </script>\n",
              "    </div>\n",
              "  </div>\n",
              "  "
            ]
          },
          "metadata": {},
          "execution_count": 180
        }
      ]
    },
    {
      "cell_type": "code",
      "source": [
        "\n",
        "print(\"the expected see level in 2060 is {:.2f} inches\".format((\n",
        "    model1sma.predict(exog=X)[0] * mm2inch)))"
      ],
      "metadata": {
        "colab": {
          "base_uri": "https://localhost:8080/"
        },
        "id": "ZukRyTzpM3ip",
        "outputId": "e23911fa-d326-401c-ed84-48a727e246d2"
      },
      "execution_count": 181,
      "outputs": [
        {
          "output_type": "stream",
          "name": "stdout",
          "text": [
            "the expected see level in 2060 is 6.73 inches\n"
          ]
        }
      ]
    },
    {
      "cell_type": "markdown",
      "source": [
        "### finally with statsmodels.formula"
      ],
      "metadata": {
        "id": "UDLNH5dyPvI5"
      }
    },
    {
      "cell_type": "code",
      "source": [
        "\n",
        "print(\"the expected see level in 2060 is {:.2f} inches\".format((\n",
        "    model1smaf.predict(exog=X)[0] * mm2inch)))"
      ],
      "metadata": {
        "colab": {
          "base_uri": "https://localhost:8080/"
        },
        "id": "FCrPBa8kPzsv",
        "outputId": "16f8027e-7f2e-46fa-a57a-4b8135c161e5"
      },
      "execution_count": 184,
      "outputs": [
        {
          "output_type": "stream",
          "name": "stdout",
          "text": [
            "the expected see level in 2060 is 6.73 inches\n"
          ]
        }
      ]
    },
    {
      "cell_type": "markdown",
      "source": [
        "## Task 10 (5 points)\n",
        "\n",
        "In what year is the sea level predicted to rises above 4 inches?"
      ],
      "metadata": {
        "id": "Jc5IWhkAK8_E"
      }
    },
    {
      "cell_type": "markdown",
      "source": [
        "### with sklearn\n"
      ],
      "metadata": {
        "id": "pLV9G35nQQxK"
      }
    },
    {
      "cell_type": "code",
      "source": [
        "print(\"the first year in which the sea level rises above 4 inches is\",\n",
        "      np.arange(2022, 2060)[np.where(model1skl.predict(np.arange(2022, 2060).reshape(-1,1)) * mm2inch > 4)[0][0]])"
      ],
      "metadata": {
        "colab": {
          "base_uri": "https://localhost:8080/"
        },
        "id": "T1-QsE3t_ppw",
        "outputId": "9461d04f-e51e-4580-e9ff-7648e18a3ec2"
      },
      "execution_count": 195,
      "outputs": [
        {
          "output_type": "stream",
          "name": "stdout",
          "text": [
            "the first year in which the sea level rises above 4 inches is 2038\n"
          ]
        }
      ]
    },
    {
      "cell_type": "markdown",
      "source": [
        "### with statsmodels.sma"
      ],
      "metadata": {
        "id": "RNS-wfcVQSbP"
      }
    },
    {
      "cell_type": "code",
      "source": [
        "X = pd.DataFrame(list(range(2022,2060)))\n",
        "X = sma.add_constant(X)\n",
        "\n",
        "X.rename(columns={0:\"year\"}, inplace=True)\n",
        "X.head(2)"
      ],
      "metadata": {
        "colab": {
          "base_uri": "https://localhost:8080/",
          "height": 167
        },
        "id": "y5FTcCjoQsgi",
        "outputId": "db8aceb0-224c-4742-c56c-0efcd5f8f62c"
      },
      "execution_count": 205,
      "outputs": [
        {
          "output_type": "stream",
          "name": "stderr",
          "text": [
            "/usr/local/lib/python3.7/dist-packages/statsmodels/tsa/tsatools.py:142: FutureWarning: In a future version of pandas all arguments of concat except for the argument 'objs' will be keyword-only\n",
            "  x = pd.concat(x[::order], 1)\n"
          ]
        },
        {
          "output_type": "execute_result",
          "data": {
            "text/plain": [
              "   const  year\n",
              "0    1.0  2022\n",
              "1    1.0  2023"
            ],
            "text/html": [
              "\n",
              "  <div id=\"df-f2720082-54d1-4ce1-ae8d-d44627afc92e\">\n",
              "    <div class=\"colab-df-container\">\n",
              "      <div>\n",
              "<style scoped>\n",
              "    .dataframe tbody tr th:only-of-type {\n",
              "        vertical-align: middle;\n",
              "    }\n",
              "\n",
              "    .dataframe tbody tr th {\n",
              "        vertical-align: top;\n",
              "    }\n",
              "\n",
              "    .dataframe thead th {\n",
              "        text-align: right;\n",
              "    }\n",
              "</style>\n",
              "<table border=\"1\" class=\"dataframe\">\n",
              "  <thead>\n",
              "    <tr style=\"text-align: right;\">\n",
              "      <th></th>\n",
              "      <th>const</th>\n",
              "      <th>year</th>\n",
              "    </tr>\n",
              "  </thead>\n",
              "  <tbody>\n",
              "    <tr>\n",
              "      <th>0</th>\n",
              "      <td>1.0</td>\n",
              "      <td>2022</td>\n",
              "    </tr>\n",
              "    <tr>\n",
              "      <th>1</th>\n",
              "      <td>1.0</td>\n",
              "      <td>2023</td>\n",
              "    </tr>\n",
              "  </tbody>\n",
              "</table>\n",
              "</div>\n",
              "      <button class=\"colab-df-convert\" onclick=\"convertToInteractive('df-f2720082-54d1-4ce1-ae8d-d44627afc92e')\"\n",
              "              title=\"Convert this dataframe to an interactive table.\"\n",
              "              style=\"display:none;\">\n",
              "        \n",
              "  <svg xmlns=\"http://www.w3.org/2000/svg\" height=\"24px\"viewBox=\"0 0 24 24\"\n",
              "       width=\"24px\">\n",
              "    <path d=\"M0 0h24v24H0V0z\" fill=\"none\"/>\n",
              "    <path d=\"M18.56 5.44l.94 2.06.94-2.06 2.06-.94-2.06-.94-.94-2.06-.94 2.06-2.06.94zm-11 1L8.5 8.5l.94-2.06 2.06-.94-2.06-.94L8.5 2.5l-.94 2.06-2.06.94zm10 10l.94 2.06.94-2.06 2.06-.94-2.06-.94-.94-2.06-.94 2.06-2.06.94z\"/><path d=\"M17.41 7.96l-1.37-1.37c-.4-.4-.92-.59-1.43-.59-.52 0-1.04.2-1.43.59L10.3 9.45l-7.72 7.72c-.78.78-.78 2.05 0 2.83L4 21.41c.39.39.9.59 1.41.59.51 0 1.02-.2 1.41-.59l7.78-7.78 2.81-2.81c.8-.78.8-2.07 0-2.86zM5.41 20L4 18.59l7.72-7.72 1.47 1.35L5.41 20z\"/>\n",
              "  </svg>\n",
              "      </button>\n",
              "      \n",
              "  <style>\n",
              "    .colab-df-container {\n",
              "      display:flex;\n",
              "      flex-wrap:wrap;\n",
              "      gap: 12px;\n",
              "    }\n",
              "\n",
              "    .colab-df-convert {\n",
              "      background-color: #E8F0FE;\n",
              "      border: none;\n",
              "      border-radius: 50%;\n",
              "      cursor: pointer;\n",
              "      display: none;\n",
              "      fill: #1967D2;\n",
              "      height: 32px;\n",
              "      padding: 0 0 0 0;\n",
              "      width: 32px;\n",
              "    }\n",
              "\n",
              "    .colab-df-convert:hover {\n",
              "      background-color: #E2EBFA;\n",
              "      box-shadow: 0px 1px 2px rgba(60, 64, 67, 0.3), 0px 1px 3px 1px rgba(60, 64, 67, 0.15);\n",
              "      fill: #174EA6;\n",
              "    }\n",
              "\n",
              "    [theme=dark] .colab-df-convert {\n",
              "      background-color: #3B4455;\n",
              "      fill: #D2E3FC;\n",
              "    }\n",
              "\n",
              "    [theme=dark] .colab-df-convert:hover {\n",
              "      background-color: #434B5C;\n",
              "      box-shadow: 0px 1px 3px 1px rgba(0, 0, 0, 0.15);\n",
              "      filter: drop-shadow(0px 1px 2px rgba(0, 0, 0, 0.3));\n",
              "      fill: #FFFFFF;\n",
              "    }\n",
              "  </style>\n",
              "\n",
              "      <script>\n",
              "        const buttonEl =\n",
              "          document.querySelector('#df-f2720082-54d1-4ce1-ae8d-d44627afc92e button.colab-df-convert');\n",
              "        buttonEl.style.display =\n",
              "          google.colab.kernel.accessAllowed ? 'block' : 'none';\n",
              "\n",
              "        async function convertToInteractive(key) {\n",
              "          const element = document.querySelector('#df-f2720082-54d1-4ce1-ae8d-d44627afc92e');\n",
              "          const dataTable =\n",
              "            await google.colab.kernel.invokeFunction('convertToInteractive',\n",
              "                                                     [key], {});\n",
              "          if (!dataTable) return;\n",
              "\n",
              "          const docLinkHtml = 'Like what you see? Visit the ' +\n",
              "            '<a target=\"_blank\" href=https://colab.research.google.com/notebooks/data_table.ipynb>data table notebook</a>'\n",
              "            + ' to learn more about interactive tables.';\n",
              "          element.innerHTML = '';\n",
              "          dataTable['output_type'] = 'display_data';\n",
              "          await google.colab.output.renderOutput(dataTable, element);\n",
              "          const docLink = document.createElement('div');\n",
              "          docLink.innerHTML = docLinkHtml;\n",
              "          element.appendChild(docLink);\n",
              "        }\n",
              "      </script>\n",
              "    </div>\n",
              "  </div>\n",
              "  "
            ]
          },
          "metadata": {},
          "execution_count": 205
        }
      ]
    },
    {
      "cell_type": "code",
      "source": [
        "print(\"the first year in which the sea level rises above 4 inches is\",\n",
        "      np.arange(2022, 2060)[np.where(model1sma.predict(X) * mm2inch > 4)[0][0]])"
      ],
      "metadata": {
        "colab": {
          "base_uri": "https://localhost:8080/"
        },
        "id": "ReFk0pMNQmiE",
        "outputId": "d5c7cf71-67e5-4431-e7e4-eb822016021d"
      },
      "execution_count": 206,
      "outputs": [
        {
          "output_type": "stream",
          "name": "stdout",
          "text": [
            "the first year in which the sea level rises above 4 inches is 2038\n"
          ]
        }
      ]
    },
    {
      "cell_type": "markdown",
      "source": [
        "### finally with statsmodels.formula\n"
      ],
      "metadata": {
        "id": "eNjIq_CoRO9n"
      }
    },
    {
      "cell_type": "code",
      "source": [
        "print(\"the first year in which the sea level rises above 4 inches is\",\n",
        "      np.arange(2022, 2060)[np.where(model1smaf.predict(X) * mm2inch > 4)[0][0]])"
      ],
      "metadata": {
        "colab": {
          "base_uri": "https://localhost:8080/"
        },
        "id": "HcdWfYK1Q9rP",
        "outputId": "a48c75d6-c3a3-422e-fde8-dabcdd182676"
      },
      "execution_count": 207,
      "outputs": [
        {
          "output_type": "stream",
          "name": "stdout",
          "text": [
            "the first year in which the sea level rises above 4 inches is 2038\n"
          ]
        }
      ]
    },
    {
      "cell_type": "code",
      "source": [],
      "metadata": {
        "id": "2HjEOkstRUFu"
      },
      "execution_count": null,
      "outputs": []
    }
  ]
}