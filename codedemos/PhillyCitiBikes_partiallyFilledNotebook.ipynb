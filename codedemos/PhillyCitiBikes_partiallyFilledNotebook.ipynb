{
  "nbformat": 4,
  "nbformat_minor": 0,
  "metadata": {
    "colab": {
      "provenance": [],
      "collapsed_sections": [],
      "authorship_tag": "ABX9TyPDuR8ZIrXtlOhjPaoPSdl/",
      "include_colab_link": true
    },
    "kernelspec": {
      "name": "python3",
      "display_name": "Python 3"
    },
    "language_info": {
      "name": "python"
    }
  },
  "cells": [
    {
      "cell_type": "markdown",
      "metadata": {
        "id": "view-in-github",
        "colab_type": "text"
      },
      "source": [
        "<a href=\"https://colab.research.google.com/github/fedhere/FDSfE_FBianco/blob/main/codedemos/PhillyCitiBikes_partiallyFilledNotebook.ipynb\" target=\"_parent\"><img src=\"https://colab.research.google.com/assets/colab-badge.svg\" alt=\"Open In Colab\"/></a>"
      ]
    },
    {
      "cell_type": "markdown",
      "source": [
        "# Getting Bikeshare Data from rideindego.com\n",
        "\n",
        "The outputs of this notebook have been remove so you can run it cell by cell and see what each line of code does\n",
        "\n",
        "while the data is open and accessible it is stored in poorly maintained. It is stored in individual files for each quarter from 2016 through 2022 - zipped csv files (but occasionally additional files are indcluded in the compressed zip) and the naming scheme for the files is not systematic, which is very annoying, and also really common.\n",
        "I use the ```urllib3``` library to download the page with all the links to the data files and ```BeautifulSoup`` to read the html page and extract the links. \n",
        "\n",
        "Additionally I use ```os``` and ```glob``` to downlead, and to find and open the data files after I downloaded them.\n",
        "\n",
        "Later I use ```pandas``` to read the csv files in\n",
        "\n",
        "For the geospatial analysis I will use\n",
        "- ```shapely``` to create points and lines\n",
        "- ```geopandas``` to plot\n",
        "- ```folium``` for working with leaflet maps\n",
        "\n",
        "Finally I will import the colormap tools from matplotlib to map colors to variables in my maps"
      ],
      "metadata": {
        "id": "f4EvNp1zFZ0Q"
      }
    },
    {
      "cell_type": "code",
      "source": [
        "!pip install geopandas"
      ],
      "metadata": {
        "id": "isWtxdKaoWUI"
      },
      "execution_count": null,
      "outputs": []
    },
    {
      "cell_type": "code",
      "source": [
        "!pip install folium"
      ],
      "metadata": {
        "id": "714Nck6JqWYu"
      },
      "execution_count": null,
      "outputs": []
    },
    {
      "cell_type": "code",
      "execution_count": 145,
      "metadata": {
        "id": "mcUJA5kE-U32"
      },
      "outputs": [],
      "source": [
        "# interacting with hosting site\n",
        "import urllib3\n",
        "from bs4 import BeautifulSoup\n",
        "\n",
        "# getting and reading files\n",
        "import os\n",
        "import glob\n",
        "import pandas as pd\n",
        "\n",
        "# geospatial analysis \n",
        "from shapely.geometry import Point, LineString\n",
        "import geopandas as gpd\n",
        "import folium\n",
        "from folium.plugins import MarkerCluster\n",
        "\n",
        "# I need to use matplotlib colormaps to map colors to variables' values\n",
        "\n",
        "from matplotlib import cm"
      ]
    },
    {
      "cell_type": "markdown",
      "source": [
        "# getting the data\n"
      ],
      "metadata": {
        "id": "m0wupWzZI5Xw"
      }
    },
    {
      "cell_type": "markdown",
      "source": [
        "## get the links"
      ],
      "metadata": {
        "id": "IcKlAiGZI9rF"
      }
    },
    {
      "cell_type": "code",
      "source": [
        "http = urllib3.PoolManager()\n",
        "c = http.request('GET', url=\"https://www.rideindego.com/about/data/\")\n",
        "soup = BeautifulSoup(c.data.decode('utf-8'))\n"
      ],
      "metadata": {
        "id": "fL1c1Q8JI4Zn"
      },
      "execution_count": null,
      "outputs": []
    },
    {
      "cell_type": "code",
      "source": [
        "#the webpage with the links\n",
        "soup.prettify()"
      ],
      "metadata": {
        "id": "J7xeGmFaB6fc"
      },
      "execution_count": null,
      "outputs": []
    },
    {
      "cell_type": "code",
      "source": [
        "#the list of links\n",
        "linklist = [link.get('href') for link in soup.find_all('a') \n",
        "              if \"upload\" in link.get('href')]\n",
        "linklist              "
      ],
      "metadata": {
        "id": "hLAQH3egFq1T"
      },
      "execution_count": null,
      "outputs": []
    },
    {
      "cell_type": "markdown",
      "source": [
        "## download and read the links"
      ],
      "metadata": {
        "id": "cPu6WM4lJAzt"
      }
    },
    {
      "cell_type": "code",
      "source": [
        "#downloading each link\n",
        "for url in linklist:\n",
        "  os.system(\"wget \" + url)"
      ],
      "metadata": {
        "id": "WBh2M24sGr_c"
      },
      "execution_count": null,
      "outputs": []
    },
    {
      "cell_type": "code",
      "source": [
        "#the list of files locally\n",
        "glob.glob(\"*rips*\")"
      ],
      "metadata": {
        "id": "0-S6HVvXHING"
      },
      "execution_count": null,
      "outputs": []
    },
    {
      "cell_type": "code",
      "source": [
        "# read in the csv file - each file is read in into a \"dictionary\" - the data can then be retrieved by year and quarder:\n",
        "# e.g. pds[2016][Q1] retrieves the data from 2016 January 1st through 2016 March 31st\n",
        "pds = {} # prepare the container\n",
        "for y in range(2015, 2023): #loop over all years\n",
        "  print(y)\n",
        "  pds[y] = {}\n",
        "  _ = [url for url in glob.glob(\"*rips*\") if (\"%d\"%y in url)]\n",
        "  for q in range(1, 5):\n",
        "    print(\"\\t\", q)\n",
        "    try:\n",
        "      pds[y][q] = pd.read_csv([url for url in _ \n",
        "                             if (\"Q%d\"%q in url) or (\"q%d\"%q in url)][0])\n",
        "    except ValueError:\n",
        "      os.system(\"unzip \" + [url for url in _ \n",
        "                             if (\"Q%d\"%q in url) or (\"q%d\"%q in url)][0])\n",
        "      try:\n",
        "        pds[y][q] = pd.read_csv([url for url in glob.glob(\"*rips*csv\") if ((\"%d\"%y in url) and \n",
        "                                ((\"Q%d\"%q in url) or (\"q%d\"%q in url)))][0])\n",
        "      except IndexError:\n",
        "        print(\"\\t\\tno data for this quarter\")\n",
        "    except IndexError:\n",
        "      print(\"\\t\\tno data for this quarter\")"
      ],
      "metadata": {
        "id": "BrIuImHXIBAi"
      },
      "execution_count": null,
      "outputs": []
    },
    {
      "cell_type": "markdown",
      "source": [
        "# explore the data"
      ],
      "metadata": {
        "id": "MBolezmkJGIJ"
      }
    },
    {
      "cell_type": "code",
      "source": [
        "#get the info for each year and each quarter\n",
        "for y in pds.keys(): #years look\n",
        "  for q in pds[y].keys(): #quarter loop\n",
        "    print(pds[y][q].info())"
      ],
      "metadata": {
        "id": "JdMdk1FvLRxE"
      },
      "execution_count": null,
      "outputs": []
    },
    {
      "cell_type": "code",
      "source": [
        "#get the number of rows and columns for each year and quarter\n",
        "for y in pds.keys(): #year loop\n",
        "  for q in pds[y].keys(): #quarter loop\n",
        "    print(y, \"Q%d\"%q, (\"(rows, columns)\"), pds[y][q].shape)"
      ],
      "metadata": {
        "id": "lBcV-W8aLySR"
      },
      "execution_count": null,
      "outputs": []
    },
    {
      "cell_type": "code",
      "source": [
        "# an example of a file # 2022-July thorugh 2022-September\n",
        "pds[2021][3].head()"
      ],
      "metadata": {
        "id": "lURh_cFOL9Bx"
      },
      "execution_count": null,
      "outputs": []
    },
    {
      "cell_type": "code",
      "source": [
        "pds[2021][3].describe()\n"
      ],
      "metadata": {
        "id": "80mYRxL_jbyh"
      },
      "execution_count": null,
      "outputs": []
    },
    {
      "cell_type": "markdown",
      "source": [
        "# data preprocessing"
      ],
      "metadata": {
        "id": "6z5bkeROJMvA"
      }
    },
    {
      "cell_type": "markdown",
      "source": [
        "convert date column to a datetime object\n"
      ],
      "metadata": {
        "id": "JVCo2y1E6kKE"
      }
    },
    {
      "cell_type": "code",
      "source": [
        "pds[2021][3][\"start_date\"] = pd.to_datetime(pds[2021][3][\"start_time\"]).dt.date"
      ],
      "metadata": {
        "id": "qewkz9BrOZAw"
      },
      "execution_count": null,
      "outputs": []
    },
    {
      "cell_type": "markdown",
      "source": [
        "create shapely points (```shapely.Point```) from the latitude-longitude values of the start station for each trip\n",
        "\n",
        "note that I use the ```df.apply()``` method which is a method of the dataframes that applies a function to each row in the dataframe sequentially. \n",
        "\n",
        "The function is created in place with the ```lambda``` methods: \n",
        "\n",
        "```lambda x : x/2``` \n",
        "is equivalent to\n",
        "\n",
        "``` \n",
        "def func(x):\n",
        "return x/2\n",
        "```\n",
        "\n",
        "so the function im applying is \n",
        "\n",
        "```\n",
        "Point(longitude, latitude)\n",
        "```\n",
        "\n"
      ],
      "metadata": {
        "id": "R9wc8x6s6o42"
      }
    },
    {
      "cell_type": "code",
      "source": [
        "# create a point from the latitude-longitude values of the start of the trip\n",
        "pds[2021][3][\"startlonlat\"] = pds[2021][3][[\"start_lon\", \"start_lat\"]].apply(lambda x: \n",
        "                          Point(x['start_lon'], x['start_lat']), axis=1)\n"
      ],
      "metadata": {
        "id": "bVggfUJvaGIY"
      },
      "execution_count": null,
      "outputs": []
    },
    {
      "cell_type": "code",
      "source": [
        "# create a point from the latitude-longitude values of the end of the trip\n",
        "pds[2021][3][\"endlonlat\"] = pds[2021][3][[\"end_lon\", \"end_lat\"]].apply(lambda x: \n",
        "                          Point(x['end_lon'], x['end_lat']), axis=1)\n"
      ],
      "metadata": {
        "id": "CCvp-1ZLeIHM"
      },
      "execution_count": null,
      "outputs": []
    },
    {
      "cell_type": "markdown",
      "source": [
        "I try to create a line between the start and end trip points for each trip, but this fails because some rows have incorrect lat-long value pairs"
      ],
      "metadata": {
        "id": "lygv7sJN82K8"
      }
    },
    {
      "cell_type": "code",
      "source": [
        "# create a line between the start and end positions... not so easy!\n",
        "pds[2021][3][[\"startlonlat\", \"endlonlat\"]].apply(lambda x:\n",
        "              LineString([x[\"startlonlat\"], x[\"endlonlat\"]]), axis=1)"
      ],
      "metadata": {
        "id": "GrbNaacGfFkP"
      },
      "execution_count": null,
      "outputs": []
    },
    {
      "cell_type": "markdown",
      "source": [
        "To fix this I explicitly create the function that will be applied and include a try/except condition: this means if the code tries to run but it encounters the specific error I expect, IndexError, it will not crash but instead behave in a different way (create a line between (0,0), and (0,0) )"
      ],
      "metadata": {
        "id": "Y_8F02219EJf"
      }
    },
    {
      "cell_type": "code",
      "source": [
        "def makeline(x, y):\n",
        "  try: \n",
        "    _ = LineString([x, y])\n",
        "  except IndexError:\n",
        "    _ =  LineString([(0,0), (0,0)])\n",
        "  return _\n",
        "\n",
        "pds[2021][3][\"trip\"] = pds[2021][3][[\"startlonlat\", \"endlonlat\"]].apply(lambda x: \n",
        "                          makeline(x[\"startlonlat\"], x[\"endlonlat\"]), axis=1)"
      ],
      "metadata": {
        "id": "68awIjDrmvCZ"
      },
      "execution_count": null,
      "outputs": []
    },
    {
      "cell_type": "markdown",
      "source": [
        "## clean up some data\n",
        "\n",
        "remove round trips"
      ],
      "metadata": {
        "id": "Cxp5Zmfh9gaF"
      }
    },
    {
      "cell_type": "code",
      "source": [
        "#get only the 1-way trips\n",
        "tripdf = pds[2021][3]\n",
        "tripdf = tripdf[tripdf[\"trip_route_category\"] == \"One Way\"]"
      ],
      "metadata": {
        "id": "_TOel-BuJiOI"
      },
      "execution_count": null,
      "outputs": []
    },
    {
      "cell_type": "markdown",
      "source": [
        "remove missing values"
      ],
      "metadata": {
        "id": "1nC3M_I09kri"
      }
    },
    {
      "cell_type": "code",
      "source": [
        "#remove the trips with missing coordinates\n",
        "tripdf = tripdf[~tripdf[\"start_lat\"].isna()]\n",
        "tripdf = tripdf[~tripdf[\"end_lat\"].isna()]\n"
      ],
      "metadata": {
        "id": "JBUr5gD_JsxW"
      },
      "execution_count": null,
      "outputs": []
    },
    {
      "cell_type": "code",
      "source": [
        "print(\"the final size of the dataset is (rows, columns)=\", tripdf.shape)"
      ],
      "metadata": {
        "id": "CSEru9vGynQo"
      },
      "execution_count": null,
      "outputs": []
    },
    {
      "cell_type": "markdown",
      "source": [
        "# mapping and geospatial analysis"
      ],
      "metadata": {
        "id": "8dXEJdQ1JRZd"
      }
    },
    {
      "cell_type": "markdown",
      "source": [
        "#simple plots with geopandas: I can plot the bike station locations\n"
      ],
      "metadata": {
        "id": "mlSw3_m4MGcL"
      }
    },
    {
      "cell_type": "code",
      "source": [
        "#convert the 2021-Q3 data dataframe to a geodataframe\n",
        "#geodataframes need a \"geometry\" column to plot\n",
        "#assign the lat-lon point of trip start to the geometry column\n",
        "gpds = pds[2021][3]\n",
        "gpds = gpd.GeoDataFrame(gpds)\n",
        "gpds[\"geometry\"] = gpds[\"startlonlat\"] # associate the trip trajectories to the geometry in the geodataframe"
      ],
      "metadata": {
        "id": "tBk2XXYTj4GS"
      },
      "execution_count": null,
      "outputs": []
    },
    {
      "cell_type": "code",
      "source": [
        "ax = gpds.plot()\n",
        "ax.set_xlabel(\"longitude (deg)\")\n",
        "ax.set_ylabel(\"latitude (deg)\");"
      ],
      "metadata": {
        "id": "7LGqFtIsp22C"
      },
      "execution_count": null,
      "outputs": []
    },
    {
      "cell_type": "markdown",
      "source": [
        "I can plot the trip trajectories of each trip (takes a while cause its a lot of trips"
      ],
      "metadata": {
        "id": "GVMun6YiMU5t"
      }
    },
    {
      "cell_type": "code",
      "source": [
        "#set geometry to the trip column\n",
        "gpds[\"geometry\"] = gpds[\"trip\"] # associate the trip trajectories to the geometry in the geodataframe"
      ],
      "metadata": {
        "id": "uSzEgo_CMT1d"
      },
      "execution_count": null,
      "outputs": []
    },
    {
      "cell_type": "markdown",
      "source": [
        "## plot the zipcodes of Philly"
      ],
      "metadata": {
        "id": "OPZuv0L5XwLL"
      }
    },
    {
      "cell_type": "code",
      "source": [
        "# get the zipcode dataframe\n",
        "zips = gpd.GeoDataFrame.from_file(\"https://opendata.arcgis.com/api/v3/datasets/b54ec5210cee41c3a884c9086f7af1be_0/downloads/data?format=shp&spatialRefId=4326\")\n",
        "zips.plot(ec = \"k\", fc=\"none\");"
      ],
      "metadata": {
        "id": "j49PGlB0lKIn"
      },
      "execution_count": null,
      "outputs": []
    },
    {
      "cell_type": "code",
      "source": [
        "# what is the coordinate system for the geo data? \n",
        "zips.crs"
      ],
      "metadata": {
        "id": "EtAAtDISqOEK"
      },
      "execution_count": null,
      "outputs": []
    },
    {
      "cell_type": "code",
      "source": [
        "#set the same coordinate system for the bike trajectories\n",
        "gpds.crs = zips.crs"
      ],
      "metadata": {
        "id": "cPILkGToqbxW"
      },
      "execution_count": null,
      "outputs": []
    },
    {
      "cell_type": "code",
      "source": [
        "#plot stations over the zip codes map\n",
        "ax = zips.plot(ec = \"k\", fc=\"none\")\n",
        "xlim = ax.get_xlim()\n",
        "ylim = ax.get_ylim()\n",
        "gpds[\"geometry\"] = gpds[\"startlonlat\"] # associate the trip trajectories to the geometry in the geodataframe\n",
        "gpds.plot(ax = ax, alpha=0.1)\n",
        "ax.set_xlim(xlim)\n",
        "ax.set_ylim(ylim)\n",
        "\n",
        "ax.set_xlabel(\"longitude\")\n",
        "ax.set_ylabel(\"latitude\");"
      ],
      "metadata": {
        "id": "Ja_j-aAOY53n"
      },
      "execution_count": null,
      "outputs": []
    },
    {
      "cell_type": "code",
      "source": [
        "#plot trip trajectories over the zipcode maps \n",
        "ax = zips.plot(ec = \"k\", fc=\"none\")\n",
        "xlim = ax.get_xlim()\n",
        "ylim = ax.get_ylim()\n",
        "gpds[\"geometry\"] = gpds[\"trip\"] # associate the trip trajectories to the geometry in the geodataframegpds[:100].plot(ax = ax, alpha=0.5)\n",
        "gpds.plot(ax = ax, alpha=0.5)\n",
        "ax.set_xlim(xlim)\n",
        "ax.set_ylim(ylim[0], 40.05);\n",
        "ax.set_xlabel(\"longitude\")\n",
        "ax.set_ylabel(\"latitude\");"
      ],
      "metadata": {
        "id": "vBkB6tQkq_hi"
      },
      "execution_count": null,
      "outputs": []
    },
    {
      "cell_type": "code",
      "source": [
        "#plot trip trajectories over the zipcode maps \n",
        "#decrease the transparency to better see the liens\n",
        "ax = zips.plot(ec = \"k\", fc=\"none\")\n",
        "xlim = ax.get_xlim()\n",
        "ylim = ax.get_ylim()\n",
        "gpds.plot(ax = ax, alpha=0.005)\n",
        "ax.set_xlim(xlim)\n",
        "ax.set_ylim(ylim)\n",
        "\n",
        "ax.set_xlabel(\"longitude\")\n",
        "ax.set_ylabel(\"latitude\");"
      ],
      "metadata": {
        "id": "QX3ZjWm3qjgZ"
      },
      "execution_count": null,
      "outputs": []
    },
    {
      "cell_type": "markdown",
      "source": [
        "measure trip length"
      ],
      "metadata": {
        "id": "M37jCIMn-oSv"
      }
    },
    {
      "cell_type": "code",
      "source": [
        "#measure trip length\n",
        "gpds[\"triplen\"] = gpds.geometry.length\n",
        "gpds.describe()"
      ],
      "metadata": {
        "id": "-G5zqG9TsVxV"
      },
      "execution_count": null,
      "outputs": []
    },
    {
      "cell_type": "code",
      "source": [
        "#normalize trip lenght\n",
        "#max of len is .090212\n",
        "c = cm.viridis(gpds[\"triplen\"] / (0.090212))"
      ],
      "metadata": {
        "id": "M9RS3wWatEyv"
      },
      "execution_count": null,
      "outputs": []
    },
    {
      "cell_type": "code",
      "source": [
        "#map color of the trip to trip length\n",
        "ax = zips.plot(ec = \"k\", fc=\"none\")\n",
        "xlim = ax.get_xlim()\n",
        "ylim = ax.get_ylim()\n",
        "ax = gpds.plot(ax = ax, alpha=0.002, \n",
        "                color = cm.viridis(gpds[\"triplen\"] / (0.090212)))\n",
        "ax.set_xlim(-75.25, -75.1)\n",
        "ax.set_ylim(39.880, 40.01)\n",
        "ax.set_xlabel(\"longitude\")\n",
        "ax.set_ylabel(\"latitude\");"
      ],
      "metadata": {
        "id": "ctdcg2zzuI65"
      },
      "execution_count": null,
      "outputs": []
    },
    {
      "cell_type": "markdown",
      "source": [
        "## mapping on top of a map layer"
      ],
      "metadata": {
        "id": "RMKm63DDAaI6"
      }
    },
    {
      "cell_type": "markdown",
      "source": [
        "### get a leaflet map"
      ],
      "metadata": {
        "id": "XSaYgsAAubqH"
      }
    },
    {
      "cell_type": "code",
      "source": [
        "#Define coordinates of where we want to center our map\n",
        "phl = [39.952583,  -75.165222]\n",
        "\n",
        "#Create the map\n",
        "my_map = folium.Map(location=phl, zoom_start=12)\n",
        "\n",
        "#Display the map\n",
        "my_map"
      ],
      "metadata": {
        "id": "PIQWdchdvl2q"
      },
      "execution_count": null,
      "outputs": []
    },
    {
      "cell_type": "markdown",
      "source": [
        "### find the stations' coordinates\n",
        "\n",
        "Find the individual stations (deduplicate trips that start in the same place)"
      ],
      "metadata": {
        "id": "GrIPFzyXASiN"
      }
    },
    {
      "cell_type": "code",
      "source": [
        "stations = gpds.groupby(\"start_station\").first()\n",
        "stations.head()"
      ],
      "metadata": {
        "id": "3SQSZE7YvrxY"
      },
      "execution_count": null,
      "outputs": []
    },
    {
      "cell_type": "code",
      "source": [
        "#just in case\n",
        "stations = stations.dropna()"
      ],
      "metadata": {
        "id": "s_mqlovyYLRC"
      },
      "execution_count": null,
      "outputs": []
    },
    {
      "cell_type": "markdown",
      "source": [
        "the latlon pairs of coordinates in a ```shapely.Point``` object can be extracted with ```Point.x``` and ```Point.y```"
      ],
      "metadata": {
        "id": "Pq10UIinAqh4"
      }
    },
    {
      "cell_type": "code",
      "source": [
        "stations.loc[3255, \"startlonlat\"].x"
      ],
      "metadata": {
        "id": "rPLDmVjTxxyZ"
      },
      "execution_count": null,
      "outputs": []
    },
    {
      "cell_type": "code",
      "source": [
        "\n",
        "my_map = folium.Map(location = phl, zoom_start = 12)\n",
        "\n",
        "\n",
        "#create the points on the map\n",
        "for i in stations.index:\n",
        "  folium.RegularPolygonMarker((stations.loc[i, \"start_lat\"], \n",
        "                               stations.loc[i, \"start_lon\"]), \n",
        "                              popup = \"%d\"%i, \n",
        "                              color = '#00ff40',\n",
        "                              number_of_sides = 3, \n",
        "                              radius = 3).add_to(my_map)\n",
        "\n",
        "#Display the map\n",
        "my_map\n"
      ],
      "metadata": {
        "id": "2QTz05CVv4XV"
      },
      "execution_count": null,
      "outputs": []
    },
    {
      "cell_type": "code",
      "source": [
        "\n",
        "#Create the map\n",
        "my_map = folium.Map(location = phl, zoom_start = 12)\n",
        "\n",
        "\n",
        "#create the points on the map and color them by  trip duration for the first trip from that station\n",
        "#trips that start in that stations\n",
        "\n",
        "for i in stations.index:\n",
        "  folium.RegularPolygonMarker((stations.loc[i, \"start_lat\"], \n",
        "                               stations.loc[i, \"start_lon\"]), \n",
        "                              popup = \"%d\"%i, \n",
        "                              fill_color = \"0000ff\",\n",
        "                              number_of_sides = 4, \n",
        "                              radius = stations.loc[i, \"triplen\"] / (0.090212) * 3).add_to(my_map)\n",
        "\n",
        "#Display the map\n",
        "my_map\n"
      ],
      "metadata": {
        "id": "j-M6qllhv4il"
      },
      "execution_count": null,
      "outputs": []
    },
    {
      "cell_type": "code",
      "source": [
        "\n",
        "\n",
        "#Create the map\n",
        "my_map = folium.Map(location = phl, zoom_start = 12)\n",
        "#change the map background to something more subtle\n",
        "folium.TileLayer('cartodbpositron').add_to(my_map)\n",
        "\n",
        "\n",
        "#create the points\n",
        "for i in stations.index:\n",
        "  folium.RegularPolygonMarker((stations.loc[i, \"start_lat\"], \n",
        "                               stations.loc[i, \"start_lon\"]), \n",
        "                              popup = \"%d\"%i, \n",
        "                              fill_color = \"0000ff\",\n",
        "                              number_of_sides = 4, \n",
        "                              radius = stations.loc[i, \"triplen\"] / (0.090212) * 3).add_to(my_map)\n",
        "\n",
        "#Display the map\n",
        "my_map\n"
      ],
      "metadata": {
        "id": "4stK_xDZERzB"
      },
      "execution_count": null,
      "outputs": []
    },
    {
      "cell_type": "markdown",
      "source": [
        "## count the number of trips originating from each station"
      ],
      "metadata": {
        "id": "mG6f82ZFBxXM"
      }
    },
    {
      "cell_type": "code",
      "source": [
        "origins = gpds.groupby(\"start_station\").count()[[\"trip_id\"]].rename({\n",
        "    \"trip_id\":\"ntrips\"}, axis=1)\n",
        "origins"
      ],
      "metadata": {
        "id": "9xzQm9XQ1DeW"
      },
      "execution_count": null,
      "outputs": []
    },
    {
      "cell_type": "code",
      "source": [
        "stations = stations.merge(origins, left_index=True, right_index=True)"
      ],
      "metadata": {
        "id": "Z3HxwsAg2WiC"
      },
      "execution_count": null,
      "outputs": []
    },
    {
      "cell_type": "code",
      "source": [
        "print(\"station with the largest number of trips\", stations[\"ntrips\"].max())"
      ],
      "metadata": {
        "id": "I-ttI3DP2vtL"
      },
      "execution_count": null,
      "outputs": []
    },
    {
      "cell_type": "code",
      "source": [
        "#Create the map\n",
        "my_map = folium.Map(location = phl, zoom_start = 12.2)\n",
        "folium.TileLayer('cartodbpositron').add_to(my_map)\n",
        "\n",
        "for i in stations.index:\n",
        "  folium.RegularPolygonMarker((stations.loc[i, \"start_lat\"], \n",
        "                               stations.loc[i, \"start_lon\"]), \n",
        "                              popup = \"%d\"%i, \n",
        "                              color = \n",
        "                              matplotlib.colors.rgb2hex(\n",
        "                                  cm.viridis(stations.loc[i, \"ntrips\"] / 4750 * 3)),\n",
        "                              number_of_sides = 10, \n",
        "                              radius = stations.loc[i, \"triplen\"] / .090212 * 3\n",
        "                              #stations.loc[i, \"ntrips\"] / 4750 * 3\n",
        "                              ).add_to(my_map)\n",
        "\n",
        "#Display the map\n",
        "print(\"Citibike stations by popularity (size) and trip length (color)\")\n",
        "my_map"
      ],
      "metadata": {
        "id": "16VYjdZS2irO"
      },
      "execution_count": null,
      "outputs": []
    },
    {
      "cell_type": "markdown",
      "source": [
        "## Find the most popular bike"
      ],
      "metadata": {
        "id": "6jS1q2ioCGYA"
      }
    },
    {
      "cell_type": "code",
      "source": [
        "bikes = gpds.groupby(\"bike_id\").count()\n",
        "print(\"bike id for bike with most trips:\", bikes[\"trip_id\"].max())"
      ],
      "metadata": {
        "id": "1skvmVQJ27yr"
      },
      "execution_count": null,
      "outputs": []
    },
    {
      "cell_type": "code",
      "source": [
        "#pick the most popular bike\n",
        "most_pop_bike = bikes[bikes[\"trip_id\"] == 294].index[0]"
      ],
      "metadata": {
        "id": "O4kqB4HN4p7h"
      },
      "execution_count": null,
      "outputs": []
    },
    {
      "cell_type": "code",
      "source": [
        "gpds[gpds.bike_id == most_pop_bike].head()"
      ],
      "metadata": {
        "id": "kAKEXcaoAgNc"
      },
      "execution_count": null,
      "outputs": []
    },
    {
      "cell_type": "code",
      "source": [
        "# plot the trips of the most popular bike\n",
        "ax = zips.plot(ec = \"k\", fc=\"none\")\n",
        "xlim = ax.get_xlim()\n",
        "ylim = ax.get_ylim()\n",
        "gpds[gpds.bike_id == most_pop_bike].plot(ax = ax, alpha=0.5, \n",
        "                color = cm.viridis(gpds[\"triplen\"] / (0.090212)))\n",
        "ax.set_xlim(-75.25, -75.1)\n",
        "ax.set_ylim(39.880, 40.01);"
      ],
      "metadata": {
        "id": "DHJPv9S345N4"
      },
      "execution_count": null,
      "outputs": []
    },
    {
      "cell_type": "code",
      "source": [
        "#Create the map\n",
        "my_map = folium.Map(location = phl, zoom_start = 12)\n",
        "\n",
        "folium.TileLayer('cartodbpositron').add_to(my_map)\n",
        "\n",
        "#plot the trip trajectories of the most popular bike\n",
        "for i in stations.index:\n",
        "  folium.PolyLine(((stations.loc[i, \"start_lat\"], \n",
        "                               stations.loc[i, \"start_lon\"]), \n",
        "                   (stations.loc[i, \"end_lat\"], \n",
        "                               stations.loc[i, \"end_lon\"])), \n",
        "                              popup = \"%d\"%i, \n",
        "                              opacity=0.5,\n",
        "                              color = matplotlib.colors.rgb2hex(\n",
        "                                  cm.viridis(stations.loc[i, \"triplen\"] / .090212)),\n",
        "                              weight=1).add_to(my_map)\n",
        "\n",
        "#Display the map\n",
        "my_map\n"
      ],
      "metadata": {
        "id": "VfTSeUDT5XVX"
      },
      "execution_count": null,
      "outputs": []
    },
    {
      "cell_type": "code",
      "source": [],
      "metadata": {
        "id": "WwCTYV1kCsWU"
      },
      "execution_count": null,
      "outputs": []
    }
  ]
}